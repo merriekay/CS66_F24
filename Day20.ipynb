{
 "cells": [
  {
   "cell_type": "markdown",
   "id": "19261ff0-2dc5-4191-be82-fae97bb12783",
   "metadata": {
    "editable": true,
    "slideshow": {
     "slide_type": "skip"
    },
    "tags": []
   },
   "source": [
    "<a href=\"https://colab.research.google.com/github/merriekay/CS66_F24/blob/main/Day20.ipynb\" target=\"_parent\"><img src=\"https://colab.research.google.com/assets/colab-badge.svg\" alt=\"Open In Colab\"/></a>"
   ]
  },
  {
   "cell_type": "markdown",
   "id": "3cd2c969-e8fc-4566-8a4e-bf107d801ae1",
   "metadata": {
    "editable": true,
    "slideshow": {
     "slide_type": "slide"
    },
    "tags": []
   },
   "source": [
    "# Hash Table Data Structure, Implementing Sets and Maps ADTs\n",
    "## Day20\n",
    "\n",
    "### CS66: Introduction to Computer Science II | Fall 2024\n",
    "\n",
    "Tuesday, November 12th, 2024\n",
    "\n",
    "### Helpful Resources:\n",
    "[📜 Syllabus](https://docs.google.com/document/d/1lnkmnAm0tfw2ybqhS01ylSqKfkOcAAkmrrZUuDjwHuU/edit?usp=drive_link) | [📬 CodePost Login](https://codepost.io/login) | [📆 Schedule](https://docs.google.com/spreadsheets/d/1FW9s8S04zqpOaA13JyrlNPszk5D-H9dBi7xX6o5VpgY/edit?usp=drive_link) | [🙋‍♂️ PollEverywhere](https://pollev.com/moore) | [🪴 Office Hour Sign-Up](https://calendly.com/meredith-moore/office-hours)"
   ]
  },
  {
   "cell_type": "markdown",
   "id": "3638d049-138f-4a1c-a6f2-5c9dcadbe90f",
   "metadata": {
    "editable": true,
    "slideshow": {
     "slide_type": "slide"
    },
    "tags": []
   },
   "source": [
    "# Announcements:\n",
    "\n",
    "### You should be working on:\n",
    "[Assignment #10](https://analytics.drake.edu/~moore/CS66-F24/Assignment10.html), released today, due Tuesday November 12th, by 11:59pm"
   ]
  },
  {
   "cell_type": "markdown",
   "id": "f04af72e-c4df-454e-8558-6b1e42bfed01",
   "metadata": {
    "editable": true,
    "slideshow": {
     "slide_type": "slide"
    },
    "tags": []
   },
   "source": [
    "# ⏪ Quick Review\n",
    "_improving search_"
   ]
  },
  {
   "cell_type": "markdown",
   "id": "4ecf1eb9-3bbb-4635-8796-00207258ebfe",
   "metadata": {
    "editable": true,
    "slideshow": {
     "slide_type": "slide"
    },
    "tags": []
   },
   "source": [
    "## Binary Search\n",
    "\n",
    "__Binary Search__ works by looking at the middle item within a given range and throwing out at least half the items on each iteration.\n",
    "\n",
    "_only works on a sorted data structure_\n",
    "\n",
    "Let's draw some pictures on the board to see how this works."
   ]
  },
  {
   "cell_type": "code",
   "execution_count": 4,
   "id": "13dd4e77-c704-4e9d-82d1-6f9c3b532d3f",
   "metadata": {
    "editable": true,
    "slideshow": {
     "slide_type": "slide"
    },
    "tags": []
   },
   "outputs": [
    {
     "name": "stdout",
     "output_type": "stream",
     "text": [
      "False\n",
      "True\n"
     ]
    }
   ],
   "source": [
    "def binarySearch(alist, item):\n",
    "    first = 0\n",
    "    last = len(alist)-1\n",
    "    found = False\n",
    "\n",
    "    while first<=last and not found:\n",
    "        midpoint = (first + last)//2\n",
    "        if alist[midpoint] == item:\n",
    "            found = True\n",
    "        else:\n",
    "            if item < alist[midpoint]:\n",
    "                last = midpoint-1\n",
    "            else:\n",
    "                first = midpoint+1\n",
    "\n",
    "    return found\n",
    "\n",
    "testlist = [0, 1, 2, 8, 13, 17, 19, 32, 42,]\n",
    "print(binarySearch(testlist, 3))\n",
    "print(binarySearch(testlist, 13))"
   ]
  },
  {
   "cell_type": "markdown",
   "id": "713c4d36-df3d-4e7c-a447-87cd8c918a63",
   "metadata": {
    "editable": true,
    "slideshow": {
     "slide_type": "slide"
    },
    "tags": []
   },
   "source": [
    "## O(1) search\n",
    "\n",
    "Sequential Search is $O(n)$\n",
    "\n",
    "Binary Search is $O(\\log n)$\n",
    "\n",
    "Is it possible to do search in $O(1)$ time?"
   ]
  },
  {
   "cell_type": "markdown",
   "id": "eadebbf6-01af-4c98-ae01-c1a2b928de22",
   "metadata": {
    "editable": true,
    "slideshow": {
     "slide_type": "fragment"
    },
    "tags": []
   },
   "source": [
    "\n",
    "#### An Idea\n",
    "\n",
    "Let's say we have a collection of values to store like 1, 5, 6, 7, 9, 10, 13, 15, 18.\n",
    "\n",
    "We could represent this in a list like this:"
   ]
  },
  {
   "cell_type": "code",
   "execution_count": 5,
   "id": "02ee4eac-0a3b-4f5b-b0bd-f3fce50311c2",
   "metadata": {
    "editable": true,
    "slideshow": {
     "slide_type": ""
    },
    "tags": []
   },
   "outputs": [],
   "source": [
    "my_collection = [None,1,None,None,None,5,6,7,None,9,10,None,None,13,None,15,None,None,18,None]"
   ]
  },
  {
   "cell_type": "markdown",
   "id": "888fd597-fe6f-4f6e-87a2-f89f86c3bb11",
   "metadata": {
    "editable": true,
    "slideshow": {
     "slide_type": "fragment"
    },
    "tags": []
   },
   "source": [
    "Now, we can search if a value is in the collection by looking it up at its index. If it is not in the collection, `None` will be returned."
   ]
  },
  {
   "cell_type": "code",
   "execution_count": 6,
   "id": "2b5d8aac-5792-4550-847f-04b2bedea026",
   "metadata": {
    "editable": true,
    "scrolled": true,
    "slideshow": {
     "slide_type": ""
    },
    "tags": []
   },
   "outputs": [
    {
     "name": "stdout",
     "output_type": "stream",
     "text": [
      "5\n",
      "18\n",
      "None\n",
      "None\n"
     ]
    }
   ],
   "source": [
    "print( my_collection[5] )\n",
    "print( my_collection[18] )\n",
    "print( my_collection[4] )\n",
    "print( my_collection[17] )"
   ]
  },
  {
   "cell_type": "markdown",
   "id": "efb8fed7-a8bb-46aa-9de7-56186a5e1350",
   "metadata": {
    "editable": true,
    "slideshow": {
     "slide_type": "slide"
    },
    "tags": []
   },
   "source": [
    "## Review: Hash Tables\n",
    "\n",
    "Hash tables work like the above approach, except it allows for values outside of indices of the table using a __hash function__.\n",
    "\n",
    "Hash functions can be any function that transforms a value into a suitable index for the list. \n",
    "\n",
    "For example:"
   ]
  },
  {
   "cell_type": "code",
   "execution_count": 1,
   "id": "aa67ba85-ac47-4eb7-8176-421740436ced",
   "metadata": {
    "editable": true,
    "slideshow": {
     "slide_type": ""
    },
    "tags": []
   },
   "outputs": [
    {
     "name": "stdout",
     "output_type": "stream",
     "text": [
      "Initialized table; [None, None, None, None, None, None, None, None, None, None]\n",
      "The hash table with some data in it\n",
      "[None, None, None, None, 1004, None, None, 87, None, None]\n"
     ]
    }
   ],
   "source": [
    "hash_table_size = 10\n",
    "hash_table = [None] * 10 #initialize all 10 spots to None\n",
    "\n",
    "def simple_hash(value,num_items):\n",
    "    return value % num_items\n",
    "\n",
    "print(\"Initialized table;\",hash_table)\n",
    "\n",
    "#putting the value 87 into the hash table\n",
    "hash_table[ simple_hash(87,hash_table_size) ] = 87\n",
    "#putting the value 1004 into the hash table\n",
    "hash_table[ simple_hash(1004,hash_table_size) ] = 1004\n",
    "\n",
    "print(\"The hash table with some data in it\")\n",
    "print(hash_table)"
   ]
  },
  {
   "cell_type": "markdown",
   "id": "97b030b3-cc60-442c-a87a-a712e9296ac8",
   "metadata": {
    "editable": true,
    "slideshow": {
     "slide_type": "slide"
    },
    "tags": []
   },
   "source": [
    "## Group Activity Problem 1 (Review) \n",
    "\n",
    "What line of code would I use to check if a number like 87 or 63 or 37 is in the hash table? What is the Big O of this?"
   ]
  },
  {
   "cell_type": "markdown",
   "id": "1511f55d-e648-4cff-ac63-a1d927b65bbb",
   "metadata": {
    "editable": true,
    "slideshow": {
     "slide_type": "slide"
    },
    "tags": []
   },
   "source": [
    "## Review: Collisions\n",
    "\n",
    "When two different items end up with the same hash value, it is called a __collision__.\n",
    "\n",
    "This is a problem since both items can't occupy the same memory location.\n",
    "\n",
    "__Collision Resolution__ is the process of finding a new location for an item when there is a collision.\n"
   ]
  },
  {
   "cell_type": "markdown",
   "id": "e576ff21-06d7-49d8-87a2-f96b120e0c32",
   "metadata": {
    "editable": true,
    "slideshow": {
     "slide_type": "slide"
    },
    "tags": []
   },
   "source": [
    "# ✨ New Material:\n",
    "## Overview of Today:\n",
    "\n",
    "Collision Resolution Strategies:\n",
    "- Linear Probing\n",
    "- Rehashing\n",
    "- Chaining\n",
    "\n",
    "Hash Tables as Data Structures:\n",
    "- Set ADT\n",
    "- Chained Hash Sets\n",
    "- Map ADT\n",
    "- Chained Hash Maps"
   ]
  },
  {
   "cell_type": "markdown",
   "id": "8c8f25fe-d28d-43d4-bca9-e0585278b7b7",
   "metadata": {
    "editable": true,
    "slideshow": {
     "slide_type": ""
    },
    "tags": []
   },
   "source": []
  },
  {
   "cell_type": "markdown",
   "id": "4b9e4fcf-012e-47be-a215-31aef8157a39",
   "metadata": {
    "editable": true,
    "slideshow": {
     "slide_type": "slide"
    },
    "tags": []
   },
   "source": [
    "## Linear Probing\n",
    "\n",
    "__Linear probing:__ collision resolution strategy - put the item in the next available spot.\n",
    "\n",
    "Let's see what would happen if we put the following items into our hash table of size 10:\n",
    "\n",
    "13, 56, 193, 84, 73, 264\n",
    "\n",
    "Let's demo in this [Google Sheet](https://docs.google.com/spreadsheets/d/1UJOA2RgGO5F9tL6uGIcDaasH2Lxo6ZC09haz1X0cuEg/edit?usp=sharing)\n"
   ]
  },
  {
   "cell_type": "markdown",
   "id": "b3dae603-17d7-4185-b34c-d3797c9bd7ea",
   "metadata": {
    "editable": true,
    "slideshow": {
     "slide_type": "slide"
    },
    "tags": []
   },
   "source": [
    "## Group Activity Problem 2 -  a bigger example\n",
    "\n",
    "Make a copy of this spreadsheet and put the following numbers into the hash table using:\n",
    "- `simple_hash` hash function, where `num_items = 30`\n",
    "- a linear probing collision resolution strategy\n",
    "\n",
    "```python\n",
    "def simple_hash(value,num_items):\n",
    "    return value % num_items\n",
    "```\n",
    "\n",
    "[https://docs.google.com/spreadsheets/d/1UJOA2RgGO5F9tL6uGIcDaasH2Lxo6ZC09haz1X0cuEg/edit?usp=sharing](https://docs.google.com/spreadsheets/d/1UJOA2RgGO5F9tL6uGIcDaasH2Lxo6ZC09haz1X0cuEg/edit?usp=sharing)\n",
    "\n",
    "157, 345, 206, 721, 300, 111, 897, 66, 578, 416, 126, 57, 51, 60\n",
    "\n",
    "Answer the following question:\n",
    "* What are some ways we make collisions less likely?\n",
    "* What problem do you run into if you try to remove items from the table?\n"
   ]
  },
  {
   "cell_type": "markdown",
   "id": "265a2f12-9aa7-4ecb-8fd7-f61fc99152a8",
   "metadata": {
    "editable": true,
    "slideshow": {
     "slide_type": "slide"
    },
    "tags": []
   },
   "source": [
    "## Rehashing\n",
    "\n",
    "__Rehashing:__ use another function to find a new spot when a collision happens\n",
    "\n",
    "* linear probing is a case of rehashinig\n",
    "\n",
    "* _skip n_ - instead of jumping to next slot, skip down $n$ slots and try it there.\n",
    "\n",
    "    skip 3: if the original hash value was $h$, then try $h+3$, then $h+6$, then $h+9$, then $h+12$ (wrap around the table as necessary)\n",
    "\n",
    "    > Let's try skip 3 with 13, 56, 193, 84, 73, 264\n",
    "    \n",
    "    > Problem: hash table size should be a prime number so that you eventually get to all slots in the table, still results in some clustering\n",
    "    \n",
    "    \n",
    "    \n",
    "* _quadratic probing_ - increase the skip value each time by the next square number\n",
    "    \n",
    "    if the original hash value was $h$, then try $h+1$, then $h+4$, then $h+9$, then $h+16$ (wrap around the table as necessary)\n",
    "    \n",
    "* _PRNG probing_ - use a pseudo-random number generator to generate the probing sequence (this is what Python uses for sets and dicionaries)\n",
    "    \n",
    "All techniques that try to find open slot somewhere else in the table are called __open addressing__\n",
    "    "
   ]
  },
  {
   "attachments": {
    "chaining.png": {
     "image/png": "[encoded data removed]"
    }
   },
   "cell_type": "markdown",
   "id": "96a6904c-e19b-49fa-bea9-b790bbcff7ea",
   "metadata": {
    "editable": true,
    "slideshow": {
     "slide_type": "slide"
    },
    "tags": []
   },
   "source": [
    "## Chaining\n",
    "\n",
    "__Chaining:__ A collision resolution strategy in which values are placed into a linked list referenced by each spot in the hash table\n",
    "\n",
    "Eliminates clustering!\n",
    "\n",
    "<div>\n",
    "<img src=\"chaining.png\" />\n",
    "</div>\n",
    "\n",
    "Let's try chaining with 13, 56, 193, 84, 73, 264"
   ]
  },
  {
   "cell_type": "markdown",
   "id": "f2dd6b65-c693-41f9-ad75-6271b0e5b9f7",
   "metadata": {
    "editable": true,
    "slideshow": {
     "slide_type": "slide"
    },
    "tags": []
   },
   "source": [
    "## Hash Tables as a Data Structure\n",
    "\n",
    "\n",
    "Hash Tables \n",
    "* don't guarantee any particular ordering - it all depends on what the hash function does\n",
    "* __bad__ for ADTs that have order or indexes: `UnorderedList`, `OrderedList`, `Queue`, `Stack`, `Deque`\n",
    "* __good__ for ADTs where order doesn't matter: `Map` and `Set`\n"
   ]
  },
  {
   "cell_type": "markdown",
   "id": "ba4dbaf9-e77d-4d41-8e81-c0e622c57f78",
   "metadata": {
    "editable": true,
    "slideshow": {
     "slide_type": "slide"
    },
    "tags": []
   },
   "source": [
    "## Set ADT\n",
    "\n",
    "The above examples consider using hash tables as the underlying data structure to implement a __set__ abstract data type - similar to Python's `set` type.\n",
    "* __Sets__ are a type of abstract data type that allows you to store a list of non-repeated values\n",
    "* A __set__ is a collection in which the ordering of the values is not important\n",
    "* The only thing that matters with a set is whether the item is in the set or not\n",
    "* Duplicates are not allowed\n",
    "* Python has a built-in set type\n"
   ]
  },
  {
   "cell_type": "markdown",
   "id": "232088c4-e5b4-40d1-8375-95c6166761de",
   "metadata": {
    "editable": true,
    "slideshow": {
     "slide_type": "slide"
    },
    "tags": []
   },
   "source": [
    "The book does not formally define the Set ADT, but we could define it like this:\n",
    "* `Set()` Create a new, empty set. It returns an empty set collection.\n",
    "* `add(val)` Add a new value to the set. If the value is already in the set, do nothing.\n",
    "* `in` Return True for a statement of the form `val in set`, if the given value is in the set, False otherwise.\n",
    "* `remove(val)` Remove the given value from the set.\n",
    "* `len()` Return the number of values stored in the set."
   ]
  },
  {
   "cell_type": "code",
   "execution_count": 2,
   "id": "5ffc4c41-66e1-4b41-9e94-607fc69308cd",
   "metadata": {
    "editable": true,
    "slideshow": {
     "slide_type": ""
    },
    "tags": []
   },
   "outputs": [
    {
     "name": "stdout",
     "output_type": "stream",
     "text": [
      "<class 'set'>\n",
      "{'butter', 'milk', 'leftovers', 'eggs'}\n",
      "True\n",
      "False\n"
     ]
    }
   ],
   "source": [
    "items_in_my_fridge = {\"milk\",\"eggs\",\"leftovers\",\"soda\"}\n",
    "items_in_my_fridge.add(\"butter\")\n",
    "items_in_my_fridge.add(\"butter\")\n",
    "items_in_my_fridge.remove(\"soda\")\n",
    "print( type(items_in_my_fridge) )\n",
    "print(items_in_my_fridge)\n",
    "print( \"butter\" in items_in_my_fridge )\n",
    "print( \"pop\" in items_in_my_fridge )"
   ]
  },
  {
   "cell_type": "markdown",
   "id": "f0856b9f-9b8d-49b2-add1-f052a8992d3a",
   "metadata": {
    "editable": true,
    "slideshow": {
     "slide_type": "slide"
    },
    "tags": []
   },
   "source": [
    "## Implementing the Set ADT with a Chained Hash Table as the underlying data structure\n",
    "\n",
    "Coding demo"
   ]
  },
  {
   "cell_type": "code",
   "execution_count": null,
   "id": "26eb4cd2-9c40-4019-84f6-a25b92269717",
   "metadata": {
    "editable": true,
    "slideshow": {
     "slide_type": ""
    },
    "tags": []
   },
   "outputs": [],
   "source": []
  },
  {
   "cell_type": "code",
   "execution_count": 3,
   "id": "04db6285-1fff-4482-ad06-07b430cccaab",
   "metadata": {
    "editable": true,
    "slideshow": {
     "slide_type": "skip"
    },
    "tags": []
   },
   "outputs": [
    {
     "name": "stdout",
     "output_type": "stream",
     "text": [
      "0:[]\n",
      "1:[]\n",
      "2:[]\n",
      "3:[13, 193, 73]\n",
      "4:[84, 264]\n",
      "5:[]\n",
      "6:[56]\n",
      "7:[]\n",
      "8:[]\n",
      "9:[]\n",
      "\n"
     ]
    }
   ],
   "source": [
    "# Example code for your notes\n",
    "\n",
    "class ChainedHashSet:\n",
    "    \n",
    "    def __init__(self,table_size=10):\n",
    "        self.table = []\n",
    "        self.table_size = table_size\n",
    "        for slot in range(self.table_size):\n",
    "            self.table.append([])\n",
    "            \n",
    "    def __repr__(self):\n",
    "        display_str = \"\"\n",
    "        for slot in range(self.table_size):\n",
    "            display_str += str(slot)+\":\"+str(self.table[slot])+\"\\n\"\n",
    "        return display_str\n",
    "    \n",
    "    def hash_function(self,item):\n",
    "        return item%self.table_size\n",
    "    \n",
    "    def add(self,item):\n",
    "        hashed_val = self.hash_function(item)\n",
    "        list_at_slot = self.table[ hashed_val ]\n",
    "        if not item in list_at_slot:\n",
    "            list_at_slot.append(item)\n",
    "    \n",
    "    \n",
    "my_set = ChainedHashSet()\n",
    "\n",
    "my_set.add(13)\n",
    "my_set.add(56)\n",
    "my_set.add(193)\n",
    "my_set.add(84)\n",
    "my_set.add(73)\n",
    "my_set.add(264)\n",
    "\n",
    "\n",
    "print(my_set)        "
   ]
  },
  {
   "cell_type": "markdown",
   "id": "edd57fba-f269-4e0a-95a9-7c84c0e1eafd",
   "metadata": {
    "editable": true,
    "slideshow": {
     "slide_type": "slide"
    },
    "tags": []
   },
   "source": [
    "## Group Activity Problem 3\n",
    "\n",
    "Implement the `__contains__` method - which will allow you to use the `in` operator to check if an item is in the set. \n",
    "\n",
    "_Note:_ it should return `True` or `False`\n"
   ]
  },
  {
   "cell_type": "markdown",
   "id": "5213379d-c4b7-4f7a-8c19-303ee228e583",
   "metadata": {
    "editable": true,
    "slideshow": {
     "slide_type": "fragment"
    },
    "tags": []
   },
   "source": [
    "## Group Activity Problem 4\n",
    "\n",
    "Our hash table will still only store integers. \n",
    "\n",
    "Can you think of a strategy that will allow us to put strings in a table?\n",
    "\n",
    "```\n",
    "0:[]\n",
    "1:[]\n",
    "2:[]\n",
    "3:['Dr. Mario']\n",
    "4:[]\n",
    "5:['Pikachu', 'Kirby']\n",
    "6:['Sheik', 'Mr. Game and Watch']\n",
    "7:['Dr. Carlson', 'Jiggly Puff']\n",
    "8:['Captain Falcon']\n",
    "9:['Mew Two']\n",
    "```\n",
    "\n",
    "\n",
    "_these are the names Prof Manley's kids gave their chicks that hatched_"
   ]
  },
  {
   "cell_type": "code",
   "execution_count": null,
   "id": "250d0ef2-688e-40a3-b52c-4c6aa994ff0a",
   "metadata": {
    "editable": true,
    "slideshow": {
     "slide_type": ""
    },
    "tags": []
   },
   "outputs": [],
   "source": []
  },
  {
   "cell_type": "markdown",
   "id": "33f37992-1fcc-4a9e-9137-f91b770b3d73",
   "metadata": {
    "editable": true,
    "slideshow": {
     "slide_type": "slide"
    },
    "tags": []
   },
   "source": [
    "## Map ADT\n",
    "\n",
    "Hash tables are also often used to implement the __map__ abstract data type\n",
    "\n",
    "A __map__ abstract data type stores _key-value_ pairs and allows you to use a _key_ to look up its associated _value_.\n",
    "\n",
    "A Python dictionary is a map.\n",
    "\n",
    "There are other data structures you could use to implement a map, such as a list of tuples.\n"
   ]
  },
  {
   "cell_type": "markdown",
   "id": "43ea1e8c-da48-4bfc-8525-6ad29f16a995",
   "metadata": {
    "editable": true,
    "slideshow": {
     "slide_type": "fragment"
    },
    "tags": []
   },
   "source": [
    "The following is the book's definition of the Map ADT:\n",
    "* `Map()` Create a new, empty map. It returns an empty map collection.\n",
    "* `put(key,val)` Add a new key-value pair to the map. If the key is already in the map then replace the old value with the new value.\n",
    "* `get(key)` Given a key, return the value stored in the map or `None` otherwise.\n",
    "* `del` Delete the key-value pair from the map using a statement of the form `del map[key]`.\n",
    "* `len()` Return the number of key-value pairs stored in the map.\n",
    "* `in` Return True for a statement of the form key in map, if the given key is in the map, False otherwise.\n"
   ]
  },
  {
   "cell_type": "markdown",
   "id": "2b2fad2d-727b-4982-9607-28e914a46569",
   "metadata": {
    "editable": true,
    "slideshow": {
     "slide_type": "slide"
    },
    "tags": []
   },
   "source": [
    "## Chained Hash Map\n",
    "\n",
    "We could use a similar strategy that we used for set, but store _(key,value)_ tuples\n",
    "\n",
    "```\n",
    "0:[(20, 'chicken')]\n",
    "1:[(31, 'cow')]\n",
    "2:[]\n",
    "3:[(93, 'lion')]\n",
    "4:[(54, 'cat'), (44, 'goat')]\n",
    "5:[(55, 'pig')]\n",
    "6:[(26, 'dog')]\n",
    "7:[(17, 'tiger'), (77, 'bird')]\n",
    "8:[]\n",
    "9:[]\n",
    "```\n",
    "\n",
    "(maybe this is a map that a zoo uses to look up which animal has each id)"
   ]
  },
  {
   "cell_type": "markdown",
   "id": "8667d07e-39d5-4198-9a49-c0dc006aa5c6",
   "metadata": {
    "editable": true,
    "slideshow": {
     "slide_type": "slide"
    },
    "tags": []
   },
   "source": [
    "## Group Activity Problem 5\n",
    "\n",
    "With our set, we did something like this"
   ]
  },
  {
   "cell_type": "code",
   "execution_count": null,
   "id": "3dca40b1-a507-4ff2-81be-016f9a0f071c",
   "metadata": {
    "editable": true,
    "slideshow": {
     "slide_type": ""
    },
    "tags": []
   },
   "outputs": [],
   "source": [
    "    def add(self,item):\n",
    "        hashed_val = self.hash_function(item)\n",
    "        list_at_slot = self.table[ hashed_val ]\n",
    "        if not item in list_at_slot:\n",
    "            list_at_slot.append(item)"
   ]
  },
  {
   "cell_type": "markdown",
   "id": "cbbb80cd-6300-4148-b33b-1f100031ae59",
   "metadata": {
    "editable": true,
    "slideshow": {
     "slide_type": "fragment"
    },
    "tags": []
   },
   "source": [
    "For a map, it would look like this"
   ]
  },
  {
   "cell_type": "code",
   "execution_count": null,
   "id": "8025ccab-d68a-40e1-8599-2dd4b0c01428",
   "metadata": {
    "editable": true,
    "slideshow": {
     "slide_type": ""
    },
    "tags": []
   },
   "outputs": [],
   "source": [
    "    def put(self,key,value):\n",
    "        hashed_key = self.hash_function(key)\n",
    "        list_at_slot = self.table[ hashed_key ]\n",
    "        if not (key,value) in list_at_slot:\n",
    "            list_at_slot.append((key,value))"
   ]
  },
  {
   "cell_type": "markdown",
   "id": "26be42c5-d8f8-4f20-b4e3-fa0a8327386c",
   "metadata": {
    "editable": true,
    "slideshow": {
     "slide_type": "fragment"
    },
    "tags": []
   },
   "source": [
    "What would happen if you tried to change the value associated with a key?\n",
    "\n",
    "How can you fix it?"
   ]
  },
  {
   "cell_type": "code",
   "execution_count": null,
   "id": "5acd838b-9182-4c57-8dc8-6818e0c38231",
   "metadata": {
    "editable": true,
    "slideshow": {
     "slide_type": ""
    },
    "tags": []
   },
   "outputs": [],
   "source": [
    "my_map = ChainedHashMap()\n",
    "\n",
    "my_map.put(20,\"Turkey\")\n",
    "my_map.put(20,\"Chicken\") #should overwrite Turkey"
   ]
  },
  {
   "cell_type": "markdown",
   "id": "04aab625-c333-4f74-a0db-cd2bfbcc42cc",
   "metadata": {
    "editable": true,
    "slideshow": {
     "slide_type": "slide"
    },
    "tags": []
   },
   "source": [
    "## Built-in Hash Function\n",
    "\n",
    "Python contains a built-in hash function that you can use.\n",
    "\n",
    "Be careful, the hash is somewhat randomized and values change every time you re-start your code (this brings issues with saving hashed values to a file, etc.)"
   ]
  },
  {
   "cell_type": "code",
   "execution_count": 4,
   "id": "cb1583e2-79af-4eca-bdb3-947e15424c1a",
   "metadata": {},
   "outputs": [
    {
     "name": "stdout",
     "output_type": "stream",
     "text": [
      "1538015278275964211\n"
     ]
    }
   ],
   "source": [
    "print( hash(\"Star Wars: Episode VII - The Force Awakens (2015)\") )"
   ]
  },
  {
   "cell_type": "markdown",
   "id": "95001cb5-e2e9-46b3-a653-84e072de074f",
   "metadata": {
    "slideshow": {
     "slide_type": "slide"
    }
   },
   "source": [
    "## Textbook's Linear-Probed-Hash-Table Map\n",
    "\n",
    "The following code shows the start of the book's approach to using a Hash Table with linear probing to implement a map.\n",
    "\n",
    "`self.slots` list stores the keys\n",
    "\n",
    "`self.data` stores the associated values\n"
   ]
  },
  {
   "cell_type": "code",
   "execution_count": null,
   "id": "d63c6e54-5bb2-459f-b9a2-f161aadf622b",
   "metadata": {
    "editable": true,
    "slideshow": {
     "slide_type": ""
    },
    "tags": []
   },
   "outputs": [],
   "source": [
    "class HashTable:\n",
    "    def __init__(self):\n",
    "        self.size = 11\n",
    "        self.slots = [None] * self.size # keys\n",
    "        self.data = [None] * self.size  # values\n",
    "        \n",
    "    def put(self,key,data):\n",
    "        hashvalue = self.hashfunction(key,len(self.slots))\n",
    "\n",
    "        if self.slots[hashvalue] == None:\n",
    "            self.slots[hashvalue] = key\n",
    "            self.data[hashvalue] = data\n",
    "        else:\n",
    "            if self.slots[hashvalue] == key:\n",
    "                self.data[hashvalue] = data  #replace\n",
    "            else:\n",
    "                nextslot = self.rehash(hashvalue,len(self.slots))\n",
    "            while self.slots[nextslot] != None and self.slots[nextslot] != key:\n",
    "                nextslot = self.rehash(nextslot,len(self.slots))\n",
    "\n",
    "            if self.slots[nextslot] == None:\n",
    "                self.slots[nextslot]=key\n",
    "                self.data[nextslot]=data\n",
    "            else:\n",
    "                self.data[nextslot] = data #replace\n",
    "\n",
    "    def hashfunction(self,key,size):\n",
    "         return key%size\n",
    "\n",
    "    def rehash(self,oldhash,size):\n",
    "        return (oldhash+1)%size"
   ]
  }
 ],
 "metadata": {
  "kernelspec": {
   "display_name": "Python 3 (ipykernel)",
   "language": "python",
   "name": "python3"
  },
  "language_info": {
   "codemirror_mode": {
    "name": "ipython",
    "version": 3
   },
   "file_extension": ".py",
   "mimetype": "text/x-python",
   "name": "python",
   "nbconvert_exporter": "python",
   "pygments_lexer": "ipython3",
   "version": "3.12.4"
  }
 },
 "nbformat": 4,
 "nbformat_minor": 5
}
