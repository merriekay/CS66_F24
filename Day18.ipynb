{
 "cells": [
  {
   "cell_type": "markdown",
   "id": "611dbbc9-e879-4cb1-90d8-671a8236b0e3",
   "metadata": {
    "editable": true,
    "slideshow": {
     "slide_type": "skip"
    },
    "tags": []
   },
   "source": [
    "<a href=\"https://colab.research.google.com/github/merriekay/CS66_F24/blob/main/Day18.ipynb\" target=\"_parent\"><img src=\"https://colab.research.google.com/assets/colab-badge.svg\" alt=\"Open In Colab\"/></a>"
   ]
  },
  {
   "cell_type": "markdown",
   "id": "80eb490f-a832-4ce6-8f1f-10842dd7d698",
   "metadata": {
    "editable": true,
    "slideshow": {
     "slide_type": "slide"
    },
    "tags": []
   },
   "source": [
    "# Doubly Linked Lists\n",
    "## Day18\n",
    "\n",
    "### CS66: Introduction to Computer Science II | Fall 2024\n",
    "\n",
    "Tuesday, October 29th, 2024\n",
    "\n",
    "### Helpful Resources:\n",
    "[📜 Syllabus](https://docs.google.com/document/d/1lnkmnAm0tfw2ybqhS01ylSqKfkOcAAkmrrZUuDjwHuU/edit?usp=drive_link) | [📬 CodePost Login](https://codepost.io/login) | [📆 Schedule](https://docs.google.com/spreadsheets/d/1FW9s8S04zqpOaA13JyrlNPszk5D-H9dBi7xX6o5VpgY/edit?usp=drive_link) | [🙋‍♂️ PollEverywhere](https://pollev.com/moore) | [🪴 Office Hour Sign-Up](https://calendly.com/meredith-moore/office-hours)"
   ]
  },
  {
   "cell_type": "markdown",
   "id": "9875861f-3707-4f1c-a8fe-4ebfafd258e1",
   "metadata": {
    "editable": true,
    "slideshow": {
     "slide_type": "slide"
    },
    "tags": []
   },
   "source": [
    "# Announcements:\n",
    "\n",
    "### You should be working on:\n",
    "__Exam #2__ will be released after class (12:15 pm) today\n",
    "- __Due__: Tuesday, November 5th, by 11:59 pm\n",
    "- to be completed individually\n",
    "- No use of AI assistants allowed"
   ]
  },
  {
   "cell_type": "markdown",
   "id": "eed7974a-0f45-4839-bf7d-829d1a285ba4",
   "metadata": {
    "editable": true,
    "slideshow": {
     "slide_type": "fragment"
    },
    "tags": []
   },
   "source": [
    "### Upcoming:    \n",
    "- Tuesday, 11/5: _no class_ GO VOTE!\n",
    "    - Exam #2 is due by 11:59 pm."
   ]
  },
  {
   "cell_type": "markdown",
   "id": "cd280204-27b7-4fb9-9864-2f8eb23451b4",
   "metadata": {
    "editable": true,
    "slideshow": {
     "slide_type": "slide"
    },
    "tags": []
   },
   "source": [
    "## References for this lecture\n",
    "\n",
    "Problem Solving with Algorithms and Data Structures using Python\n",
    "\n",
    "Section 4.10-4.23: [https://runestone.academy/ns/books/published/pythonds/BasicDS/toctree.html](https://runestone.academy/ns/books/published/pythonds/BasicDS/toctree.html)"
   ]
  },
  {
   "cell_type": "markdown",
   "id": "c642cb9e-8373-4f16-af61-02b80e85153e",
   "metadata": {
    "editable": true,
    "slideshow": {
     "slide_type": "slide"
    },
    "tags": []
   },
   "source": [
    "## Group Activity #1: Reverse a Linked List\n",
    "\n",
    "Write a function that will reverse a singly linked list using the code below:\n",
    "\n",
    "What is the Big-O time-complexity of your solution?"
   ]
  },
  {
   "cell_type": "code",
   "execution_count": null,
   "id": "f8937fd2-2f59-469e-988f-81a9412cfbbe",
   "metadata": {
    "editable": true,
    "slideshow": {
     "slide_type": "skip"
    },
    "tags": []
   },
   "outputs": [],
   "source": [
    "class Node:\n",
    "    def __init__(self,initdata):\n",
    "        self.data = initdata\n",
    "        self.next = None\n",
    "\n",
    "    def getData(self):\n",
    "        return self.data\n",
    "\n",
    "    def getNext(self):\n",
    "        return self.next\n",
    "\n",
    "    def setData(self,newdata):\n",
    "        self.data = newdata\n",
    "\n",
    "    def setNext(self,newnext):\n",
    "        self.next = newnext\n",
    "\n",
    "class UnorderedList:\n",
    "\n",
    "    def __init__(self):\n",
    "        self.head = None\n",
    "        \n",
    "    def isEmpty(self):\n",
    "        return self.head == None\n",
    "    \n",
    "    #this method is really a prepend - it puts the new node at the beginning\n",
    "    def add(self,item):\n",
    "        temp = Node(item)\n",
    "        temp.setNext(self.head)\n",
    "        self.head = temp\n",
    "            \n",
    "    def __repr__(self):\n",
    "        list_representation = \"\"\n",
    "        current = self.head #start with the Node at the head\n",
    "        while current: #this will keep going until current equals None\n",
    "            list_representation += str(current.getData())+\" -> \"\n",
    "            current = current.getNext() #move on to the next Node in the list\n",
    "        list_representation += \"None\" #the last one in the list points to None\n",
    "        return list_representation\n",
    "    \n",
    "    def __getitem__(self,index):\n",
    "        \n",
    "        if index < 0:\n",
    "            raise Exception(\"list index \"+str(index)+\" is out of range\")\n",
    "        \n",
    "        current = self.head\n",
    "        item_counter = 0\n",
    "        \n",
    "        while current and item_counter < index:\n",
    "            \n",
    "            current = current.getNext()\n",
    "            item_counter += 1\n",
    "            \n",
    "        if current == None:\n",
    "            raise Exception(\"list index \"+str(index)+\" is out of range\")\n",
    "            \n",
    "        return current.getData()\n",
    "    \n",
    "    def pop(self,index):\n",
    "        \n",
    "        if index < 0:\n",
    "            raise Exception(\"list index \"+str(index)+\" out of range\")\n",
    "        \n",
    "        \n",
    "        current = self.head\n",
    "        previous = None\n",
    "        item_counter = 0\n",
    "        \n",
    "        while current and item_counter < index:\n",
    "            previous = current\n",
    "            current = current.getNext()\n",
    "            item_counter += 1\n",
    "            \n",
    "        if current == None:\n",
    "            raise Exception(\"list index \"+str(index)+\" out of range\")\n",
    "            \n",
    "        if previous == None:\n",
    "            self.head = current.getNext()\n",
    "        else:\n",
    "            previous.setNext(current.getNext())\n",
    "            \n",
    "        return current.getData()\n",
    "    \n",
    "    def remove(self, value):\n",
    "        \"\"\"\n",
    "        removes an item from a linked list by value\n",
    "        \"\"\"\n",
    "        current = self.head\n",
    "        previous = current\n",
    "        found = False\n",
    "\n",
    "        while not found:\n",
    "            if current.getData() == value:\n",
    "                # remove the item\n",
    "                if previous is None:  # This means we're at the head of the list\n",
    "                    self.head = current.getNext()  # Update head to skip over the current node\n",
    "                else:\n",
    "                    previous.setNext(current.getNext())\n",
    "                    found = True\n",
    "            else:\n",
    "                previous = current\n",
    "                current = current.getNext()\n"
   ]
  },
  {
   "attachments": {
    "doublylinkedlist.png": {
     "image/png": "[encoded data removed]"
    }
   },
   "cell_type": "markdown",
   "id": "f538d4ce-a42b-4ffe-bf8c-86c4a7c91256",
   "metadata": {
    "editable": true,
    "slideshow": {
     "slide_type": "slide"
    },
    "tags": []
   },
   "source": [
    "## Doubly Linked List\n",
    "\n",
    "A __doubly linked list__ is like a linked list, except each node keeps track of the item both before _and_ after it in the list. \n",
    "\n",
    "We can also keep track of the _tail_ - the end of the list.\n",
    "\n",
    "![doublylinkedlist.png](attachment:doublylinkedlist.png)\n",
    "\n",
    "This gives us O(1) access to _both_ ends of the list - for adding or removing items from the ends!\n",
    "\n",
    "We could use this to implement a queue in which both `enqueue` and `dequeue` are O(1). Hooray!"
   ]
  },
  {
   "cell_type": "markdown",
   "id": "51c0a0a2-05db-4add-9da0-806a6f7380d8",
   "metadata": {
    "editable": true,
    "slideshow": {
     "slide_type": "slide"
    },
    "tags": []
   },
   "source": [
    "## Coding up a doubly linked list\n",
    "\n",
    "The code for a doubly linked list is similar to a linked list, except\n",
    "\n",
    "* You need to manage both the `prev` and `next` references for each node any time you add or remove an item\n",
    "* Many things have to be broken down into several cases for when there are 0 items, 1 item, or more items\n",
    "\n",
    "This can be a headache to implement - so I'm not going to make you add code to this. But, here's what the code looks like. "
   ]
  },
  {
   "cell_type": "code",
   "execution_count": 5,
   "id": "3f6458c0-29cd-4be4-8252-83ca2a51d54a",
   "metadata": {},
   "outputs": [
    {
     "name": "stdout",
     "output_type": "stream",
     "text": [
      "Here's the list: None <-> 5 <-> 4 <-> 1 <-> 2 <-> 3 <-> None\n",
      "Item at index 3: 2\n",
      "Item at index -1: 3\n",
      "Popping index 3: 2\n",
      "Popping index -1: 3\n",
      "Here's the resulting list: None <-> 5 <-> 4 <-> 1 <-> None\n",
      "Its size is 3\n"
     ]
    }
   ],
   "source": [
    "class DoubleNode:\n",
    "    def __init__(self,initdata):\n",
    "        self.__data = initdata\n",
    "        self.__next = None\n",
    "        self.__prev = None\n",
    "\n",
    "    def get_data(self):\n",
    "        return self.__data\n",
    "\n",
    "    def get_next(self):\n",
    "        return self.__next\n",
    "    \n",
    "    def get_prev(self):\n",
    "        return self.__prev\n",
    "\n",
    "    def set_data(self,newdata):\n",
    "        self.__data = newdata\n",
    "\n",
    "    def set_next(self,newnext):\n",
    "        self.__next = newnext\n",
    "        \n",
    "    def set_prev(self,newprev):\n",
    "        self.__prev = newprev\n",
    "\n",
    "class DoublyLinkedList:\n",
    "\n",
    "    def __init__(self):\n",
    "        \"\"\"a DoublyLinkedList is initially empty\"\"\"\n",
    "        self.__head = None\n",
    "        self.__tail = None\n",
    "        self.__length = 0\n",
    "        \n",
    "    def is_empty(self):\n",
    "        return self.__head == None\n",
    "    \n",
    "    def size(self):\n",
    "        return self.__length\n",
    "    \n",
    "    def append(self,item):\n",
    "        #create the new node\n",
    "        temp = DoubleNode(item)\n",
    "        \n",
    "        #case 1: the list is empty\n",
    "        if self.is_empty():\n",
    "            \n",
    "            self.__head = temp\n",
    "            self.__tail = temp\n",
    "            \n",
    "        #case 2: the list has 1 item \n",
    "        elif self.__length == 1:\n",
    "                \n",
    "            self.__tail = temp\n",
    "            self.__tail.set_prev(self.__head)\n",
    "            self.__head.set_next(self.__tail)\n",
    "            \n",
    "        #case 3: the list has 2 or more items\n",
    "        else:\n",
    "\n",
    "            self.__tail.set_next(temp)\n",
    "            temp.set_prev(self.__tail)\n",
    "            self.__tail = temp\n",
    "            \n",
    "        #update the length counter because we added an item\n",
    "        self.__length += 1\n",
    "    \n",
    "    def prepend(self,item):\n",
    "        #create the new node\n",
    "        temp = DoubleNode(item)\n",
    "        \n",
    "        #case 1: the list is empty\n",
    "        if self.is_empty():\n",
    "            \n",
    "            self.__head = temp\n",
    "            self.__tail = temp\n",
    "            \n",
    "        #case 2: the list has 1 item \n",
    "        elif self.__length == 1:\n",
    "                \n",
    "            self.__head = temp\n",
    "            self.__head.set_next(self.__tail)\n",
    "            self.__tail.set_prev(self.__head)\n",
    "            \n",
    "        #case 3: the list has 2 or more items\n",
    "        else:\n",
    "\n",
    "            self.__head.set_prev(temp)\n",
    "            temp.set_next(self.__head) \n",
    "            self.__head = temp \n",
    "            \n",
    "        #update the length counter because we added an item\n",
    "        self.__length += 1\n",
    "        \n",
    "    def __repr__(self):\n",
    "        list_representation = \"None <-> \"\n",
    "        current = self.__head #start with the Node at the head\n",
    "        while current: #this will keep going until current equals None\n",
    "            list_representation += str(current.get_data())+\" <-> \"\n",
    "            current = current.get_next() #move on to the next Node in the list\n",
    "        list_representation += \"None\" #the last one in the list points to None\n",
    "        return list_representation\n",
    "    \n",
    "    def __getitem__(self,index):\n",
    "        \n",
    "        #case 1: the index is out of range - error\n",
    "        if index >= self.__length or index < (-1)*self.__length:\n",
    "            raise Exception(\"list index \"+str(index)+\" out of range\")\n",
    "        \n",
    "        #case 2: positive index - count starting at the head\n",
    "        elif index >= 0:\n",
    "            current = self.__head\n",
    "            item_counter = 0\n",
    "            \n",
    "            while current and item_counter < index:\n",
    "                current = current.get_next()\n",
    "                item_counter += 1\n",
    "            \n",
    "        #case 3: negative index - count starting at the tail\n",
    "        else:\n",
    "            current = self.__tail\n",
    "            item_counter = -1\n",
    "            \n",
    "            while current and item_counter > index:\n",
    "                current = current.get_prev()\n",
    "                item_counter -= 1\n",
    "                    \n",
    "        return current.get_data()\n",
    "    \n",
    "    \n",
    "    def pop(self,index):\n",
    "        \n",
    "        #case 1: the index is out of range - error\n",
    "        if index >= self.__length or index < (-1)*self.__length:\n",
    "            raise Exception(\"list index \"+str(index)+\" out of range\")\n",
    "        \n",
    "        #case 2: the list is empty - error\n",
    "        elif self.__head == None:\n",
    "            raise Exception(\"You cannot pop from an empty list\")\n",
    "        \n",
    "        #case 3: there is only one item\n",
    "        elif self.__head == self.__tail and (index == 0 or index == -1):\n",
    "            self.__length -= 1\n",
    "            temp = self.__head\n",
    "            self.__head = None\n",
    "            self.__tail = None\n",
    "            return temp.get_data()\n",
    "        \n",
    "        #case 4: 2 or more items, popping the first item\n",
    "        elif index == 0 or index == self.__length*(-1):\n",
    "            self.__length -= 1\n",
    "            temp = self.__head\n",
    "            self.__head.get_next().set_prev(None)\n",
    "            self.__head = self.__head.get_next()\n",
    "            return temp.get_data()\n",
    "        \n",
    "        #case 5: 2 or more items, popping the last item\n",
    "        elif index == -1 or index == self.__length-1:\n",
    "            self.__length -= 1\n",
    "            temp = self.__tail\n",
    "            self.__tail.get_prev().set_next(None)\n",
    "            self.__tail = self.__tail.get_prev()\n",
    "            return temp.get_data()\n",
    "            \n",
    "        #case 6: 2 or more items, popping a non-end, counting from left\n",
    "        elif index > 0:\n",
    "            self.__length -= 1\n",
    "            \n",
    "            current = self.__head\n",
    "            trailing = None\n",
    "            item_counter = 0\n",
    "            \n",
    "            while current and item_counter < index:\n",
    "                trailing = current\n",
    "                current = current.get_next()\n",
    "                item_counter += 1\n",
    "\n",
    "            trailing.set_next(current.get_next())\n",
    "            current.get_next().set_prev(trailing)\n",
    "            \n",
    "            return current.get_data()\n",
    "        \n",
    "        #case 7: 2 or more items, popping a non-end, counting from right\n",
    "        elif index < 0:\n",
    "            self.__length -= 1\n",
    "            \n",
    "            current = self.__tail\n",
    "            trailing = None\n",
    "            item_counter = -1\n",
    "            \n",
    "            while current and item_counter > index:\n",
    "                trailing = current\n",
    "                current = current.get_prev()\n",
    "                item_counter -= 1\n",
    "                \n",
    "            trailing.set_prev(current.get_prev())\n",
    "            current.get_prev().set_next(trailing)\n",
    "   \n",
    "            return current.get_data()    \n",
    "        \n",
    "dll = DoublyLinkedList()\n",
    "dll.append(1)\n",
    "dll.append(2)\n",
    "dll.append(3)\n",
    "dll.prepend(4)\n",
    "dll.prepend(5)\n",
    "print(\"Here's the list:\",dll)\n",
    "print(\"Item at index 3:\",dll[3])\n",
    "print(\"Item at index -1:\",dll[-1])\n",
    "print(\"Popping index 3:\",dll.pop(3))\n",
    "print(\"Popping index -1:\",dll.pop(-1))\n",
    "print(\"Here's the resulting list:\",dll)\n",
    "print(\"Its size is\",dll.size())"
   ]
  },
  {
   "cell_type": "markdown",
   "id": "d636de55-24a9-4f2d-a1e1-691452875983",
   "metadata": {
    "editable": true,
    "slideshow": {
     "slide_type": "slide"
    },
    "tags": []
   },
   "source": [
    "## Group Activity #2: Reverse a Doubly Linked List\n",
    "\n",
    "Use the code above to reverse a doubly-linked-list. \n",
    "\n",
    "How does this compare to reversing a singly linked list in terms of time-complexity?"
   ]
  },
  {
   "cell_type": "markdown",
   "id": "d0585904-52b3-435c-8944-6878077daccc",
   "metadata": {
    "editable": true,
    "slideshow": {
     "slide_type": "slide"
    },
    "tags": []
   },
   "source": [
    "## Implementing a Queue using a Doubly Linked List\n",
    "\n",
    "Recall: when we made our Queue ADT using a Python list as the underlying data structure, one of `enqueue` and `dequeue` had to be $O(n)$.\n",
    "\n",
    "| Operation     | Python List (Array-Based) | Singly Linked List (with Tail) | Singly Linked List (no Tail) | Doubly Linked List (with Tail) |\n",
    "|---------------|---------------------------|--------------------------------|------------------------------|---------------------------------|\n",
    "| Enqueue (Add to end)   | Amortized O(1)*       | O(1)                          | O(n)                         | O(1)                            |\n",
    "| Dequeue (Remove from front) | O(n)**       | O(1)                          | O(1)                         | O(1)                            |\n",
    "| Access (by index)      | O(1)                   | O(n)                          | O(n)                         | O(n)                            |\n",
    "| Search (by value)      | O(n)                   | O(n)                          | O(n)                         | O(n)                            |\n",
    "\n",
    "\n",
    "We can now use a doubly linked list instead, and all the operations will be $O(1)$."
   ]
  },
  {
   "cell_type": "code",
   "execution_count": 11,
   "id": "bc011b0a-f99a-4dd6-afbc-50e3af6a7d9e",
   "metadata": {},
   "outputs": [
    {
     "name": "stdout",
     "output_type": "stream",
     "text": [
      "Starting queue: Front|1,2,3,4,5|Back\n",
      "1\n",
      "2\n",
      "3\n",
      "Ending queue: Front|4,5|Back\n",
      "Size: 2\n"
     ]
    }
   ],
   "source": [
    "class Queue:\n",
    "    def __init__(self):\n",
    "        self.__dll = DoublyLinkedList()\n",
    "\n",
    "    def is_empty(self):\n",
    "        return self.__dll.is_empty()\n",
    "    \n",
    "    def enqueue(self,item):\n",
    "        self.__dll.append(item)\n",
    "\n",
    "    def dequeue(self):\n",
    "        return self.__dll.pop(0)\n",
    "\n",
    "    def size(self):\n",
    "        return self.__dll.size()\n",
    "    \n",
    "    def __repr__(self):\n",
    "        rval = \"Front|\"\n",
    "        for i in range(self.size()):\n",
    "            rval += str(self.__dll[i])+\",\"\n",
    "        rval = rval.strip(\",\")\n",
    "        rval += \"|Back\"\n",
    "        return rval\n",
    "        \n",
    "    \n",
    "q = Queue()\n",
    "q.enqueue(1)\n",
    "q.enqueue(2)\n",
    "q.enqueue(3)\n",
    "q.enqueue(4)\n",
    "q.enqueue(5)\n",
    "print(\"Starting queue:\",q)\n",
    "print( q.dequeue() )\n",
    "print( q.dequeue() )\n",
    "print( q.dequeue() )\n",
    "print(\"Ending queue:\",q)\n",
    "print(\"Size:\",q.size() )"
   ]
  },
  {
   "cell_type": "markdown",
   "id": "023b619f-5b69-4adc-9761-de86b727b157",
   "metadata": {
    "editable": true,
    "slideshow": {
     "slide_type": "slide"
    },
    "tags": []
   },
   "source": [
    "## Group Activity #3: Other ADTs\n",
    "\n",
    "Chapter 4 of the book has implementations for two more Abstract Data Types that we haven't looked at yet:\n",
    "\n",
    "* `Deque` - a double-ended-queueu: [https://runestone.academy/ns/books/published/pythonds/BasicDS/TheDequeAbstractDataType.html](https://runestone.academy/ns/books/published/pythonds/BasicDS/TheDequeAbstractDataType.html)\n",
    "* `OrderedList` - a list that always keeps the items in a sorted order: [https://runestone.academy/ns/books/published/pythonds/BasicDS/TheOrderedListAbstractDataType.html](https://runestone.academy/ns/books/published/pythonds/BasicDS/TheOrderedListAbstractDataType.html)\n",
    "\n",
    "The book uses an array (i.e., a Python list) to implement the Deque and a linked list to implement the OrderedList. However, like their implementation of the Queue, these may not necessarily be the best choices.\n",
    "\n",
    "For each one, discuss, which would be the better choice to implement that ADT: array, linked list, or doubly-linked list. Give reasons to back up your choice. Time complexity of the different methods should be the main consideration, so start there, but you may be able to come up with some other reasons as well."
   ]
  },
  {
   "cell_type": "markdown",
   "id": "0847f31f-b825-4e99-b6ad-ecdf5ede70d7",
   "metadata": {
    "editable": true,
    "slideshow": {
     "slide_type": "slide"
    },
    "tags": []
   },
   "source": [
    "## Group Activity #5: `Deque`\n",
    "\n",
    "While Python doesn't have a `Deque` built-in, there is a Collections library which contains a `Deque` that you can read about here: [https://docs.pyhon.org/3/library/collections.html](https://docs.python.org/3/library/collections.html)\n",
    "\n",
    "Look at the description on that page, paying special attention to the Big O it gives for various operations. What is the Big O of \n",
    "* appending on the right\n",
    "* appending on the left\n",
    "* popping from the right\n",
    "* popping from the left\n",
    "* accessing an item in the middle of the deque by its index, like `d[10000]`\n",
    "\n",
    "Based on what you know, how do you think they implement this `deque` class?"
   ]
  },
  {
   "cell_type": "markdown",
   "id": "c08d06ef-c161-422a-930e-bfd7a36273bd",
   "metadata": {
    "editable": true,
    "slideshow": {
     "slide_type": "slide"
    },
    "tags": []
   },
   "source": [
    "# Announcements:\n",
    "\n",
    "### You should be working on:\n",
    "__Exam #2__ will be released after class (12:15 pm) today\n",
    "- __Due__: Tuesday, November 5th, by 11:59 pm\n",
    "- to be completed individually\n",
    "- No use of AI assistants allowed"
   ]
  },
  {
   "cell_type": "markdown",
   "id": "1f4efb3e-cc5c-4ee2-9324-ef49707790ae",
   "metadata": {
    "editable": true,
    "jp-MarkdownHeadingCollapsed": true,
    "slideshow": {
     "slide_type": "fragment"
    },
    "tags": []
   },
   "source": [
    "### Upcoming:    \n",
    "- Tuesday, 11/5: _no class_ GO VOTE!\n",
    "    - Exam #2 is due by 11:59 pm."
   ]
  }
 ],
 "metadata": {
  "kernelspec": {
   "display_name": "Python 3 (ipykernel)",
   "language": "python",
   "name": "python3"
  },
  "language_info": {
   "codemirror_mode": {
    "name": "ipython",
    "version": 3
   },
   "file_extension": ".py",
   "mimetype": "text/x-python",
   "name": "python",
   "nbconvert_exporter": "python",
   "pygments_lexer": "ipython3",
   "version": "3.12.4"
  }
 },
 "nbformat": 4,
 "nbformat_minor": 5
}
