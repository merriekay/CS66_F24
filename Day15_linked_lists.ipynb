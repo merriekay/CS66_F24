{
 "cells": [
  {
   "cell_type": "markdown",
   "id": "278466a8-62a1-4241-9666-8112451ea077",
   "metadata": {
    "editable": true,
    "slideshow": {
     "slide_type": ""
    },
    "tags": []
   },
   "source": [
    "<a href=\"https://colab.research.google.com/github/merriekay/CS66_F24/blob/main/Day15_linked_lists.ipynb\" target=\"_parent\"><img src=\"https://colab.research.google.com/assets/colab-badge.svg\" alt=\"Open In Colab\"/></a>"
   ]
  },
  {
   "cell_type": "markdown",
   "id": "203047a0-69c1-4270-8e53-dad4fede968c",
   "metadata": {
    "editable": true,
    "slideshow": {
     "slide_type": "slide"
    },
    "tags": []
   },
   "source": [
    "#  ADTs and Intro to Linked Lists\n",
    "## Day15\n",
    "\n",
    "### CS66: Introduction to Computer Science II | Fall 2024\n",
    "\n",
    "Tuesday, October 22nd, 2024\n",
    "\n",
    "### Helpful Resources:\n",
    "[📜 Syllabus](https://docs.google.com/document/d/1lnkmnAm0tfw2ybqhS01ylSqKfkOcAAkmrrZUuDjwHuU/edit?usp=drive_link) | [📬 CodePost Login](https://codepost.io/login) | [📆 Schedule](https://docs.google.com/spreadsheets/d/1FW9s8S04zqpOaA13JyrlNPszk5D-H9dBi7xX6o5VpgY/edit?usp=drive_link) | [🙋‍♂️ PollEverywhere](https://pollev.com/moore) | [🪴 Office Hour Sign-Up](https://calendly.com/meredith-moore/office-hours)"
   ]
  },
  {
   "cell_type": "markdown",
   "id": "93fa3302-0cde-4cfb-b08c-856cb74d54a0",
   "metadata": {
    "editable": true,
    "slideshow": {
     "slide_type": "slide"
    },
    "tags": []
   },
   "source": [
    "# Announcements:\n"
   ]
  },
  {
   "cell_type": "markdown",
   "id": "93db0dc5-907d-4943-a7b6-3f02864ac637",
   "metadata": {
    "editable": true,
    "jp-MarkdownHeadingCollapsed": true,
    "slideshow": {
     "slide_type": "fragment"
    },
    "tags": []
   },
   "source": [
    "### Grading:\n",
    "- Midterm grades are posted,\n",
    "    - $grade = 0.8*assignments + 0.2*exam$\n",
    "- I'll accept late work, if codePost won't let you resubmit, send me an email with your code and I can do it."
   ]
  },
  {
   "cell_type": "markdown",
   "id": "91928cdf-48cc-4d09-8df6-4b71b1aa39d3",
   "metadata": {
    "editable": true,
    "slideshow": {
     "slide_type": "fragment"
    },
    "tags": []
   },
   "source": [
    "### Assignments:\n",
    "- [Assignment #8: `PlayingCard` and `Deck`](https://analytics.drake.edu/~moore/CS66-F24/Assignment8.html) due tonight by 11:59pm."
   ]
  },
  {
   "cell_type": "markdown",
   "id": "d54a138f-3bc2-49f0-9567-40fd56745284",
   "metadata": {
    "editable": true,
    "slideshow": {
     "slide_type": ""
    },
    "tags": []
   },
   "source": [
    "# Review / Where we left off:"
   ]
  },
  {
   "cell_type": "markdown",
   "id": "20b60327-5242-4cff-b27d-ad930fc1ea91",
   "metadata": {
    "editable": true,
    "slideshow": {
     "slide_type": "slide"
    },
    "tags": []
   },
   "source": [
    "# Implementing the Queue\n",
    "\n",
    "Remember: An __abstract data type__, sometimes abbreviated ADT, is a logical description of how we view the data and the operations that are allowed _without regard to how they will be implemented_. \n",
    "\n",
    "Once we create a class that _implements_ an ADT, we've created a __Data Structure__. "
   ]
  },
  {
   "cell_type": "code",
   "execution_count": 10,
   "id": "a9eb8a42-b6fe-448b-97c4-28d09930e740",
   "metadata": {
    "editable": true,
    "slideshow": {
     "slide_type": ""
    },
    "tags": []
   },
   "outputs": [],
   "source": [
    "class Queue:\n",
    "    def __init__(self): # called when a Queue is created\n",
    "        self.items = []\n",
    "\n",
    "    def isEmpty(self):\n",
    "        return self.items == []\n",
    "\n",
    "    def enqueue(self, item):\n",
    "        self.items.insert(0,item)\n",
    "\n",
    "    def dequeue(self):\n",
    "        return self.items.pop()\n",
    "\n",
    "    def size(self):\n",
    "        return len(self.items)"
   ]
  },
  {
   "cell_type": "markdown",
   "id": "b8b3068e-c25d-40f3-8715-dc1a48d97b06",
   "metadata": {
    "editable": true,
    "jp-MarkdownHeadingCollapsed": true,
    "slideshow": {
     "slide_type": "slide"
    },
    "tags": []
   },
   "source": [
    "## Group Activity Problem 1\n",
    "\n",
    "Review: We've seen the textbook's description of the Stack ADT. Here it is.\n",
    "\n",
    "These are the following operations that all stacks should have:\n",
    "\n",
    "* `Stack()` creates a new stack that is empty. It needs no parameters and returns an empty stack.\n",
    "* `push(item)` adds a new item to the top of the stack. It needs the item and returns nothing.\n",
    "* `pop()` removes the top item from the stack. It needs no parameters and returns the item. The stack is modified.\n",
    "* `peek()` returns the top item from the stack but _does not remove it_. It needs no parameters. The stack is not modified.\n",
    "* `isEmpty()` tests to see whether the stack is empty. It needs no parameters and returns a boolean value.\n",
    "* `size()` returns the number of items on the stack. It needs no parameters and returns an integer.\n",
    "\n",
    "Create a class that implements this. It should be very similar to the Queue class."
   ]
  },
  {
   "cell_type": "markdown",
   "id": "26cc7080-08c2-4347-be98-a7013206a5d6",
   "metadata": {
    "editable": true,
    "slideshow": {
     "slide_type": "slide"
    },
    "tags": []
   },
   "source": [
    "## Group Activity Problem 2\n",
    "\n",
    "What is the Big O of each of the following for your definition of a Stack?\n",
    "\n",
    "* `push`\n",
    "* `pop`\n",
    "* `peek`\n",
    "* `size`\n",
    "\n",
    "\n",
    "For reference, take a look at \n",
    "* the section of the book on the computational complexity of list operations: [https://runestone.academy/ns/books/published/pythonds/AlgorithmAnalysis/Lists.html](https://runestone.academy/ns/books/published/pythonds/AlgorithmAnalysis/Lists.html)\n",
    "* the official Python wiki: [https://wiki.python.org/moin/TimeComplexity](https://wiki.python.org/moin/TimeComplexity)"
   ]
  },
  {
   "cell_type": "markdown",
   "id": "9f44c8e3-8e67-4e99-90e0-6307051f6f47",
   "metadata": {
    "editable": true,
    "slideshow": {
     "slide_type": ""
    },
    "tags": []
   },
   "source": [
    "## Group Activity Problem 3\n",
    "\n",
    "Discuss: What's the difference between the `Deck` class and the `Stack` class? Can a `Deck` also be considered a stack?"
   ]
  },
  {
   "cell_type": "markdown",
   "id": "21d36f29-88f1-4d3d-bb64-ceb1e9b0ef9f",
   "metadata": {
    "editable": true,
    "slideshow": {
     "slide_type": ""
    },
    "tags": []
   },
   "source": [
    "## Group Activity Problem 4\n",
    "\n",
    "Discuss the following question, and make sure to write the answer in your notes: What is the difference between and Abstract Data Type and a Data Structure?"
   ]
  },
  {
   "cell_type": "markdown",
   "id": "c9f345fc-bfd3-47b0-af82-4e3caef9c237",
   "metadata": {
    "editable": true,
    "slideshow": {
     "slide_type": ""
    },
    "tags": []
   },
   "source": [
    "# ✨New Material:"
   ]
  },
  {
   "cell_type": "markdown",
   "id": "7ac2d0b9-c4c7-42c7-b284-bc502be7ca42",
   "metadata": {
    "editable": true,
    "slideshow": {
     "slide_type": "slide"
    },
    "tags": []
   },
   "source": [
    "## References for this lecture\n",
    "\n",
    "Problem Solving with Algorithms and Data Structures using Python\n",
    "\n",
    "\n",
    "Section 3.6 (Big O of list operations): [https://runestone.academy/ns/books/published/pythonds/AlgorithmAnalysis/Lists.html](https://runestone.academy/ns/books/published/pythonds/AlgorithmAnalysis/Lists.html)\n",
    "\n",
    "Section 4.5, 4.6 (Stack implementation), 4.19-4.23: [https://runestone.academy/ns/books/published/pythonds/BasicDS/toctree.html](https://runestone.academy/ns/books/published/pythonds/BasicDS/toctree.html)\n",
    "\n",
    "Section 4.21 Implementing an Unordered List: \n",
    "[https://runestone.academy/ns/books/published/pythonds/BasicDS/ImplementinganUnorderedListLinkedLists.html](https://runestone.academy/ns/books/published/pythonds/BasicDS/ImplementinganUnorderedListLinkedLists.html)"
   ]
  },
  {
   "attachments": {
    "emptyarray.png": {
     "image/png": "[encoded data removed]"
    }
   },
   "cell_type": "markdown",
   "id": "e76a9ae0-59e4-4d7f-aecd-c2edd652ee09",
   "metadata": {
    "editable": true,
    "slideshow": {
     "slide_type": "slide"
    },
    "tags": []
   },
   "source": [
    "## Linked List vs. Array Philosophy\n",
    "\n",
    "A __list__ can be implemented using either an _array-based_ or _link-based_ data structure.\n",
    "\n",
    "The Python `list` type is implmented as an array. An array keeps track of the data in _consecutive memory locations_\n",
    "\n",
    "(here is a blank memory diagram that we may draw on in the lecture)\n",
    "\n",
    "\n",
    "<div>\n",
    "    <img src=\"attachment:emptyarray.png\" width=\"auto\"/>\n",
    "</div>\n",
    "\n",
    "A __linked list__ allows each item to be anywhere in the computer's memory. It allocates enough space for only one item at a time, and each one keeps track of where the next one is in memory.\n",
    "\n",
    "\n",
    "<div>\n",
    "    <img src=\"attachment:emptyarray.png\" width=\"auto\"/>\n",
    "</div>\n",
    "\n"
   ]
  },
  {
   "attachments": {
    "linkedlist.png": {
     "image/png": "[encoded data removed]"
    }
   },
   "cell_type": "markdown",
   "id": "1bc3b5c0-18eb-47f3-b537-85af72ce6a52",
   "metadata": {
    "editable": true,
    "slideshow": {
     "slide_type": "slide"
    },
    "tags": []
   },
   "source": [
    "## A picture of a linked list\n",
    "\n",
    "Linked lists are often drawn like this. Let's talk about what these symbols mean.\n",
    "\n",
    "\n",
    "<div>\n",
    "<img src=\"linkedlist.png\" />\n",
    "</div>"
   ]
  },
  {
   "cell_type": "markdown",
   "id": "a93c1352-af37-4e3a-bff1-6335ad6e7f17",
   "metadata": {
    "editable": true,
    "slideshow": {
     "slide_type": "slide"
    },
    "tags": []
   },
   "source": [
    "## A class for representing a node in a linked list\n",
    "\n",
    "\n",
    "A linked list node has two attributes, the data it holds and a reference to the next node in the list.\n",
    "\n",
    "Here is the `Node` class presented in the textbook."
   ]
  },
  {
   "cell_type": "code",
   "execution_count": 2,
   "id": "b67e828d-e1d3-4baf-a7d4-c5b23bd6180f",
   "metadata": {
    "editable": true,
    "slideshow": {
     "slide_type": ""
    },
    "tags": []
   },
   "outputs": [],
   "source": [
    "class Node:\n",
    "    def __init__(self,initdata):\n",
    "        self.data = initdata\n",
    "        self.next = None\n",
    "\n",
    "    def getData(self):\n",
    "        return self.data\n",
    "\n",
    "    def getNext(self):\n",
    "        return self.next\n",
    "\n",
    "    def setData(self,newdata):\n",
    "        self.data = newdata\n",
    "\n",
    "    def setNext(self,newnext):\n",
    "        self.next = newnext"
   ]
  },
  {
   "cell_type": "markdown",
   "id": "4a202462-2082-4e28-b7e9-6718dbaa5b06",
   "metadata": {
    "slideshow": {
     "slide_type": "fragment"
    }
   },
   "source": [
    "Let's create some nodes and practice setting them up as a linked list."
   ]
  },
  {
   "cell_type": "code",
   "execution_count": 4,
   "id": "b1b4beb8-5e2e-49a0-bf50-cea3099748ca",
   "metadata": {
    "editable": true,
    "slideshow": {
     "slide_type": ""
    },
    "tags": []
   },
   "outputs": [
    {
     "name": "stdout",
     "output_type": "stream",
     "text": [
      "a: <__main__.Node object at 0x1106e6ce0> a's data: A , next: None\n",
      "b: <__main__.Node object at 0x1106e7ac0> b's data: B , next: None\n",
      "c: <__main__.Node object at 0x1106e6a70> c's data: C , next: None\n",
      "a: <__main__.Node object at 0x1106e6ce0> a's data: A , next: <__main__.Node object at 0x1106e7ac0>\n",
      "b: <__main__.Node object at 0x1106e7ac0> b's data: B , next: <__main__.Node object at 0x1106e6a70>\n",
      "c: <__main__.Node object at 0x1106e6a70> c's data: C , next: None\n"
     ]
    }
   ],
   "source": [
    "a = Node(\"A\")\n",
    "b = Node(\"B\")\n",
    "c = Node(\"C\")\n",
    "\n",
    "print(\"a:\",a,\"a's data:\",a.getData(),\", next:\",a.getNext())\n",
    "print(\"b:\",b,\"b's data:\",b.getData(),\", next:\",b.getNext())\n",
    "print(\"c:\",c,\"c's data:\",c.getData(),\", next:\",c.getNext())\n",
    "\n",
    "a.setNext(b)\n",
    "b.setNext(c)\n",
    "\n",
    "print(\"a:\",a,\"a's data:\",a.getData(),\", next:\",a.getNext())\n",
    "print(\"b:\",b,\"b's data:\",b.getData(),\", next:\",b.getNext())\n",
    "print(\"c:\",c,\"c's data:\",c.getData(),\", next:\",c.getNext())"
   ]
  },
  {
   "cell_type": "markdown",
   "id": "00931c4f-dea0-47d9-bb2a-bbb76e9bada9",
   "metadata": {
    "editable": true,
    "slideshow": {
     "slide_type": "slide"
    },
    "tags": []
   },
   "source": [
    "## An Unordered List Data Structure based on a Linked List\n",
    "\n",
    "We previously looked at the UnorderedList ADT:\n",
    "\n",
    "> * `List()` creates a new list that is empty. It needs no parameters and returns an empty list.\n",
    "> * `add(item)` adds a new item to the list. It needs the item and returns nothing. Assume the item is not already in the list.\n",
    "> * `remove(item)` removes the item from the list. It needs the item and modifies the list. Assume the item is present in the list.\n",
    "> * `search(item)` searches for the item in the list. It needs the item and returns a boolean value.\n",
    "> * `isEmpty()` tests to see whether the list is empty. It needs no parameters and returns a boolean value.\n",
    "> * `size()` returns the number of items in the list. It needs no parameters and returns an integer.\n",
    "> * `append(item)` adds a new item to the end of the list making it the last item in the collection. It needs the item and returns nothing. Assume the item is not already in the list.\n",
    "> * `index(item)` returns the position of item in the list. It needs the item and returns the index. Assume the item is in the list.\n",
    "> * `insert(pos,item)` adds a new item to the list at position pos. It needs the item and returns nothing. Assume the item is not already in the list and there are enough existing items to have position pos.\n",
    "> * `pop()` removes and returns the last item in the list. It needs nothing and returns an item. Assume the list has at least one item.\n",
    "> * `pop(pos)` removes and returns the item at position pos. It needs the position and returns the item. Assume the item is in the list.\n",
    "\n",
    "We also talked about how the built-in Python `list` type is a pretty good match for this."
   ]
  },
  {
   "cell_type": "markdown",
   "id": "c59e82d5-3a51-4dbd-ad21-48619cc8ed47",
   "metadata": {
    "editable": true,
    "slideshow": {
     "slide_type": "slide"
    },
    "tags": []
   },
   "source": [
    "Now, we will implement the ADT as a linked list - following Section 4.21 in the book"
   ]
  },
  {
   "cell_type": "code",
   "execution_count": 5,
   "id": "5ed139d4-91ec-47e4-ac12-e054b85d38bd",
   "metadata": {
    "editable": true,
    "slideshow": {
     "slide_type": ""
    },
    "tags": []
   },
   "outputs": [],
   "source": [
    "class UnorderedList:\n",
    "\n",
    "    def __init__(self):\n",
    "        self.head = None\n",
    "        \n",
    "    def isEmpty(self):\n",
    "        return self.head == None\n",
    "    \n",
    "    #this method is really a prepend - it puts the new node at the beginning\n",
    "    def add(self,item):\n",
    "        temp = Node(item)\n",
    "        temp.setNext(self.head)\n",
    "        self.head = temp"
   ]
  },
  {
   "attachments": {
    "addtohead.png": {
     "image/png": "[encoded data removed]"
    }
   },
   "cell_type": "markdown",
   "id": "2c04369c-d323-40b9-9b95-af4a7128c9cb",
   "metadata": {
    "editable": true,
    "slideshow": {
     "slide_type": ""
    },
    "tags": []
   },
   "source": [
    "\n",
    "<div>\n",
    "<img src=\"addtohead.png\" />\n",
    "</div>"
   ]
  },
  {
   "cell_type": "code",
   "execution_count": 8,
   "id": "9b9e7069-969f-4700-8fd3-5771e257ec40",
   "metadata": {
    "editable": true,
    "slideshow": {
     "slide_type": "slide"
    },
    "tags": []
   },
   "outputs": [
    {
     "name": "stdout",
     "output_type": "stream",
     "text": [
      "True\n",
      "False\n"
     ]
    }
   ],
   "source": [
    "my_list = UnorderedList()\n",
    "print(my_list.isEmpty())\n",
    "\n",
    "my_list.add(31)\n",
    "my_list.add(77)\n",
    "my_list.add(17)\n",
    "my_list.add(93)\n",
    "my_list.add(26)\n",
    "print(my_list.isEmpty())"
   ]
  },
  {
   "cell_type": "markdown",
   "id": "182efb91-8bdd-4dca-834c-54921b0b0673",
   "metadata": {
    "editable": true,
    "slideshow": {
     "slide_type": "slide"
    },
    "tags": []
   },
   "source": [
    "## Traversing a linked list\n",
    "\n",
    "Some of the operations you need to perform with a linked list require you to traverse (i.e., loop over) all/many items in the list.\n",
    "\n",
    "For example, if I wanted to display each item in a list, I could do it with a loop as in the `display()` method below:\n",
    "\n",
    "_we're going to add on to the book example_"
   ]
  },
  {
   "cell_type": "code",
   "execution_count": 9,
   "id": "a329a1b1-2867-45ef-a943-b0915c1ff492",
   "metadata": {
    "editable": true,
    "slideshow": {
     "slide_type": "slide"
    },
    "tags": []
   },
   "outputs": [],
   "source": [
    "class UnorderedList:\n",
    "\n",
    "    def __init__(self):\n",
    "        self.head = None\n",
    "        \n",
    "    def isEmpty(self):\n",
    "        return self.head == None\n",
    "    \n",
    "    #this method is really a prepend - it puts the new node at the beginning\n",
    "    def add(self,item):\n",
    "        temp = Node(item)\n",
    "        temp.setNext(self.head)\n",
    "        self.head = temp\n",
    "        \n",
    "    def display(self):\n",
    "        current = self.head #start with the Node at the head\n",
    "        while current: #this will keep going until current equals None\n",
    "            print(current.getData()) #display the current Node's data\n",
    "            current = current.getNext() #move on to the next Node in the list"
   ]
  },
  {
   "attachments": {
    "traverse.png": {
     "image/png": "[encoded data removed]"
    }
   },
   "cell_type": "markdown",
   "id": "fa87a6dd-f167-4562-8b2c-fb7de7c3d790",
   "metadata": {
    "editable": true,
    "slideshow": {
     "slide_type": ""
    },
    "tags": []
   },
   "source": [
    "\n",
    "<div>\n",
    "<img src=\"traverse.png\" />\n",
    "</div>"
   ]
  },
  {
   "cell_type": "code",
   "execution_count": 11,
   "id": "802d86df-8d22-4e25-98c0-087545337ab9",
   "metadata": {
    "editable": true,
    "slideshow": {
     "slide_type": ""
    },
    "tags": []
   },
   "outputs": [
    {
     "name": "stdout",
     "output_type": "stream",
     "text": [
      "54\n",
      "26\n",
      "93\n",
      "17\n",
      "77\n",
      "31\n"
     ]
    }
   ],
   "source": [
    "my_list = UnorderedList()\n",
    "\n",
    "my_list.add(31)\n",
    "my_list.add(77)\n",
    "my_list.add(17)\n",
    "my_list.add(93)\n",
    "my_list.add(26)\n",
    "my_list.add(54)\n",
    "my_list.display()"
   ]
  },
  {
   "cell_type": "markdown",
   "id": "130d563a-37ed-472a-8195-06109d6802de",
   "metadata": {
    "editable": true,
    "slideshow": {
     "slide_type": "slide"
    },
    "tags": []
   },
   "source": [
    "## Let's do it with `__repr__` instead"
   ]
  },
  {
   "cell_type": "code",
   "execution_count": 12,
   "id": "a3d329a1-b50a-430f-b759-990e424032ba",
   "metadata": {
    "editable": true,
    "slideshow": {
     "slide_type": ""
    },
    "tags": []
   },
   "outputs": [
    {
     "name": "stdout",
     "output_type": "stream",
     "text": [
      "54 -> 26 -> 93 -> 17 -> 77 -> 31 -> None\n"
     ]
    }
   ],
   "source": [
    "class UnorderedList:\n",
    "\n",
    "    def __init__(self):\n",
    "        self.head = None\n",
    "        \n",
    "    def isEmpty(self):\n",
    "        return self.head == None\n",
    "    \n",
    "    #this method is really a prepend - it puts the new node at the beginning\n",
    "    def add(self,item):\n",
    "        temp = Node(item)\n",
    "        temp.setNext(self.head)\n",
    "        self.head = temp\n",
    "            \n",
    "    def __repr__(self):\n",
    "        list_representation = \"\"\n",
    "        current = self.head #start with the Node at the head\n",
    "        while current: #this will keep going until current equals None\n",
    "            list_representation += str(current.getData())+\" -> \"\n",
    "            current = current.getNext() #move on to the next Node in the list\n",
    "        list_representation += \"None\" #the last one in the list points to None\n",
    "        return list_representation\n",
    "            \n",
    "my_list = UnorderedList()\n",
    "\n",
    "my_list.add(31)\n",
    "my_list.add(77)\n",
    "my_list.add(17)\n",
    "my_list.add(93)\n",
    "my_list.add(26)\n",
    "my_list.add(54)\n",
    "print(my_list)"
   ]
  },
  {
   "cell_type": "markdown",
   "id": "6212e719-34d1-4401-a332-3ba84e9fcf5c",
   "metadata": {
    "editable": true,
    "slideshow": {
     "slide_type": "slide"
    },
    "tags": []
   },
   "source": [
    "## Traversing to get an item by its index\n",
    "\n",
    "If you want to get an item by its index, you need to traverse the list and count until you find it.\n",
    "\n",
    "_Note:_ This is not one of the methods that is listed in the ADT, but I think it is ok to allow it since it's something that you can do with a built-in Python list.\n"
   ]
  },
  {
   "cell_type": "code",
   "execution_count": 13,
   "id": "878d30e4-b3f4-407b-904e-ae066f52cfde",
   "metadata": {},
   "outputs": [
    {
     "name": "stdout",
     "output_type": "stream",
     "text": [
      "54 -> 26 -> 93 -> 17 -> 77 -> 31 -> None\n",
      "17\n",
      "31\n"
     ]
    }
   ],
   "source": [
    "class UnorderedList:\n",
    "\n",
    "    def __init__(self):\n",
    "        self.head = None\n",
    "        \n",
    "    def isEmpty(self):\n",
    "        return self.head == None\n",
    "    \n",
    "    #this method is really a prepend - it puts the new node at the beginning\n",
    "    def add(self,item):\n",
    "        temp = Node(item)\n",
    "        temp.setNext(self.head)\n",
    "        self.head = temp\n",
    "            \n",
    "    def __repr__(self):\n",
    "        list_representation = \"\"\n",
    "        current = self.head #start with the Node at the head\n",
    "        while current: #this will keep going until current equals None\n",
    "            list_representation += str(current.getData())+\" -> \"\n",
    "            current = current.getNext() #move on to the next Node in the list\n",
    "        list_representation += \"None\" #the last one in the list points to None\n",
    "        return list_representation\n",
    "    \n",
    "    def get(self,index):\n",
    "        \n",
    "        if index < 0:\n",
    "            raise Exception(\"list index \"+str(index)+\" is out of range\")\n",
    "        \n",
    "        current = self.head\n",
    "        item_counter = 0\n",
    "        \n",
    "        while current and item_counter < index:\n",
    "            \n",
    "            current = current.getNext()\n",
    "            item_counter += 1\n",
    "            \n",
    "        if current == None:\n",
    "            raise Exception(\"list index \"+str(index)+\" is out of range\")\n",
    "            \n",
    "        return current.getData()\n",
    "            \n",
    "my_list = UnorderedList()\n",
    "\n",
    "my_list.add(31)\n",
    "my_list.add(77)\n",
    "my_list.add(17)\n",
    "my_list.add(93)\n",
    "my_list.add(26)\n",
    "my_list.add(54)\n",
    "print(my_list)\n",
    "\n",
    "print(my_list.get(3))\n",
    "\n",
    "print(my_list.get(5))"
   ]
  },
  {
   "attachments": {
    "traverse.png": {
     "image/png": "[encoded data removed]"
    }
   },
   "cell_type": "markdown",
   "id": "c8bb9d60-e038-4ed6-a2ae-3cdf4e700531",
   "metadata": {
    "editable": true,
    "slideshow": {
     "slide_type": ""
    },
    "tags": []
   },
   "source": [
    "\n",
    "<div>\n",
    "<img src=\"traverse.png\" />\n",
    "</div>"
   ]
  },
  {
   "cell_type": "markdown",
   "id": "84fb5256-01f0-442d-b171-b99781fae22d",
   "metadata": {
    "editable": true,
    "slideshow": {
     "slide_type": "slide"
    },
    "tags": []
   },
   "source": [
    "## The `__getitem__` magic method\n",
    "\n",
    "And we can instead implement `__getitem__` in place of our `get` method, which will allow us to use `[ ]` notation instead"
   ]
  },
  {
   "cell_type": "code",
   "execution_count": 16,
   "id": "ea9acc05-6bd9-408d-97aa-0f2b5f36e0d2",
   "metadata": {
    "editable": true,
    "slideshow": {
     "slide_type": ""
    },
    "tags": []
   },
   "outputs": [
    {
     "name": "stdout",
     "output_type": "stream",
     "text": [
      "54 -> 26 -> 93 -> 17 -> 77 -> 31 -> None\n",
      "17\n",
      "31\n"
     ]
    }
   ],
   "source": [
    "class UnorderedList:\n",
    "\n",
    "    def __init__(self):\n",
    "        self.head = None\n",
    "        \n",
    "    def isEmpty(self):\n",
    "        return self.head == None\n",
    "    \n",
    "    #this method is really a prepend - it puts the new node at the beginning\n",
    "    def add(self,item):\n",
    "        temp = Node(item)\n",
    "        temp.setNext(self.head)\n",
    "        self.head = temp\n",
    "            \n",
    "    def __repr__(self):\n",
    "        list_representation = \"\"\n",
    "        current = self.head #start with the Node at the head\n",
    "        while current: #this will keep going until current equals None\n",
    "            list_representation += str(current.getData())+\" -> \"\n",
    "            current = current.getNext() #move on to the next Node in the list\n",
    "        list_representation += \"None\" #the last one in the list points to None\n",
    "        return list_representation\n",
    "    \n",
    "    def __getitem__(self,index):\n",
    "        \n",
    "        if index < 0:\n",
    "            raise Exception(\"list index \"+str(index)+\" is out of range\")\n",
    "        \n",
    "        current = self.head\n",
    "        item_counter = 0\n",
    "        \n",
    "        while current and item_counter < index:\n",
    "            \n",
    "            current = current.getNext()\n",
    "            item_counter += 1\n",
    "            \n",
    "        if current == None:\n",
    "            raise Exception(\"list index \"+str(index)+\" is out of range\")\n",
    "            \n",
    "        return current.getData()\n",
    "            \n",
    "my_list = UnorderedList()\n",
    "\n",
    "my_list.add(31)\n",
    "my_list.add(77)\n",
    "my_list.add(17)\n",
    "my_list.add(93)\n",
    "my_list.add(26)\n",
    "my_list.add(54)\n",
    "print(my_list)\n",
    "\n",
    "print(my_list[3])\n",
    "\n",
    "print(my_list[5])"
   ]
  },
  {
   "cell_type": "markdown",
   "id": "365568a4-0405-4601-8baa-ebe402e96586",
   "metadata": {
    "editable": true,
    "slideshow": {
     "slide_type": "slide"
    },
    "tags": []
   },
   "source": [
    "## Group Activity Problem 4\n",
    "\n",
    "Note that the ADT description includes a `search` operation. Add this to your `UnorderedList` class.\n",
    "\n",
    "_Hint:_ You will need to do a traversal like with `get`, but you're going to be looking for a value in the list that matches your item.\n",
    "\n",
    "_Hint 2:_ You can find a solution to this exercise in the book: [https://runestone.academy/ns/books/published/pythonds/BasicDS/ImplementinganUnorderedListLinkedLists.html](https://runestone.academy/ns/books/published/pythonds/BasicDS/ImplementinganUnorderedListLinkedLists.html)\n",
    "\n",
    "It should work with code like this:"
   ]
  },
  {
   "cell_type": "code",
   "execution_count": null,
   "id": "3d5a63cf-4e77-42a5-8509-525d7dee2455",
   "metadata": {
    "editable": true,
    "slideshow": {
     "slide_type": ""
    },
    "tags": []
   },
   "outputs": [],
   "source": [
    "my_list = UnorderedList()\n",
    "\n",
    "my_list.add(31)\n",
    "my_list.add(77)\n",
    "my_list.add(17)\n",
    "my_list.add(93)\n",
    "my_list.add(26)\n",
    "my_list.add(54)\n",
    "print(my_list)\n",
    "\n",
    "print( my_list.search(17) ) #should print True\n",
    "print( my_list.search(34) ) #should print False"
   ]
  },
  {
   "cell_type": "markdown",
   "id": "b1ccb534-79b3-4b7a-93f5-ac288730a0e6",
   "metadata": {
    "editable": true,
    "slideshow": {
     "slide_type": "slide"
    },
    "tags": []
   },
   "source": [
    "## Group Activity Problem 5\n",
    "\n",
    "Create a method called `__contains__` that otherwise is the same as your `search` method.\n",
    "\n",
    "This allow you to write code as below. Discuss in your group what the difference is between these two approaches."
   ]
  },
  {
   "cell_type": "code",
   "execution_count": null,
   "id": "86a59726-550e-4efe-b0f8-c41094494d8d",
   "metadata": {},
   "outputs": [],
   "source": [
    "my_list = UnorderedList()\n",
    "\n",
    "my_list.add(31)\n",
    "my_list.add(77)\n",
    "my_list.add(17)\n",
    "my_list.add(93)\n",
    "my_list.add(26)\n",
    "my_list.add(54)\n",
    "print(my_list)\n",
    "\n",
    "print( 17 in my_list ) #should print True\n",
    "print( 34 in my_list ) #should print False"
   ]
  },
  {
   "cell_type": "markdown",
   "id": "971cd6eb-a6f5-4ea2-8f97-c955209c9b12",
   "metadata": {
    "editable": true,
    "slideshow": {
     "slide_type": "slide"
    },
    "tags": []
   },
   "source": [
    "## Group Activity Problem 6\n",
    "\n",
    "What is the Big O of `get`/`__getitem__` and `search`/`__contains__`?"
   ]
  },
  {
   "cell_type": "markdown",
   "id": "db10096a-d290-4594-a666-c1a36dbf3b98",
   "metadata": {},
   "source": [
    "## Group Activity Problem 7\n",
    "\n",
    "What things from the ADT do we still have left to implement? Write down a to-do list."
   ]
  },
  {
   "cell_type": "markdown",
   "id": "643924e5-e9df-4a36-a0db-e1563064d6f5",
   "metadata": {},
   "source": [
    "## Group Activity Problem 8\n",
    "\n",
    "Take a look at the implementation of the `size` method in the book ([https://runestone.academy/ns/books/published/pythonds/BasicDS/ImplementinganUnorderedListLinkedLists.html](https://runestone.academy/ns/books/published/pythonds/BasicDS/ImplementinganUnorderedListLinkedLists.html)). What is the Big O of that approach?"
   ]
  },
  {
   "cell_type": "markdown",
   "id": "ec059ff8-be2c-4be0-9ed6-258b708852ba",
   "metadata": {
    "editable": true,
    "slideshow": {
     "slide_type": "slide"
    },
    "tags": []
   },
   "source": [
    "## Group Activity Problem 9\n",
    "\n",
    "I claim that it is possible to do `size` in $O(1)$ time. Discuss ideas for how you might pull that off."
   ]
  },
  {
   "cell_type": "markdown",
   "id": "8ea5aae6-62d6-4865-8173-239929143731",
   "metadata": {},
   "source": [
    "## Group Activity Problem 10\n",
    "\n",
    "Come up with a strategy for how you would implement `append` - just describe the approach, you don't actually have to code it up. What would the Big O of that approach be? Can you think of any ways to improve it?"
   ]
  },
  {
   "cell_type": "markdown",
   "id": "559544ec-e0f7-418a-917d-dbcef48f64a5",
   "metadata": {
    "editable": true,
    "slideshow": {
     "slide_type": ""
    },
    "tags": []
   },
   "source": [
    "## Group Activity Problem 11\n",
    "\n",
    "How do the complexities of the methods we've discussed so far compare with the complexities of Python lists ([https://runestone.academy/ns/books/published/pythonds/AlgorithmAnalysis/Lists.html](https://runestone.academy/ns/books/published/pythonds/AlgorithmAnalysis/Lists.html) )? Which things are the same? Which things are Python lists better at? Which things are linked lists better at?"
   ]
  },
  {
   "cell_type": "markdown",
   "id": "78a1e746-da2e-46bc-ab09-9b2b85d03260",
   "metadata": {
    "editable": true,
    "slideshow": {
     "slide_type": "slide"
    },
    "tags": []
   },
   "source": [
    "# Announcements:\n"
   ]
  },
  {
   "cell_type": "markdown",
   "id": "0f4e6aa0-e918-4025-8b67-8787a6c7bed9",
   "metadata": {
    "editable": true,
    "jp-MarkdownHeadingCollapsed": true,
    "slideshow": {
     "slide_type": "fragment"
    },
    "tags": []
   },
   "source": [
    "### Grading:\n",
    "- Midterm grades are posted,\n",
    "    - $grade = 0.8*assignments + 0.2*exam$\n",
    "- I'll accept late work, if codePost won't let you resubmit, send me an email with your code and I can do it."
   ]
  },
  {
   "cell_type": "markdown",
   "id": "8c3d3dca-f414-4506-85a4-af4bf248e15d",
   "metadata": {
    "editable": true,
    "slideshow": {
     "slide_type": "fragment"
    },
    "tags": []
   },
   "source": [
    "### Assignments:\n",
    "- [Assignment #8: `PlayingCard` and `Deck`](https://analytics.drake.edu/~moore/CS66-F24/Assignment8.html) due tonight by 11:59pm."
   ]
  }
 ],
 "metadata": {
  "kernelspec": {
   "display_name": "Python 3 (ipykernel)",
   "language": "python",
   "name": "python3"
  },
  "language_info": {
   "codemirror_mode": {
    "name": "ipython",
    "version": 3
   },
   "file_extension": ".py",
   "mimetype": "text/x-python",
   "name": "python",
   "nbconvert_exporter": "python",
   "pygments_lexer": "ipython3",
   "version": "3.12.4"
  }
 },
 "nbformat": 4,
 "nbformat_minor": 5
}
