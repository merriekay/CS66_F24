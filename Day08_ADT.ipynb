{
  "cells": [
    {
      "cell_type": "markdown",
      "metadata": {
        "id": "view-in-github",
        "colab_type": "text"
      },
      "source": [
        "<a href=\"https://colab.research.google.com/github/merriekay/CS66_F24/blob/main/Day08_ADT.ipynb\" target=\"_parent\"><img src=\"https://colab.research.google.com/assets/colab-badge.svg\" alt=\"Open In Colab\"/></a>"
      ]
    },
    {
      "cell_type": "markdown",
      "id": "e372e8f4-9270-4fa7-9950-eb86f24c0664",
      "metadata": {
        "editable": true,
        "tags": [],
        "id": "e372e8f4-9270-4fa7-9950-eb86f24c0664"
      },
      "source": [
        "# Abstract Data Types (ADTs)\n",
        "## Day08\n",
        "\n",
        "### CS66: Introduction to Computer Science II | Fall 2024\n",
        "\n",
        "Tuesday, September 17th, 2024\n",
        "\n",
        "### Helpful Resources:\n",
        "[📜 Syllabus](https://docs.google.com/document/d/1lnkmnAm0tfw2ybqhS01ylSqKfkOcAAkmrrZUuDjwHuU/edit?usp=drive_link) | [📬 CodePost Login](https://codepost.io/login) | [📆 Schedule](https://docs.google.com/spreadsheets/d/1FW9s8S04zqpOaA13JyrlNPszk5D-H9dBi7xX6o5VpgY/edit?usp=drive_link) | [🙋‍♂️ PollEverywhere](https://pollev.com/moore) | [🪴 Office Hour Sign-Up](https://calendly.com/meredith-moore/office-hours)"
      ]
    },
    {
      "cell_type": "markdown",
      "id": "9514af9c-6d5d-46a2-9596-6c9ca0def764",
      "metadata": {
        "editable": true,
        "tags": [],
        "id": "9514af9c-6d5d-46a2-9596-6c9ca0def764"
      },
      "source": [
        "# Announcements\n",
        "\n",
        "You should be working on:\n",
        "- [Assignment #4](https://analytics.drake.edu/~moore/CS66-F24/Assignment4.html) is due tonight by 11:59 pm\n",
        "- [Assignment #5](https://analytics.drake.edu/~moore/CS66-F24/Assignment5.html) is released today, due Tuesday, 10/1 by 11:59 pm (to codePost)\n",
        "\n",
        "Exam 1 details coming soon..."
      ]
    },
    {
      "cell_type": "markdown",
      "id": "46d74971-46dd-4a7c-9cad-7018b5ff3ae8",
      "metadata": {
        "editable": true,
        "tags": [],
        "id": "46d74971-46dd-4a7c-9cad-7018b5ff3ae8"
      },
      "source": [
        "# References for this lecture\n",
        "\n",
        "_Why Study Data Structures and Abstract Data Types?_ Problem Solving with Algorithms and Data Structures using Python, Section 1.5: [https://runestone.academy/ns/books/published/pythonds/Introduction/WhyStudyDataStructuresandAbstractDataTypes.html](https://runestone.academy/ns/books/published/pythonds/Introduction/WhyStudyDataStructuresandAbstractDataTypes.html)\n",
        "\n",
        "_The __Unordered List__ Abstract Data Type_ Problem Solving with Algorithms and Data Structures using Python, Section 4.20: [https://runestone.academy/ns/books/published/pythonds/BasicDS/TheUnorderedListAbstractDataType.html](https://runestone.academy/ns/books/published/pythonds/BasicDS/TheUnorderedListAbstractDataType.html)\n",
        "\n",
        "_Implementing the __Map__ Abstract Data Type_ Problem Solving with Algorithms and Data Structures using Python, Section 6.5.3: [https://runestone.academy/ns/books/published/pythonds/SortSearch/Hashing.html#implementing-the-map-abstract-data-type](https://runestone.academy/ns/books/published/pythonds/SortSearch/Hashing.html#implementing-the-map-abstract-data-type)\n",
        "\n",
        "_The __Stack__ Abstract Data Type_ Problem Solving with Algorithms and Data Structures using Python, Section 4.4: [https://runestone.academy/ns/books/published/pythonds/BasicDS/TheStackAbstractDataType.html](https://runestone.academy/ns/books/published/pythonds/BasicDS/TheStackAbstractDataType.html)\n",
        "\n",
        "_The __Queue__ Abstract Data Type_ Problem Solving with Algorithms and Data Structures using Python, Section 4.11:\n",
        "[https://runestone.academy/ns/books/published/pythonds/BasicDS/TheQueueAbstractDataType.html](https://runestone.academy/ns/books/published/pythonds/BasicDS/TheQueueAbstractDataType.html)\n"
      ]
    },
    {
      "cell_type": "markdown",
      "id": "b3bfc787-4c11-42bd-8f26-3f37116fddb8",
      "metadata": {
        "id": "b3bfc787-4c11-42bd-8f26-3f37116fddb8"
      },
      "source": [
        "## Abstract Data Types\n",
        "\n",
        "Definition from the [textbook](https://runestone.academy/ns/books/published/pythonds/Introduction/WhyStudyDataStructuresandAbstractDataTypes.html):\n",
        "\n",
        "> An __abstract data type__, sometimes abbreviated __ADT__, is a logical description of how we view the data and the operations that are allowed without regard to how they will be implemented."
      ]
    },
    {
      "cell_type": "markdown",
      "id": "f60f2085-4e38-4c3b-85b5-6d053a2efd2d",
      "metadata": {
        "editable": true,
        "tags": [],
        "id": "f60f2085-4e38-4c3b-85b5-6d053a2efd2d"
      },
      "source": [
        "Let's break this down:\n",
        "* _logical description of ... data and the operations_: it tells you...\n",
        "    * what the data type should do\n",
        "    * how it will behave\n",
        "    * what kind of methods you can call on it"
      ]
    },
    {
      "cell_type": "markdown",
      "id": "8cb37e25-eaec-4cb2-a42a-2059e7ea0c38",
      "metadata": {
        "editable": true,
        "tags": [],
        "id": "8cb37e25-eaec-4cb2-a42a-2059e7ea0c38"
      },
      "source": [
        "* _without regard to how they will be implemented_: there are many ways we could write the class...\n",
        "    * all _behave_ the same way -\n",
        "    * all would have the same methods\n",
        "    * internally could be organized differently\n",
        "    * some might be faster, slower, or take more/less memory (could vary from method to method)\n"
      ]
    },
    {
      "cell_type": "markdown",
      "id": "6d6d4367-9600-46e5-987d-745b3f149f27",
      "metadata": {
        "editable": true,
        "tags": [],
        "id": "6d6d4367-9600-46e5-987d-745b3f149f27"
      },
      "source": [
        "## Unordered List ADT\n",
        "\n",
        "The textbook definition of an [__unordered list__](https://runestone.academy/ns/books/published/drake_pythonds_fall24/BasicDS/TheUnorderedListAbstractDataType.html)\n",
        "* collection of items\n",
        "* items have _position_\n",
        "* items are _not sorted_\n",
        "\n",
        "(a list that automatically stays sorted is called an __ordered list__)"
      ]
    },
    {
      "cell_type": "markdown",
      "id": "2a11ba3a-c7ed-4215-ae20-715e46032521",
      "metadata": {
        "editable": true,
        "tags": [],
        "id": "2a11ba3a-c7ed-4215-ae20-715e46032521"
      },
      "source": [
        "Here's how they define the unordered list operations:\n",
        "\n",
        "> * `List()` creates a new list that is empty. It needs no parameters and returns an empty list.\n",
        "> * `add(item)` adds a new item to the list. It needs the item and returns nothing. Assume the item is not already in the list.\n",
        "> * `remove(item)` removes the item from the list. It needs the item and modifies the list. Assume the item is present in the list.\n",
        "> * `search(item)` searches for the item in the list. It needs the item and returns a boolean value.\n",
        "> * `isEmpty()` tests to see whether the list is empty. It needs no parameters and returns a boolean value.\n",
        "> * `size()` returns the number of items in the list. It needs no parameters and returns an integer."
      ]
    },
    {
      "cell_type": "markdown",
      "id": "4f2ad1ee-dea7-4321-922c-5be08fbda9cd",
      "metadata": {
        "editable": true,
        "tags": [],
        "id": "4f2ad1ee-dea7-4321-922c-5be08fbda9cd"
      },
      "source": [
        "> * `append(item)` adds a new item to the end of the list making it the last item in the collection. It needs the item and returns nothing. Assume the item is not already in the list.\n",
        "> * `index(item)` returns the position of item in the list. It needs the item and returns the index. Assume the item is in the list.\n",
        "> * `insert(pos,item)` adds a new item to the list at position pos. It needs the item and returns nothing. Assume the item is not already in the list and there are enough existing items to have position pos.\n",
        "> * `pop()` removes and returns the last item in the list. It needs nothing and returns an item. Assume the list has at least one item.\n",
        "> * `pop(pos)` removes and returns the item at position pos. It needs the position and returns the item. Assume the item is in the list."
      ]
    },
    {
      "cell_type": "markdown",
      "id": "0a444eee-d840-4869-aaa9-554cce0bf709",
      "metadata": {
        "editable": true,
        "tags": [],
        "id": "0a444eee-d840-4869-aaa9-554cce0bf709"
      },
      "source": [
        "Let's take operations one by one and see examples of how Python's built-in list type could meet this description"
      ]
    },
    {
      "cell_type": "markdown",
      "id": "863eb1a2-272c-4004-81a5-1d652e5fc484",
      "metadata": {
        "editable": true,
        "tags": [],
        "id": "863eb1a2-272c-4004-81a5-1d652e5fc484"
      },
      "source": [
        "`List()` creates a new list that is empty. It needs no parameters and returns an empty list."
      ]
    },
    {
      "cell_type": "code",
      "execution_count": null,
      "id": "1bee9980-28eb-41eb-9536-21551b7a7fc8",
      "metadata": {
        "editable": true,
        "tags": [],
        "id": "1bee9980-28eb-41eb-9536-21551b7a7fc8"
      },
      "outputs": [],
      "source": [
        "my_list = [] #creates an empty list"
      ]
    },
    {
      "cell_type": "markdown",
      "id": "66be2dee-c22e-4a59-a48a-123b3bfdb8cc",
      "metadata": {
        "editable": true,
        "tags": [],
        "id": "66be2dee-c22e-4a59-a48a-123b3bfdb8cc"
      },
      "source": [
        "`add(item)` adds a new item to the list. It needs the item and returns nothing. Assume the item is not already in the list.\n",
        "\n",
        "_Assumption:_ I think they mean the new item goes into the front of the list"
      ]
    },
    {
      "cell_type": "code",
      "execution_count": null,
      "id": "71c84a4b-04dd-4709-8fe1-f069c455e339",
      "metadata": {
        "editable": true,
        "tags": [],
        "id": "71c84a4b-04dd-4709-8fe1-f069c455e339",
        "outputId": "eaca8b21-ae01-4471-ed1a-d5ee7e650393"
      },
      "outputs": [
        {
          "name": "stdout",
          "output_type": "stream",
          "text": [
            "[10, 1, 2, 3, 4, 5]\n"
          ]
        }
      ],
      "source": [
        "my_list = [1,2,3,4,5]\n",
        "item = 10\n",
        "my_list.insert(0,item) #adds it to the beginning of the list\n",
        "print(my_list)"
      ]
    },
    {
      "cell_type": "markdown",
      "id": "d7e502f2-cb3c-452a-b94a-fe1a10c2a0a7",
      "metadata": {
        "editable": true,
        "tags": [],
        "id": "d7e502f2-cb3c-452a-b94a-fe1a10c2a0a7"
      },
      "source": [
        "`remove(item)` removes the item from the list. It needs the item and modifies the list. Assume the item is present in the list."
      ]
    },
    {
      "cell_type": "code",
      "execution_count": null,
      "id": "833c8cc0-a420-4d1f-96da-65cd90164de0",
      "metadata": {
        "editable": true,
        "tags": [],
        "id": "833c8cc0-a420-4d1f-96da-65cd90164de0",
        "outputId": "571b0fb6-fc98-4354-a257-d90f463c99fd"
      },
      "outputs": [
        {
          "name": "stdout",
          "output_type": "stream",
          "text": [
            "[10, 1, 2, 3, 5]\n"
          ]
        }
      ],
      "source": [
        "item = 4\n",
        "my_list.remove(item) #this one matches exactly\n",
        "print(my_list)"
      ]
    },
    {
      "cell_type": "markdown",
      "id": "ce66651f-0ad7-427f-9b2d-2d6333335e7e",
      "metadata": {
        "editable": true,
        "tags": [],
        "id": "ce66651f-0ad7-427f-9b2d-2d6333335e7e"
      },
      "source": [
        "`search(item)` searches for the item in the list. It needs the item and returns a boolean value."
      ]
    },
    {
      "cell_type": "code",
      "execution_count": null,
      "id": "f04dc56c-c7d4-48e2-ba00-d607d806c44b",
      "metadata": {
        "editable": true,
        "tags": [],
        "id": "f04dc56c-c7d4-48e2-ba00-d607d806c44b",
        "outputId": "77f1632c-41ee-441e-d51f-3462927a37d4"
      },
      "outputs": [
        {
          "name": "stdout",
          "output_type": "stream",
          "text": [
            "True\n"
          ]
        }
      ],
      "source": [
        "my_list = [10, 1, 2, 3, 5]\n",
        "item = 3\n",
        "print( item in my_list)"
      ]
    },
    {
      "cell_type": "markdown",
      "id": "aaeafbf4-5d9d-4b16-95ea-2d328eaea9cf",
      "metadata": {
        "editable": true,
        "tags": [],
        "id": "aaeafbf4-5d9d-4b16-95ea-2d328eaea9cf"
      },
      "source": [
        "`isEmpty()` tests to see whether the list is empty. It needs no parameters and returns a boolean value."
      ]
    },
    {
      "cell_type": "code",
      "execution_count": null,
      "id": "36b0e62c-2db6-4f80-8219-89af96306073",
      "metadata": {
        "id": "36b0e62c-2db6-4f80-8219-89af96306073",
        "outputId": "caed0ea2-d82b-498c-ae06-272ef88a136e"
      },
      "outputs": [
        {
          "name": "stdout",
          "output_type": "stream",
          "text": [
            "False\n"
          ]
        }
      ],
      "source": [
        "my_list = [10, 1, 2, 3, 5]\n",
        "print( my_list == [] )"
      ]
    },
    {
      "cell_type": "markdown",
      "id": "52abf3a0-8db6-4c37-8d4a-12ae516e81a5",
      "metadata": {
        "editable": true,
        "tags": [],
        "id": "52abf3a0-8db6-4c37-8d4a-12ae516e81a5"
      },
      "source": [
        "`size()` returns the number of items in the list. It needs no parameters and returns an integer."
      ]
    },
    {
      "cell_type": "code",
      "execution_count": null,
      "id": "36742e90-ec06-4349-8649-d144a62b10e2",
      "metadata": {
        "id": "36742e90-ec06-4349-8649-d144a62b10e2",
        "outputId": "0316e5a2-d396-4036-d4c2-60d60c626b63"
      },
      "outputs": [
        {
          "name": "stdout",
          "output_type": "stream",
          "text": [
            "5\n"
          ]
        }
      ],
      "source": [
        "print( len(my_list) )"
      ]
    },
    {
      "cell_type": "markdown",
      "id": "d0d5f08d-9f58-4a28-9949-3f17740a803d",
      "metadata": {
        "editable": true,
        "tags": [],
        "id": "d0d5f08d-9f58-4a28-9949-3f17740a803d"
      },
      "source": [
        "`append(item)` adds a new item to the end of the list making it the last item in the collection. It needs the item and returns nothing. Assume the item is not already in the list."
      ]
    },
    {
      "cell_type": "code",
      "execution_count": null,
      "id": "346edf4e-2a02-4f80-91ab-be673c23a5d2",
      "metadata": {
        "editable": true,
        "tags": [],
        "id": "346edf4e-2a02-4f80-91ab-be673c23a5d2",
        "outputId": "fb83b505-aa10-4b50-9817-2c5f38572b94"
      },
      "outputs": [
        {
          "name": "stdout",
          "output_type": "stream",
          "text": [
            "[10, 1, 2, 3, 5, 42]\n"
          ]
        }
      ],
      "source": [
        "my_list = [10, 1, 2, 3, 5]\n",
        "item = 42\n",
        "my_list.append(item) #works exactly like the description\n",
        "print(my_list)"
      ]
    },
    {
      "cell_type": "markdown",
      "id": "3fe4e93d-15cb-41be-bfba-c65f719c8638",
      "metadata": {
        "editable": true,
        "tags": [],
        "id": "3fe4e93d-15cb-41be-bfba-c65f719c8638"
      },
      "source": [
        "`index(item)` returns the position of item in the list. It needs the item and returns the index. Assume the item is in the list."
      ]
    },
    {
      "cell_type": "code",
      "execution_count": null,
      "id": "ad7c1a34-666a-4839-9ecd-532c841ba761",
      "metadata": {
        "id": "ad7c1a34-666a-4839-9ecd-532c841ba761",
        "outputId": "dec48e21-1efc-4d46-b47d-922ad0276af0"
      },
      "outputs": [
        {
          "name": "stdout",
          "output_type": "stream",
          "text": [
            "3\n"
          ]
        }
      ],
      "source": [
        "my_list = [10, 1, 2, 3, 5, 42]\n",
        "item = 3\n",
        "print( my_list.index(item) ) #works exactly like the description"
      ]
    },
    {
      "cell_type": "markdown",
      "id": "dd03b3e1-a6ad-4443-aef9-58fd9eddc70a",
      "metadata": {
        "editable": true,
        "tags": [],
        "id": "dd03b3e1-a6ad-4443-aef9-58fd9eddc70a"
      },
      "source": [
        "`insert(pos,item)` adds a new item to the list at position pos. It needs the item and returns nothing. Assume the item is not already in the list and there are enough existing items to have position pos."
      ]
    },
    {
      "cell_type": "code",
      "execution_count": null,
      "id": "89047f01-312e-4ad7-ba14-ba926b3d11e7",
      "metadata": {
        "id": "89047f01-312e-4ad7-ba14-ba926b3d11e7",
        "outputId": "f291270e-50c7-4d53-f05d-d74363758904"
      },
      "outputs": [
        {
          "name": "stdout",
          "output_type": "stream",
          "text": [
            "[10, 1, 88, 2, 3, 5, 42]\n"
          ]
        }
      ],
      "source": [
        "my_list = my_list = [10, 1, 2, 3, 5, 42]\n",
        "item = 88\n",
        "pos = 2\n",
        "my_list.insert(pos,item) #works exactly like the description\n",
        "print(my_list)"
      ]
    },
    {
      "cell_type": "markdown",
      "id": "34ffb1d5-dcfc-43ab-a503-00787b5bfac0",
      "metadata": {
        "editable": true,
        "tags": [],
        "id": "34ffb1d5-dcfc-43ab-a503-00787b5bfac0"
      },
      "source": [
        "`pop()` removes and returns the last item in the list. It needs nothing and returns an item. Assume the list has at least one item."
      ]
    },
    {
      "cell_type": "code",
      "execution_count": null,
      "id": "be504edd-db95-4144-96ff-73d7e4afed0c",
      "metadata": {
        "id": "be504edd-db95-4144-96ff-73d7e4afed0c",
        "outputId": "b99ca1ef-ad76-4d39-aa18-aa6527ddc153"
      },
      "outputs": [
        {
          "name": "stdout",
          "output_type": "stream",
          "text": [
            "42\n",
            "[10, 1, 2, 3, 5]\n"
          ]
        }
      ],
      "source": [
        "my_list = my_list = [10, 1, 2, 3, 5, 42]\n",
        "print(my_list.pop()) #works exactly like the description\n",
        "print(my_list)"
      ]
    },
    {
      "cell_type": "markdown",
      "id": "557e3893-adf6-4e9e-b7c3-225a12cd7e5d",
      "metadata": {
        "editable": true,
        "tags": [],
        "id": "557e3893-adf6-4e9e-b7c3-225a12cd7e5d"
      },
      "source": [
        "`pop(pos)` removes and returns the item at position pos. It needs the position and returns the item. Assume the item is in the list."
      ]
    },
    {
      "cell_type": "code",
      "execution_count": null,
      "id": "702aa93b-c20b-46a9-828b-4c2aff8f7384",
      "metadata": {
        "id": "702aa93b-c20b-46a9-828b-4c2aff8f7384",
        "outputId": "d0a81f70-2f22-4f5a-cf23-82b01b7bb5c7"
      },
      "outputs": [
        {
          "name": "stdout",
          "output_type": "stream",
          "text": [
            "2\n",
            "[10, 1, 88, 3, 5]\n"
          ]
        }
      ],
      "source": [
        "my_list = [10, 1, 88, 2, 3, 5]\n",
        "print(my_list.pop(3)) #works exactly like the description\n",
        "print(my_list)"
      ]
    },
    {
      "cell_type": "markdown",
      "id": "1ca21ab8-4db1-44d7-84a2-81c875f3aaf6",
      "metadata": {
        "id": "1ca21ab8-4db1-44d7-84a2-81c875f3aaf6"
      },
      "source": [
        "Later, we'll see how to create a class to define a new type where we can implement the this ADT description exactly as it is written."
      ]
    },
    {
      "cell_type": "markdown",
      "id": "c393a408-679a-40a8-be12-6f788ddf2b96",
      "metadata": {
        "editable": true,
        "tags": [],
        "id": "c393a408-679a-40a8-be12-6f788ddf2b96"
      },
      "source": [
        "## Map ADT\n",
        "\n",
        "A __map__ is a data type that stores key-value pairs - use the _key_ to look up a _data value_\n",
        "\n",
        "The [textbook](https://runestone.academy/ns/books/published/pythonds/SortSearch/Hashing.html#implementing-the-map-abstract-data-type) describes the map as\n",
        "\n",
        "\n",
        "\n",
        "> * `Map()` Create a new, empty map. It returns an empty map collection.\n",
        "> * `put(key,val)` Add a new key-value pair to the map. If the key is already in the map then replace the old value with the new value.\n",
        "> * `get(key)` Given a key, return the value stored in the map or `None` otherwise.\n",
        "> * `del` Delete the key-value pair from the map using a statement of the form `del map[key]`.\n",
        "> * `len()` Return the number of key-value pairs stored in the map.\n",
        "> * `in `Return `True` for a statement of the form `key in map`, if the given key is in the map, `False` otherwise.\n"
      ]
    },
    {
      "cell_type": "markdown",
      "id": "a32a0a9b-ec63-493e-aafa-9e8128db7340",
      "metadata": {
        "editable": true,
        "tags": [],
        "id": "a32a0a9b-ec63-493e-aafa-9e8128db7340"
      },
      "source": [
        "## Group Activity Problem 1\n",
        "\n",
        "Give examples that show how a Python dictionary meets this definition of a __map__."
      ]
    },
    {
      "cell_type": "markdown",
      "id": "80fffb18-ccbf-4cc0-b131-0da1c8e44530",
      "metadata": {
        "editable": true,
        "tags": [],
        "id": "80fffb18-ccbf-4cc0-b131-0da1c8e44530"
      },
      "source": [
        "## Queue\n",
        "\n",
        "\n",
        "A __Queue__ is an _abstract data type_ (ADT) which provides __First-In, First-Out__ (FIFO) access to a collection of objects.\n",
        "\n",
        "\n",
        "![queue.jpg](attachment:queue.jpg)\n",
        "\n"
      ]
    },
    {
      "cell_type": "markdown",
      "id": "f2a18775-e445-4cc8-a85d-af69aae29a9b",
      "metadata": {
        "editable": true,
        "tags": [],
        "id": "f2a18775-e445-4cc8-a85d-af69aae29a9b"
      },
      "source": [
        "## Queue uses\n",
        "\n",
        "Queues are useful for solving many different kinds of problems\n",
        "* Real-world lines, restaurant software for serving customers, etc.\n",
        "* Scheduling computing resources (e.g., print queue, processes waiting for CPU, etc.)\n"
      ]
    },
    {
      "cell_type": "markdown",
      "id": "35368ade-9149-4ab4-8243-100b0d9291c4",
      "metadata": {
        "editable": true,
        "tags": [],
        "id": "35368ade-9149-4ab4-8243-100b0d9291c4"
      },
      "source": [
        "## Queue Operations\n",
        "\n",
        "These are the following operations that all queues should have:\n",
        "\n",
        "* `Queue()` creates a new queue that is empty. It needs no parameters and returns an empty queue.\n",
        "* `enqueue(item)` adds a new item to the _back_ of the queue. It needs the item and returns nothing.\n",
        "* `dequeue()` removes the item at the _front_ of the queue. It needs no parameters and returns the item. The queue is modified.\n",
        "* `isEmpty()` tests to see whether the queue is empty. It needs no parameters and returns a boolean value.\n",
        "* `size()` returns the number of items in the queue. It needs no parameters and returns an integer.\n",
        "\n",
        "### Variant: fixed-size\n",
        "\n",
        "Some queues might have a limited number of spots, so you might also have an `isFull()` method.\n"
      ]
    },
    {
      "cell_type": "markdown",
      "id": "0829d20d-033c-4e5a-862e-c8d5c2d06ea5",
      "metadata": {
        "editable": true,
        "tags": [],
        "id": "0829d20d-033c-4e5a-862e-c8d5c2d06ea5"
      },
      "source": [
        "## Example\n",
        "\n",
        "Let's see how a queue changes as we perform some of these operations.\n",
        "\n",
        "First, install the `pythonds` module, which has implementations for many of the ADTs from the textbook.\n",
        "\n",
        "```shell\n",
        "python3 -m pip install pythonds\n",
        "```\n",
        "or\n",
        "```shell\n",
        "pip install pythonds\n",
        "```\n",
        "or\n",
        "```shell\n",
        "pip3 install pythonds\n",
        "```"
      ]
    },
    {
      "cell_type": "code",
      "execution_count": null,
      "id": "50cab577-94ec-46b9-9fe7-9ecfe16b9a03",
      "metadata": {
        "editable": true,
        "tags": [],
        "id": "50cab577-94ec-46b9-9fe7-9ecfe16b9a03",
        "outputId": "254e0b2c-833b-46af-a9a2-28f77d777250"
      },
      "outputs": [
        {
          "data": {
            "text/plain": [
              "2"
            ]
          },
          "execution_count": 10,
          "metadata": {},
          "output_type": "execute_result"
        }
      ],
      "source": [
        "from pythonds.basic import Queue\n",
        "\n",
        "the_queue = Queue()\n",
        "\n",
        "the_queue.isEmpty()\n",
        "the_queue.enqueue(\"A\")\n",
        "the_queue.enqueue(\"B\")\n",
        "the_queue.size()\n",
        "the_queue.enqueue(\"C\")\n",
        "the_queue.dequeue()\n",
        "the_queue.enqueue(\"D\")\n",
        "the_queue.enqueue(\"E\")\n",
        "the_queue.isEmpty()\n",
        "the_queue.size()\n",
        "the_queue.dequeue()\n",
        "the_queue.dequeue()\n",
        "the_queue.dequeue()\n",
        "the_queue.enqueue(\"F\")\n",
        "the_queue.size()"
      ]
    },
    {
      "cell_type": "markdown",
      "id": "164a6eef-ac14-4b59-a55d-33b0785116cd",
      "metadata": {
        "editable": true,
        "tags": [],
        "id": "164a6eef-ac14-4b59-a55d-33b0785116cd"
      },
      "source": [
        "## Group Activity Problem 2\n",
        "\n",
        "Before running the code below, manually step through it line by line and write down what values are in the queue.\n",
        "\n",
        "What do you think will be printed by this code?\n",
        "\n",
        "After you have come to an agreement, run the code and see if you were right."
      ]
    },
    {
      "cell_type": "code",
      "execution_count": null,
      "id": "24bc3bfb-0ab5-4180-a412-1c0258e4e97e",
      "metadata": {
        "editable": true,
        "tags": [],
        "id": "24bc3bfb-0ab5-4180-a412-1c0258e4e97e"
      },
      "outputs": [],
      "source": [
        "from pythonds.basic import Queue\n",
        "\n",
        "my_q = Queue()\n",
        "my_q.enqueue(4)\n",
        "my_q.enqueue(7)\n",
        "my_q.enqueue(11)\n",
        "my_q.dequeue()\n",
        "my_q.enqueue(8)\n",
        "my_q.dequeue()\n",
        "my_q.enqueue(5)\n",
        "my_q.enqueue(9)\n",
        "\n",
        "print(\"Size:\",my_q.size())\n",
        "\n",
        "while not my_q.isEmpty():\n",
        "    print(my_q.dequeue())"
      ]
    },
    {
      "cell_type": "markdown",
      "id": "4232b04b-b022-4769-8b8b-3cf12ca580b5",
      "metadata": {
        "editable": true,
        "tags": [],
        "id": "4232b04b-b022-4769-8b8b-3cf12ca580b5"
      },
      "source": [
        "## Stacks\n",
        "\n",
        "A __Stack__ is an _abstract data type_ (ADT) which provides __Last-In, First-Out__ (LIFO) access to a collection of objects.\n",
        "\n",
        "![stacks.png](https://github.com/merriekay/CS66_F24/blob/main/stacks.png?raw=1)\n"
      ]
    },
    {
      "cell_type": "markdown",
      "id": "8aa73a1e-9932-4104-9c8a-dc1a953ce54e",
      "metadata": {
        "editable": true,
        "tags": [],
        "id": "8aa73a1e-9932-4104-9c8a-dc1a953ce54e"
      },
      "source": [
        "## Stack uses\n",
        "\n",
        "Stacks are useful for solving many different kinds of problems\n",
        "* Real-world objects (e.g., deck of cards, etc.)\n",
        "* Parsing nested structures (e.g., matching parentheses, html tags, etc.)\n",
        "* Keeping track of nested function calls\n",
        "\n",
        "![platestack5.jpg](attachment:platestack5.jpg)"
      ]
    },
    {
      "cell_type": "markdown",
      "id": "0cb9a685-a116-4965-a90a-26972c1673f4",
      "metadata": {
        "editable": true,
        "tags": [],
        "id": "0cb9a685-a116-4965-a90a-26972c1673f4"
      },
      "source": [
        "## Stack Operations\n",
        "\n",
        "These are the following operations that all stacks should have:\n",
        "\n",
        "* `Stack()` creates a new stack that is empty. It needs no parameters and returns an empty stack.\n",
        "* `push(item)` adds a new item to the top of the stack. It needs the item and returns nothing.\n",
        "* `pop()` removes the top item from the stack. It needs no parameters and returns the item. The stack is modified.\n",
        "* `peek()` returns the top item from the stack but _does not remove it_. It needs no parameters. The stack is not modified.\n",
        "* `isEmpty()` tests to see whether the stack is empty. It needs no parameters and returns a boolean value.\n",
        "* `size()` returns the number of items on the stack. It needs no parameters and returns an integer.\n"
      ]
    },
    {
      "cell_type": "markdown",
      "id": "72015e31-eee1-40d4-8059-b277c946ca80",
      "metadata": {
        "editable": true,
        "tags": [],
        "id": "72015e31-eee1-40d4-8059-b277c946ca80"
      },
      "source": [
        "## Example\n",
        "\n",
        "Let's see how a stack changes as we perform some of these operations."
      ]
    },
    {
      "cell_type": "code",
      "execution_count": null,
      "id": "74d92f85-8c42-420f-b494-7feccaa0c23b",
      "metadata": {
        "id": "74d92f85-8c42-420f-b494-7feccaa0c23b"
      },
      "outputs": [],
      "source": [
        "from pythonds.basic import Stack\n",
        "\n",
        "the_stack = Stack()\n",
        "the_stack.isEmpty()\n",
        "the_stack.push(\"A\")\n",
        "the_stack.push(\"B\")\n",
        "the_stack.size()\n",
        "the_stack.push(\"C\")\n",
        "the_stack.pop()\n",
        "the_stack.peek()\n",
        "the_stack.push(\"D\")\n",
        "the_stack.push(\"E\")\n",
        "the_stack.isEmpty()\n",
        "the_stack.size()\n",
        "the_stack.pop()\n",
        "the_stack.pop()\n",
        "the_stack.pop()\n",
        "the_stack.push(\"F\")\n",
        "the_stack.size()"
      ]
    },
    {
      "cell_type": "markdown",
      "id": "5c4d8cd4-c06a-49f9-a5b5-c91eed8e073f",
      "metadata": {
        "editable": true,
        "tags": [],
        "id": "5c4d8cd4-c06a-49f9-a5b5-c91eed8e073f"
      },
      "source": [
        "## Group Activity Problem 3\n",
        "\n",
        "Before running the code below, manually step through it line by line and write down what values are in the queue.\n",
        "\n",
        "What do you think will be printed by this code?\n",
        "\n",
        "After you have come to an agreement, run the code and see if you were right."
      ]
    },
    {
      "cell_type": "code",
      "execution_count": null,
      "id": "0814a232-dd17-4e45-b1d7-4affcec033a1",
      "metadata": {
        "editable": true,
        "tags": [],
        "id": "0814a232-dd17-4e45-b1d7-4affcec033a1"
      },
      "outputs": [],
      "source": [
        "from pythonds.basic import Stack\n",
        "\n",
        "my_stk = Stack()\n",
        "my_stk.push(4)\n",
        "my_stk.push(7)\n",
        "my_stk.push(11)\n",
        "my_stk.pop()\n",
        "my_stk.push(8)\n",
        "my_stk.pop()\n",
        "my_stk.push(5)\n",
        "my_stk.push(9)\n",
        "\n",
        "print(\"Size:\",my_stk.size())\n",
        "\n",
        "while not my_stk.isEmpty():\n",
        "    print(my_stk.pop())"
      ]
    },
    {
      "cell_type": "markdown",
      "id": "d5df4b30-5e10-499c-87ad-28650349e6f4",
      "metadata": {
        "editable": true,
        "tags": [],
        "id": "d5df4b30-5e10-499c-87ad-28650349e6f4"
      },
      "source": [
        "## Example Application: reverse\n",
        "\n",
        "We can use a stack to reverse a string.\n",
        "\n",
        "1. Scanning the string from left-to-right, push each character\n",
        "2. Pop each character, adding it onto an accumulator string until the stack is empty"
      ]
    },
    {
      "cell_type": "code",
      "execution_count": null,
      "id": "4e36fac9-eb3b-462c-9695-2a9e65c1960b",
      "metadata": {
        "id": "4e36fac9-eb3b-462c-9695-2a9e65c1960b"
      },
      "outputs": [],
      "source": []
    },
    {
      "cell_type": "code",
      "execution_count": null,
      "id": "a94a1774-a5e9-4b83-96ab-e5150efad598",
      "metadata": {
        "id": "a94a1774-a5e9-4b83-96ab-e5150efad598"
      },
      "outputs": [],
      "source": [
        "from pythonds.basic import Stack\n",
        "\n",
        "def reverse_string(astring):\n",
        "\n",
        "    char_stack = Stack()\n",
        "\n",
        "    for char in astring:\n",
        "        char_stack.push(char)\n",
        "\n",
        "    rev_astring = \"\"\n",
        "\n",
        "    while not char_stack.isEmpty():\n",
        "        rev_astring += char_stack.pop()\n",
        "\n",
        "    return rev_astring\n",
        "\n",
        "print(reverse_string(\"this is a test\"))"
      ]
    },
    {
      "cell_type": "markdown",
      "id": "884efe15-f1d2-4d0b-8d2b-d926bcf142ac",
      "metadata": {
        "editable": true,
        "tags": [],
        "id": "884efe15-f1d2-4d0b-8d2b-d926bcf142ac"
      },
      "source": [
        "## Example Application: Matching parentheses\n",
        "\n",
        "We can use a stack to check for matched sets of parentheses.\n",
        "\n",
        "Some test cases\n",
        "\n",
        "correctly matched:\n",
        "\n",
        "```\n",
        "\"Here is a profound message (plus some less profound words (which are in parentheses))\"\n",
        "\"(()(()))\"\n",
        "\"(()()()())\"\n",
        "\"(((())))\"\n",
        "\"(()((())()))\"\n",
        "```\n",
        "\n",
        "not matched:\n",
        "\n",
        "```\n",
        "\"Here is a profound message (plus some less profound words (which are in parentheses)\"\n",
        "\"()(()()\"\n",
        "\"((((((())\"\n",
        "\"()))\"\n",
        "\"(()()(()\"\n",
        "```"
      ]
    },
    {
      "cell_type": "code",
      "execution_count": null,
      "id": "5b31f6e2-b409-4421-9511-ef8dc8c358b8",
      "metadata": {
        "editable": true,
        "tags": [],
        "id": "5b31f6e2-b409-4421-9511-ef8dc8c358b8"
      },
      "outputs": [],
      "source": [
        "def check_parens(astring):\n",
        "\n",
        "    paren_stack = Stack()\n",
        "\n",
        "    #checking each character in the string\n",
        "    for char in astring:\n",
        "\n",
        "        if char == \"(\":\n",
        "            paren_stack.push(char)\n",
        "\n",
        "        elif char == \")\":\n",
        "            if paren_stack.isEmpty():\n",
        "                return False #there's no ( to match this )\n",
        "            else:\n",
        "                paren_stack.pop()\n",
        "\n",
        "    if paren_stack.isEmpty():\n",
        "        return True #all parens matched\n",
        "    else:\n",
        "        return False #there is an extra ( that was unmatched\n",
        "\n",
        "print( check_parens(\"(()(()))\") )"
      ]
    }
  ],
  "metadata": {
    "kernelspec": {
      "display_name": "Python 3 (ipykernel)",
      "language": "python",
      "name": "python3"
    },
    "language_info": {
      "codemirror_mode": {
        "name": "ipython",
        "version": 3
      },
      "file_extension": ".py",
      "mimetype": "text/x-python",
      "name": "python",
      "nbconvert_exporter": "python",
      "pygments_lexer": "ipython3",
      "version": "3.12.4"
    },
    "colab": {
      "provenance": [],
      "include_colab_link": true
    }
  },
  "nbformat": 4,
  "nbformat_minor": 5
}