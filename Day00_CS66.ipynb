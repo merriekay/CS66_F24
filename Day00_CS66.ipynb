{
  "cells": [
    {
      "cell_type": "markdown",
      "metadata": {
        "id": "view-in-github",
        "colab_type": "text"
      },
      "source": [
        "<a href=\"https://colab.research.google.com/github/merriekay/CS66_F24/blob/main/Day00_CS66.ipynb\" target=\"_parent\"><img src=\"https://colab.research.google.com/assets/colab-badge.svg\" alt=\"Open In Colab\"/></a>"
      ]
    },
    {
      "cell_type": "markdown",
      "id": "0d46457c-bf35-462e-867c-4352baba6497",
      "metadata": {
        "editable": true,
        "tags": [],
        "id": "0d46457c-bf35-462e-867c-4352baba6497"
      },
      "source": [
        "# CS66: Day00\n",
        "\n",
        "## Welcome to CS66!\n",
        "\n",
        "### CS65: Introduction to Computer Science II | Fall 2024\n",
        "\n",
        "Tuesday, August 27th, 2024\n",
        "\n",
        "### Helpful Resources:\n",
        "[📜 Syllabus](https://docs.google.com/document/d/1lnkmnAm0tfw2ybqhS01ylSqKfkOcAAkmrrZUuDjwHuU/edit?usp=drive_link) | [📬 CodePost Login](https://codepost.io/login) | [📆 Schedule](https://docs.google.com/spreadsheets/d/1FW9s8S04zqpOaA13JyrlNPszk5D-H9dBi7xX6o5VpgY/edit?usp=drive_link) | [🙋‍♂️ PollEverywhere](https://pollev.com/moore) | [🪴 Office Hour Sign-Up](https://calendly.com/meredith-moore/office-hours)"
      ]
    },
    {
      "cell_type": "markdown",
      "id": "70994638-ed04-4e4f-ba7e-b70e3f43c012",
      "metadata": {
        "editable": true,
        "tags": [],
        "id": "70994638-ed04-4e4f-ba7e-b70e3f43c012"
      },
      "source": [
        "# Attendance (Enrollment Validation)"
      ]
    },
    {
      "cell_type": "markdown",
      "id": "01007b5f-630b-4647-9547-fc67e97a28f7",
      "metadata": {
        "editable": true,
        "tags": [],
        "id": "01007b5f-630b-4647-9547-fc67e97a28f7"
      },
      "source": [
        "# Introductions\n",
        "\n",
        "It is important to me that we curate an environment where everyone feels comfortable interacting and adding to the discussion. To do that, I think it helps to know a little bit about each other. Towards that goal, let's do a quick round of introductions to the people you're sitting next to.\n",
        "\n",
        "Go around the table and introduce yourself. Things to include:\n",
        "- Name, pronouns\n",
        "- Year, major(s)/ minors(s)\n",
        "- Where you're from\n",
        "- Any previous computer science experience? (keep in mind, this is an intro class and there is no expectation that you have previous experience)"
      ]
    },
    {
      "cell_type": "markdown",
      "id": "d464a7cc-dd56-4ff6-a2b4-24978ae0033d",
      "metadata": {
        "editable": true,
        "tags": [],
        "id": "d464a7cc-dd56-4ff6-a2b4-24978ae0033d"
      },
      "source": [
        "# Overview:\n",
        "\n",
        "1. Install Python and Visual Studio Code\n",
        "2. Syllabus Overview\n",
        "3. In-Class Activities"
      ]
    },
    {
      "cell_type": "markdown",
      "id": "5ced2ddc-61cd-429c-aab2-a3259b348ee0",
      "metadata": {
        "editable": true,
        "tags": [],
        "id": "5ced2ddc-61cd-429c-aab2-a3259b348ee0"
      },
      "source": [
        "# Let's Install Python\n",
        "\n",
        "[Link to Download Python](https://www.python.org/downloads/)\n",
        "\n",
        "> On Windows, you will be given the option to add Python to your PATH. Check this box!"
      ]
    },
    {
      "cell_type": "markdown",
      "id": "bf6cfeae-3237-4e88-8ec9-424cc40d3c7b",
      "metadata": {
        "editable": true,
        "tags": [],
        "id": "bf6cfeae-3237-4e88-8ec9-424cc40d3c7b"
      },
      "source": [
        "# Let's Install Visual Studio Code\n",
        "\n",
        "[Link to Install Visual Studio Code](https://code.visualstudio.com/download)\n",
        "\n"
      ]
    },
    {
      "cell_type": "markdown",
      "id": "a8dbd6db-f471-46bd-ba20-8039b0ac5d2c",
      "metadata": {
        "editable": true,
        "tags": [],
        "id": "a8dbd6db-f471-46bd-ba20-8039b0ac5d2c"
      },
      "source": [
        "# Using `.ipynb` in VS Code\n",
        "\n",
        "We need to add a couple extensions for quality of life using `.ipynb` files in VS Code.\n",
        "\n",
        "1. Python\n",
        "2. Jupyter\n",
        "\n",
        "(I'll demo this)"
      ]
    },
    {
      "cell_type": "markdown",
      "id": "26d7980e-a99d-4cf8-b333-2f05bba55de1",
      "metadata": {
        "editable": true,
        "tags": [],
        "id": "26d7980e-a99d-4cf8-b333-2f05bba55de1"
      },
      "source": [
        "# Syllabus Overview:\n",
        "\n",
        "[Link to Syllabus](https://docs.google.com/document/d/1lnkmnAm0tfw2ybqhS01ylSqKfkOcAAkmrrZUuDjwHuU/edit?usp=drive_link)"
      ]
    },
    {
      "cell_type": "markdown",
      "id": "25281863-330f-4f2b-96b4-23fcf5d2f5ad",
      "metadata": {
        "editable": true,
        "tags": [],
        "id": "25281863-330f-4f2b-96b4-23fcf5d2f5ad"
      },
      "source": [
        "# Blackboard Tour"
      ]
    },
    {
      "cell_type": "markdown",
      "id": "f8208529-c4f8-4682-a461-fde38d9b9ec2",
      "metadata": {
        "editable": true,
        "tags": [],
        "id": "f8208529-c4f8-4682-a461-fde38d9b9ec2"
      },
      "source": [
        "# Community Building Activity:\n",
        "\n",
        "## Sticky Note Game\n",
        "\n",
        "__Setup__:\n",
        "- everyone starts with two sticky notes. Write your name (first name and last initial) on both stickies.\n",
        "- Shuffle the stickies and put them in the middle of the desk\n",
        "- Choose one person to start, remove one of that person's sticky notes from the middle, set aside.\n",
        "- Everyone grab two sticky notes--make sure they don't have your name or two of the same name. (Starter just grabs one)"
      ]
    },
    {
      "cell_type": "markdown",
      "id": "3143638d-8e0e-479b-95b5-9baf2926a601",
      "metadata": {
        "editable": true,
        "tags": [],
        "id": "3143638d-8e0e-479b-95b5-9baf2926a601"
      },
      "source": [
        "__Goal__: Get everyone back their sticky notes as quickly/efficiently as possible.\n",
        "\n",
        "__Rules__:\n",
        "- You can only pass sticky notes to the person directly to your left/right.\n",
        "- No person can have more than 2 sticky notes at a given time\n",
        "- You can only pass a sticky note to an open hand (i.e. one that isn't currently holding a sticky note)."
      ]
    },
    {
      "cell_type": "markdown",
      "id": "5407f7c0-339f-475e-b149-afa1e5d53fcf",
      "metadata": {
        "editable": true,
        "tags": [],
        "id": "5407f7c0-339f-475e-b149-afa1e5d53fcf"
      },
      "source": [
        "## Variations:\n",
        "- Can you do it without talking?\n",
        "- Can you do it if you combine with the group next to you?"
      ]
    },
    {
      "cell_type": "markdown",
      "id": "2b7e39f2-5dca-4420-8f88-5dae5d0b57bf",
      "metadata": {
        "editable": true,
        "tags": [],
        "id": "2b7e39f2-5dca-4420-8f88-5dae5d0b57bf"
      },
      "source": [
        "## Next Steps:\n",
        "Write out the algorithm that your group used to solve the problem.\n",
        "- Try solving the problem by strictly using the algorithm that your group developed. Does it work? Why or why not?\n",
        "\n",
        "Count the number of steps (sticky note passes) that it takes to solve the problem.\n",
        "- Is there a way you can make your algorithm more efficient?"
      ]
    },
    {
      "cell_type": "markdown",
      "id": "577d8e8c-2855-40ad-acee-99c5a6974bc0",
      "metadata": {
        "editable": true,
        "tags": [],
        "id": "577d8e8c-2855-40ad-acee-99c5a6974bc0"
      },
      "source": [
        "# Transition to Code"
      ]
    },
    {
      "cell_type": "markdown",
      "id": "ca92c33c-4a82-42f1-8233-e536b63b0159",
      "metadata": {
        "editable": true,
        "tags": [],
        "id": "ca92c33c-4a82-42f1-8233-e536b63b0159"
      },
      "source": [
        "# Group Activity Problem #1\n",
        "\n",
        "Before running the following code snippets, try to predict what will be output.\n",
        "\n",
        "Once you have a prediction, run them and see if you are correct. If the output differs from your guess, try to figure out why.\n",
        "\n",
        "In the notes section below, describe what this code does."
      ]
    },
    {
      "cell_type": "code",
      "execution_count": null,
      "id": "36cf2e5c-c8a2-4cb2-bc50-d8da1ccdc938",
      "metadata": {
        "editable": true,
        "tags": [],
        "id": "36cf2e5c-c8a2-4cb2-bc50-d8da1ccdc938"
      },
      "outputs": [],
      "source": [
        "my_list = [35, 66,70,5,42,10,12]\n",
        "print( 42 in my_list)"
      ]
    },
    {
      "cell_type": "code",
      "execution_count": null,
      "id": "563b8892-4c93-4033-8e6f-b79e6b119446",
      "metadata": {
        "editable": true,
        "tags": [],
        "id": "563b8892-4c93-4033-8e6f-b79e6b119446"
      },
      "outputs": [],
      "source": [
        "my_list = [35, 66,70,5,42,10,12]\n",
        "print( 0 in my_list)"
      ]
    },
    {
      "cell_type": "markdown",
      "id": "258e7e98-23f1-406f-b41d-1c31aa2fca33",
      "metadata": {
        "editable": true,
        "tags": [],
        "id": "258e7e98-23f1-406f-b41d-1c31aa2fca33"
      },
      "source": [
        "# Group Activity Problem #2\n",
        "\n",
        "If you run this code by itself, it doesn't do anything. how can you get it to work like it is meant to?"
      ]
    },
    {
      "cell_type": "code",
      "execution_count": null,
      "id": "efadd09c-6c24-4761-86c1-fb5709c23e34",
      "metadata": {
        "editable": true,
        "tags": [],
        "id": "efadd09c-6c24-4761-86c1-fb5709c23e34"
      },
      "outputs": [],
      "source": [
        "def search_for(item, list_to_search_in):\n",
        "\n",
        "    result = item in list_to_search_in\n",
        "\n",
        "    return result"
      ]
    },
    {
      "cell_type": "markdown",
      "id": "e2ebe025-e869-4e3e-974d-362caf85a386",
      "metadata": {
        "editable": true,
        "tags": [],
        "id": "e2ebe025-e869-4e3e-974d-362caf85a386"
      },
      "source": [
        "# Group Activity Problem #3\n",
        "\n",
        "Rewrite the `search_for` function above to that it uses a loop an dif statement rather than the list-contains operator (i.e. `in`). Note that you can still use the `in` operator if setting up a for loop, just don't directly use it to check if the item is in the list."
      ]
    },
    {
      "cell_type": "code",
      "execution_count": null,
      "id": "6dc5e0b7-74d7-4f53-997a-99c5791da693",
      "metadata": {
        "editable": true,
        "tags": [],
        "id": "6dc5e0b7-74d7-4f53-997a-99c5791da693"
      },
      "outputs": [],
      "source": [
        "def search_for(item, list_to_search_in):\n",
        "\n",
        "    return False #you'll need to change this line after you get your loop and if statement working"
      ]
    },
    {
      "cell_type": "markdown",
      "id": "7d2de8e7-f260-413d-808d-467ba7326129",
      "metadata": {
        "editable": true,
        "tags": [],
        "id": "7d2de8e7-f260-413d-808d-467ba7326129"
      },
      "source": [
        "# Announcements:\n",
        "\n",
        "For Thursday:\n",
        "- Assignment 0:\n",
        "   - Join CodePost classroom\n",
        "   - Fill out Introductory Survey"
      ]
    },
    {
      "cell_type": "markdown",
      "id": "285d3305-13f0-4a73-8e78-e7021a0f312f",
      "metadata": {
        "editable": true,
        "tags": [],
        "id": "285d3305-13f0-4a73-8e78-e7021a0f312f"
      },
      "source": [
        "Up Next:\n",
        "- Review of Functions"
      ]
    }
  ],
  "metadata": {
    "kernelspec": {
      "display_name": "Python 3 (ipykernel)",
      "language": "python",
      "name": "python3"
    },
    "language_info": {
      "codemirror_mode": {
        "name": "ipython",
        "version": 3
      },
      "file_extension": ".py",
      "mimetype": "text/x-python",
      "name": "python",
      "nbconvert_exporter": "python",
      "pygments_lexer": "ipython3",
      "version": "3.12.4"
    },
    "colab": {
      "provenance": [],
      "include_colab_link": true
    }
  },
  "nbformat": 4,
  "nbformat_minor": 5
}