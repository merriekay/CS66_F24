{
  "cells": [
    {
      "cell_type": "markdown",
      "metadata": {
        "id": "view-in-github",
        "colab_type": "text"
      },
      "source": [
        "<a href=\"https://colab.research.google.com/github/merriekay/CS66_F24/blob/main/Day12.ipynb\" target=\"_parent\"><img src=\"https://colab.research.google.com/assets/colab-badge.svg\" alt=\"Open In Colab\"/></a>"
      ]
    },
    {
      "cell_type": "markdown",
      "id": "c024a3cb-830c-4630-b5e4-2f34dfa6d4c5",
      "metadata": {
        "editable": true,
        "jp-MarkdownHeadingCollapsed": true,
        "tags": [],
        "id": "c024a3cb-830c-4630-b5e4-2f34dfa6d4c5"
      },
      "source": [
        "#  Classes and Defining New Types\n",
        "## Day12\n",
        "\n",
        "### CS66: Introduction to Computer Science II | Fall 2024\n",
        "\n",
        "Tuesday, October 8th, 2024\n",
        "\n",
        "### Helpful Resources:\n",
        "[📜 Syllabus](https://docs.google.com/document/d/1lnkmnAm0tfw2ybqhS01ylSqKfkOcAAkmrrZUuDjwHuU/edit?usp=drive_link) | [📬 CodePost Login](https://codepost.io/login) | [📆 Schedule](https://docs.google.com/spreadsheets/d/1FW9s8S04zqpOaA13JyrlNPszk5D-H9dBi7xX6o5VpgY/edit?usp=drive_link) | [🙋‍♂️ PollEverywhere](https://pollev.com/moore) | [🪴 Office Hour Sign-Up](https://calendly.com/meredith-moore/office-hours)"
      ]
    },
    {
      "cell_type": "markdown",
      "id": "5af5c012-25c8-4319-bf03-5d235a0fcb87",
      "metadata": {
        "editable": true,
        "tags": [],
        "id": "5af5c012-25c8-4319-bf03-5d235a0fcb87"
      },
      "source": [
        "# Announcements:"
      ]
    },
    {
      "cell_type": "markdown",
      "id": "9c4b54e6-f6c6-4092-8984-514c06af1d0c",
      "metadata": {
        "editable": true,
        "tags": [],
        "id": "9c4b54e6-f6c6-4092-8984-514c06af1d0c"
      },
      "source": [
        "### Assignment #6: Blackboard Quiz on Big O Notation\n",
        "__Due__: (today) Tuesday, October 8th, by 11:59pm\n",
        "- 1 point per question\n",
        "- open book / open notes, if you use any other resource, be sure to cite it.\n",
        "- one chance to submit\n",
        "- Be sure to use the AI Assisted Learning form if you use any AI assistance"
      ]
    },
    {
      "cell_type": "markdown",
      "id": "d559cb0f-f170-4be9-b7cf-dcb943639cdf",
      "metadata": {
        "editable": true,
        "tags": [],
        "id": "d559cb0f-f170-4be9-b7cf-dcb943639cdf"
      },
      "source": [
        "#### [Assignment #7: Compare `FeetInches`](https://analytics.drake.edu/~moore/CS66-F24/Assignment7.html)\n",
        "__Due__: Thursday, October 10th, by 11:59 pm\n",
        "- implement `<`, `==` and `<=` for the `FeetInches` class we'll write today"
      ]
    },
    {
      "cell_type": "markdown",
      "id": "39063097-8fbb-4ac0-a5e2-d5527c0d8c9c",
      "metadata": {
        "editable": true,
        "tags": [],
        "id": "39063097-8fbb-4ac0-a5e2-d5527c0d8c9c"
      },
      "source": [
        "## References for this lecture\n",
        "\n",
        "Problem Solving with Algorithms and Data Structures using Python\n",
        "\n",
        "Section 1.13: [https://runestone.academy/ns/books/published/pythonds/Introduction/ObjectOrientedProgramminginPythonDefiningClasses.html](https://runestone.academy/ns/books/published/pythonds/Introduction/ObjectOrientedProgramminginPythonDefiningClasses.html)\n",
        "\n",
        "Section 2.1: [https://runestone.academy/ns/books/published/pythonds/ProperClasses/a_proper_python_class.html](https://runestone.academy/ns/books/published/pythonds/ProperClasses/a_proper_python_class.html)\n",
        "\n",
        "Section 2.2 appears to be missing from the book, but we'll cover that too"
      ]
    },
    {
      "cell_type": "markdown",
      "id": "2431c0fc-5f75-4191-9494-1eded783bca3",
      "metadata": {
        "editable": true,
        "tags": [],
        "id": "2431c0fc-5f75-4191-9494-1eded783bca3"
      },
      "source": [
        "# Defining new types\n",
        "\n",
        "In Python, we use classes to create new _types_\n",
        "\n",
        "A class defines two things:\n",
        "1. __Data/Attributes__: what do objects of this type _look_ like?\n",
        "2. __Methods__: what can you do with objects of this type?"
      ]
    },
    {
      "cell_type": "markdown",
      "id": "2732c4c8-f519-40e0-83bf-a950b898a938",
      "metadata": {
        "editable": true,
        "tags": [],
        "id": "2732c4c8-f519-40e0-83bf-a950b898a938"
      },
      "source": [
        "## Example: Date object\n",
        "\n",
        "Let's look at the `date` type\n",
        "\n",
        "The `date` class is defined in the `datetime` module, and we can import it and use it in our code"
      ]
    },
    {
      "cell_type": "code",
      "execution_count": null,
      "id": "73169453-d63e-4379-967e-a7e21d0be104",
      "metadata": {
        "editable": true,
        "tags": [],
        "id": "73169453-d63e-4379-967e-a7e21d0be104",
        "outputId": "2bb766cc-136c-4f2a-9c26-aee7b5dc542c"
      },
      "outputs": [
        {
          "name": "stdout",
          "output_type": "stream",
          "text": [
            "<class 'datetime.date'>\n",
            "Here's what it looks like when we print a date: 1776-07-04\n",
            "Here's what the data that makes up a date looks like:\n",
            "7\n",
            "4\n",
            "1776\n",
            "3\n"
          ]
        }
      ],
      "source": [
        "import datetime\n",
        "\n",
        "#creating a new date object\n",
        "decl_ind_date = datetime.date(1776,7,4)\n",
        "\n",
        "#datetime.date is a type\n",
        "print( type(decl_ind_date) )\n",
        "\n",
        "print(\"Here's what it looks like when we print a date:\",decl_ind_date)\n",
        "\n",
        "print(\"Here's what the data that makes up a date looks like:\")\n",
        "print( decl_ind_date.month )\n",
        "print( decl_ind_date.day )\n",
        "print( decl_ind_date.year )\n",
        "\n",
        "#you can call methods on dates - here's one thing you can do with a date\n",
        "#weekday method returns the number of the day of the week this date fell on (0 = Monday, 6 = Sunday)\n",
        "print( decl_ind_date.weekday() )"
      ]
    },
    {
      "cell_type": "markdown",
      "id": "ac6fe33b-b1f9-4ed0-84ec-8f27cc3a5618",
      "metadata": {
        "id": "ac6fe33b-b1f9-4ed0-84ec-8f27cc3a5618"
      },
      "source": [
        "`month`, `day`, and `year` are __attributes__ - which data values associated with the object\n",
        "\n",
        "`weekday()` is a method - like a function, but you call it using dot notation on a `date` object"
      ]
    },
    {
      "cell_type": "markdown",
      "id": "6a3cbdd0-1d97-4cc7-9796-e2e33aa80a46",
      "metadata": {
        "editable": true,
        "tags": [],
        "id": "6a3cbdd0-1d97-4cc7-9796-e2e33aa80a46"
      },
      "source": [
        "## How do we write our own classes?\n",
        "\n",
        "Classes allow you to _encapsulate_ data and actions-on-that-data together into one thing - this is an _abstraction_ technique - it's good programming.\n",
        "\n",
        "A _class_ defines how objects behave - it is a blueprint that can be used to create many different objects of that type\n",
        "\n",
        "Syntax:\n",
        "* keyword `class`\n",
        "* a name you decide (by convention, start with uppercase letter)\n",
        "* a colon `:`\n",
        "* indented list of function definitions (i.e., _method_ definitions)\n",
        "    - each method has a parameter called `self` which refers to the particular object being used at that time\n",
        "\n"
      ]
    },
    {
      "cell_type": "code",
      "execution_count": null,
      "id": "98d5384f-2048-4b8f-acdb-9199bb527de6",
      "metadata": {
        "editable": true,
        "tags": [],
        "id": "98d5384f-2048-4b8f-acdb-9199bb527de6"
      },
      "outputs": [],
      "source": [
        "class Motivator:\n",
        "\n",
        "    def message1(self):\n",
        "        print(\"You can do it!\")\n",
        "\n",
        "    def message2(self):\n",
        "        print(\"I'm proud of you!\")"
      ]
    },
    {
      "cell_type": "code",
      "execution_count": null,
      "id": "a99cb064-218e-4934-a22e-b5b26cd99382",
      "metadata": {
        "editable": true,
        "tags": [],
        "id": "a99cb064-218e-4934-a22e-b5b26cd99382",
        "outputId": "1c64b100-2ce5-4166-99eb-d7faaa229545"
      },
      "outputs": [
        {
          "name": "stdout",
          "output_type": "stream",
          "text": [
            "I'm proud of you!\n",
            "<class '__main__.Motivator'>\n"
          ]
        }
      ],
      "source": [
        "m = Motivator()\n",
        "m.message2()\n",
        "print( type(m) )"
      ]
    },
    {
      "cell_type": "markdown",
      "id": "6eff3e4e-45e7-4f3a-b892-956fdf0cc435",
      "metadata": {
        "editable": true,
        "tags": [],
        "id": "6eff3e4e-45e7-4f3a-b892-956fdf0cc435"
      },
      "source": [
        "Notice that you always have to make `self` a parameter, but you don't send it as an argument in parantheses like other arguments.\n",
        "\n",
        "`self` is the object (here, `m`) that the method was called on."
      ]
    },
    {
      "cell_type": "markdown",
      "id": "b8bb1bb7-7c4d-4b9d-a78c-87f676cae6c1",
      "metadata": {
        "editable": true,
        "tags": [],
        "id": "b8bb1bb7-7c4d-4b9d-a78c-87f676cae6c1"
      },
      "source": [
        "## Defining Classes with Attributes\n",
        "\n",
        "Any attribute can be accessed in any of the class's methods using `self`. Each object of the class has a different set of all the attributes (just like different date objects represent different dates on the calendar)\n",
        "\n",
        "Initialize attributes using the special `__init__()` method, which will be invoked whenever a new object of this type is created."
      ]
    },
    {
      "cell_type": "code",
      "execution_count": null,
      "id": "6eb5ac01-05a8-4a17-955e-9da005c3f37c",
      "metadata": {
        "editable": true,
        "tags": [],
        "id": "6eb5ac01-05a8-4a17-955e-9da005c3f37c"
      },
      "outputs": [],
      "source": [
        "class PersonalMotivator:\n",
        "\n",
        "    def __init__(self,n):\n",
        "        self.name = n\n",
        "\n",
        "    def message1(self):\n",
        "        print(\"You can do it,\",self.name)\n",
        "\n",
        "    def message2(self):\n",
        "        print(\"I'm proud of you,\",self.name)"
      ]
    },
    {
      "cell_type": "code",
      "execution_count": null,
      "id": "7a3148e4-f5cd-49c8-9f36-7f0b2cb98829",
      "metadata": {
        "id": "7a3148e4-f5cd-49c8-9f36-7f0b2cb98829",
        "outputId": "878ca181-bf8b-4f18-da9c-2e7e8d91d144"
      },
      "outputs": [
        {
          "name": "stdout",
          "output_type": "stream",
          "text": [
            "You can do it, Eric\n",
            "I'm proud of you, Eric\n",
            "You can do it, Tim\n"
          ]
        }
      ],
      "source": [
        "#creates two objects of the PersonalMotivator class\n",
        "eric_motivator = PersonalMotivator(\"Eric\")\n",
        "tim_motivator = PersonalMotivator(\"Tim\")\n",
        "\n",
        "\n",
        "eric_motivator.message1()\n",
        "eric_motivator.message2()\n",
        "tim_motivator.message1()"
      ]
    },
    {
      "cell_type": "markdown",
      "id": "6f8e96a4-9a88-4dd5-a6e7-56cd1d7b0a97",
      "metadata": {
        "editable": true,
        "tags": [],
        "id": "6f8e96a4-9a88-4dd5-a6e7-56cd1d7b0a97"
      },
      "source": [
        "## Group Activity Problem 1:\n",
        "* Where does `self.name` get its value from?\n",
        "* When I call `eric_motivator.message2()`, what is `self`?\n",
        "* How would I create a third object of the `PersonalMotivator` class? Do I have to pass it a name?"
      ]
    },
    {
      "cell_type": "markdown",
      "id": "73322c4a-f1b9-45e7-afa4-faeec9a3cae9",
      "metadata": {
        "editable": true,
        "tags": [],
        "id": "73322c4a-f1b9-45e7-afa4-faeec9a3cae9"
      },
      "source": [
        "## Rectangle class example"
      ]
    },
    {
      "cell_type": "code",
      "execution_count": null,
      "id": "962a8eea-d179-4111-a36a-048c3a68a0fa",
      "metadata": {
        "editable": true,
        "tags": [],
        "id": "962a8eea-d179-4111-a36a-048c3a68a0fa"
      },
      "outputs": [],
      "source": [
        "class Rectangle:\n",
        "    \"\"\"\n",
        "    Used for representing rectangles\n",
        "\n",
        "    attributes: length, width\n",
        "    \"\"\"\n",
        "    def __init__(self, l, w):\n",
        "        self.length = l\n",
        "        self.width = w\n",
        "\n",
        "    def area(self):\n",
        "        return self.length*self.width\n",
        "\n",
        "    def perimeter(self):\n",
        "        return 2*self.length + 2*self.width"
      ]
    },
    {
      "cell_type": "code",
      "execution_count": null,
      "id": "ef322c7c-496a-43c9-8daa-b86f16cf018f",
      "metadata": {
        "id": "ef322c7c-496a-43c9-8daa-b86f16cf018f",
        "outputId": "83697d03-e738-4521-c6b6-1953aa9645cd"
      },
      "outputs": [
        {
          "name": "stdout",
          "output_type": "stream",
          "text": [
            "Rectangle 1's area: 50\n",
            "Rectangle 1's perimeter: 30\n",
            "Rectangle 2's area: 6\n",
            "Rectangle 2's perimeter: 10\n"
          ]
        }
      ],
      "source": [
        "rec1 = Rectangle(5, 10) #instantiates a new object of type Rectangle\n",
        "rec2 = Rectangle(2, 3) #instantiates a new object of type Rectangle\n",
        "print(\"Rectangle 1's area:\", rec1.area() ) # self is rec1 here\n",
        "print(\"Rectangle 1's perimeter:\", rec1.perimeter() )\n",
        "print(\"Rectangle 2's area:\", rec2.area() ) # self is rec2 here\n",
        "print(\"Rectangle 2's perimeter:\", rec2.perimeter() )"
      ]
    },
    {
      "cell_type": "markdown",
      "id": "e8b80c3d-4977-4b32-b362-18c80c389a6b",
      "metadata": {
        "editable": true,
        "tags": [],
        "id": "e8b80c3d-4977-4b32-b362-18c80c389a6b"
      },
      "source": [
        "### Notice:\n",
        "\n",
        "I have multiple rectangle _objects_ but only _one_ class definition\n",
        "\n",
        "A class is a blueprint for creating many objects - it's like how you can build many houses in a neighborhood from one set of blueprints."
      ]
    },
    {
      "cell_type": "markdown",
      "id": "ecb99450-b806-4a98-be01-c35aa2795a2f",
      "metadata": {
        "id": "ecb99450-b806-4a98-be01-c35aa2795a2f"
      },
      "source": [
        "<p>\n",
        "<div>\n",
        "    <center>\n",
        "        <img src=\"attachment:Allendale-Ranch.png\" width=\"500\"/>\n",
        "    </center>\n",
        "</div>\n",
        "</p>"
      ]
    },
    {
      "cell_type": "markdown",
      "id": "5130ae23-e2b9-420a-b682-d859b9621b0e",
      "metadata": {
        "editable": true,
        "tags": [],
        "id": "5130ae23-e2b9-420a-b682-d859b9621b0e"
      },
      "source": [
        "__Object-oriented programming:__ a popular style of programming that centers on creating custom classes and objects instantiated from those classes."
      ]
    },
    {
      "cell_type": "markdown",
      "id": "9a08e61e-694a-4848-889c-d97124be2185",
      "metadata": {
        "editable": true,
        "tags": [],
        "id": "9a08e61e-694a-4848-889c-d97124be2185"
      },
      "source": [
        "## A Bare-bones feet-inches example class\n",
        "\n",
        "Let's say we are creating a program that uses a lot of measurements in feet-inches (e.g., numbers like 5 ft. 6 in. or 5'6\") - maybe it is a drafting program for planning home remodeling projects.\n",
        "\n",
        "To create a basic feet-inches type, we might start with a class like this:"
      ]
    },
    {
      "cell_type": "code",
      "execution_count": null,
      "id": "5eacb704-16ec-44e7-9b5b-066eeef91e38",
      "metadata": {
        "editable": true,
        "tags": [],
        "id": "5eacb704-16ec-44e7-9b5b-066eeef91e38",
        "outputId": "52b28b20-d251-4151-d9d8-3a62ed7f33dc"
      },
      "outputs": [
        {
          "name": "stdout",
          "output_type": "stream",
          "text": [
            "12 ft. 4 in.\n",
            "9 ft. 15 in.\n",
            "12 ft. 4 in.\n",
            "10 ft. 3 in.\n"
          ]
        }
      ],
      "source": [
        "class FeetInches:\n",
        "\n",
        "    def __init__(self,f,i):\n",
        "        self.feet = f\n",
        "        self.inches = i\n",
        "\n",
        "    def simplify(self):\n",
        "        \"\"\"\n",
        "        if the number of inches is > 12,\n",
        "        this regroups the excess into feet\n",
        "        \"\"\"\n",
        "        self.feet += self.inches // 12\n",
        "        self.inches = self.inches % 12\n",
        "\n",
        "    def display(self):\n",
        "        print(self.feet,\"ft.\",self.inches,\"in.\")\n",
        "\n",
        "room_length = FeetInches(12,4)\n",
        "room_width = FeetInches(9,15)\n",
        "\n",
        "#displayinig the room dimensions\n",
        "room_length.display()\n",
        "room_width.display()\n",
        "\n",
        "#simplifying the dimensions and then displaying them\n",
        "room_length.simplify()\n",
        "room_width.simplify()\n",
        "\n",
        "room_length.display()\n",
        "room_width.display()"
      ]
    },
    {
      "cell_type": "markdown",
      "id": "abaa0802-f42c-4f91-9b69-124261bc1109",
      "metadata": {
        "editable": true,
        "tags": [],
        "id": "abaa0802-f42c-4f91-9b69-124261bc1109"
      },
      "source": [
        "## Controlling what the data type \"looks like\"\n",
        "\n",
        "Having a `display()` function to nicely print the measurement isn't very flexible. I'd like to treat it like any other data type and just do something like"
      ]
    },
    {
      "cell_type": "code",
      "execution_count": null,
      "id": "1499a1bc-bf27-46f6-bdd5-2e39ec9e274a",
      "metadata": {
        "editable": true,
        "tags": [],
        "id": "1499a1bc-bf27-46f6-bdd5-2e39ec9e274a",
        "outputId": "51e10a25-e7bd-4a52-ce84-e4698c8d9b1a"
      },
      "outputs": [
        {
          "name": "stdout",
          "output_type": "stream",
          "text": [
            "The length of the room is <__main__.FeetInches object at 0x10662c100>\n"
          ]
        }
      ],
      "source": [
        "print(\"The length of the room is\",room_length)"
      ]
    },
    {
      "cell_type": "markdown",
      "id": "de5f9235-2bff-436a-857a-e4f2c40e30a7",
      "metadata": {
        "editable": true,
        "tags": [],
        "id": "de5f9235-2bff-436a-857a-e4f2c40e30a7"
      },
      "source": [
        "Fortunately, Python allows us to write a special method `__repr__()` where you can define what the object looks like with a string representation.\n",
        "\n",
        "This will work with things like `print()`, `str()`, and how it displays the object in the interactive shell.\n",
        "\n",
        "The `__repr__()` method should _return_ a string representation of the object (_not_ print it).\n",
        "\n"
      ]
    },
    {
      "cell_type": "code",
      "execution_count": null,
      "id": "e8138241-d143-436c-8584-38075ba61384",
      "metadata": {
        "editable": true,
        "tags": [],
        "id": "e8138241-d143-436c-8584-38075ba61384",
        "outputId": "7ab66f33-2e8a-4612-be35-c9e0f512a146"
      },
      "outputs": [
        {
          "name": "stdout",
          "output_type": "stream",
          "text": [
            "The length of the room is 12ft. 4in.\n",
            "The width of the room is 10ft. 3in.\n"
          ]
        },
        {
          "data": {
            "text/plain": [
              "'12ft. 4in.'"
            ]
          },
          "execution_count": 10,
          "metadata": {},
          "output_type": "execute_result"
        }
      ],
      "source": [
        "class FeetInches:\n",
        "\n",
        "    def __init__(self,f,i):\n",
        "        self.feet = f\n",
        "        self.inches = i\n",
        "\n",
        "    def simplify(self):\n",
        "        \"\"\"\n",
        "        if the number of inches is > 12,\n",
        "        this regroups the excess into feet\n",
        "        \"\"\"\n",
        "        self.feet += self.inches // 12\n",
        "        self.inches = self.inches % 12\n",
        "\n",
        "    def __repr__(self):\n",
        "        return str(self.feet)+\"ft. \"+str(self.inches)+\"in.\"\n",
        "\n",
        "\n",
        "room_length = FeetInches(12,4)\n",
        "room_width = FeetInches(9,15)\n",
        "\n",
        "#simplifying the dimensions\n",
        "room_length.simplify()\n",
        "room_width.simplify()\n",
        "\n",
        "#displayinig the room dimensions\n",
        "print(\"The length of the room is\",room_length)\n",
        "print(\"The width of the room is\",room_width)\n",
        "str(room_length) #now I can convert it to a string"
      ]
    },
    {
      "cell_type": "markdown",
      "id": "c847128c-3363-4909-84cd-c7e1930b4412",
      "metadata": {
        "editable": true,
        "tags": [],
        "id": "c847128c-3363-4909-84cd-c7e1930b4412"
      },
      "source": [
        "## Using operators with our new type\n",
        "\n",
        "Unfortunately, our new type doesn't let us do things like this:"
      ]
    },
    {
      "cell_type": "code",
      "execution_count": null,
      "id": "f3272f4e-c4df-4722-9346-5208cf889b5a",
      "metadata": {
        "editable": true,
        "tags": [],
        "id": "f3272f4e-c4df-4722-9346-5208cf889b5a",
        "outputId": "d3008499-f835-4bc1-e300-85719f3f39f8"
      },
      "outputs": [
        {
          "ename": "TypeError",
          "evalue": "unsupported operand type(s) for +: 'FeetInches' and 'FeetInches'",
          "output_type": "error",
          "traceback": [
            "\u001b[0;31m---------------------------------------------------------------------------\u001b[0m",
            "\u001b[0;31mTypeError\u001b[0m                                 Traceback (most recent call last)",
            "Input \u001b[0;32mIn [11]\u001b[0m, in \u001b[0;36m<cell line: 4>\u001b[0;34m()\u001b[0m\n\u001b[1;32m      1\u001b[0m room_length \u001b[38;5;241m=\u001b[39m FeetInches(\u001b[38;5;241m12\u001b[39m,\u001b[38;5;241m4\u001b[39m)\n\u001b[1;32m      2\u001b[0m room_width \u001b[38;5;241m=\u001b[39m FeetInches(\u001b[38;5;241m9\u001b[39m,\u001b[38;5;241m15\u001b[39m)\n\u001b[0;32m----> 4\u001b[0m \u001b[43mroom_length\u001b[49m\u001b[43m \u001b[49m\u001b[38;5;241;43m+\u001b[39;49m\u001b[43m \u001b[49m\u001b[43mroom_width\u001b[49m\n",
            "\u001b[0;31mTypeError\u001b[0m: unsupported operand type(s) for +: 'FeetInches' and 'FeetInches'"
          ]
        }
      ],
      "source": [
        "room_length = FeetInches(12,4)\n",
        "room_width = FeetInches(9,15)\n",
        "\n",
        "room_length + room_width"
      ]
    },
    {
      "cell_type": "markdown",
      "id": "6ea73b6d-e62d-498f-8467-30c7dca171f8",
      "metadata": {
        "editable": true,
        "tags": [],
        "id": "6ea73b6d-e62d-498f-8467-30c7dca171f8"
      },
      "source": [
        "## Group Activity Problem 2\n",
        "\n",
        "Based on what we've covered already from classes, how could we support being able to add two `FeetInches` values?"
      ]
    },
    {
      "cell_type": "markdown",
      "id": "83d3ea60-b5e6-44c0-a3b1-a195e33a1a04",
      "metadata": {
        "editable": true,
        "tags": [],
        "id": "83d3ea60-b5e6-44c0-a3b1-a195e33a1a04"
      },
      "source": [
        "One solution might be to just implement an `add()` function like this:"
      ]
    },
    {
      "cell_type": "code",
      "execution_count": null,
      "id": "e976959f-cb15-4e26-84a0-dc7d69dd306d",
      "metadata": {
        "editable": true,
        "tags": [],
        "id": "e976959f-cb15-4e26-84a0-dc7d69dd306d",
        "outputId": "2c7de153-c389-4551-9fdb-e07a52d69866"
      },
      "outputs": [
        {
          "name": "stdout",
          "output_type": "stream",
          "text": [
            "6ft. 0in.\n"
          ]
        }
      ],
      "source": [
        "class FeetInches:\n",
        "\n",
        "    def __init__(self,f,i):\n",
        "        self.feet = f\n",
        "        self.inches = i\n",
        "\n",
        "    def simplify(self):\n",
        "        \"\"\"\n",
        "        if the number of inches is > 12,\n",
        "        this regroups the excess into feet\n",
        "        \"\"\"\n",
        "        self.feet += self.inches // 12\n",
        "        self.inches = self.inches % 12\n",
        "\n",
        "    def __repr__(self):\n",
        "        return str(self.feet)+\"ft. \"+str(self.inches)+\"in.\"\n",
        "\n",
        "    def add(self,other_measurement):\n",
        "        total_feet = self.feet + other_measurement.feet\n",
        "        total_inches = self.inches + other_measurement.inches\n",
        "\n",
        "        #create an new FeetInches object with the new measurements\n",
        "        total_FI = FeetInches(total_feet,total_inches)\n",
        "        total_FI.simplify()\n",
        "        return total_FI\n",
        "\n",
        "\n",
        "measurement1 = FeetInches(3,6)\n",
        "measurement2 = FeetInches(2,6)\n",
        "total = measurement1.add(measurement2)\n",
        "print(total)"
      ]
    },
    {
      "cell_type": "markdown",
      "id": "261dcbac-6738-49fa-87c7-9292db79fa41",
      "metadata": {
        "editable": true,
        "tags": [],
        "id": "261dcbac-6738-49fa-87c7-9292db79fa41"
      },
      "source": [
        "## A better way\n",
        "\n",
        "However, we can instead implement the special `__add__()` method, which will make it work with the `+` operator."
      ]
    },
    {
      "cell_type": "code",
      "execution_count": null,
      "id": "49c6563b-ccf3-42a4-a9b3-399b265f3215",
      "metadata": {
        "editable": true,
        "tags": [],
        "id": "49c6563b-ccf3-42a4-a9b3-399b265f3215",
        "outputId": "0729abf3-82df-423d-d5f0-084a91e8a16d"
      },
      "outputs": [
        {
          "name": "stdout",
          "output_type": "stream",
          "text": [
            "6ft. 0in.\n"
          ]
        }
      ],
      "source": [
        "class FeetInches:\n",
        "\n",
        "    def __init__(self,f,i):\n",
        "        self.feet = f\n",
        "        self.inches = i\n",
        "\n",
        "    def simplify(self):\n",
        "        \"\"\"\n",
        "        if the number of inches is > 12,\n",
        "        this regroups the excess into feet\n",
        "        \"\"\"\n",
        "        self.feet += self.inches // 12\n",
        "        self.inches = self.inches % 12\n",
        "\n",
        "    def __repr__(self):\n",
        "        return str(self.feet)+\"ft. \"+str(self.inches)+\"in.\"\n",
        "\n",
        "    def __add__(self,other_measurement):\n",
        "        total_feet = self.feet + other_measurement.feet\n",
        "        total_inches = self.inches + other_measurement.inches\n",
        "\n",
        "        #create an new FeetInches object with the new measurements\n",
        "        total_FI = FeetInches(total_feet,total_inches)\n",
        "        total_FI.simplify()\n",
        "        return total_FI\n",
        "\n",
        "\n",
        "measurement1 = FeetInches(3,6)\n",
        "measurement2 = FeetInches(2,6)\n",
        "total = measurement1 + measurement2\n",
        "print(total)"
      ]
    },
    {
      "cell_type": "markdown",
      "id": "4746cda2-f4ce-4464-a62b-fa7829771746",
      "metadata": {
        "editable": true,
        "tags": [],
        "id": "4746cda2-f4ce-4464-a62b-fa7829771746"
      },
      "source": [
        "Similarly, you can support any of the following operators (plus more that I haven't listed):\n",
        "\n",
        "* `+`: `object.__add__(self, other)`   \n",
        "* `-`: `object.__sub__(self, other)`   \n",
        "* `*`: `object.__mul__(self, other)`   \n",
        "* `/`: `object.__truediv__(self, other)`   \n",
        "* `//`: `object.__floordiv__(self, other)`\n",
        "* `%`: `object.__mod__(self, other)`\n",
        "* `**`: `object.__pow__(self, other)`\n",
        "* `<<`: `object.__lshift__(self, other)`\n",
        "* `>>`: `object.__rshift__(self, other)`\n",
        "* `&`: `object.__and__(self, other)` (this is not the logical `and` operator)\n",
        "* `^`: `object.__xor__(self, other)`\n",
        "* `|`: `object.__or__(self, other)` (this is not the logical `or` operator)\n",
        "* `<`: `object.__lt__(self, other)`\n",
        "* `<=`: `object.__le__(self, other)`\n",
        "* `==`: `object.__eq__(self, other)`\n",
        "* `!=`: `object.__ne__(self, other)`\n",
        "* `>`: `object.__gt__(self, other)`\n",
        "* `>=`: `object.__ge__(self, other)`"
      ]
    },
    {
      "cell_type": "markdown",
      "id": "3ce3cee6-5b82-4703-a8fc-39050150c061",
      "metadata": {
        "editable": true,
        "tags": [],
        "id": "3ce3cee6-5b82-4703-a8fc-39050150c061"
      },
      "source": [
        "## Group Activity Problem 3\n",
        "\n",
        "Add support for the subtraction operator to the `FeetInches` class."
      ]
    },
    {
      "cell_type": "markdown",
      "id": "0f287bfa-b138-42d6-862a-d0c64533bf07",
      "metadata": {
        "editable": true,
        "tags": [],
        "id": "0f287bfa-b138-42d6-862a-d0c64533bf07"
      },
      "source": [
        "## Group Activity Problem 4\n",
        "\n",
        "Discussion the following questions.\n",
        "* What is the name of the function would I have to define (i.e., like `__add__` is for `+`) to be able to compare two `FeetInches` objects like in the code below?\n",
        "* Note that `__add__` and `__sub__` both return a new object of type `FeetInches`. What type of value should the function for `<` return?"
      ]
    },
    {
      "cell_type": "code",
      "execution_count": null,
      "id": "5852420e-acbd-4a36-8889-12eb3b3681dd",
      "metadata": {
        "id": "5852420e-acbd-4a36-8889-12eb3b3681dd"
      },
      "outputs": [],
      "source": [
        "measurement1 = FeetInches(3,6)\n",
        "measurement2 = FeetInches(2,6)\n",
        "print(measurement1 < measurement2)"
      ]
    },
    {
      "cell_type": "markdown",
      "id": "e2d4af3a-c0d2-4b51-b329-af5b1fdb236d",
      "metadata": {
        "editable": true,
        "tags": [],
        "id": "e2d4af3a-c0d2-4b51-b329-af5b1fdb236d"
      },
      "source": [
        "## Group Activity Problem 5\n",
        "\n",
        "Add support for the `<` (less than) operator to the `FeetInches` class."
      ]
    },
    {
      "cell_type": "markdown",
      "id": "c4f4473e-5fe3-4b46-be3d-e3b32d8d00f6",
      "metadata": {
        "editable": true,
        "tags": [],
        "id": "c4f4473e-5fe3-4b46-be3d-e3b32d8d00f6"
      },
      "source": [
        "## Group Activity Problem 6\n",
        "\n",
        "After you implement `<`, you might get some other operators like `>` for free. Try the code below and see if it works with your definition. Do `<=`, `==`, `!=`, `>=` work? Why or why not?"
      ]
    },
    {
      "cell_type": "code",
      "execution_count": null,
      "id": "91a478ff-04e0-4dc2-9b76-d87df2897a68",
      "metadata": {
        "editable": true,
        "tags": [],
        "id": "91a478ff-04e0-4dc2-9b76-d87df2897a68"
      },
      "outputs": [],
      "source": [
        "measurement1 = FeetInches(3,6)\n",
        "measurement2 = FeetInches(2,6)\n",
        "print(measurement1 > measurement2)"
      ]
    },
    {
      "cell_type": "markdown",
      "id": "286ef3fd-0aaa-44ea-81bb-0b3c7a0e2e54",
      "metadata": {
        "editable": true,
        "tags": [],
        "id": "286ef3fd-0aaa-44ea-81bb-0b3c7a0e2e54"
      },
      "source": [
        "# Announcements:"
      ]
    },
    {
      "cell_type": "markdown",
      "id": "df68e5a7-ed44-40d3-a150-ce4f1691123a",
      "metadata": {
        "editable": true,
        "tags": [],
        "id": "df68e5a7-ed44-40d3-a150-ce4f1691123a"
      },
      "source": [
        "### Assignment #6: Blackboard Quiz on Big O Notation\n",
        "__Due__: (today) Tuesday, October 8th, by 11:59pm\n",
        "- 1 point per question\n",
        "- open book / open notes, if you use any other resource, be sure to cite it.\n",
        "- one chance to submit\n",
        "- Be sure to use the AI Assisted Learning form if you use any AI assistance"
      ]
    },
    {
      "cell_type": "markdown",
      "id": "9e597f52-5c07-4e87-a204-cf9f82f0e799",
      "metadata": {
        "editable": true,
        "tags": [],
        "id": "9e597f52-5c07-4e87-a204-cf9f82f0e799"
      },
      "source": [
        "#### [Assignment #7: Compare `FeetInches`](https://analytics.drake.edu/~moore/CS66-F24/Assignment7.html)\n",
        "__Due__: Thursday, October 10th, by 11:59 pm\n",
        "- implement `<`, `==` and `<=` for the `FeetInches` class we'll write today"
      ]
    }
  ],
  "metadata": {
    "kernelspec": {
      "display_name": "Python 3 (ipykernel)",
      "language": "python",
      "name": "python3"
    },
    "language_info": {
      "codemirror_mode": {
        "name": "ipython",
        "version": 3
      },
      "file_extension": ".py",
      "mimetype": "text/x-python",
      "name": "python",
      "nbconvert_exporter": "python",
      "pygments_lexer": "ipython3",
      "version": "3.12.4"
    },
    "colab": {
      "provenance": [],
      "include_colab_link": true
    }
  },
  "nbformat": 4,
  "nbformat_minor": 5
}