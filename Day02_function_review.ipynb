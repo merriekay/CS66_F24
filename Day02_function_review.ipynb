{
  "cells": [
    {
      "cell_type": "markdown",
      "metadata": {
        "id": "view-in-github",
        "colab_type": "text"
      },
      "source": [
        "<a href=\"https://colab.research.google.com/github/merriekay/CS66_F24/blob/main/Day02_function_review.ipynb\" target=\"_parent\"><img src=\"https://colab.research.google.com/assets/colab-badge.svg\" alt=\"Open In Colab\"/></a>"
      ]
    },
    {
      "cell_type": "markdown",
      "id": "000f3696-2fc7-4682-a07f-3a989d9ee850",
      "metadata": {
        "editable": true,
        "tags": [],
        "id": "000f3696-2fc7-4682-a07f-3a989d9ee850"
      },
      "source": [
        "# Functions Review\n",
        "## Day02\n",
        "\n",
        "### CS66: Introduction to Computer Science II | Fall 2024\n",
        "\n",
        "Tuesday, September 3rd, 2024\n",
        "\n",
        "### Helpful Resources:\n",
        "[📜 Syllabus](https://docs.google.com/document/d/1lnkmnAm0tfw2ybqhS01ylSqKfkOcAAkmrrZUuDjwHuU/edit?usp=drive_link) | [📬 CodePost Login](https://codepost.io/login) | [📆 Schedule](https://docs.google.com/spreadsheets/d/1FW9s8S04zqpOaA13JyrlNPszk5D-H9dBi7xX6o5VpgY/edit?usp=drive_link) | [🙋‍♂️ PollEverywhere](https://pollev.com/moore) | [🪴 Office Hour Sign-Up](https://calendly.com/meredith-moore/office-hours)"
      ]
    },
    {
      "cell_type": "markdown",
      "id": "34e33642-55b0-4144-afad-3dad779624e4",
      "metadata": {
        "editable": true,
        "tags": [],
        "id": "34e33642-55b0-4144-afad-3dad779624e4"
      },
      "source": [
        "# 📢 Announcements:"
      ]
    },
    {
      "cell_type": "markdown",
      "id": "71b889bf-947e-4a55-a40e-42710616f404",
      "metadata": {
        "editable": true,
        "tags": [],
        "id": "71b889bf-947e-4a55-a40e-42710616f404"
      },
      "source": [
        "## Last Time:\n",
        "- [Python Review](https://analytics.drake.edu/~moore/CS66-F24/Day01_python_review.html)\n"
      ]
    },
    {
      "cell_type": "markdown",
      "id": "f18bc8c2-f482-4279-a4b9-3950e89addd3",
      "metadata": {
        "editable": true,
        "tags": [],
        "id": "f18bc8c2-f482-4279-a4b9-3950e89addd3"
      },
      "source": [
        "## You should be working on:\n",
        "- [Assignment #1: `search_for`](https://analytics.drake.edu/~moore/CS66-F24/Assignment1.html) due Thursday 9/5 by 11:59 pm -- Submit via CodePost\n",
        "- [Assignment #2: Infinite Monkey](https://analytics.drake.edu/~moore/CS66-F24/Assignment2.html) due Tuesday, 9/11 by 11:59 pm -- Submit via CodePost"
      ]
    },
    {
      "cell_type": "markdown",
      "id": "41d7a5b1-dc87-49ea-9170-361bd0a0d50a",
      "metadata": {
        "editable": true,
        "tags": [],
        "id": "41d7a5b1-dc87-49ea-9170-361bd0a0d50a"
      },
      "source": [
        "# Quick Review:"
      ]
    },
    {
      "cell_type": "markdown",
      "id": "ed35f0aa-9621-4648-a5e1-4502c77ac481",
      "metadata": {
        "editable": true,
        "tags": [],
        "id": "ed35f0aa-9621-4648-a5e1-4502c77ac481"
      },
      "source": [
        "## Day01 Group Activity Problem 5\n",
        "\n",
        "Write a function called `find_index_2D()` that will find the position of an item in a 2-dimension list. For example, if called like this:"
      ]
    },
    {
      "cell_type": "code",
      "execution_count": null,
      "id": "e9e56c11-2847-4cc3-b147-bcb976959729",
      "metadata": {
        "editable": true,
        "tags": [],
        "id": "e9e56c11-2847-4cc3-b147-bcb976959729"
      },
      "outputs": [],
      "source": [
        "# write your code here\n",
        "\n",
        "my_2d_list = [[0,1,2,3],\n",
        "              [10,11,12,13],\n",
        "              [20,21,22,23]]\n",
        "\n",
        "print( find_index_2D(12,my_2d_list) ) #it should return the tuple (1,2) to indicate it is in row 1, column 2."
      ]
    },
    {
      "cell_type": "markdown",
      "id": "31a26523-6e83-4e2d-83b1-38e25992bb09",
      "metadata": {
        "editable": true,
        "tags": [],
        "id": "31a26523-6e83-4e2d-83b1-38e25992bb09"
      },
      "source": [
        "## Today's Purpose\n",
        "\n",
        "We want to get good at writing functions\n",
        "* Abstraction!\n",
        "* Divide and conquer\n",
        "* We are going to do a lot with classes - that needs functions\n",
        "\n",
        "\n",
        "## References for this lecture\n",
        "\n",
        "Problem Solving with Algorithms and Data Structures using Python, Section 1.12: [https://runestone.academy/ns/books/published/pythonds/Introduction/DefiningFunctions.html](https://runestone.academy/ns/books/published/pythonds/Introduction/DefiningFunctions.html)\n",
        "\n",
        "\n",
        "Also see Chapter 3 of Think Python( [https://greenteapress.com/thinkpython2/html/thinkpython2004.html](https://greenteapress.com/thinkpython2/html/thinkpython2004.html) )"
      ]
    },
    {
      "cell_type": "markdown",
      "id": "92090f4a-ae2f-492a-b1ee-5a34a2fc75d2",
      "metadata": {
        "editable": true,
        "tags": [],
        "id": "92090f4a-ae2f-492a-b1ee-5a34a2fc75d2"
      },
      "source": [
        "## Here's a function that isn't very useful\n",
        "\n",
        "Discuss: Why is this a bad function?"
      ]
    },
    {
      "cell_type": "code",
      "execution_count": null,
      "id": "9bcd170e-fad6-4a4b-876c-704529ed7bf1",
      "metadata": {
        "editable": true,
        "tags": [],
        "id": "9bcd170e-fad6-4a4b-876c-704529ed7bf1"
      },
      "outputs": [],
      "source": [
        "def f_to_c():\n",
        "    fahrenheit_temp = float(input(\"Enter a temperature in Fahrenheit: \"))\n",
        "    celsius_temp = (fahrenheit_temp-32)*(5/9)\n",
        "    print(\"That's\",celsius_temp,\"in Celsius\")"
      ]
    },
    {
      "cell_type": "code",
      "execution_count": null,
      "id": "c49b93de-919b-4eb9-89fe-3e3dbf7a55ae",
      "metadata": {
        "editable": true,
        "tags": [],
        "id": "c49b93de-919b-4eb9-89fe-3e3dbf7a55ae"
      },
      "outputs": [],
      "source": [
        "f_to_c()"
      ]
    },
    {
      "cell_type": "markdown",
      "id": "fc80d046-8c56-4619-9e76-9f1adc1e323a",
      "metadata": {
        "editable": true,
        "tags": [],
        "id": "fc80d046-8c56-4619-9e76-9f1adc1e323a"
      },
      "source": [
        "If we instead write the function like this:"
      ]
    },
    {
      "cell_type": "code",
      "execution_count": null,
      "id": "aa0439c3-3f7e-43d2-9e4f-cc5173ebe9ab",
      "metadata": {
        "editable": true,
        "tags": [],
        "id": "aa0439c3-3f7e-43d2-9e4f-cc5173ebe9ab"
      },
      "outputs": [],
      "source": [
        "def f_to_c(fahrenheit_temp):\n",
        "    celsius_temp = (fahrenheit_temp-32)*(5/9)\n",
        "    return celsius_temp"
      ]
    },
    {
      "cell_type": "markdown",
      "id": "7e3862ea-a861-409f-a7cc-e57edf25e819",
      "metadata": {
        "id": "7e3862ea-a861-409f-a7cc-e57edf25e819"
      },
      "source": [
        "then we can use it in many different contexts"
      ]
    },
    {
      "cell_type": "code",
      "execution_count": null,
      "id": "da361c9d-875c-4ea0-81d6-20ac76a3f336",
      "metadata": {
        "editable": true,
        "tags": [],
        "id": "da361c9d-875c-4ea0-81d6-20ac76a3f336"
      },
      "outputs": [],
      "source": [
        "#....\n",
        "if f_to_c(value_from_file) < 0:\n",
        "    freezing_days += 1\n",
        "#...."
      ]
    },
    {
      "cell_type": "markdown",
      "id": "dceecf00-efc1-4059-a4a1-7c4097aeca18",
      "metadata": {
        "editable": true,
        "tags": [],
        "id": "dceecf00-efc1-4059-a4a1-7c4097aeca18"
      },
      "source": [
        "Let's draw some pictures to remind ourselves how parameters and return values work."
      ]
    },
    {
      "cell_type": "markdown",
      "id": "5d1e1e81-76e5-40a6-9b3c-d0efddb74dcf",
      "metadata": {
        "editable": true,
        "tags": [],
        "id": "5d1e1e81-76e5-40a6-9b3c-d0efddb74dcf"
      },
      "source": [
        "## Another Example"
      ]
    },
    {
      "cell_type": "code",
      "execution_count": null,
      "id": "e5a634e1-5503-4bea-b87f-e69bd9164242",
      "metadata": {
        "editable": true,
        "tags": [],
        "id": "e5a634e1-5503-4bea-b87f-e69bd9164242"
      },
      "outputs": [],
      "source": [
        "def calculate_pay(wage,hours):\n",
        "    if hours <= 40:\n",
        "        pay = wage*hours\n",
        "    else:\n",
        "        overtime_hours = hours-40\n",
        "        pay = (wage*40) + (wage*1.5*overtime_hours)\n",
        "\n",
        "    print(\"Total pay:\",pay)"
      ]
    },
    {
      "cell_type": "markdown",
      "id": "34014499-95cc-4e27-a928-41894f9622f7",
      "metadata": {
        "id": "34014499-95cc-4e27-a928-41894f9622f7"
      },
      "source": [
        "vs."
      ]
    },
    {
      "cell_type": "code",
      "execution_count": null,
      "id": "6bad389f-0a77-4e8e-9083-a07485df2bfc",
      "metadata": {
        "editable": true,
        "tags": [],
        "id": "6bad389f-0a77-4e8e-9083-a07485df2bfc"
      },
      "outputs": [],
      "source": [
        "def calculate_pay(wage,hours):\n",
        "    if hours <= 40:\n",
        "        pay = wage*hours\n",
        "    else:\n",
        "        overtime_hours = hours-40\n",
        "        pay = (wage*40) + (wage*1.5*overtime_hours)\n",
        "\n",
        "    return pay\n",
        "\n",
        "employee_database = [(\"Lola Howell\",17.65,42),(\"Nicolas Wagner\",14.05,38),(\"Marlene Ramos\",15.80,40)] #etc\n",
        "\n",
        "for employee in employee_database:\n",
        "    issue_paycheck(employee[0],calculate_pay(employee[1],employee[2]))"
      ]
    },
    {
      "cell_type": "markdown",
      "id": "ef12e1dc-d350-4184-b050-971d6c5e8daa",
      "metadata": {
        "editable": true,
        "tags": [],
        "id": "ef12e1dc-d350-4184-b050-971d6c5e8daa"
      },
      "source": [
        "## Rule of thumb\n",
        "\n",
        "Put all your user interaction (`input`, `print`, etc.) into one function like `main`, `user_interface`, etc.\n",
        "\n",
        "Most other functions shouldn't have any `print` or `input` statements at all!"
      ]
    },
    {
      "cell_type": "markdown",
      "id": "72b80929-2168-45bd-9afe-4b00768504e3",
      "metadata": {
        "editable": true,
        "tags": [],
        "id": "72b80929-2168-45bd-9afe-4b00768504e3"
      },
      "source": [
        "## In-Class Coding Activity: Infinite Monkey Theorem\n",
        "\n",
        "_A monkey hitting random keys on a typewriter for an infinite amount of time will eventually type the complete works of Shakespeare._\n",
        "\n",
        "![Chimpanzee_seated_at_typewriter.jpg](https://github.com/merriekay/CS66_F24/blob/main/images/Chimpanzee_seated_at_typewriter.jpg?raw=1)\n",
        "\n",
        "\n",
        "\n",
        "You are going to write some functions which simulate this. If we generate a bunch of random strings, how close will they get to a line of Shakespeare?\n",
        "\n",
        "After class, copy whatever code your group worked on, and put it into file called `infinite_monkey.py`, and continue working through the problems on your own computer - the result will be submitted for __Assignment 2__.\n",
        "\n",
        "This exercise is adapted from the example in Section 1.12 of the book, though note that the specific expectations of how each function works are different."
      ]
    },
    {
      "cell_type": "markdown",
      "id": "0e23804d-d5a7-4161-bf93-c9628dc7dd56",
      "metadata": {
        "editable": true,
        "tags": [],
        "id": "0e23804d-d5a7-4161-bf93-c9628dc7dd56"
      },
      "source": [
        "## Group Activity Problem 1\n",
        "\n",
        "Run the following code example. In the notes section below, describe what the code does. Also, answer the following questions in the notes: What happens when you change the 9 to a different number? What is the type of `alphabet`?"
      ]
    },
    {
      "cell_type": "code",
      "execution_count": null,
      "id": "85a35e95-66ae-43e0-bbc4-39e5a5d1a62d",
      "metadata": {
        "editable": true,
        "tags": [],
        "id": "85a35e95-66ae-43e0-bbc4-39e5a5d1a62d"
      },
      "outputs": [],
      "source": [
        "alphabet = \"abcdefghijklmnopqrstuvwxyz \"\n",
        "print( alphabet[9] )"
      ]
    },
    {
      "cell_type": "markdown",
      "id": "f44fad6b-c7e4-44fd-88cd-7516e20a9590",
      "metadata": {
        "editable": true,
        "tags": [],
        "id": "f44fad6b-c7e4-44fd-88cd-7516e20a9590"
      },
      "source": [
        "### Notes:\n",
        "\n",
        "_write your notes here_"
      ]
    },
    {
      "cell_type": "markdown",
      "id": "7d8cc024-c12f-4891-8c5f-dc970dc40a06",
      "metadata": {
        "id": "7d8cc024-c12f-4891-8c5f-dc970dc40a06"
      },
      "source": [
        "## Group Activity Problem 2\n",
        "\n",
        "Run the following code example multiple times. In the notes section below, describe what the code does. Also, answer the following questions in the notes: What is the purpose of the import statement? Is it possible for a 26 to be printed by this code? What happens when you change the 26 to a different number?"
      ]
    },
    {
      "cell_type": "code",
      "execution_count": null,
      "id": "ed5c71f7-aa8d-476a-90a6-b3fc6fd448b1",
      "metadata": {
        "id": "ed5c71f7-aa8d-476a-90a6-b3fc6fd448b1"
      },
      "outputs": [],
      "source": [
        "import random\n",
        "\n",
        "print( random.randint(0,26) )"
      ]
    },
    {
      "cell_type": "markdown",
      "id": "c70463d6-5101-404c-8206-7e62196cc618",
      "metadata": {
        "id": "c70463d6-5101-404c-8206-7e62196cc618"
      },
      "source": [
        "### Notes:\n",
        "\n",
        "_write your notes here_"
      ]
    },
    {
      "cell_type": "markdown",
      "id": "d74000a9-3dc0-4077-a9f4-24eb8acdd2e2",
      "metadata": {
        "id": "d74000a9-3dc0-4077-a9f4-24eb8acdd2e2"
      },
      "source": [
        "## Group Activity Problem 3\n",
        "\n",
        "Run the following code example multiple times. In the notes section below, describe what the code does. Also, answer the following questions in the notes: What effect would changing the 26 to a different number have on this code? Is there a better way to write this code that avoids having to hard-code the literal 26 into the code?"
      ]
    },
    {
      "cell_type": "code",
      "execution_count": null,
      "id": "d9f28755-bf5d-43e0-b07b-ad06bb608eb1",
      "metadata": {
        "id": "d9f28755-bf5d-43e0-b07b-ad06bb608eb1"
      },
      "outputs": [],
      "source": [
        "import random\n",
        "\n",
        "alphabet = \"abcdefghijklmnopqrstuvwxyz \"\n",
        "print( alphabet[ random.randint(0,26) ] )"
      ]
    },
    {
      "cell_type": "markdown",
      "id": "a87a5b76-e3a5-4160-8baa-a049c3fe550f",
      "metadata": {
        "id": "a87a5b76-e3a5-4160-8baa-a049c3fe550f"
      },
      "source": [
        "### Notes:\n",
        "\n",
        "_write your notes here_"
      ]
    },
    {
      "cell_type": "markdown",
      "id": "3a49092c-ddf6-47e0-9743-3719cd167c77",
      "metadata": {
        "id": "3a49092c-ddf6-47e0-9743-3719cd167c77"
      },
      "source": [
        "## Group Activity Problem 4\n",
        "\n",
        "The code below turns the above code into a function. Write the function call that will cause this function to run multiple times. Notice that this function prints its result, but to be more useful, it should instead return it. Go ahead and fix that, and then adjust your call to the function so that it will print the returned value."
      ]
    },
    {
      "cell_type": "code",
      "execution_count": null,
      "id": "44445df3-0029-42bc-ae4f-55864666cde7",
      "metadata": {
        "id": "44445df3-0029-42bc-ae4f-55864666cde7"
      },
      "outputs": [],
      "source": [
        "import random\n",
        "\n",
        "def random_letter():\n",
        "    alphabet = \"abcdefghijklmnopqrstuvwxyz \"\n",
        "    print( alphabet[ random.randint(0,26) ] )"
      ]
    },
    {
      "cell_type": "markdown",
      "id": "09cd4c21-5eec-4bcb-a75a-dd5520145181",
      "metadata": {
        "id": "09cd4c21-5eec-4bcb-a75a-dd5520145181"
      },
      "source": [
        "### Notes:\n",
        "\n",
        "_write your notes here_"
      ]
    },
    {
      "cell_type": "markdown",
      "id": "9e24b450-0806-44c7-9ef6-9d8b858298f9",
      "metadata": {
        "id": "9e24b450-0806-44c7-9ef6-9d8b858298f9"
      },
      "source": [
        "## Group Activity Problem 5\n",
        "\n",
        "Run the following code example multiple times. In the notes section below, describe what the code does. Also, answer the following questions in the notes: What effect does changing the number 28 to another number have? What is the type of the `random_string` variable? What is the purpose of the `+=` operator in this code?"
      ]
    },
    {
      "cell_type": "code",
      "execution_count": null,
      "id": "da79e3ae-845c-4db3-96e4-a6e3517537b9",
      "metadata": {
        "id": "da79e3ae-845c-4db3-96e4-a6e3517537b9"
      },
      "outputs": [],
      "source": [
        "random_string = \"\"\n",
        "for i in range(28):\n",
        "    random_string += random_letter()\n",
        "print(random_string)"
      ]
    },
    {
      "cell_type": "markdown",
      "id": "ef77353f-779a-4efa-94db-cbfc1f4fac44",
      "metadata": {
        "id": "ef77353f-779a-4efa-94db-cbfc1f4fac44"
      },
      "source": [
        "### Notes:\n",
        "\n",
        "_write your notes here_"
      ]
    },
    {
      "cell_type": "markdown",
      "id": "ae45679e-f8bb-41b9-89a8-2191559d17c9",
      "metadata": {
        "id": "ae45679e-f8bb-41b9-89a8-2191559d17c9"
      },
      "source": [
        "## Group Activity Problem 6\n",
        "\n",
        "Create a function called `random_text` based on the code from the previous problem. It should allow a number to be passed to the function as an __argument__, and it should __return__ a random string with that many characters in it. It should work if we test it with some code like this:"
      ]
    },
    {
      "cell_type": "code",
      "execution_count": null,
      "id": "c197221c-7043-4f00-91f7-d49a7d6b0c91",
      "metadata": {
        "id": "c197221c-7043-4f00-91f7-d49a7d6b0c91"
      },
      "outputs": [],
      "source": [
        "#write your code for the definition of the random_text function here\n",
        "\n",
        "print( random_text(28) ) #generates random text with 28 characters in it, e.g., lzqnnzantpgfmmkziadskr tzwez\n",
        "print( random_text(5) ) #generates random text with 5 characters in it, e.g., bnhou\n",
        "print( random_text(50) ) #e.g., hiep hwx tfkvbjjyqycaefvsbqipaylnqeiujhccvvpvelsxk"
      ]
    },
    {
      "cell_type": "markdown",
      "id": "f9c30e36-9b9b-485f-9a96-69f8d9f1845e",
      "metadata": {
        "id": "f9c30e36-9b9b-485f-9a96-69f8d9f1845e"
      },
      "source": [
        "### Notes:\n",
        "\n",
        "_write your notes here_"
      ]
    },
    {
      "cell_type": "markdown",
      "id": "c679c0d4-f8b5-4c3f-ba83-d28e2d76b7f0",
      "metadata": {
        "id": "c679c0d4-f8b5-4c3f-ba83-d28e2d76b7f0"
      },
      "source": [
        "## Group Activity Problem 7\n",
        "\n",
        "Write a function called `score` that will tell us how close some random text is to some goal text. It should work as follows:\n",
        "\n",
        "* take two arguments with strings to be compared\n",
        "* loop through the indexes of one of the strings (you can assume the two strings have the same length)\n",
        "* compare each character in one string to the corresponding character in the other string\n",
        "* add 1 to an accumulator variable when you find the same letter at the same position in both strings\n",
        "* return the number of characters that match\n",
        "\n",
        "You should be able to call it like this"
      ]
    },
    {
      "cell_type": "code",
      "execution_count": null,
      "id": "1e1b05d0-ccf0-4e7c-a30a-aa2f936c6e8a",
      "metadata": {
        "id": "1e1b05d0-ccf0-4e7c-a30a-aa2f936c6e8a"
      },
      "outputs": [],
      "source": [
        "#write your code for the definition of the score function here\n",
        "\n",
        "print( score(\"test string 1\",\"test string 2\") )  #should print 12\n",
        "\n",
        "goal_shakespeare = \"methinks it is like a weasel\"\n",
        "random_test_string = random_text(len(goal_shakespeare)) #generate a random string with the same length as the goal string\n",
        "print( score(random_test_string, goal_shakespeare) ) #print how many characters they have in common"
      ]
    },
    {
      "cell_type": "markdown",
      "id": "8287035e-2797-4ed0-861d-0397cad8163b",
      "metadata": {
        "id": "8287035e-2797-4ed0-861d-0397cad8163b"
      },
      "source": [
        "### Notes:\n",
        "\n",
        "_write your notes here_"
      ]
    },
    {
      "cell_type": "markdown",
      "id": "fdc3197c-786f-4272-bb71-96591641919d",
      "metadata": {
        "editable": true,
        "tags": [],
        "id": "fdc3197c-786f-4272-bb71-96591641919d"
      },
      "source": [
        "## Group Activity Problem 8\n",
        "\n",
        "Write a function called `monkey_experiment` that takes in a goal string (e.g., `\"methinks it is like a weasel\"`) and a number of iterations as an argument. Run the experiment for that many iterations, and return a tuple with the highest-scoring text that was generated along with the score that it got.\n",
        "\n",
        "That is, your function should have a loop that does something like this many many times (i.e., the number of times that is passed in as an argument):"
      ]
    },
    {
      "cell_type": "code",
      "execution_count": null,
      "id": "e3a64be2-78c4-4b0e-9a13-77c91d2f81cd",
      "metadata": {
        "id": "e3a64be2-78c4-4b0e-9a13-77c91d2f81cd"
      },
      "outputs": [],
      "source": [
        "random_test_string = random_text(len(goal_shakespeare))\n",
        "print( score(random_test_string, goal_shakespeare) )"
      ]
    },
    {
      "cell_type": "markdown",
      "id": "5e7b2cbc-d801-4069-a758-4c7f4d26c006",
      "metadata": {
        "editable": true,
        "tags": [],
        "id": "5e7b2cbc-d801-4069-a758-4c7f4d26c006"
      },
      "source": [
        "__Hint:__ You should have a variable for keeping track of the best score you've found so far, and another variable for saving the string that is associated with that best score. Whenever you find one with a better score, update these variables."
      ]
    },
    {
      "cell_type": "markdown",
      "id": "34abe389-f178-4b79-a48b-79db0559c711",
      "metadata": {
        "id": "34abe389-f178-4b79-a48b-79db0559c711"
      },
      "source": [
        "You should also test your function with several different goal strings and numbers of iterations - something like this:"
      ]
    },
    {
      "cell_type": "code",
      "execution_count": null,
      "id": "7f49aeed-3f2c-45b8-bc7d-d0059d0c130b",
      "metadata": {
        "editable": true,
        "tags": [],
        "id": "7f49aeed-3f2c-45b8-bc7d-d0059d0c130b"
      },
      "outputs": [],
      "source": [
        "#write your code for the definition of the monkey_experiment function here\n",
        "\n",
        "print(monkey_experiment(\"methinks it is like a weasel\",100000))\n",
        "print(monkey_experiment(\"methinks it is like a weasel\",100))\n",
        "print(monkey_experiment(\"brevity is the soul of wit\",100000))\n",
        "print(monkey_experiment(\"to be\",100000))\n",
        "print(monkey_experiment(\"to be\",200000))\n",
        "print(monkey_experiment(\"to be\",500000))"
      ]
    },
    {
      "cell_type": "markdown",
      "id": "5f2249c8-98ac-4b88-9470-1940ec9a81d5",
      "metadata": {
        "editable": true,
        "tags": [],
        "id": "5f2249c8-98ac-4b88-9470-1940ec9a81d5"
      },
      "source": [
        "When I tested my function, I got results that look like this for the above tests:\n",
        "\n",
        "```\n",
        "('yetha  xqtynpxgfkkoaedweasf ', 8)\n",
        "('ktsnmgoknxlkldupuce jgvnaael', 5)\n",
        "('vfcmitu emgthe h svidavhhs', 7)\n",
        "('lo be', 4)\n",
        "('tf by', 3)\n",
        "('toube', 4)\n",
        "```"
      ]
    },
    {
      "cell_type": "markdown",
      "id": "0b61bfe3-3fd5-4ed9-9b57-4e785156867d",
      "metadata": {
        "editable": true,
        "tags": [],
        "id": "0b61bfe3-3fd5-4ed9-9b57-4e785156867d"
      },
      "source": [
        "## You should be working on:\n",
        "- [Assignment #1: `search_for`](https://analytics.drake.edu/~moore/CS66-F24/Assignment1.html) due Thursday 9/5 by 11:59 pm -- Submit via CodePost\n",
        "- [Assignment #2: Infinite Monkey](https://analytics.drake.edu/~moore/CS66-F24/Assignment2.html) due Tuesday, 9/11 by 11:59 pm -- Submit via CodePost"
      ]
    }
  ],
  "metadata": {
    "kernelspec": {
      "display_name": "Python 3 (ipykernel)",
      "language": "python",
      "name": "python3"
    },
    "language_info": {
      "codemirror_mode": {
        "name": "ipython",
        "version": 3
      },
      "file_extension": ".py",
      "mimetype": "text/x-python",
      "name": "python",
      "nbconvert_exporter": "python",
      "pygments_lexer": "ipython3",
      "version": "3.12.4"
    },
    "colab": {
      "provenance": [],
      "include_colab_link": true
    }
  },
  "nbformat": 4,
  "nbformat_minor": 5
}