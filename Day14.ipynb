{
  "cells": [
    {
      "cell_type": "markdown",
      "metadata": {
        "id": "view-in-github",
        "colab_type": "text"
      },
      "source": [
        "<a href=\"https://colab.research.google.com/github/merriekay/CS66_F24/blob/main/Day14.ipynb\" target=\"_parent\"><img src=\"https://colab.research.google.com/assets/colab-badge.svg\" alt=\"Open In Colab\"/></a>"
      ]
    },
    {
      "cell_type": "markdown",
      "id": "7efdaff4-fa24-44b1-8fbc-14efeaf53acf",
      "metadata": {
        "editable": true,
        "tags": [],
        "id": "7efdaff4-fa24-44b1-8fbc-14efeaf53acf"
      },
      "source": [
        "#  Classes Part III: Hiding Attribute and Container Classes\n",
        "## Day14\n",
        "\n",
        "### CS66: Introduction to Computer Science II | Fall 2024\n",
        "\n",
        "Thursday, October 17th, 2024\n",
        "\n",
        "### Helpful Resources:\n",
        "[📜 Syllabus](https://docs.google.com/document/d/1lnkmnAm0tfw2ybqhS01ylSqKfkOcAAkmrrZUuDjwHuU/edit?usp=drive_link) | [📬 CodePost Login](https://codepost.io/login) | [📆 Schedule](https://docs.google.com/spreadsheets/d/1FW9s8S04zqpOaA13JyrlNPszk5D-H9dBi7xX6o5VpgY/edit?usp=drive_link) | [🙋‍♂️ PollEverywhere](https://pollev.com/moore) | [🪴 Office Hour Sign-Up](https://calendly.com/meredith-moore/office-hours)"
      ]
    },
    {
      "cell_type": "markdown",
      "id": "353f2601-06b0-4d36-b13d-e411a99e441e",
      "metadata": {
        "editable": true,
        "tags": [],
        "id": "353f2601-06b0-4d36-b13d-e411a99e441e"
      },
      "source": [
        "# Announcements:"
      ]
    },
    {
      "cell_type": "markdown",
      "id": "7d7e5be7-cc44-4880-9d9a-81b9542185e7",
      "metadata": {
        "editable": true,
        "tags": [],
        "id": "7d7e5be7-cc44-4880-9d9a-81b9542185e7"
      },
      "source": [
        "## You should be working on:\n",
        "\n",
        "### [Assignment #8: `PlayingCard` and `Deck`](https://analytics.drake.edu/~moore/CS66-F24/Assignment8.html)\n",
        "- released today, due Tuesday, October 22nd, by 11:59pm"
      ]
    },
    {
      "cell_type": "markdown",
      "id": "ce90726b-a2df-470d-94b1-0d9a8c08e971",
      "metadata": {
        "editable": true,
        "tags": [],
        "id": "ce90726b-a2df-470d-94b1-0d9a8c08e971"
      },
      "source": [
        "## Internship Opportunities:\n",
        "- [Wellmark BlueX Program](https://www.drake.edu/cs/internships/wellmarkbluextechnologyappliedlearningprogram/): Open to fist year students, provides mentorship\n",
        "    -  [[video](https://drake.hosted.panopto.com/Panopto/Pages/Viewer.aspx?id=bdef451f-91a0-479c-a90c-aabd00d8ed0d)]\n",
        "    -  application deadline extended until __October 22nd by 11:59 pm__"
      ]
    },
    {
      "cell_type": "markdown",
      "id": "c071f371-2472-46ad-8d07-4d4a131b3164",
      "metadata": {
        "editable": true,
        "tags": [],
        "id": "c071f371-2472-46ad-8d07-4d4a131b3164"
      },
      "source": [
        "- [Vermeer Digital Bulldogs](https://www.drake.edu/cs/internships/vermeerdigitalbulldogs/)\n",
        "    - Open to _sophomore_ students\n",
        "    - [[video](https://analytics.drake.edu/~urness/vermeer/DigitalBulldogs.mp4)]\n",
        "    - Application deadline extended until __October 22nd by 11:59m__"
      ]
    },
    {
      "cell_type": "markdown",
      "id": "105b86af-cb38-40f5-bc6f-18f2f3bcb025",
      "metadata": {
        "editable": true,
        "tags": [],
        "id": "105b86af-cb38-40f5-bc6f-18f2f3bcb025"
      },
      "source": [
        "> very few have applied so far... we want to keep these programs alive, please apply if you're at all interested."
      ]
    },
    {
      "cell_type": "markdown",
      "id": "132e435e-b630-4f41-b5d8-9bfa7e9a7be1",
      "metadata": {
        "editable": true,
        "tags": [],
        "id": "132e435e-b630-4f41-b5d8-9bfa7e9a7be1"
      },
      "source": [
        "## References for this lecture\n",
        "\n",
        "Problem Solving with Algorithms and Data Structures using Python\n",
        "\n",
        "Section 1.13: [https://runestone.academy/ns/books/published/pythonds/Introduction/ObjectOrientedProgramminginPythonDefiningClasses.html](https://runestone.academy/ns/books/published/pythonds/Introduction/ObjectOrientedProgramminginPythonDefiningClasses.html)\n",
        "\n",
        "Section 2.1: [https://runestone.academy/ns/books/published/pythonds/ProperClasses/a_proper_python_class.html](https://runestone.academy/ns/books/published/pythonds/ProperClasses/a_proper_python_class.html)\n",
        "\n",
        "Section 3.6 (Big O of list operations): [https://runestone.academy/ns/books/published/pythonds/AlgorithmAnalysis/Lists.html](https://runestone.academy/ns/books/published/pythonds/AlgorithmAnalysis/Lists.html)\n",
        "\n",
        "Section 4.5, 4.6 (Stack implementation), 4.11, 4.12 (Queue Implementation): [https://runestone.academy/ns/books/published/pythonds/BasicDS/toctree.html](https://runestone.academy/ns/books/published/pythonds/BasicDS/toctree.html)"
      ]
    },
    {
      "cell_type": "markdown",
      "id": "85e381b6-ce4f-4fff-a4fb-dee632996431",
      "metadata": {
        "editable": true,
        "tags": [],
        "id": "85e381b6-ce4f-4fff-a4fb-dee632996431"
      },
      "source": [
        "## Picking up the example from last time\n",
        "\n",
        "Last time, we got our `PlayingCard` class to this point"
      ]
    },
    {
      "cell_type": "code",
      "execution_count": null,
      "id": "8059592c-7622-4801-a34c-6581a34574a5",
      "metadata": {
        "editable": true,
        "tags": [],
        "id": "8059592c-7622-4801-a34c-6581a34574a5",
        "outputId": "1cc798a5-ad86-4147-e507-89c489bea6e2"
      },
      "outputs": [
        {
          "name": "stdout",
          "output_type": "stream",
          "text": [
            "Here's what the card looks like: 11♢\n",
            "Player 2 wins the hand\n"
          ]
        }
      ],
      "source": [
        "class PlayingCard:\n",
        "\n",
        "    def __init__(self,v,s):\n",
        "        self.value = v\n",
        "        self.suit = s\n",
        "\n",
        "    def __repr__(self):\n",
        "        return str(self.value)+str(self.suit)\n",
        "\n",
        "\n",
        "    def __lt__(self,other):\n",
        "        #return (self.value < other.value)\n",
        "        if self.value < other.value:\n",
        "            return True\n",
        "        else:\n",
        "            return False\n",
        "\n",
        "two_of_clubs = PlayingCard(2,\"♣\")\n",
        "two_of_hearts = PlayingCard(2,\"♡\")\n",
        "ten_of_hearts = PlayingCard(10,\"♡\")\n",
        "seven_of_spades = PlayingCard(7,\"♠\")\n",
        "four_of_diamonds = PlayingCard(4,\"♢\")\n",
        "jack_of_diamonds = PlayingCard(11,\"♢\")\n",
        "\n",
        "print(\"Here's what the card looks like:\",jack_of_diamonds)\n",
        "if two_of_clubs < ten_of_hearts:\n",
        "    print(\"Player 2 wins the hand\")"
      ]
    },
    {
      "cell_type": "markdown",
      "id": "e0b60282-eec3-4074-b794-3e1690818318",
      "metadata": {
        "editable": true,
        "tags": [],
        "id": "e0b60282-eec3-4074-b794-3e1690818318"
      },
      "source": [
        "## 🂫 Warm-Up Exercise\n",
        "\n",
        "Add a method to the `PlayingCard` class called `face` that doesn't take any parameters (other than `self`, of course), but looks at the value (`self.value`) and if it's between 11-14, it will return the 'face' of the card (i.e. for an 11 it will return `J` as in cards an 11 is a Jack). If it is less than 11, you can just return the `self.value`.\n",
        "\n",
        "Once you've implemented this, change the `__repr__()` method so that it will print out the face values rather than the numeric values."
      ]
    },
    {
      "cell_type": "code",
      "execution_count": null,
      "id": "a3639495-ab4e-46e6-ab5a-bf865e94b510",
      "metadata": {
        "editable": true,
        "tags": [],
        "id": "a3639495-ab4e-46e6-ab5a-bf865e94b510"
      },
      "outputs": [],
      "source": []
    },
    {
      "cell_type": "code",
      "execution_count": null,
      "id": "289c8deb-3322-42f4-828b-08d3a3da0758",
      "metadata": {
        "editable": true,
        "tags": [],
        "id": "289c8deb-3322-42f4-828b-08d3a3da0758"
      },
      "outputs": [],
      "source": [
        "    def face(self):\n",
        "        if self.value == 11:\n",
        "            return \"J\"\n",
        "        elif self.value == 12:\n",
        "            return \"Q\"\n",
        "        elif self.value == 13:\n",
        "            return \"K\"\n",
        "        elif self.value == 14:\n",
        "            return \"A\"\n",
        "        else:\n",
        "            return str(self.value)"
      ]
    },
    {
      "cell_type": "markdown",
      "id": "30c6c58b-b903-491c-8955-0f6bda894799",
      "metadata": {
        "editable": true,
        "tags": [],
        "id": "30c6c58b-b903-491c-8955-0f6bda894799"
      },
      "source": [
        "## Controlling Access\n",
        "\n",
        "When designing a class, you should plan for how to protect against accidental misuse.\n",
        "\n",
        "For example, what happens if someone tries to do this?"
      ]
    },
    {
      "cell_type": "code",
      "execution_count": null,
      "id": "bfd63501-a38e-4b73-9666-302cd3f46dbe",
      "metadata": {
        "id": "bfd63501-a38e-4b73-9666-302cd3f46dbe"
      },
      "outputs": [],
      "source": [
        "pikachu = PlayingCard(\"Pikachu\",40)"
      ]
    },
    {
      "cell_type": "markdown",
      "id": "dd3fb947-322f-4fa8-9052-bada9157b202",
      "metadata": {
        "id": "dd3fb947-322f-4fa8-9052-bada9157b202"
      },
      "source": [
        "This particular class is only meant to represent standard French playing cards, so this should cause some kind of error.\n",
        "\n",
        "One way to handle it might be like this:"
      ]
    },
    {
      "cell_type": "code",
      "execution_count": null,
      "id": "7ddcd3a4-939f-4fa0-a841-f944a3f4eca8",
      "metadata": {
        "id": "7ddcd3a4-939f-4fa0-a841-f944a3f4eca8",
        "outputId": "7ca7f816-b4f3-491d-aa31-2fbcd09dd1a6"
      },
      "outputs": [
        {
          "ename": "Exception",
          "evalue": "A PlayingCard's value must be an integer in the range 2-14.",
          "output_type": "error",
          "traceback": [
            "\u001b[0;31m---------------------------------------------------------------------------\u001b[0m",
            "\u001b[0;31mException\u001b[0m                                 Traceback (most recent call last)",
            "Input \u001b[0;32mIn [6]\u001b[0m, in \u001b[0;36m<cell line: 10>\u001b[0;34m()\u001b[0m\n\u001b[1;32m      7\u001b[0m         \u001b[38;5;28mself\u001b[39m\u001b[38;5;241m.\u001b[39mvalue \u001b[38;5;241m=\u001b[39m v\n\u001b[1;32m      8\u001b[0m         \u001b[38;5;28mself\u001b[39m\u001b[38;5;241m.\u001b[39msuit \u001b[38;5;241m=\u001b[39m s\n\u001b[0;32m---> 10\u001b[0m twentyseven_of_clubs \u001b[38;5;241m=\u001b[39m \u001b[43mPlayingCard\u001b[49m\u001b[43m(\u001b[49m\u001b[38;5;241;43m27\u001b[39;49m\u001b[43m,\u001b[49m\u001b[38;5;124;43m\"\u001b[39;49m\u001b[38;5;124;43m♣\u001b[39;49m\u001b[38;5;124;43m\"\u001b[39;49m\u001b[43m)\u001b[49m\n\u001b[1;32m     11\u001b[0m pikachu \u001b[38;5;241m=\u001b[39m PlayingCard(\u001b[38;5;124m\"\u001b[39m\u001b[38;5;124mPikachu\u001b[39m\u001b[38;5;124m\"\u001b[39m,\u001b[38;5;241m40\u001b[39m)\n",
            "Input \u001b[0;32mIn [6]\u001b[0m, in \u001b[0;36mPlayingCard.__init__\u001b[0;34m(self, v, s)\u001b[0m\n\u001b[1;32m      3\u001b[0m \u001b[38;5;28;01mdef\u001b[39;00m \u001b[38;5;21m__init__\u001b[39m(\u001b[38;5;28mself\u001b[39m,v,s):\n\u001b[1;32m      5\u001b[0m     \u001b[38;5;28;01mif\u001b[39;00m (\u001b[38;5;28mtype\u001b[39m(v) \u001b[38;5;241m!=\u001b[39m \u001b[38;5;28mint\u001b[39m) \u001b[38;5;129;01mor\u001b[39;00m v \u001b[38;5;241m>\u001b[39m \u001b[38;5;241m14\u001b[39m \u001b[38;5;129;01mor\u001b[39;00m v \u001b[38;5;241m<\u001b[39m \u001b[38;5;241m2\u001b[39m:\n\u001b[0;32m----> 6\u001b[0m         \u001b[38;5;28;01mraise\u001b[39;00m \u001b[38;5;167;01mException\u001b[39;00m(\u001b[38;5;124m\"\u001b[39m\u001b[38;5;124mA PlayingCard\u001b[39m\u001b[38;5;124m'\u001b[39m\u001b[38;5;124ms value must be an integer in the range 2-14.\u001b[39m\u001b[38;5;124m\"\u001b[39m)\n\u001b[1;32m      7\u001b[0m     \u001b[38;5;28mself\u001b[39m\u001b[38;5;241m.\u001b[39mvalue \u001b[38;5;241m=\u001b[39m v\n\u001b[1;32m      8\u001b[0m     \u001b[38;5;28mself\u001b[39m\u001b[38;5;241m.\u001b[39msuit \u001b[38;5;241m=\u001b[39m s\n",
            "\u001b[0;31mException\u001b[0m: A PlayingCard's value must be an integer in the range 2-14."
          ]
        }
      ],
      "source": [
        "class PlayingCard:\n",
        "\n",
        "    def __init__(self,v,s):\n",
        "\n",
        "        if (type(v) != int) or v > 14 or v < 2:\n",
        "            raise Exception(\"A PlayingCard's value must be an integer in the range 2-14.\")\n",
        "        self.value = v\n",
        "        self.suit = s\n",
        "\n",
        "twentyseven_of_clubs = PlayingCard(27,\"♣\")\n",
        "pikachu = PlayingCard(\"Pikachu\",40)"
      ]
    },
    {
      "cell_type": "markdown",
      "id": "b219f01e-b50d-4188-a529-69ed54cf852f",
      "metadata": {
        "editable": true,
        "tags": [],
        "id": "b219f01e-b50d-4188-a529-69ed54cf852f"
      },
      "source": [
        "## Hiding Attributes\n",
        "\n",
        "By convention, any attribute or method whose name starts with an underscore should be treated as __private__, meaning you shouldn't change the variable outside the class.\n",
        "\n",
        "`self._value`\n",
        "\n",
        "\n",
        "If it doesn't start with an underscore, it is __public__ and changing it outside the class is fair game.\n",
        "\n",
        "If you start it with _two_ underscores, then Python performs __name mangling__, which doesn't let you change the name outside the class (unless you do something extra to get around the mangling).\n",
        "\n",
        "`self.__value`\n"
      ]
    },
    {
      "cell_type": "code",
      "execution_count": null,
      "id": "be6d8e7b-6fef-4622-a3a9-f009e44102f5",
      "metadata": {
        "editable": true,
        "tags": [],
        "id": "be6d8e7b-6fef-4622-a3a9-f009e44102f5",
        "outputId": "963cc842-db0f-45f0-a889-fba496aa047a"
      },
      "outputs": [
        {
          "name": "stdout",
          "output_type": "stream",
          "text": [
            "2♣\n"
          ]
        }
      ],
      "source": [
        "class PlayingCard:\n",
        "\n",
        "    def __init__(self,v,s):\n",
        "\n",
        "        if type(v) != type(1) or v > 14 or v < 2:\n",
        "            raise Exception(\"A PlayingCard's value must be an integer in the range 2-14.\")\n",
        "        self.__value = v\n",
        "        self.__suit = s\n",
        "\n",
        "    def __repr__(self):\n",
        "        return str(self.__value)+str(self.__suit)\n",
        "\n",
        "pikachu = PlayingCard(2,\"♣\")\n",
        "pikachu.__value = \"Pikachu\"  #this doesn't actually change self.__value\n",
        "pikachu.__suit = 40\n",
        "print(pikachu)\n"
      ]
    },
    {
      "cell_type": "markdown",
      "id": "73c0c5f7-2466-4b34-b57e-e7203f8e5ae7",
      "metadata": {
        "editable": true,
        "tags": [],
        "id": "73c0c5f7-2466-4b34-b57e-e7203f8e5ae7"
      },
      "source": [
        "## Group Activity Problem 1\n",
        "\n",
        "Update your class so that `self.value` and `self.suit` are hidden (private/mangled)."
      ]
    },
    {
      "cell_type": "markdown",
      "id": "13b70721-9357-443f-967f-e3219c826e1a",
      "metadata": {
        "editable": true,
        "tags": [],
        "id": "13b70721-9357-443f-967f-e3219c826e1a"
      },
      "source": [
        "## Container Classes\n",
        "\n",
        "__Container__ types are types meant to hold collections of other data - like lists, dictionaries, sets, and tuples.\n",
        "\n",
        "We will create our own container classes in this course - it's one of the main thing this course is about.\n",
        "\n",
        "Many custom container classes are built on top of existing containers, but by using data hiding and limited methods, they can control how the container can be used."
      ]
    },
    {
      "cell_type": "markdown",
      "id": "93c752c5-93f8-438c-a706-8fe681236fa4",
      "metadata": {
        "editable": true,
        "tags": [],
        "id": "93c752c5-93f8-438c-a706-8fe681236fa4"
      },
      "source": [
        "## Let's create a `Deck` class\n",
        "* purpose: keep track of a collection of playing cards\n",
        "* build on top of a list\n",
        "* only allow cards to be added and removed from the \"top\" of the deck"
      ]
    },
    {
      "cell_type": "code",
      "execution_count": null,
      "id": "29a480e8-e675-4852-8430-99b3454e3f29",
      "metadata": {
        "editable": true,
        "tags": [],
        "id": "29a480e8-e675-4852-8430-99b3454e3f29"
      },
      "outputs": [],
      "source": [
        "# Demo: let's define our Deck class here and create a method called put_on_top\n",
        "# for placing new cards on the deck, and another called remove_from_top\n",
        "# to remove a card from the top of the deck and return it"
      ]
    },
    {
      "cell_type": "code",
      "execution_count": null,
      "id": "bd9ca045-4759-4940-be58-d7474ae9bde3",
      "metadata": {
        "editable": true,
        "tags": [],
        "id": "bd9ca045-4759-4940-be58-d7474ae9bde3",
        "outputId": "35f34549-cb1c-4ef9-a78a-394841e2a298"
      },
      "outputs": [
        {
          "name": "stdout",
          "output_type": "stream",
          "text": [
            "4♢\n",
            "7♠\n",
            "10♡\n"
          ]
        }
      ],
      "source": [
        "#Here's a working version for your notes.\n",
        "class Deck:\n",
        "\n",
        "    def __init__(self):\n",
        "        self.__card_list = []  #the deck will be initially empty\n",
        "\n",
        "    def put_on_top(self,card):\n",
        "        self.__card_list.append(card)\n",
        "\n",
        "    def remove_from_top(self):\n",
        "        if len(self.__card_list) == 0:\n",
        "            raise Exception(\"This deck has no cards left.\")\n",
        "        else:\n",
        "            return self.__card_list.pop()\n",
        "\n",
        "\n",
        "two_of_clubs = PlayingCard(2,\"♣\")\n",
        "ten_of_hearts = PlayingCard(10,\"♡\")\n",
        "seven_of_spades = PlayingCard(7,\"♠\")\n",
        "four_of_diamonds = PlayingCard(4,\"♢\")\n",
        "\n",
        "my_deck = Deck()\n",
        "my_deck.put_on_top(two_of_clubs)\n",
        "my_deck.put_on_top(ten_of_hearts)\n",
        "my_deck.put_on_top(seven_of_spades)\n",
        "my_deck.put_on_top(four_of_diamonds)\n",
        "\n",
        "print( my_deck.remove_from_top() )\n",
        "print( my_deck.remove_from_top() )\n",
        "print( my_deck.remove_from_top() )\n"
      ]
    },
    {
      "cell_type": "markdown",
      "id": "fc0aee17-351e-428a-8c35-46d3ab78c88f",
      "metadata": {
        "editable": true,
        "tags": [],
        "id": "fc0aee17-351e-428a-8c35-46d3ab78c88f"
      },
      "source": [
        "#### Why is this better than just using a list?\n",
        "\n",
        "* We know that we won't accidentally insert a card on the bottom or middle of the deck - it's safer for the rest of our code.\n",
        "* We can add custom methods to do things that lists don't do"
      ]
    },
    {
      "cell_type": "markdown",
      "id": "856d3a4f-b7ec-4049-85c4-f73597c55b45",
      "metadata": {
        "editable": true,
        "tags": [],
        "id": "856d3a4f-b7ec-4049-85c4-f73597c55b45"
      },
      "source": [
        "## Group Activity Problem 2\n",
        "\n",
        "Put your code for the `PlayingCard` and `Deck` into a file called `carddeck.py`, and implement the following methods for the Deck class:\n",
        "\n",
        "* `__repr__()`\n",
        "* `shuffle()` - allows the deck to be mixed around in random order (if you're stuck, Google how to shuffle a list)\n",
        "* `is_empty()` - returns True or False depending on if the deck is empty\n",
        "\n",
        "If you did it right, your `PlayingCard` and `Deck` classes should work with the following code, which is a simple game of high-card. On each turn, both players draw a card from the deck, and the one with the higher card value gets a point."
      ]
    },
    {
      "cell_type": "code",
      "execution_count": null,
      "id": "29e1bb81-ad73-46ee-9a0d-e88e3806c26a",
      "metadata": {
        "editable": true,
        "tags": [],
        "id": "29e1bb81-ad73-46ee-9a0d-e88e3806c26a"
      },
      "outputs": [],
      "source": [
        "high_card_deck = Deck()\n",
        "\n",
        "#create each of the 52 playing cards and put them in the deck\n",
        "suits = [\"♠\",\"♣\",\"♡\",\"♢\"]\n",
        "for s in suits:\n",
        "    for v in range(2,15):\n",
        "        curr_card = PlayingCard(v,s)\n",
        "        high_card_deck.put_on_top(curr_card)\n",
        "\n",
        "#look at the deck both before and after shuffling\n",
        "print(\"Here's the pre-shuffled deck:\",high_card_deck)\n",
        "high_card_deck.shuffle()\n",
        "print(\"Here's the deck after the shuffle:\",high_card_deck)\n",
        "\n",
        "#initialize both player's scores to 0\n",
        "p1score = 0\n",
        "p2score = 0\n",
        "\n",
        "#keep going until all cards are dealt out\n",
        "while not high_card_deck.is_empty():\n",
        "\n",
        "    #draw a card for each player\n",
        "    p1card = high_card_deck.remove_from_top()\n",
        "    p2card = high_card_deck.remove_from_top()\n",
        "\n",
        "    print(\"Player 1:\",p1card,\", Player 2:\",p2card)\n",
        "\n",
        "    #check which player wins this hand\n",
        "    if p1card > p2card:\n",
        "        p1score += 1\n",
        "        print(\"Player 1 wins this hand.\")\n",
        "    elif p1card < p2card:\n",
        "        p2score += 1\n",
        "        print(\"Player 2 wins this hand.\")\n",
        "    else:\n",
        "        print(\"This hand is a draw.\")\n",
        "\n",
        "\n",
        "#Figure out who wins and display the game-end message\n",
        "print(\"Player 1 score:\",p1score,\", Player 2 score:\",p2score)\n",
        "if p1score > p2score:\n",
        "    print(\"Player 1 wins the game!!!\")\n",
        "elif p2score > p1score:\n",
        "    print(\"Player 2 wins the game!!!\")\n",
        "else:\n",
        "    print(\"The game is a tie :(\")"
      ]
    },
    {
      "cell_type": "markdown",
      "id": "c7560d28-0fc6-4251-95e1-3c24a605a5eb",
      "metadata": {
        "editable": true,
        "tags": [],
        "id": "c7560d28-0fc6-4251-95e1-3c24a605a5eb"
      },
      "source": [
        "## Review: The Queue Abstract Data Type\n",
        "\n",
        "These are the following operations that all queues should have:\n",
        "\n",
        "* `Queue()` creates a new queue that is empty. It needs no parameters and returns an empty queue.\n",
        "* `enqueue(item)` adds a new item to the _back_ of the queue. It needs the item and returns nothing.\n",
        "* `dequeue()` removes the item at the _front_ of the queue. It needs no parameters and returns the item. The queue is modified.\n",
        "* `isEmpty()` tests to see whether the queue is empty. It needs no parameters and returns a boolean value.\n",
        "* `size()` returns the number of items in the queue. It needs no parameters and returns an integer.\n",
        "\n",
        "\n"
      ]
    },
    {
      "cell_type": "markdown",
      "id": "ecebe3db-36f0-474a-bc8b-9611873edc06",
      "metadata": {
        "editable": true,
        "tags": [],
        "id": "ecebe3db-36f0-474a-bc8b-9611873edc06"
      },
      "source": [
        "# Implementing the Queue\n",
        "\n",
        "Remember: An __abstract data type__, sometimes abbreviated ADT, is a logical description of how we view the data and the operations that are allowed _without regard to how they will be implemented_.\n",
        "\n",
        "Once we create a class that _implements_ an ADT, we've created a __Data Structure__."
      ]
    },
    {
      "cell_type": "code",
      "execution_count": null,
      "id": "34e1b23a-a1a1-45bc-a918-59c8fbfb6082",
      "metadata": {
        "id": "34e1b23a-a1a1-45bc-a918-59c8fbfb6082"
      },
      "outputs": [],
      "source": [
        "class Queue:\n",
        "    def __init__(self):\n",
        "        self.items = []\n",
        "\n",
        "    def isEmpty(self):\n",
        "        return self.items == []\n",
        "\n",
        "    def enqueue(self, item):\n",
        "        self.items.insert(0,item)\n",
        "\n",
        "    def dequeue(self):\n",
        "        return self.items.pop()\n",
        "\n",
        "    def size(self):\n",
        "        return len(self.items)"
      ]
    },
    {
      "cell_type": "markdown",
      "id": "813963f8-6ba1-4299-a1b8-c4023984e94c",
      "metadata": {
        "editable": true,
        "tags": [],
        "id": "813963f8-6ba1-4299-a1b8-c4023984e94c"
      },
      "source": [
        "## Group Activity Problem 3\n",
        "\n",
        "Test this code out with some code that uses a queue, and discuss whether it is working properly. Here's some code we used to test out queues before."
      ]
    },
    {
      "cell_type": "code",
      "execution_count": null,
      "id": "f9c3b64d-61fd-45e1-a988-a7a20bbda0ad",
      "metadata": {
        "id": "f9c3b64d-61fd-45e1-a988-a7a20bbda0ad",
        "outputId": "9893a979-736d-43a8-8b81-19f2e15b4230"
      },
      "outputs": [
        {
          "name": "stdout",
          "output_type": "stream",
          "text": [
            "Size: 4\n",
            "11\n",
            "8\n",
            "5\n",
            "9\n"
          ]
        }
      ],
      "source": [
        "my_q = Queue()\n",
        "my_q.enqueue(4)\n",
        "my_q.enqueue(7)\n",
        "my_q.enqueue(11)\n",
        "my_q.dequeue()\n",
        "my_q.enqueue(8)\n",
        "my_q.dequeue()\n",
        "my_q.enqueue(5)\n",
        "my_q.enqueue(9)\n",
        "\n",
        "print(\"Size:\",my_q.size())\n",
        "\n",
        "while not my_q.isEmpty():\n",
        "    print(my_q.dequeue())"
      ]
    },
    {
      "cell_type": "markdown",
      "id": "a263ae04-69c9-4ba7-8324-f447c95048ce",
      "metadata": {
        "editable": true,
        "tags": [],
        "id": "a263ae04-69c9-4ba7-8324-f447c95048ce"
      },
      "source": [
        "## Group Activity Problem 4\n",
        "\n",
        "One of the things that was annoying about working with stacks and queues from the `pythonds` module was that they didn't have a way to print them and see what values were in them. Add a `__repr__` method to this Queue class which allows you to see what's in the queue."
      ]
    },
    {
      "cell_type": "markdown",
      "id": "f71e57e3-e0e2-40de-bd72-842165e1acf0",
      "metadata": {
        "editable": true,
        "tags": [],
        "id": "f71e57e3-e0e2-40de-bd72-842165e1acf0"
      },
      "source": [
        "## Group Activity Problem 5\n",
        "\n",
        "Based on what you know about the Big O of different list operations, what are is the Big O of each of these Queue methods?\n",
        "\n",
        "* `enqueue`\n",
        "* `dequeue`\n",
        "* `size`\n",
        "\n",
        "For reference, take a look at\n",
        "* the section of the book on the computational complexity of list operations: [https://runestone.academy/ns/books/published/pythonds/AlgorithmAnalysis/Lists.html](https://runestone.academy/ns/books/published/pythonds/AlgorithmAnalysis/Lists.html)\n",
        "* the official Python wiki: [https://wiki.python.org/moin/TimeComplexity](https://wiki.python.org/moin/TimeComplexity)"
      ]
    },
    {
      "cell_type": "markdown",
      "id": "a44afaae-c4a1-40b3-910c-ce46d351ed55",
      "metadata": {
        "editable": true,
        "tags": [],
        "id": "a44afaae-c4a1-40b3-910c-ce46d351ed55"
      },
      "source": [
        "## Group Activity Problem 6\n",
        "\n",
        "Review: We've seen the textbook's description of the Stack ADT. Here it is.\n",
        "\n",
        "These are the following operations that all stacks should have:\n",
        "\n",
        "* `Stack()` creates a new stack that is empty. It needs no parameters and returns an empty stack.\n",
        "* `push(item)` adds a new item to the top of the stack. It needs the item and returns nothing.\n",
        "* `pop()` removes the top item from the stack. It needs no parameters and returns the item. The stack is modified.\n",
        "* `peek()` returns the top item from the stack but _does not remove it_. It needs no parameters. The stack is not modified.\n",
        "* `isEmpty()` tests to see whether the stack is empty. It needs no parameters and returns a boolean value.\n",
        "* `size()` returns the number of items on the stack. It needs no parameters and returns an integer.\n",
        "\n",
        "Create a class that implements this. It should be very similar to the Queue class."
      ]
    },
    {
      "cell_type": "markdown",
      "id": "c9ccc5ce-a39d-492f-a0fb-15a8fe515072",
      "metadata": {
        "editable": true,
        "tags": [],
        "id": "c9ccc5ce-a39d-492f-a0fb-15a8fe515072"
      },
      "source": [
        "## Group Activity Problem 7\n",
        "\n",
        "What is the Big O of each of the following for your definition of a Stack?\n",
        "\n",
        "* `push`\n",
        "* `pop`\n",
        "* `peek`\n",
        "* `size`"
      ]
    },
    {
      "cell_type": "markdown",
      "id": "a06d7abb-3c8c-4c56-a98e-181a28afa89b",
      "metadata": {
        "id": "a06d7abb-3c8c-4c56-a98e-181a28afa89b"
      },
      "source": [
        "## Group Activity Problem 8\n",
        "\n",
        "Discuss: What's the difference between the `Deck` class and the `Stack` class? Can a `Deck` also be considered a stack?"
      ]
    },
    {
      "cell_type": "markdown",
      "id": "d5a3c7aa-0eed-4451-a2b6-76c4eef73e93",
      "metadata": {
        "editable": true,
        "jp-MarkdownHeadingCollapsed": true,
        "tags": [],
        "id": "d5a3c7aa-0eed-4451-a2b6-76c4eef73e93"
      },
      "source": [
        "## Group Activity Problem 9\n",
        "\n",
        "Discuss the following question, and make sure to write the answer in your notes: What is the difference between and Abstract Data Type and a Data Structure?"
      ]
    },
    {
      "cell_type": "markdown",
      "id": "cfbe3d13-683f-40f7-9f7d-892820ed27c0",
      "metadata": {
        "editable": true,
        "tags": [],
        "id": "cfbe3d13-683f-40f7-9f7d-892820ed27c0"
      },
      "source": [
        "## You should be working on:\n",
        "\n",
        "### [Assignment #8: `PlayingCard` and `Deck`](https://analytics.drake.edu/~moore/CS66-F24/Assignment8.html)\n",
        "- released today, due Tuesday, October 22nd, by 11:59pm"
      ]
    },
    {
      "cell_type": "markdown",
      "id": "103fa8c6-81aa-4874-a361-f6413ddd0540",
      "metadata": {
        "editable": true,
        "tags": [],
        "id": "103fa8c6-81aa-4874-a361-f6413ddd0540"
      },
      "source": [
        "## Internship Opportunities:\n",
        "- [Wellmark BlueX Program](https://www.drake.edu/cs/internships/wellmarkbluextechnologyappliedlearningprogram/): Open to fist year students, provides mentorship\n",
        "    -  [[video](https://drake.hosted.panopto.com/Panopto/Pages/Viewer.aspx?id=bdef451f-91a0-479c-a90c-aabd00d8ed0d)]\n",
        "    -  application deadline extended until __October 22nd by 11:59 pm__"
      ]
    },
    {
      "cell_type": "markdown",
      "id": "e3827ee7-71a0-48be-9a36-f4e5812813b8",
      "metadata": {
        "editable": true,
        "tags": [],
        "id": "e3827ee7-71a0-48be-9a36-f4e5812813b8"
      },
      "source": [
        "- [Vermeer Digital Bulldogs](https://www.drake.edu/cs/internships/vermeerdigitalbulldogs/)\n",
        "    - Open to _sophomore_ students\n",
        "    - [[video](https://analytics.drake.edu/~urness/vermeer/DigitalBulldogs.mp4)]\n",
        "    - Application deadline extended until __October 22nd by 11:59m__"
      ]
    },
    {
      "cell_type": "markdown",
      "id": "6ed38d1f-e252-4473-ba89-e86b7028a158",
      "metadata": {
        "editable": true,
        "tags": [],
        "id": "6ed38d1f-e252-4473-ba89-e86b7028a158"
      },
      "source": [
        "> very few have applied so far... we want to keep these programs alive, please apply if you're at all interested."
      ]
    }
  ],
  "metadata": {
    "kernelspec": {
      "display_name": "Python 3 (ipykernel)",
      "language": "python",
      "name": "python3"
    },
    "language_info": {
      "codemirror_mode": {
        "name": "ipython",
        "version": 3
      },
      "file_extension": ".py",
      "mimetype": "text/x-python",
      "name": "python",
      "nbconvert_exporter": "python",
      "pygments_lexer": "ipython3",
      "version": "3.12.4"
    },
    "colab": {
      "provenance": [],
      "include_colab_link": true
    }
  },
  "nbformat": 4,
  "nbformat_minor": 5
}