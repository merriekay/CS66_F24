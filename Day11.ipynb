{
 "cells": [
  {
   "cell_type": "markdown",
   "id": "c97d14d9-b788-452a-9a4f-a0c3cff71f77",
   "metadata": {
    "editable": true,
    "slideshow": {
     "slide_type": "slide"
    },
    "tags": []
   },
   "source": [
    "#  Big-O Notation and Analyzing Python Lists\n",
    "## Day10\n",
    "\n",
    "### CS66: Introduction to Computer Science II | Fall 2024\n",
    "\n",
    "Thursday, October 3rd, 2024\n",
    "\n",
    "### Helpful Resources:\n",
    "[📜 Syllabus](https://docs.google.com/document/d/1lnkmnAm0tfw2ybqhS01ylSqKfkOcAAkmrrZUuDjwHuU/edit?usp=drive_link) | [📬 CodePost Login](https://codepost.io/login) | [📆 Schedule](https://docs.google.com/spreadsheets/d/1FW9s8S04zqpOaA13JyrlNPszk5D-H9dBi7xX6o5VpgY/edit?usp=drive_link) | [🙋‍♂️ PollEverywhere](https://pollev.com/moore) | [🪴 Office Hour Sign-Up](https://calendly.com/meredith-moore/office-hours)"
   ]
  },
  {
   "cell_type": "markdown",
   "id": "7c1cbbb9-d22b-43b3-a34c-814bd6322306",
   "metadata": {
    "editable": true,
    "slideshow": {
     "slide_type": "slide"
    },
    "tags": []
   },
   "source": [
    "# Announcements:\n",
    "\n",
    "### Exam #1:\n",
    "- Will be released today at 12:15 pm\n",
    "- __Due__: Friday, October 4th, 2024 by 11:59 pm"
   ]
  },
  {
   "cell_type": "markdown",
   "id": "1fa7629c-c322-48c4-8250-defd2131570e",
   "metadata": {
    "editable": true,
    "slideshow": {
     "slide_type": "fragment"
    },
    "tags": []
   },
   "source": [
    "### Assignment #6: Blackboard Quiz on Big O Notation\n",
    "__Due__: Tuesday, October 8th, by 11:59pm\n",
    "- 1 point per question\n",
    "- open book / open notes, if you use any other resource, be sure to cite it.\n",
    "- one chance to submit\n",
    "- Be sure to use the AI Assisted Learning form if you use any AI assistance"
   ]
  },
  {
   "cell_type": "markdown",
   "id": "df11ee7c-f0c3-4f52-8e82-a1a47c497bad",
   "metadata": {
    "editable": true,
    "slideshow": {
     "slide_type": "slide"
    },
    "tags": []
   },
   "source": [
    "## References for this lecture\n",
    "\n",
    "Problem Solving with Algorithms and Data Structures using Python\n",
    "\n",
    "Sections 3.4-3.6: [https://runestone.academy/ns/books/published/pythonds/AlgorithmAnalysis/toctree.html](https://runestone.academy/ns/books/published/pythonds/AlgorithmAnalysis/toctree.html)\n",
    "\n",
    "Python Documentation on Time Complexity: [https://wiki.python.org/moin/TimeComplexity](https://wiki.python.org/moin/TimeComplexity)\n"
   ]
  },
  {
   "cell_type": "markdown",
   "id": "48cbe37c-147b-41ee-bdd8-a46d17840378",
   "metadata": {
    "editable": true,
    "slideshow": {
     "slide_type": "slide"
    },
    "tags": []
   },
   "source": [
    "# Review from last time:"
   ]
  },
  {
   "cell_type": "markdown",
   "id": "6725d012-bf75-4295-91b4-259bf982dd32",
   "metadata": {
    "editable": true,
    "slideshow": {
     "slide_type": "slide"
    },
    "tags": []
   },
   "source": [
    "## Review: $T(n)$ analysis\n",
    "\n",
    "Count number of **operations** performed by an algorithm relative to $n$, the **size of the input**\n",
    "\n",
    "E.g., $T(n) = 4n+5$ for this code"
   ]
  },
  {
   "cell_type": "code",
   "execution_count": null,
   "id": "390d6b3d-ce00-4760-8f0b-93052c327501",
   "metadata": {},
   "outputs": [],
   "source": [
    "def sum_of_n_loop(n):\n",
    "    total = 0  # 1 operation\n",
    "    \n",
    "    #this loop runs n+1 times\n",
    "    for i in range(n+1): #2 operations (compute the next value in the range, then assign to i)\n",
    "        total += i  #2 operations (first add, then assign value to total)\n",
    "\n",
    "        \n",
    "    return total"
   ]
  },
  {
   "cell_type": "markdown",
   "id": "d6beb8b6-b339-4f59-bdf0-cc2e63cc979a",
   "metadata": {
    "slideshow": {
     "slide_type": "slide"
    }
   },
   "source": [
    "## Review from last time\n",
    "\n",
    "You ordered these $T(n)$ functions from slowest to fastest growing\n",
    "\n",
    "$T(n) = 54$\n",
    "\n",
    "$T(n) = 1278540$\n",
    "\n",
    "$T(n) = 148n+12000$\n",
    "\n",
    "$T(n) = 2081n+6$\n",
    "\n",
    "$T(n) = 5n^2+33$\n",
    "\n",
    "$T(n) = 23n^2+10n+8$"
   ]
  },
  {
   "cell_type": "markdown",
   "id": "b928d5bc-6f22-4031-affc-d6ee0a409031",
   "metadata": {
    "slideshow": {
     "slide_type": "fragment"
    }
   },
   "source": [
    "## Takeaways\n",
    "\n",
    "* specific time units are not important\n",
    "* **scaling** is important - how does the run time grow?\n",
    "* only the biggest term is important when $n$ gets big"
   ]
  },
  {
   "cell_type": "markdown",
   "id": "e010ec30-e9d3-4a69-9feb-b33bbcc6b9a9",
   "metadata": {
    "slideshow": {
     "slide_type": "subslide"
    }
   },
   "source": [
    "## Big-O: Order of magnitude\n",
    "\n",
    "When looking at running time like $T(n) = 148n+12000$, the 12000 will be a bigger part of the overall number when $n$ is small, but when $n$ gets big, the $148n$ will dominate the 12000 part.\n",
    "\n",
    "So, we don't really care much about the 12000.\n",
    "\n",
    "Similarly, whene $n$ gets big, the 148 will become a lot less significant. \n",
    "\n",
    "__Conclusion:__ When looking at $T(n)$, the specific constants are not very important!\n"
   ]
  },
  {
   "cell_type": "markdown",
   "id": "7ae81369-b9b5-4f77-8635-bef3732d20f9",
   "metadata": {
    "slideshow": {
     "slide_type": "fragment"
    }
   },
   "source": [
    "### Instead, look at $O($  $)$ - the Big-O\n",
    "\n",
    "$O$ refers to the __order of magnitude__ - it's like $T(n)$, but you get to ignore all of the constants. \n",
    "\n",
    "Big-O is the primary way we measure __computational complexity__.\n",
    "* can be used for measuring _time_ complexity or _space_ (i.e., memory) complexity\n",
    "* unless stated otherwise, assume it's talking about _time complexity_ - describing how the running time of an algorithm grows with larger inputs\n",
    "\n",
    "All of these functions can be described as $O(n)$, also known as _linear_ because they grow linearly with $n$\n",
    "\n",
    "* $T(n) = 148n+12000$\n",
    "\n",
    "* $T(n) = 4n+5$\n",
    "\n",
    "* $T(n) = 2081n+6$\n"
   ]
  },
  {
   "cell_type": "markdown",
   "id": "4128c109-5ae1-4341-91bf-daae5d23c2e6",
   "metadata": {
    "slideshow": {
     "slide_type": "fragment"
    }
   },
   "source": [
    "These functions are all $O(n^2)$ - also known as _quadratic_\n",
    "\n",
    "* $T(n) = 0.001n^2$\n",
    "* $T(n) = 5n^2+33$\n",
    "* $T(n) = 23n^2+10n+8$\n",
    "\n",
    "Why doesn't $T(n) = 23n^2+10n+8$ have $O(n^2+n)$ \n",
    "* again, when $n$ gets big, the $n^2$ term is what dominates\n",
    "* You only need to include the biggest term."
   ]
  },
  {
   "cell_type": "markdown",
   "id": "b02f3bf2-fb38-4b41-9ac3-5f0afaa2a2c2",
   "metadata": {
    "slideshow": {
     "slide_type": "fragment"
    }
   },
   "source": [
    "These functions are all $O(1)$ - also known as _constant_\n",
    "\n",
    "* $T(n) = 3$\n",
    "* $T(n) = 1278540$\n",
    "* $T(n) = 54$"
   ]
  },
  {
   "cell_type": "markdown",
   "id": "f2c29274-eab7-4dc7-a832-2b16859f6b4a",
   "metadata": {
    "slideshow": {
     "slide_type": "slide"
    }
   },
   "source": [
    "## Determining Big-O\n",
    "\n",
    "Finding Big-O values is much easier than calculating $T(n)$ because you can ignore all the constants.\n",
    "\n",
    "Here, we can see we have _constant_ * $n$ + _constant_ number of operations, which is just $O(n)$. \n",
    "\n",
    "The only thing that depends on the _size of the input_ is the number of times the loop iterates."
   ]
  },
  {
   "cell_type": "code",
   "execution_count": 13,
   "id": "5679d11a-dfb2-4feb-ae75-0b3884f09e7d",
   "metadata": {},
   "outputs": [],
   "source": [
    "def sum_of_n_loop(n):\n",
    "    total = 0  # constant number of things\n",
    "    \n",
    "    #this loop runs n + constant number times\n",
    "    for i in range(n+1): #constant number of operations \n",
    "        total += i  #constant number of operations\n",
    "        \n",
    "    return total"
   ]
  },
  {
   "cell_type": "markdown",
   "id": "83f57de2-9e2d-4f30-a859-6a3a288edb10",
   "metadata": {
    "slideshow": {
     "slide_type": "slide"
    }
   },
   "source": [
    "## Common Big-O functions"
   ]
  },
  {
   "cell_type": "markdown",
   "id": "99522743-f471-4c8e-bce8-2a9e25d9ae33",
   "metadata": {
    "cell_style": "split",
    "slideshow": {
     "slide_type": "-"
    }
   },
   "source": [
    "\n",
    "\n",
    "<table class=\"docutils align-default\" id=\"id1\">\n",
    "<colgroup>\n",
    "<col style=\"width: 50%;text-align:center\"/>\n",
    "<col style=\"width: 50%\"/>\n",
    "</colgroup>\n",
    "<thead>\n",
    "<tr class=\"row-odd\"><th class=\"head\"><p><strong>f(n)</strong></p></th>\n",
    "<th class=\"head\"><p><strong>Name</strong></p></th>\n",
    "</tr>\n",
    "</thead>\n",
    "<tbody>\n",
    "<tr class=\"row-even\" style='text-align:center'><td><p><span class=\"math notranslate nohighlight\">\\(1\\)</span></p></td>\n",
    "<td><p>Constant</p></td>\n",
    "</tr>\n",
    "<tr class=\"row-odd\"><td><p><span class=\"math notranslate nohighlight\">\\(\\log n\\)</span></p></td>\n",
    "<td><p>Logarithmic</p></td>\n",
    "</tr>\n",
    "<tr class=\"row-even\"><td><p><span class=\"math notranslate nohighlight\">\\(n\\)</span></p></td>\n",
    "<td><p>Linear</p></td>\n",
    "</tr>\n",
    "<tr class=\"row-odd\"><td><p><span class=\"math notranslate nohighlight\">\\(n\\log n\\)</span></p></td>\n",
    "<td><p>Log Linear</p></td>\n",
    "</tr>\n",
    "<tr class=\"row-even\"><td><p><span class=\"math notranslate nohighlight\">\\(n^{2}\\)</span></p></td>\n",
    "<td><p>Quadratic</p></td>\n",
    "</tr>\n",
    "<tr class=\"row-odd\"><td><p><span class=\"math notranslate nohighlight\">\\(n^{3}\\)</span></p></td>\n",
    "<td><p>Cubic</p></td>\n",
    "</tr>\n",
    "<tr class=\"row-even\"><td><p><span class=\"math notranslate nohighlight\">\\(2^{n}\\)</span></p></td>\n",
    "<td><p>Exponential</p></td>\n",
    "</tr>\n",
    "</tbody>\n",
    "</table>\n",
    "\n"
   ]
  },
  {
   "attachments": {
    "bigoshapes.png": {
     "image/png": "[encoded data removed]"
    }
   },
   "cell_type": "markdown",
   "id": "d872f25f-8a65-4d3f-88f7-c1912fd93c51",
   "metadata": {
    "cell_style": "split",
    "editable": true,
    "slideshow": {
     "slide_type": "slide"
    },
    "tags": []
   },
   "source": [
    "\n",
    "<center>\n",
    "<div>\n",
    "<img src=\"attachment:bigoshapes.png\" width=\"700\"/>\n",
    "</div>\n",
    "</center>\n"
   ]
  },
  {
   "cell_type": "markdown",
   "id": "14c8f527-6d91-4786-b229-d7cd4aa561a4",
   "metadata": {
    "editable": true,
    "slideshow": {
     "slide_type": "slide"
    },
    "tags": []
   },
   "source": [
    "## Group Acitivity Problem 1\n",
    "\n",
    "We calculated the Big-O of this `search_for()` function last time. Review the following with your group:\n",
    "1. What was $n$ for this problem?\n",
    "2. What input causes this algorithm to finish in the fastest amount of time?\n",
    "3. What input causes this algorithm to finish in the slowest amount of time?\n",
    "4. What's a _typical_ input for this function?"
   ]
  },
  {
   "cell_type": "code",
   "execution_count": 14,
   "id": "1974cd6b-a7a7-42c9-84bf-0a6356113f08",
   "metadata": {
    "editable": true,
    "slideshow": {
     "slide_type": ""
    },
    "tags": []
   },
   "outputs": [
    {
     "name": "stdout",
     "output_type": "stream",
     "text": [
      "True\n",
      "True\n",
      "True\n",
      "False\n"
     ]
    }
   ],
   "source": [
    "def search_for(item, list_to_search_in):\n",
    "    \"\"\"\n",
    "    item: the item you're supposed to search for\n",
    "    list_to_search_in: the list you're supposed to look through to find item\n",
    "    return: True or False depending on if item is contained in list_to_search_in\n",
    "    \"\"\"\n",
    "    for curr_item in list_to_search_in:\n",
    "        if item == curr_item:\n",
    "            return True\n",
    "    \n",
    "    return False\n",
    "\n",
    "#let's test it on some examples\n",
    "print( search_for(42,[35,66,70,5,42,10,12]) )\n",
    "print( search_for(35,[35,66,70,5,42,10,12]) )\n",
    "print( search_for(12,[35,66,70,5,42,10,12]) )\n",
    "print( search_for(9,[35,66,70,5,42,10,12]) )"
   ]
  },
  {
   "cell_type": "markdown",
   "id": "8c8dca57-a072-4128-8feb-9c3bb8be40d6",
   "metadata": {
    "editable": true,
    "slideshow": {
     "slide_type": "subslide"
    },
    "tags": []
   },
   "source": [
    "## Best, Average, and Worst Case\n",
    "\n",
    "Different inputs (of the same size) to the same algorithm might result in different running times\n",
    "\n",
    "__Best case__ performance: running time on the input that allows the algorithm to finish the fastest\n",
    "\n",
    "__Worst case__ performance: running time on the input that requires the most time for the algorithm to finish\n",
    "\n",
    "__Average case__ performance: average running time over typical inputs\n",
    "* often it is difficult to determine what the _typical_ inputs are that should be considered\n",
    "\n",
    "Unless otherwise stated, Big-O is assumed to be talking about _worst case performance_.\n",
    "\n",
    "What are the best, worst, and average cases for `search_for()`?"
   ]
  },
  {
   "cell_type": "markdown",
   "id": "f4cc1bb1-d71f-432f-b797-5c968402ed37",
   "metadata": {
    "editable": true,
    "slideshow": {
     "slide_type": "slide"
    },
    "tags": []
   },
   "source": [
    "# Let's pick up where we left off:"
   ]
  },
  {
   "cell_type": "markdown",
   "id": "6c5885bb-d0f5-42a5-8fdf-ea9912b4c2be",
   "metadata": {
    "editable": true,
    "slideshow": {
     "slide_type": "slide"
    },
    "tags": []
   },
   "source": [
    "## Review: Anagram Detection Activity\n",
    "\n",
    "An _anagram_ is a word or phrase that can be formed by rearranging the letters of a different word or phrase.\n",
    "\n",
    "Examples of anagrams include\n",
    "\n",
    "* silent, listen\n",
    "\n",
    "* night, thing\n",
    "\n",
    "* the morse code, here come dots\n",
    "\n",
    "* eleven plus two, twelve plus one"
   ]
  },
  {
   "cell_type": "markdown",
   "id": "4e636fe0-d608-4e30-9f8f-2a9d539cf5c4",
   "metadata": {},
   "source": [
    "__Problem:__ Write a function that will tell you if two strings are anagrams."
   ]
  },
  {
   "cell_type": "markdown",
   "id": "b2085200-062a-449e-a882-b1f3c2208681",
   "metadata": {},
   "source": [
    "The book provides four different solutions in Section 3.4. Three of them are reproduced below. \n",
    "\n",
    "Each group will be assigned one of these solutions. Do the following as a group.\n",
    "\n",
    "1. Test the code on several inputs of different sizes.\n",
    "2. Instrument the code to measure the time it takes on different-sized inputs.\n",
    "3. Give examples of best, worst, and average case inputs.\n",
    "4. Determine what the Big-O of the algorithm is, and be ready to explain why.\n",
    "\n",
    "If you have time, you can check out what it says in the book, but try to analyze it without looking first!"
   ]
  },
  {
   "cell_type": "markdown",
   "id": "4cf277f6-692e-4479-b146-2031365f9de8",
   "metadata": {
    "editable": true,
    "slideshow": {
     "slide_type": "slide"
    },
    "tags": []
   },
   "source": [
    "## Solution 1: Checking off\n",
    "\n",
    "This code works by converting the second string into a list and then search through the list for each character from the first string and replacing it with `None` when found.\n",
    "\n",
    "For example, if given `\"silent\"` and `\"listen\"`, the list would start out as\n",
    "\n",
    "`['l','i','s','t','e','n']`\n",
    "\n",
    "when searching for `'s'`, it becomes `['l','i',None,'t','e','n']`\n",
    "\n",
    "when searching for `'i'`, it becomes `['l',None,None,'t','e','n']`\n",
    "\n",
    "... and so until the list becomes `[None,None,None,None,None,None]`"
   ]
  },
  {
   "cell_type": "code",
   "execution_count": 1,
   "id": "383fd9dd-90cf-4812-95c3-3d411da8dcd2",
   "metadata": {
    "editable": true,
    "slideshow": {
     "slide_type": "slide"
    },
    "tags": []
   },
   "outputs": [
    {
     "name": "stdout",
     "output_type": "stream",
     "text": [
      "True\n"
     ]
    }
   ],
   "source": [
    "def anagramSolution1(s1,s2):\n",
    "    stillOK = True\n",
    "    if len(s1) != len(s2):\n",
    "        stillOK = False\n",
    "\n",
    "    alist = list(s2)\n",
    "    pos1 = 0\n",
    "\n",
    "    while pos1 < len(s1) and stillOK:\n",
    "        pos2 = 0\n",
    "        found = False\n",
    "        while pos2 < len(alist) and not found:\n",
    "            if s1[pos1] == alist[pos2]:\n",
    "                found = True\n",
    "            else:\n",
    "                pos2 = pos2 + 1\n",
    "\n",
    "        if found:\n",
    "            alist[pos2] = None\n",
    "        else:\n",
    "            stillOK = False\n",
    "\n",
    "        pos1 = pos1 + 1\n",
    "        \n",
    "        #uncomment this if you want to see what the list looks like at each step\n",
    "        #print(alist)\n",
    "\n",
    "    return stillOK\n",
    "\n",
    "print(anagramSolution1('silent','listen'))"
   ]
  },
  {
   "cell_type": "markdown",
   "id": "8ddbebf8-fcfd-43bf-aad8-cf41b42d4c49",
   "metadata": {
    "editable": true,
    "slideshow": {
     "slide_type": "slide"
    },
    "tags": []
   },
   "source": [
    "## Solution 2: Sort and Compare\n",
    "\n",
    "This solution starts by converting both strings to lists and then sorting them. Once in sorted order, it goes through and checks that each corresponding item in the list is the same.\n",
    "\n",
    "For example, if given `\"silent\"` and `\"listen\"`, it would turn them into lists `['s', 'i', 'l', 'e', 'n', 't']` and `['l', 'i', 's', 't', 'e', 'n']`.\n",
    "\n",
    "Then, after sorting each list, we get `['e', 'i', 'l', 'n', 's', 't']` and `['e', 'i', 'l', 'n', 's', 't']`.\n",
    "\n",
    "We then compare `e` to `e`, then `i` to `i`, then `l` to `l` and so on. If we ever find two that don't match, we know it isn't an anagram. If we get to the end and they all match, it is an anagram."
   ]
  },
  {
   "cell_type": "code",
   "execution_count": 2,
   "id": "15519575-affd-4287-bb79-e14296346e80",
   "metadata": {
    "editable": true,
    "slideshow": {
     "slide_type": "slide"
    },
    "tags": []
   },
   "outputs": [
    {
     "name": "stdout",
     "output_type": "stream",
     "text": [
      "True\n"
     ]
    }
   ],
   "source": [
    "def anagramSolution2(s1,s2):\n",
    "    alist1 = list(s1)\n",
    "    alist2 = list(s2)\n",
    "\n",
    "    alist1.sort()\n",
    "    alist2.sort()\n",
    "    \n",
    "    #uncomment these if you want to see the sorted lists\n",
    "    #print(alist1)\n",
    "    #print(alist2)\n",
    "\n",
    "    pos = 0\n",
    "    matches = True\n",
    "\n",
    "    while pos < len(s1) and matches:\n",
    "        if alist1[pos]==alist2[pos]:\n",
    "            pos = pos + 1\n",
    "        else:\n",
    "            matches = False\n",
    "\n",
    "    return matches\n",
    "\n",
    "print(anagramSolution2('silent','listen'))"
   ]
  },
  {
   "cell_type": "markdown",
   "id": "d4cf33fd-e610-466c-b663-de4babfece11",
   "metadata": {
    "editable": true,
    "slideshow": {
     "slide_type": "slide"
    },
    "tags": []
   },
   "source": [
    "## Solution 4: Count and Compare\n",
    "\n",
    "This solution creates a list of letter frequencies for each string. Since there aree 26 letters in the alphabet, the strings will each have 26 entries - the first entry is the number of occurrences of `'a'`, the secondd is the number of occurrences of `'b'`, and so on. \n",
    "\n",
    "We can then loop through these frequency lists and compare them item by item to see if they're the same.\n",
    "\n",
    "For example, given inputs `'elevenplustwo'` and `'twelveplusone'`, you end up with the frequency lists\n",
    "\n",
    "`[0, 0, 0, 0, 3, 0, 0, 0, 0, 0, 0, 2, 0, 1, 1, 1, 0, 0, 1, 1, 1, 1, 1, 0, 0, 0]`\n",
    "\n",
    "and \n",
    "`[0, 0, 0, 0, 3, 0, 0, 0, 0, 0, 0, 2, 0, 1, 1, 1, 0, 0, 1, 1, 1, 1, 1, 0, 0, 0]`\n",
    "\n",
    "looping through this list entry by entry will show that they are the same.\n",
    "\n",
    "On the other hand, if given inputs `'granma'` and `'anagram'`, you'd get the frequency lists\n",
    "\n",
    "`[2, 0, 0, 0, 0, 0, 1, 0, 0, 0, 0, 0, 1, 1, 0, 0, 0, 1, 0, 0, 0, 0, 0, 0, 0, 0]`\n",
    "\n",
    "`[3, 0, 0, 0, 0, 0, 1, 0, 0, 0, 0, 0, 1, 1, 0, 0, 0, 1, 0, 0, 0, 0, 0, 0, 0, 0]`\n",
    "\n",
    "And you can determine they are not anagrams, because the first list has a 2 in the `a` position while the second one has a `3`."
   ]
  },
  {
   "cell_type": "code",
   "execution_count": 3,
   "id": "a623fb7e-5f1e-4df1-bb6f-679aa305a108",
   "metadata": {
    "editable": true,
    "slideshow": {
     "slide_type": "slide"
    },
    "tags": []
   },
   "outputs": [
    {
     "name": "stdout",
     "output_type": "stream",
     "text": [
      "True\n"
     ]
    }
   ],
   "source": [
    "def anagramSolution4(s1,s2):\n",
    "    c1 = [0]*26\n",
    "    c2 = [0]*26\n",
    "\n",
    "    for i in range(len(s1)):\n",
    "        pos = ord(s1[i])-ord('a') #gives the zero-based index of the letter, where 'a' is 0, 'b' is 1, etc.\n",
    "        c1[pos] = c1[pos] + 1\n",
    "\n",
    "    for i in range(len(s2)):\n",
    "        pos = ord(s2[i])-ord('a')\n",
    "        c2[pos] = c2[pos] + 1\n",
    "        \n",
    "    #uncomment these if you want to see the word frequency lists\n",
    "    #print(c1) \n",
    "    #print(c2)\n",
    "\n",
    "    j = 0\n",
    "    stillOK = True\n",
    "    while j<26 and stillOK:\n",
    "        if c1[j]==c2[j]:\n",
    "            j = j + 1\n",
    "        else:\n",
    "            stillOK = False\n",
    "\n",
    "    return stillOK\n",
    "\n",
    "print(anagramSolution4('elevenplustwo','twelveplusone'))"
   ]
  },
  {
   "cell_type": "markdown",
   "id": "458a37e2-a01f-417c-894d-96ee652bef52",
   "metadata": {
    "editable": true,
    "slideshow": {
     "slide_type": "slide"
    },
    "tags": []
   },
   "source": [
    "## Group Activity Problem 1\n",
    "\n",
    "We're going to run some experiments to see if we can guess what the Big-O of various Python list operations is. \n",
    "\n",
    "* Get the [timing_list_operations.py](https://github.com/merriekay/CS66_F24/blob/main/timing_list_operations.py) file.\n",
    " - generates lots of different random lists of different sizes\n",
    " - times the code and plots the running times\n",
    " - as is, will generate 20 different lists each of sizes 100000, 200000, ... , 1000000"
   ]
  },
  {
   "cell_type": "code",
   "execution_count": null,
   "id": "90eac688-e86b-44ee-8635-cad40f9eeac0",
   "metadata": {
    "editable": true,
    "slideshow": {
     "slide_type": ""
    },
    "tags": []
   },
   "outputs": [],
   "source": [
    "list_sizes = range(100000,1000001,100000)\n",
    "results = run_list_op_timing_experiments(list_sizes,20)\n",
    "plot_results(list_sizes,results)\n",
    "display_results(list_sizes,results)"
   ]
  },
  {
   "cell_type": "markdown",
   "id": "35291a7b-f946-4443-b490-101b66eb885b",
   "metadata": {
    "editable": true,
    "slideshow": {
     "slide_type": ""
    },
    "tags": []
   },
   "source": [
    "you can change what code is timed by finding this part (lines 51 - 57 of `timing_list_operatrions.py`)"
   ]
  },
  {
   "cell_type": "code",
   "execution_count": null,
   "id": "99a03b7b-dcfb-4927-9db6-6fce8f5b34f8",
   "metadata": {
    "editable": true,
    "slideshow": {
     "slide_type": ""
    },
    "tags": []
   },
   "outputs": [],
   "source": [
    "        ### BEGIN CODE BEING TIMED\n",
    "\n",
    "        0 in test_list_copy  #testing the built-in search operator\n",
    "        #x = test_list_copy[random_index]  #testing list access\n",
    "        #test_list_copy.sort()\n",
    "        \n",
    "        ### END CODE  BEING TIMED"
   ]
  },
  {
   "cell_type": "markdown",
   "id": "a3e6625e-1701-45d4-999f-89c8bccbef0c",
   "metadata": {},
   "source": [
    "What can you conclude about the run time of the `in` operator based on what you see?"
   ]
  },
  {
   "cell_type": "markdown",
   "id": "7e75606e-b98f-48b1-98ec-9e0b628949da",
   "metadata": {
    "editable": true,
    "slideshow": {
     "slide_type": "slide"
    },
    "tags": []
   },
   "source": [
    "## Group Activity Problem 2\n",
    "\n",
    "In the above example, you tested the `0 in test_list_copy` operation. Now try the following operations. For each one, try to guess the Big-O from the run time results (you may need to try some bigger $n$ to see some of these clearly).\n",
    "\n",
    "If you see any result like `171.45672101µ`, it means $171.45672101x10^{-6}$."
   ]
  },
  {
   "cell_type": "code",
   "execution_count": null,
   "id": "3cd33f01-4b1b-48b6-b0b6-f60bc7174afe",
   "metadata": {
    "editable": true,
    "slideshow": {
     "slide_type": ""
    },
    "tags": []
   },
   "outputs": [],
   "source": [
    "x = test_list_copy[random_index]  #access a random item in a list - you'll have to generate a random int first\n",
    "test_list_copy.sort() #sort the list\n",
    "test_list_copy.pop()  #remove the last item in the list\n",
    "test_list_copy.pop(0) #remove the first item in the list"
   ]
  },
  {
   "cell_type": "markdown",
   "id": "2ceb4bf2-a8a3-406a-bcbb-1e27bbaaf232",
   "metadata": {
    "editable": true,
    "slideshow": {
     "slide_type": ""
    },
    "tags": []
   },
   "source": [
    "Discuss: Are you surprised by any of these results?\n",
    "\n",
    "Once you have an idea of what the Big-O is for these operations, look to see what the textbook authors say it is here: \n",
    "[https://runestone.academy/ns/books/published/pythonds/AlgorithmAnalysis/Lists.html](https://runestone.academy/ns/books/published/pythonds/AlgorithmAnalysis/Lists.html)\n",
    "\n",
    "Or, consult the official Python documentation here: [https://wiki.python.org/moin/TimeComplexity](https://wiki.python.org/moin/TimeComplexity)"
   ]
  },
  {
   "cell_type": "markdown",
   "id": "1d0c0a25-bc52-4960-8f94-ff72694a4184",
   "metadata": {
    "editable": true,
    "slideshow": {
     "slide_type": "slide"
    },
    "tags": []
   },
   "source": [
    "# Announcements:\n",
    "\n",
    "### Exam #1:\n",
    "- Will be released today at 12:15 pm\n",
    "- __Due__: Friday, October 4th, 2024 by 11:59 pm\n",
    "\n",
    "### Assignment #6: Blackboard Quiz on Big O Notation\n",
    "__Due__: Tuesday, October 8th, by 11:59pm\n",
    "- 1 point per question\n",
    "- open book / open notes, if you use any other resource, be sure to cite it.\n",
    "- one chance to submit\n",
    "- Be sure to use the AI Assisted Learning form if you use any AI assistance"
   ]
  }
 ],
 "metadata": {
  "kernelspec": {
   "display_name": "Python 3 (ipykernel)",
   "language": "python",
   "name": "python3"
  },
  "language_info": {
   "codemirror_mode": {
    "name": "ipython",
    "version": 3
   },
   "file_extension": ".py",
   "mimetype": "text/x-python",
   "name": "python",
   "nbconvert_exporter": "python",
   "pygments_lexer": "ipython3",
   "version": "3.12.4"
  }
 },
 "nbformat": 4,
 "nbformat_minor": 5
}
