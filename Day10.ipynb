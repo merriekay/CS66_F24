{
  "cells": [
    {
      "cell_type": "markdown",
      "metadata": {
        "id": "view-in-github",
        "colab_type": "text"
      },
      "source": [
        "<a href=\"https://colab.research.google.com/github/merriekay/CS66_F24/blob/main/Day10.ipynb\" target=\"_parent\"><img src=\"https://colab.research.google.com/assets/colab-badge.svg\" alt=\"Open In Colab\"/></a>"
      ]
    },
    {
      "cell_type": "markdown",
      "id": "db4cdba3-7d3f-49cb-9fc6-d1f4fc1cd93b",
      "metadata": {
        "editable": true,
        "tags": [],
        "id": "db4cdba3-7d3f-49cb-9fc6-d1f4fc1cd93b"
      },
      "source": [
        "#  Big-O Notation\n",
        "## Day10\n",
        "\n",
        "### CS66: Introduction to Computer Science II | Fall 2024\n",
        "\n",
        "Thursday, September 26th, 2024\n",
        "\n",
        "### Helpful Resources:\n",
        "[📜 Syllabus](https://docs.google.com/document/d/1lnkmnAm0tfw2ybqhS01ylSqKfkOcAAkmrrZUuDjwHuU/edit?usp=drive_link) | [📬 CodePost Login](https://codepost.io/login) | [📆 Schedule](https://docs.google.com/spreadsheets/d/1FW9s8S04zqpOaA13JyrlNPszk5D-H9dBi7xX6o5VpgY/edit?usp=drive_link) | [🙋‍♂️ PollEverywhere](https://pollev.com/moore) | [🪴 Office Hour Sign-Up](https://calendly.com/meredith-moore/office-hours)"
      ]
    },
    {
      "cell_type": "markdown",
      "id": "c5d01ba7-9dad-45d4-b046-bf74d125b944",
      "metadata": {
        "editable": true,
        "tags": [],
        "id": "c5d01ba7-9dad-45d4-b046-bf74d125b944"
      },
      "source": [
        "# Announcements:\n",
        "\n",
        "### Exam #1: Whoops\n",
        "- Will be released today at 12:15 pm\n",
        "- __Due__: Friday, October 4th, 2024 by 11:59 pm\n",
        "\n",
        "### Assignment #5\n",
        "- __Due__ tonight by 11:59 pm: https://analytics.drake.edu/~moore/CS66-F24/Assignment5.html"
      ]
    },
    {
      "cell_type": "markdown",
      "id": "07d01a98-db68-4f34-b9f6-4a16b71f47c4",
      "metadata": {
        "editable": true,
        "tags": [],
        "id": "07d01a98-db68-4f34-b9f6-4a16b71f47c4"
      },
      "source": [
        "## References for this lecture\n",
        "\n",
        "Problem Solving with Algorithms and Data Structures using Python\n",
        "\n",
        "Sections 3.1-3.4: [https://runestone.academy/ns/books/published/pythonds/AlgorithmAnalysis/toctree.html](https://runestone.academy/ns/books/published/pythonds/AlgorithmAnalysis/toctree.html)"
      ]
    },
    {
      "cell_type": "markdown",
      "id": "e421ca71-c513-4425-ac16-d39ab5fe6d76",
      "metadata": {
        "editable": true,
        "tags": [],
        "id": "e421ca71-c513-4425-ac16-d39ab5fe6d76"
      },
      "source": [
        "## VSCode debugging demo\n",
        "\n",
        "Now we'll look at some debugging features of VSCode, picking up where we left off on Thursday.\n",
        "\n"
      ]
    },
    {
      "cell_type": "markdown",
      "id": "7e7881d1-8698-4edf-9b4c-f7ffa61be086",
      "metadata": {
        "editable": true,
        "tags": [],
        "id": "7e7881d1-8698-4edf-9b4c-f7ffa61be086"
      },
      "source": [
        "## Group Activity Problem 4 - we don't even know what this is but we'll get it working\n",
        "\n",
        "Copy the following code into a python file, then use information given to you by the stack trace to make this code run.\n",
        "You don't have to make it pretty, and you don't even need to know exactly what everything does. The goal here is to understand where errors might be coming from, what the errors mean, and how to make them go away. Your chances of understanding what's going on in someone else's code are far better when you can actually see some output.\n",
        "\n",
        "Hint: solve_ivp is a real method - it's inside scipy.integrate. How would you have found this out without this hint?\n",
        "- you may need to install some modules, this is often part of the debugging process and we should get comfy intalling Python modules."
      ]
    },
    {
      "cell_type": "code",
      "execution_count": null,
      "id": "b42ddb6e-b3e2-4b1b-a30e-3d270fa845f3",
      "metadata": {
        "editable": true,
        "scrolled": true,
        "tags": [],
        "id": "b42ddb6e-b3e2-4b1b-a30e-3d270fa845f3"
      },
      "outputs": [],
      "source": [
        "#Lotka-Volterra predator-prey model\n",
        "import numpy as np\n",
        "import scipy.integrate as intg\n",
        "import matplotlib.pyplot as plt\n",
        "\n",
        "def lotkavolterra(t, z, a, b, c, d):\n",
        "    x, y = z\n",
        "    return [a*x - b*x*y, -c*y + d*x*y]\n",
        "\n",
        "sol = solve_ivp(lotkavolterra, [0, 15], [10, 5], args=(1.5, 1, 3, 1), dense_output=True)\n",
        "\n",
        "t = np.linspace(0, 15, 300)\n",
        "z = sol.sol(t)\n",
        "plt.plot(t, z.T)\n",
        "plt.xlabel('t')\n",
        "plt.legnd(['x', 'y'], shadow=True)\n",
        "plt.title('Lotka-Volterra System')\n",
        "plt.show()"
      ]
    },
    {
      "cell_type": "markdown",
      "id": "086c3adb-2858-4732-9160-ddf7edc596a7",
      "metadata": {
        "editable": true,
        "tags": [],
        "id": "086c3adb-2858-4732-9160-ddf7edc596a7"
      },
      "source": [
        "# ✨ New Material"
      ]
    },
    {
      "cell_type": "markdown",
      "id": "eac65777-fbe6-4c16-822d-c313d27949b4",
      "metadata": {
        "editable": true,
        "tags": [],
        "id": "eac65777-fbe6-4c16-822d-c313d27949b4"
      },
      "source": [
        "## Big Question\n",
        "\n",
        "Of all the algorithms we _could_ use to solve a given problem, which one _should_ we use?\n",
        "\n",
        "Things that might go into your analysis:\n",
        "\n",
        "1. Which one will be easier for me to code?\n",
        "\n",
        "2. Which one am I more confident will give me the correct results?\n",
        "\n",
        "3. Which one will run faster?\n",
        "\n",
        "4. Which one will take less computer memory?\n",
        "\n",
        "Being able to compare/predict speed and other computing resources is an important part of _computer science_.\n",
        "\n",
        "How will my code __scale__? _\"This code seems to run ok when I test it on small data sets or with a small number of users. Will it run ok when I deploy it for large data sets and a large number of users?\"_\n"
      ]
    },
    {
      "cell_type": "markdown",
      "id": "24213a9c-1966-4fd2-b1b1-5dddf345351a",
      "metadata": {
        "editable": true,
        "tags": [],
        "id": "24213a9c-1966-4fd2-b1b1-5dddf345351a"
      },
      "source": [
        "## Sum of N case study\n",
        "\n",
        "Problem: We need to write a function that will return the sum of all numbers between 1 and N. That is\n",
        "\n",
        "$$1+2+3+4+\\ldots+N$$"
      ]
    },
    {
      "cell_type": "markdown",
      "id": "8a9cd220-fe53-454c-99c7-068d4a44de4b",
      "metadata": {
        "editable": true,
        "tags": [],
        "id": "8a9cd220-fe53-454c-99c7-068d4a44de4b"
      },
      "source": [
        "Programmer 1 writes a loop and uses an accumulator variable to compute the sum."
      ]
    },
    {
      "cell_type": "code",
      "execution_count": null,
      "id": "22fd9044-f9ea-43e6-9aed-9439dfb39e09",
      "metadata": {
        "editable": true,
        "tags": [],
        "id": "22fd9044-f9ea-43e6-9aed-9439dfb39e09"
      },
      "outputs": [],
      "source": [
        "#Let's code up this idea in class"
      ]
    },
    {
      "cell_type": "code",
      "execution_count": null,
      "id": "59b0e757-6d76-41c1-959f-02165082483a",
      "metadata": {
        "editable": true,
        "tags": [],
        "id": "59b0e757-6d76-41c1-959f-02165082483a",
        "outputId": "dee3a83b-2f19-4acc-9f34-b42d32313cee"
      },
      "outputs": [
        {
          "name": "stdout",
          "output_type": "stream",
          "text": [
            "6\n",
            "55\n",
            "500500\n",
            "5000050000\n",
            "50000005000000\n"
          ]
        }
      ],
      "source": [
        "def sum_of_n_loop(n):\n",
        "    total = 0\n",
        "\n",
        "    for i in range(n+1):\n",
        "        total += i\n",
        "\n",
        "    return total\n",
        "\n",
        "print( sum_of_n_loop(3) )\n",
        "print( sum_of_n_loop(10) )\n",
        "print( sum_of_n_loop(1000) )\n",
        "print( sum_of_n_loop(100000) )\n",
        "print( sum_of_n_loop(10000000) )"
      ]
    },
    {
      "cell_type": "markdown",
      "id": "ed0b33b6-2e78-42cb-9021-bad779d5e10c",
      "metadata": {
        "editable": true,
        "tags": [],
        "id": "ed0b33b6-2e78-42cb-9021-bad779d5e10c"
      },
      "source": [
        "Programmer 2 does some research and discovers that there is a mathematical formula for finding the sum of all the numbers up to N.\n",
        "\n",
        "$$1+2+3+4+\\ldots+N = \\frac{N(N+1)}{2}$$\n",
        "\n",
        "Programmer 2 bases their algorithm on this forumula."
      ]
    },
    {
      "cell_type": "code",
      "execution_count": null,
      "id": "82303b9d-06a2-4bf1-b04b-65e76f2087f9",
      "metadata": {
        "id": "82303b9d-06a2-4bf1-b04b-65e76f2087f9"
      },
      "outputs": [],
      "source": [
        "#Let's code up this idea in class"
      ]
    },
    {
      "cell_type": "code",
      "execution_count": null,
      "id": "bed45831-0029-4365-9e29-9821ffcdb19a",
      "metadata": {
        "editable": true,
        "tags": [],
        "id": "bed45831-0029-4365-9e29-9821ffcdb19a",
        "outputId": "e131363d-1d61-4d22-b748-c18018da0ba1"
      },
      "outputs": [
        {
          "name": "stdout",
          "output_type": "stream",
          "text": [
            "6\n",
            "55\n",
            "500500\n",
            "5000050000\n",
            "50000005000000\n"
          ]
        }
      ],
      "source": [
        "def sum_of_n_formula(n):\n",
        "    return n*(n+1)/2\n",
        "\n",
        "print( sum_of_n_loop(3) )\n",
        "print( sum_of_n_loop(10) )\n",
        "print( sum_of_n_loop(1000) )\n",
        "print( sum_of_n_loop(100000) )\n",
        "print( sum_of_n_loop(10000000) )"
      ]
    },
    {
      "cell_type": "markdown",
      "id": "2bf024a6-6d53-4350-919b-dded8b930360",
      "metadata": {
        "editable": true,
        "tags": [],
        "id": "2bf024a6-6d53-4350-919b-dded8b930360"
      },
      "source": [
        "## Group Activity Problem 1\n",
        "We are confident that both of these solutions are correct. So, which is better?"
      ]
    },
    {
      "cell_type": "markdown",
      "id": "f7b1fadb-70da-4275-8925-7e61e1831081",
      "metadata": {
        "editable": true,
        "tags": [],
        "id": "f7b1fadb-70da-4275-8925-7e61e1831081"
      },
      "source": [
        "## Timing your code\n",
        "\n",
        "One way to analyze running time is to use libraries that calculate time and _instrument_ your code with them.\n",
        "\n",
        "The `time.time()` function will tell you the number of seconds on the system clock (technically the number of seconds since some arbitrary time in history like January 1, 1970, 00:00:00 (UTC)).\n",
        "\n",
        "You can use it like stop-watch like this:"
      ]
    },
    {
      "cell_type": "code",
      "execution_count": null,
      "id": "dccf25e6-7c55-4111-bdab-cce2923359f6",
      "metadata": {
        "id": "dccf25e6-7c55-4111-bdab-cce2923359f6",
        "outputId": "7d3f75c1-ba5a-45ff-a625-3a2415384378"
      },
      "outputs": [
        {
          "name": "stdout",
          "output_type": "stream",
          "text": [
            "Start time: 1677174692.7210162\n"
          ]
        }
      ],
      "source": [
        "import time\n",
        "\n",
        "start_time = time.time()\n",
        "print(\"Start time:\",start_time)"
      ]
    },
    {
      "cell_type": "code",
      "execution_count": null,
      "id": "c2fbbb44-732b-42f1-b87f-b66963257809",
      "metadata": {
        "editable": true,
        "tags": [],
        "id": "c2fbbb44-732b-42f1-b87f-b66963257809",
        "outputId": "49b16151-aedd-49b0-df9e-ea2f39010601"
      },
      "outputs": [
        {
          "name": "stdout",
          "output_type": "stream",
          "text": [
            "End time: 1677174692.724224\n",
            "Difference: 0.0032079219818115234 seconds\n"
          ]
        }
      ],
      "source": [
        "end_time = time.time()\n",
        "print(\"End time:\",end_time)\n",
        "\n",
        "print(\"Difference:\",(end_time-start_time),\"seconds\")"
      ]
    },
    {
      "cell_type": "markdown",
      "id": "582e0035-0c94-45ac-9bad-62af18ed4f75",
      "metadata": {
        "editable": true,
        "tags": [],
        "id": "582e0035-0c94-45ac-9bad-62af18ed4f75"
      },
      "source": [
        "## Instrumenting your code\n",
        "\n",
        "to instrument your code, you could do something like this"
      ]
    },
    {
      "cell_type": "code",
      "execution_count": null,
      "id": "64b13623-ce75-4eab-b6d7-fc3f7126ed54",
      "metadata": {
        "editable": true,
        "tags": [],
        "id": "64b13623-ce75-4eab-b6d7-fc3f7126ed54",
        "outputId": "b8458ccc-ea1d-48cf-8c5d-b625a2dad128"
      },
      "outputs": [
        {
          "name": "stdout",
          "output_type": "stream",
          "text": [
            "5000000050000000\n",
            "That took 2.577965259552002 seconds\n",
            "5000000050000000.0\n",
            "That took 2.3126602172851562e-05 seconds\n"
          ]
        }
      ],
      "source": [
        "import time\n",
        "start = time.time()\n",
        "print(sum_of_n_loop(100000000))\n",
        "end = time.time()\n",
        "print(\"That took\",end-start,\"seconds\")\n",
        "\n",
        "\n",
        "start = time.time()\n",
        "print(sum_of_n_formula(100000000))\n",
        "end = time.time()\n",
        "print(\"That took\",end-start,\"seconds\")\n",
        "#print(\"That took\",f\"{end-start:.10f}\",\"seconds\") #you can do this to format your float values"
      ]
    },
    {
      "cell_type": "markdown",
      "id": "34e7a5f4-fcbc-4ae7-9cd4-6a952f0cacf5",
      "metadata": {
        "editable": true,
        "tags": [],
        "id": "34e7a5f4-fcbc-4ae7-9cd4-6a952f0cacf5"
      },
      "source": [
        "## Group Activity Problem 2\n",
        "\n",
        "Calculate the amount of time each of these functions takes on your computer for the the following values of n. Write down how long it took for each one.\n",
        "\n",
        "10000000 (ten million)\n",
        "\n",
        "20000000\n",
        "\n",
        "30000000\n",
        "\n",
        "40000000\n",
        "\n",
        "50000000\n",
        "\n",
        "Can you predict how long it will take if you run this on 1000000000 (one billion)?"
      ]
    },
    {
      "cell_type": "markdown",
      "id": "d88ab59c-3668-4335-983e-705b3bdc3639",
      "metadata": {
        "editable": true,
        "tags": [],
        "id": "d88ab59c-3668-4335-983e-705b3bdc3639"
      },
      "source": [
        "## Plotting the results\n",
        "\n",
        "I suggest plotting the running times. You could use any tool you're comfortable with - Excel, Google Sheets, etc.\n",
        "\n",
        "Here's how you can do it with Plotly using the run times from my computer\n"
      ]
    },
    {
      "cell_type": "code",
      "execution_count": null,
      "id": "69115c3e-bf49-4cf7-973c-e2dd046379e0",
      "metadata": {
        "editable": true,
        "tags": [],
        "id": "69115c3e-bf49-4cf7-973c-e2dd046379e0",
        "outputId": "94bc02b0-6d94-4bc3-80d8-cf9f6277363c"
      },
      "outputs": [
        {
          "data": {
            "image/png": "[encoded data removed]"
          },
          "metadata": {},
          "output_type": "display_data"
        }
      ],
      "source": [
        "import plotly.express as px\n",
        "\n",
        "timing_results = { \"n\": [10000000,20000000,30000000,40000000,50000000],\n",
        "                 \"Loop run time\" : [0.7423880100250244, 1.56697416305542, 3.0009987354278564, 3.2959609031677246, 4.3049681186676025],\n",
        "                 \"Formula run time\" : [0.0000040531, 0.0000030994, 0.0000038147, 0.0000038147, 0.0000040531]\n",
        "                 }\n",
        "\n",
        "fig = px.scatter(timing_results,x=\"n\",y=[ \"Loop run time\",\"Formula run time\"])\n",
        "fig.show()"
      ]
    },
    {
      "cell_type": "markdown",
      "id": "0bcd194b-c5b3-4e61-bec0-1cd1cd9c22d0",
      "metadata": {
        "editable": true,
        "tags": [],
        "id": "0bcd194b-c5b3-4e61-bec0-1cd1cd9c22d0"
      },
      "source": [
        "Tangent: We could even automate this..."
      ]
    },
    {
      "cell_type": "code",
      "execution_count": null,
      "id": "47f8ad5b-546e-40a9-93d6-ed4aa6634be0",
      "metadata": {
        "editable": true,
        "tags": [],
        "id": "47f8ad5b-546e-40a9-93d6-ed4aa6634be0",
        "outputId": "a26f8050-8e60-477c-ffdb-75621fed8c51"
      },
      "outputs": [
        {
          "data": {
            "image/png": "[encoded data removed]"
          },
          "metadata": {},
          "output_type": "display_data"
        }
      ],
      "source": [
        "import plotly.express as px\n",
        "\n",
        "\n",
        "timing_results = { \"n\": [10000,20000,30000,40000,50000,60000,70000,80000,90000,100000],\n",
        "                 \"Loop run time\" : [],\n",
        "                 \"Formula run time\" : []\n",
        "                 }\n",
        "\n",
        "for n in timing_results[\"n\"]:\n",
        "    start = time.time()\n",
        "    sum_of_n_loop(n)\n",
        "    end = time.time()\n",
        "    timing_results[\"Loop run time\"].append(end-start)\n",
        "\n",
        "\n",
        "    start = time.time()\n",
        "    sum_of_n_formula(n)\n",
        "    end = time.time()\n",
        "    timing_results[\"Formula run time\"].append(end-start)\n",
        "\n",
        "fig = px.scatter(timing_results,x=\"n\",y=[ \"Loop run time\",\"Formula run time\"])\n",
        "fig.show()"
      ]
    },
    {
      "cell_type": "markdown",
      "id": "be22b140-664e-44a5-a34a-9da78661390d",
      "metadata": {
        "editable": true,
        "tags": [],
        "id": "be22b140-664e-44a5-a34a-9da78661390d"
      },
      "source": [
        "## $T(n)$ Time Analysis\n",
        "\n",
        "Another way we can estimate running time is by counting up the number of basic operations/steps it takes to compute something.\n",
        "\n",
        "$T(n)$ is the notation we use to describe the amount of time the algorithm takes for a problem of size $n$.\n",
        "\n",
        "Let's try to apply this to our Sum of N algorithms."
      ]
    },
    {
      "cell_type": "code",
      "execution_count": null,
      "id": "3fce7b55-7a4d-4377-b90b-0adb142d7942",
      "metadata": {
        "editable": true,
        "tags": [],
        "id": "3fce7b55-7a4d-4377-b90b-0adb142d7942"
      },
      "outputs": [],
      "source": [
        "def sum_of_n_loop(n):\n",
        "    total = 0  # 1 operation\n",
        "\n",
        "    #this loop runs n+1 times\n",
        "    for i in range(n+1): #2 operations (compute the next value in the range, then assign to i)\n",
        "        total += i  #2 operations (first add, then assign value to total)\n",
        "\n",
        "    return total"
      ]
    },
    {
      "cell_type": "markdown",
      "id": "4b8fe973-137a-46c3-ac95-b31daec10c87",
      "metadata": {
        "editable": true,
        "tags": [],
        "id": "4b8fe973-137a-46c3-ac95-b31daec10c87"
      },
      "source": [
        "Outside the loop we have 1 operation\n",
        "\n",
        "Every time through the loop, we have 4 operations\n",
        "\n",
        "The loop runs $n+1$ times.\n",
        "\n",
        "So, the total number of operations is $T(n) = 4(n+1)+1$ which after doing a little math is equivlent to $T(n) = 4n+5$"
      ]
    },
    {
      "cell_type": "code",
      "execution_count": null,
      "id": "4009836a-d99b-4e80-a22e-0efb0852d118",
      "metadata": {
        "id": "4009836a-d99b-4e80-a22e-0efb0852d118"
      },
      "outputs": [],
      "source": [
        "def sum_of_n_formula(n):\n",
        "    return n*(n+1)/2  #3 operations (add, then multiply, then divide)"
      ]
    },
    {
      "cell_type": "markdown",
      "id": "885d3fbd-39bf-428c-a7d8-2e56a7f55368",
      "metadata": {
        "editable": true,
        "tags": [],
        "id": "885d3fbd-39bf-428c-a7d8-2e56a7f55368"
      },
      "source": [
        "In this case $T(n)=3$\n",
        "\n",
        "Since $T(n)=3$ will always be less than $T(n) = 4n+5$, we know the formula version is better."
      ]
    },
    {
      "cell_type": "code",
      "execution_count": null,
      "id": "cb0cd228-9f96-4a04-b46f-090e4be6d0cd",
      "metadata": {
        "editable": true,
        "tags": [],
        "id": "cb0cd228-9f96-4a04-b46f-090e4be6d0cd",
        "outputId": "ca63a870-600a-4f96-c52e-2ad6847cc087"
      },
      "outputs": [
        {
          "data": {
            "image/png": "[encoded data removed]"
          },
          "metadata": {},
          "output_type": "display_data"
        }
      ],
      "source": [
        "import plotly.express as px\n",
        "\n",
        "nvals = range(0,1000,10)\n",
        "t1 = [4*n+4 for n in nvals]\n",
        "t2 = [3 for n in nvals]\n",
        "\n",
        "equation_plot = { \"n\": nvals,\n",
        "                 \"T(n)=4n+4\" : t1,\n",
        "                 \"T(n)=3\" : t2\n",
        "                 }\n",
        "fig = px.line(equation_plot,x=\"n\",y=[\"T(n)=4n+4\",\"T(n)=3\"])\n",
        "fig.show()"
      ]
    },
    {
      "cell_type": "markdown",
      "id": "800c1ffd-2848-46f8-8953-c02f31a0f8b9",
      "metadata": {
        "editable": true,
        "tags": [],
        "id": "800c1ffd-2848-46f8-8953-c02f31a0f8b9"
      },
      "source": [
        "Even if we were comparing\n",
        "\n",
        "$T(n) = 10000$\n",
        "\n",
        "to\n",
        "\n",
        "$T(n) = 4n+5$\n",
        "\n",
        "We would probably still prefer $T(n) = 10000$ because it has _constant_ growth instead of _linear_ growth.\n",
        "\n",
        "When the size of the problem gets really big, eventually the _linear_ algorithm will do worse.\n",
        "\n",
        "The big-sized cases are usually the ones we care most about - what happens to your system when it is under heavier loads?"
      ]
    },
    {
      "cell_type": "markdown",
      "id": "76592644-96d4-400c-b032-68b3a95e927d",
      "metadata": {
        "editable": true,
        "tags": [],
        "id": "76592644-96d4-400c-b032-68b3a95e927d"
      },
      "source": [
        "## Group Activity Problem 3\n",
        "\n",
        "Order these $T(n)$ functions from slowest to fastest growing\n",
        "\n",
        "$T(n) = 148n+12000$\n",
        "\n",
        "$T(n) = 54$\n",
        "\n",
        "$T(n) = 5n^2+33$\n",
        "\n",
        "$T(n) = 1278540$\n",
        "\n",
        "$T(n) = 2081n+6$\n",
        "\n",
        "$T(n) = 23n^2+10n+8$\n",
        "\n"
      ]
    },
    {
      "cell_type": "markdown",
      "id": "53915c83-48f9-410f-b8df-3f43936bc9e8",
      "metadata": {
        "editable": true,
        "raw_mimetype": "",
        "tags": [],
        "id": "53915c83-48f9-410f-b8df-3f43936bc9e8"
      },
      "source": [
        "## Big-O: Order of magnitude\n",
        "\n",
        "When looking at running time like $T(n) = 148n+12000$, the 12000 will be a bigger part of the overall number when $n$ is small, but when $n$ gets big, the $148n$ will dominate the 12000 part.\n",
        "\n",
        "So, we don't really care much about the 12000.\n",
        "\n",
        "Similarly, whene $n$ gets big, the 148 will become a lot less significant.\n",
        "\n",
        "__Conclusion:__ When looking at $T(n)$, the specific constants are not very important!\n"
      ]
    },
    {
      "cell_type": "markdown",
      "id": "fe5f7fd0-0500-4155-a3c8-43bcf7c99820",
      "metadata": {
        "editable": true,
        "tags": [],
        "id": "fe5f7fd0-0500-4155-a3c8-43bcf7c99820"
      },
      "source": [
        "#### Instead, look at $O($  $)$ - the Big-O\n",
        "\n",
        "$O$ refers to the __order of magnitude__ - it's like $T(n)$, but you get to ignore all of the constants.\n",
        "\n",
        "Big-O is the primary way we measure __computational complexity__.\n",
        "* can be used for measuring _time_ complexity or _space_ (i.e., memory) complexity\n",
        "* unless stated otherwise, assume it's talking about _time complexity_ - describing how the running time of an algorithm grows with larger inputs\n",
        "\n",
        "All of these functions can be described as $O(n)$, also known as _linear_ because they grow linearly with $n$\n",
        "\n",
        "* $T(n) = 148n+12000$\n",
        "\n",
        "* $T(n) = 4n+5$\n",
        "\n",
        "* $T(n) = 2081n+6$\n"
      ]
    },
    {
      "cell_type": "markdown",
      "id": "80cd1a18-5275-42ae-85bd-682be3d67d47",
      "metadata": {
        "editable": true,
        "tags": [],
        "id": "80cd1a18-5275-42ae-85bd-682be3d67d47"
      },
      "source": [
        "These functions are all $O(n^2)$ - also known as _quadratic_\n",
        "\n",
        "* $T(n) = 0.001n^2$\n",
        "* $T(n) = 5n^2+33$\n",
        "* $T(n) = 23n^2+10n+8$\n",
        "\n",
        "Why doesn't $T(n) = 23n^2+10n+8$ have $O(n^2+n)$\n",
        "* again, when $n$ gets big, the $n^2$ term is what dominates\n",
        "* You only need to include the biggest term."
      ]
    },
    {
      "cell_type": "markdown",
      "id": "40b3fed5-90f6-40e4-8e65-37b506ad695b",
      "metadata": {
        "editable": true,
        "tags": [],
        "id": "40b3fed5-90f6-40e4-8e65-37b506ad695b"
      },
      "source": [
        "These functions are all $O(1)$ - also known as _constant_\n",
        "\n",
        "* $T(n) = 3$\n",
        "* $T(n) = 1278540$\n",
        "* $T(n) = 54$"
      ]
    },
    {
      "cell_type": "markdown",
      "id": "ab7b6c6c-ef09-4fca-a606-bc3364b2f3a6",
      "metadata": {
        "editable": true,
        "tags": [],
        "id": "ab7b6c6c-ef09-4fca-a606-bc3364b2f3a6"
      },
      "source": [
        "## Determining Big-O\n",
        "\n",
        "Finding Big-O values is much easier than calculating $T(n)$ because you can ignore all the constants.\n",
        "\n",
        "Here, we can see we have _constant_ * $n$ + _constant_ number of operations, which is just $O(n)$.\n",
        "\n",
        "The only thing that depends on the _size of the input_ is the number of times the loop iterates."
      ]
    },
    {
      "cell_type": "code",
      "execution_count": null,
      "id": "c8d3f88c-f8c9-4127-a246-1c6c856081da",
      "metadata": {
        "editable": true,
        "tags": [],
        "id": "c8d3f88c-f8c9-4127-a246-1c6c856081da"
      },
      "outputs": [],
      "source": [
        "def sum_of_n_loop(n):\n",
        "    total = 0  # constant number of things\n",
        "\n",
        "    #this loop runs n + constant number times\n",
        "    for i in range(n+1): #constant number of operations\n",
        "        total += i  #constant number of operations\n",
        "\n",
        "    return total"
      ]
    },
    {
      "cell_type": "markdown",
      "id": "f65b29a6-0ae6-43e4-8323-52c40cfa6b46",
      "metadata": {
        "editable": true,
        "tags": [],
        "id": "f65b29a6-0ae6-43e4-8323-52c40cfa6b46"
      },
      "source": [
        "## Common Big-O functions"
      ]
    },
    {
      "cell_type": "markdown",
      "id": "c0b196a6-bbe8-4d30-af00-5f10045d6103",
      "metadata": {
        "cell_style": "split",
        "editable": true,
        "tags": [],
        "id": "c0b196a6-bbe8-4d30-af00-5f10045d6103"
      },
      "source": [
        "\n",
        "\n",
        "<table class=\"docutils align-default\" id=\"id1\">\n",
        "<colgroup>\n",
        "<col style=\"width: 50%;text-align:center\"/>\n",
        "<col style=\"width: 50%\"/>\n",
        "</colgroup>\n",
        "<thead>\n",
        "<tr class=\"row-odd\"><th class=\"head\"><p><strong>f(n)</strong></p></th>\n",
        "<th class=\"head\"><p><strong>Name</strong></p></th>\n",
        "</tr>\n",
        "</thead>\n",
        "<tbody>\n",
        "<tr class=\"row-even\" style='text-align:center'><td><p><span class=\"math notranslate nohighlight\">\\(1\\)</span></p></td>\n",
        "<td><p>Constant</p></td>\n",
        "</tr>\n",
        "<tr class=\"row-odd\"><td><p><span class=\"math notranslate nohighlight\">\\(\\log n\\)</span></p></td>\n",
        "<td><p>Logarithmic</p></td>\n",
        "</tr>\n",
        "<tr class=\"row-even\"><td><p><span class=\"math notranslate nohighlight\">\\(n\\)</span></p></td>\n",
        "<td><p>Linear</p></td>\n",
        "</tr>\n",
        "<tr class=\"row-odd\"><td><p><span class=\"math notranslate nohighlight\">\\(n\\log n\\)</span></p></td>\n",
        "<td><p>Log Linear</p></td>\n",
        "</tr>\n",
        "<tr class=\"row-even\"><td><p><span class=\"math notranslate nohighlight\">\\(n^{2}\\)</span></p></td>\n",
        "<td><p>Quadratic</p></td>\n",
        "</tr>\n",
        "<tr class=\"row-odd\"><td><p><span class=\"math notranslate nohighlight\">\\(n^{3}\\)</span></p></td>\n",
        "<td><p>Cubic</p></td>\n",
        "</tr>\n",
        "<tr class=\"row-even\"><td><p><span class=\"math notranslate nohighlight\">\\(2^{n}\\)</span></p></td>\n",
        "<td><p>Exponential</p></td>\n",
        "</tr>\n",
        "</tbody>\n",
        "</table>\n",
        "\n"
      ]
    },
    {
      "cell_type": "markdown",
      "id": "bcc6ff30-7213-40b2-bfdc-5c42b39cfd47",
      "metadata": {
        "cell_style": "split",
        "editable": true,
        "tags": [],
        "id": "bcc6ff30-7213-40b2-bfdc-5c42b39cfd47"
      },
      "source": [
        "\n",
        "<center>\n",
        "<div>\n",
        "<img src=\"attachment:bigoshapes.png\" width=\"700\"/>\n",
        "</div>\n",
        "</center>\n"
      ]
    },
    {
      "cell_type": "markdown",
      "id": "b68eb8b9-c955-4d84-aeb6-5fe2b23872c3",
      "metadata": {
        "editable": true,
        "tags": [],
        "id": "b68eb8b9-c955-4d84-aeb6-5fe2b23872c3"
      },
      "source": [
        "## Group Activity Problem 4: Big-O of Searching\n",
        "\n",
        "Here is an example of the `search_for()` function that we wrote during the first week of class."
      ]
    },
    {
      "cell_type": "code",
      "execution_count": null,
      "id": "1903928b-343b-427e-a29f-9f84b2161517",
      "metadata": {
        "editable": true,
        "tags": [],
        "id": "1903928b-343b-427e-a29f-9f84b2161517",
        "outputId": "362d6150-d94d-44dd-f229-032addf3b78b"
      },
      "outputs": [
        {
          "name": "stdout",
          "output_type": "stream",
          "text": [
            "True\n",
            "True\n",
            "True\n",
            "False\n"
          ]
        }
      ],
      "source": [
        "def search_for(item, list_to_search_in):\n",
        "    \"\"\"\n",
        "    item: the item you're supposed to search for\n",
        "    list_to_search_in: the list you're supposed to look through to find item\n",
        "    return: True or False depending on if item is contained in list_to_search_in\n",
        "    \"\"\"\n",
        "    for curr_item in list_to_search_in:\n",
        "        if item == curr_item:\n",
        "            return True\n",
        "\n",
        "    return False\n",
        "\n",
        "#let's test it on some examples\n",
        "print( search_for(42,[35,66,70,5,42,10,12]) )\n",
        "print( search_for(35,[35,66,70,5,42,10,12]) )\n",
        "print( search_for(12,[35,66,70,5,42,10,12]) )\n",
        "print( search_for(9,[35,66,70,5,42,10,12]) )"
      ]
    },
    {
      "cell_type": "markdown",
      "id": "7ca8f0b8-74f0-4fe4-9911-8c5537a3ee45",
      "metadata": {
        "editable": true,
        "tags": [],
        "id": "7ca8f0b8-74f0-4fe4-9911-8c5537a3ee45"
      },
      "source": [
        "What is the $n$ in this algorithm? That is, what tells you the \"size\" of the input?\n",
        "\n",
        "What is the Big-O of this algorithm?\n",
        "\n",
        "Are the number of steps different for the different test cases?"
      ]
    },
    {
      "cell_type": "markdown",
      "id": "bb627b68-7e27-498f-ae28-9bf4063d0cec",
      "metadata": {
        "editable": true,
        "tags": [],
        "id": "bb627b68-7e27-498f-ae28-9bf4063d0cec"
      },
      "source": [
        "What is the Big-O of the algorithm below?"
      ]
    },
    {
      "cell_type": "code",
      "execution_count": null,
      "id": "10f64d70-1e15-4ba3-9f99-e569881c113c",
      "metadata": {
        "id": "10f64d70-1e15-4ba3-9f99-e569881c113c",
        "outputId": "eb09deb9-56c3-45eb-e9a0-3d2620faf9a0"
      },
      "outputs": [
        {
          "name": "stdout",
          "output_type": "stream",
          "text": [
            "True\n",
            "True\n",
            "True\n",
            "False\n"
          ]
        }
      ],
      "source": [
        "def search_for_alternate(item, list_to_search_in):\n",
        "    \"\"\"\n",
        "    item: the item you're supposed to search for\n",
        "    list_to_search_in: the list you're supposed to look through to find item\n",
        "    return: True or False depending on if item is contained in list_to_search_in\n",
        "    \"\"\"\n",
        "    return (item in list_to_search_in)\n",
        "\n",
        "#let's test it on some examples\n",
        "print( search_for_alternate(42,[35,66,70,5,42,10,12]) )\n",
        "print( search_for_alternate(35,[35,66,70,5,42,10,12]) )\n",
        "print( search_for_alternate(12,[35,66,70,5,42,10,12]) )\n",
        "print( search_for_alternate(9,[35,66,70,5,42,10,12]) )"
      ]
    },
    {
      "cell_type": "markdown",
      "id": "44cc61a2-519c-4a55-8977-403dc8f7f540",
      "metadata": {
        "editable": true,
        "tags": [],
        "id": "44cc61a2-519c-4a55-8977-403dc8f7f540"
      },
      "source": [
        "## Best, Average, and Worst Case\n",
        "\n",
        "Different inputs (of the same size) to the same algorithm might result in different running times\n",
        "\n",
        "__Best case__ performance: running time on the input that allows the algorithm to finish the fastest\n",
        "\n",
        "__Worst case__ performance: running time on the input that requires the most time for the algorithm to finish\n",
        "\n",
        "__Average case__ performance: average running time over typical inputs\n",
        "* often it is difficult to determine what the _typical_ inputs are that should be considered\n",
        "\n",
        "Unless otherwise stated, Big-O is assumed to be talking about _worst case performance_.\n",
        "\n",
        "What are the best, worst, and average cases for `search_for()`?"
      ]
    },
    {
      "cell_type": "markdown",
      "id": "81c8e028-f98a-417c-95bd-5c5d1a4f58f0",
      "metadata": {
        "editable": true,
        "tags": [],
        "id": "81c8e028-f98a-417c-95bd-5c5d1a4f58f0"
      },
      "source": [
        "## Group Activity Problem 5: Anagram Detection\n",
        "\n",
        "An _anagram_ is a word or phrase that can be formed by rearranging the letters of a different word or phrase.\n",
        "\n",
        "Examples of anagrams include\n",
        "\n",
        "silent, listen\n",
        "\n",
        "night, thing\n",
        "\n",
        "the morse code, here come dots\n",
        "\n",
        "eleven plus two, twelve plus one"
      ]
    },
    {
      "cell_type": "markdown",
      "id": "e3e7d4e9-6fbf-4c2b-b49c-63c15dacd294",
      "metadata": {
        "editable": true,
        "tags": [],
        "id": "e3e7d4e9-6fbf-4c2b-b49c-63c15dacd294"
      },
      "source": [
        "__Problem:__ Write a function that will tell you if two strings are anagrams."
      ]
    },
    {
      "cell_type": "markdown",
      "id": "af3e1f25-3277-44b1-b1c8-d0605fdf214b",
      "metadata": {
        "editable": true,
        "tags": [],
        "id": "af3e1f25-3277-44b1-b1c8-d0605fdf214b"
      },
      "source": [
        "The book provides four different solutions in Section 3.4. Three of them are reproduced below.\n",
        "\n",
        "Each group will be assigned one of these solutions. Do the following as a group.\n",
        "\n",
        "1. Test the code on several inputs of different sizes.\n",
        "2. Instrument the code to measure the time it takes on different-sized inputs.\n",
        "3. Give examples of best, worst, and average case inputs.\n",
        "4. Determine what the Big-O of the algorithm is, and be ready to explain why.\n",
        "\n",
        "If you have time, you can check out what it says in the book, but try to analyze it without looking first!"
      ]
    },
    {
      "cell_type": "markdown",
      "id": "a27a11db-77ac-4a92-b907-59bc27f0dc78",
      "metadata": {
        "editable": true,
        "tags": [],
        "id": "a27a11db-77ac-4a92-b907-59bc27f0dc78"
      },
      "source": [
        "## Solution 1: Checking off\n",
        "\n",
        "This code works by converting the second string into a list and then search through the list for each character from the first string and replacing it with `None` when found.\n",
        "\n",
        "For example, if given `\"silent\"` and `\"listen\"`, the list would start out as\n",
        "\n",
        "`['l','i','s','t','e','n']`\n",
        "\n",
        "when searching for `'s'`, it becomes `['l','i',None,'t','e','n']`\n",
        "\n",
        "when searching for `'i'`, it becomes `['l',None,None,'t','e','n']`\n",
        "\n",
        "... and so until the list becomes `[None,None,None,None,None,None]`"
      ]
    },
    {
      "cell_type": "code",
      "execution_count": null,
      "id": "015bb638-59c3-4bea-a9bd-2272ed116c29",
      "metadata": {
        "editable": true,
        "tags": [],
        "id": "015bb638-59c3-4bea-a9bd-2272ed116c29",
        "outputId": "3fc42d93-8093-440f-ddcb-56d34bed0090"
      },
      "outputs": [
        {
          "name": "stdout",
          "output_type": "stream",
          "text": [
            "True\n"
          ]
        }
      ],
      "source": [
        "def anagramSolution1(s1,s2):\n",
        "    stillOK = True\n",
        "    if len(s1) != len(s2):\n",
        "        stillOK = False\n",
        "\n",
        "    alist = list(s2)\n",
        "    pos1 = 0\n",
        "\n",
        "    while pos1 < len(s1) and stillOK:\n",
        "        pos2 = 0\n",
        "        found = False\n",
        "        while pos2 < len(alist) and not found:\n",
        "            if s1[pos1] == alist[pos2]:\n",
        "                found = True\n",
        "            else:\n",
        "                pos2 = pos2 + 1\n",
        "\n",
        "        if found:\n",
        "            alist[pos2] = None\n",
        "        else:\n",
        "            stillOK = False\n",
        "\n",
        "        pos1 = pos1 + 1\n",
        "\n",
        "        #uncomment this if you want to see what the list looks like at each step\n",
        "        #print(alist)\n",
        "\n",
        "    return stillOK\n",
        "\n",
        "print(anagramSolution1('silent','listen'))"
      ]
    },
    {
      "cell_type": "markdown",
      "id": "5544c239-2876-4474-b244-405e4418600c",
      "metadata": {
        "editable": true,
        "tags": [],
        "id": "5544c239-2876-4474-b244-405e4418600c"
      },
      "source": [
        "## Solution 2: Sort and Compare\n",
        "\n",
        "This solution starts by converting both strings to lists and then sorting them. Once in sorted order, it goes through and checks that each corresponding item in the list is the same.\n",
        "\n",
        "For example, if given `\"silent\"` and `\"listen\"`, it would turn them into lists `['s', 'i', 'l', 'e', 'n', 't']` and `['l', 'i', 's', 't', 'e', 'n']`.\n",
        "\n",
        "Then, after sorting each list, we get `['e', 'i', 'l', 'n', 's', 't']` and `['e', 'i', 'l', 'n', 's', 't']`.\n",
        "\n",
        "We then compare `e` to `e`, then `i` to `i`, then `l` to `l` and so on. If we ever find two that don't match, we know it isn't an anagram. If we get to the end and they all match, it is an anagram."
      ]
    },
    {
      "cell_type": "code",
      "execution_count": null,
      "id": "858fa4ad-6888-4b7e-9477-1538714b154f",
      "metadata": {
        "editable": true,
        "tags": [],
        "id": "858fa4ad-6888-4b7e-9477-1538714b154f",
        "outputId": "ca6532be-d350-4af6-d9c3-4031d4ac327f"
      },
      "outputs": [
        {
          "name": "stdout",
          "output_type": "stream",
          "text": [
            "True\n"
          ]
        }
      ],
      "source": [
        "def anagramSolution2(s1,s2):\n",
        "    alist1 = list(s1)\n",
        "    alist2 = list(s2)\n",
        "\n",
        "    alist1.sort()\n",
        "    alist2.sort()\n",
        "\n",
        "    #uncomment these if you want to see the sorted lists\n",
        "    #print(alist1)\n",
        "    #print(alist2)\n",
        "\n",
        "    pos = 0\n",
        "    matches = True\n",
        "\n",
        "    while pos < len(s1) and matches:\n",
        "        if alist1[pos]==alist2[pos]:\n",
        "            pos = pos + 1\n",
        "        else:\n",
        "            matches = False\n",
        "\n",
        "    return matches\n",
        "\n",
        "print(anagramSolution2('silent','listen'))"
      ]
    },
    {
      "cell_type": "markdown",
      "id": "a5ba6605-76d8-4612-b1ed-e88e08c84e07",
      "metadata": {
        "editable": true,
        "tags": [],
        "id": "a5ba6605-76d8-4612-b1ed-e88e08c84e07"
      },
      "source": [
        "## Solution 4: Count and Compare\n",
        "\n",
        "This solution creates a list of letter frequencies for each string. Since there aree 26 letters in the alphabet, the strings will each have 26 entries - the first entry is the number of occurrences of `'a'`, the secondd is the number of occurrences of `'b'`, and so on.\n",
        "\n",
        "We can then loop through these frequency lists and compare them item by item to see if they're the same.\n",
        "\n",
        "For example, given inputs `'elevenplustwo'` and `'twelveplusone'`, you end up with the frequency lists\n",
        "\n",
        "`[0, 0, 0, 0, 3, 0, 0, 0, 0, 0, 0, 2, 0, 1, 1, 1, 0, 0, 1, 1, 1, 1, 1, 0, 0, 0]`\n",
        "\n",
        "and\n",
        "`[0, 0, 0, 0, 3, 0, 0, 0, 0, 0, 0, 2, 0, 1, 1, 1, 0, 0, 1, 1, 1, 1, 1, 0, 0, 0]`\n",
        "\n",
        "looping through this list entry by entry will show that they are the same.\n",
        "\n",
        "On the other hand, if given inputs `'granma'` and `'anagram'`, you'd get the frequency lists\n",
        "\n",
        "`[2, 0, 0, 0, 0, 0, 1, 0, 0, 0, 0, 0, 1, 1, 0, 0, 0, 1, 0, 0, 0, 0, 0, 0, 0, 0]`\n",
        "\n",
        "`[3, 0, 0, 0, 0, 0, 1, 0, 0, 0, 0, 0, 1, 1, 0, 0, 0, 1, 0, 0, 0, 0, 0, 0, 0, 0]`\n",
        "\n",
        "And you can determine they are not anagrams, because the first list has a 2 in the `a` position while the second one has a `3`."
      ]
    },
    {
      "cell_type": "code",
      "execution_count": null,
      "id": "b58e9f5c-ffcc-47d0-9b06-c6cf0f679ec3",
      "metadata": {
        "editable": true,
        "tags": [],
        "id": "b58e9f5c-ffcc-47d0-9b06-c6cf0f679ec3",
        "outputId": "40cfe0eb-85a6-40ac-a663-ac703645bcf1"
      },
      "outputs": [
        {
          "name": "stdout",
          "output_type": "stream",
          "text": [
            "True\n"
          ]
        }
      ],
      "source": [
        "def anagramSolution4(s1,s2):\n",
        "    c1 = [0]*26\n",
        "    c2 = [0]*26\n",
        "\n",
        "    for i in range(len(s1)):\n",
        "        pos = ord(s1[i])-ord('a')\n",
        "        c1[pos] = c1[pos] + 1\n",
        "\n",
        "    for i in range(len(s2)):\n",
        "        pos = ord(s2[i])-ord('a')\n",
        "        c2[pos] = c2[pos] + 1\n",
        "\n",
        "    #uncomment these if you want to see the word frequency lists\n",
        "    #print(c1)\n",
        "    #print(c2)\n",
        "\n",
        "    j = 0\n",
        "    stillOK = True\n",
        "    while j<26 and stillOK:\n",
        "        if c1[j]==c2[j]:\n",
        "            j = j + 1\n",
        "        else:\n",
        "            stillOK = False\n",
        "\n",
        "    return stillOK\n",
        "\n",
        "print(anagramSolution4('elevenplustwo','twelveplusone'))"
      ]
    }
  ],
  "metadata": {
    "kernelspec": {
      "display_name": "Python 3 (ipykernel)",
      "language": "python",
      "name": "python3"
    },
    "language_info": {
      "codemirror_mode": {
        "name": "ipython",
        "version": 3
      },
      "file_extension": ".py",
      "mimetype": "text/x-python",
      "name": "python",
      "nbconvert_exporter": "python",
      "pygments_lexer": "ipython3",
      "version": "3.12.4"
    },
    "colab": {
      "provenance": [],
      "include_colab_link": true
    }
  },
  "nbformat": 4,
  "nbformat_minor": 5
}