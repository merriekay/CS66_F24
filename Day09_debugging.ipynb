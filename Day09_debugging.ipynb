{
 "cells": [
  {
   "cell_type": "markdown",
   "id": "175d92db-5cce-4a6f-84de-9bc52ee520f0",
   "metadata": {
    "editable": true,
    "slideshow": {
     "slide_type": "slide"
    },
    "tags": []
   },
   "source": [
    "# Introduction to Debugging\n",
    "## Day09\n",
    "\n",
    "### CS66: Introduction to Computer Science II | Fall 2024\n",
    "\n",
    "Thursday, September 26th, 2024\n",
    "\n",
    "### Helpful Resources:\n",
    "[📜 Syllabus](https://docs.google.com/document/d/1lnkmnAm0tfw2ybqhS01ylSqKfkOcAAkmrrZUuDjwHuU/edit?usp=drive_link) | [📬 CodePost Login](https://codepost.io/login) | [📆 Schedule](https://docs.google.com/spreadsheets/d/1FW9s8S04zqpOaA13JyrlNPszk5D-H9dBi7xX6o5VpgY/edit?usp=drive_link) | [🙋‍♂️ PollEverywhere](https://pollev.com/moore) | [🪴 Office Hour Sign-Up](https://calendly.com/meredith-moore/office-hours)"
   ]
  },
  {
   "cell_type": "markdown",
   "id": "ca162725-2f84-4873-b58b-225dad2009ca",
   "metadata": {
    "editable": true,
    "slideshow": {
     "slide_type": ""
    },
    "tags": []
   },
   "source": [
    "# Announcements:\n",
    "\n",
    "You should be working on:\n",
    "- [Assignment #5: Bracket Matching](https://analytics.drake.edu/~moore/CS66-F24/Assignment5.html), due Tuesday, 10/1 by 11:59 pm.\n",
    "\n",
    "- Exam #1 will be released after class on Tuesday 10/1. It will be open book, open notes, you'll have until Thursday night at 11:59 pm to complete it. There is no time limit, but you can only submit it once."
   ]
  },
  {
   "cell_type": "markdown",
   "id": "a99fe9b1-33db-4580-b056-b2ecdfe36ff9",
   "metadata": {
    "editable": true,
    "slideshow": {
     "slide_type": "slide"
    },
    "tags": []
   },
   "source": [
    "## References for this lecture\n",
    "\n",
    "\n",
    "_The __Stack__ Abstract Data Type_ Problem Solving with Algorithms and Data Structures using Python, Section 4.4: [https://runestone.academy/ns/books/published/pythonds/BasicDS/TheStackAbstractDataType.html](https://runestone.academy/ns/books/published/pythonds/BasicDS/TheStackAbstractDataType.html)\n",
    "\n",
    "\n",
    "Visual Studio Python Debugging documentation:\n",
    "[https://code.visualstudio.com/docs/python/debugging](https://code.visualstudio.com/docs/python/debugging)\n",
    "\n"
   ]
  },
  {
   "cell_type": "markdown",
   "id": "aaf9b429-b3ee-4dc7-ae68-785fb29fbe33",
   "metadata": {
    "editable": true,
    "slideshow": {
     "slide_type": "slide"
    },
    "tags": []
   },
   "source": [
    "# Warm-Up Exercise: `is_valid_html()`\n",
    "\n",
    "Write a function called `is_valid_html(HTML)` that takes a string of simple HTML tags and checks if the tags are properly nested and matched usign a stack. \n",
    "\n",
    "For this exercise, assume the tags are well-formed (i.e. no malformed tags) and that there are no attributes in the tags. You only need to hands opening and closing tags such as `<html>`, `<body>`, and `<div>`, and their corresponding closing tags like `</html>`, `</body>`, and `</div>`. \n",
    "\n",
    "__Rules__\n",
    "- opening tags (like `<div>`) must have a corresponding tag (like `</div>`).\n",
    "- Tags must be properly nested (e.g., `<div><p></p></div>` is valid, but `<div><p></div></p>` is not).\n",
    "\n",
    "## Example output:\n",
    "```\n",
    "is_valid_html(\"<html><body><div></div></body></html>\")  # Output: True\n",
    "is_valid_html(\"<html><body><div></body></div></html>\")  # Output: False\n",
    "is_valid_html(\"<div><p></p><span></span></div>\")        # Output: True\n",
    "is_valid_html(\"<html><div><p></div></p></html>\")        # Output: False"
   ]
  },
  {
   "cell_type": "markdown",
   "id": "365d4d51-8327-4dc7-8d2c-459e7f001932",
   "metadata": {
    "editable": true,
    "slideshow": {
     "slide_type": "slide"
    },
    "tags": []
   },
   "source": [
    "### Steps to Solve:\n",
    "1. Initialize an empty stack.\n",
    "2. Traverse the HTML string to find tags.\n",
    "    - If you encounter an opening tag (e.g., `<div>`), push it onto the stack.\n",
    "    - If you encounter a closing tag (e.g., `</div>`), check if it matches the tag on top of the stack.\n",
    "        - If it matches, `pop()` the stack.\n",
    "        - If it doesn't match, the HTML is invalid.\n",
    "3. At the end, if the stack is empty, the HTML tags are properly matched. If the stack is not empty, some tags were not properly closed.\n",
    "\n",
    "Here is some starter code. \n",
    "\n",
    "> For now, we can ignore the `tags = re.findall(r'</?\\w+>', html)`, it's basically a regular expression that finds HTML tags for us and returns them as a list. "
   ]
  },
  {
   "cell_type": "code",
   "execution_count": 4,
   "id": "af91c0c9-fc32-4b53-8305-a4bde25f9966",
   "metadata": {
    "editable": true,
    "slideshow": {
     "slide_type": "slide"
    },
    "tags": []
   },
   "outputs": [
    {
     "name": "stdout",
     "output_type": "stream",
     "text": [
      "<html>\n",
      "<body>\n",
      "<div>\n",
      "</div>\n",
      "</body>\n",
      "</html>\n",
      "True\n"
     ]
    }
   ],
   "source": [
    "import re\n",
    "from pythonds.basic.stack import Stack\n",
    "\n",
    "def is_valid_html(html):\n",
    "    stack = Stack()  # Create a stack using pythonds\n",
    "    \n",
    "    # Find all tags in the HTML using regex\n",
    "    tags = re.findall(r'</?\\w+>', html)\n",
    "    \n",
    "    for tag in tags:\n",
    "        print(tag)\n",
    "        # check to see if it's an opening tag\n",
    "        \n",
    "        # if so, push it on the stack, consider just pushing the name of the tag\n",
    "\n",
    "        # if it's a closing tag and the stack isn't empty, pop the stack\n",
    "        \n",
    "        # check to see if the closing tag matches what was popped off the stack\n",
    "    \n",
    "    # If the stack is empty, all tags are properly closed\n",
    "    return stack.isEmpty()\n",
    "\n",
    "# Example usage:\n",
    "print(is_valid_html(\"<html><body><div></div></body></html>\"))  # Output: True\n",
    "#print(is_valid_html(\"<html><body><div></body></div></html>\"))  # Output: False\n",
    "#print(is_valid_html(\"<html><div><p></div></p></html>\"))        # Output: False\n"
   ]
  },
  {
   "cell_type": "markdown",
   "id": "83b1543a-5345-443a-9740-b128873a75cf",
   "metadata": {
    "editable": true,
    "slideshow": {
     "slide_type": ""
    },
    "tags": []
   },
   "source": [
    "## Debugging Problems...\n",
    "\n",
    "    Is my issue a formal exception thrown by the code, resulting in a stack trace?\n",
    "    Do my users understand or even see this problem?\n",
    "    Is the problem only present on certain inputs or all of them?\n",
    "    Is the problem something I know is somewhere in the code even though everything seems to work (so far)?\n",
    "    Can I do away with my problem completely or does fixing it introduce other problems?\n",
    "    What happens to me or someone else if I don't fix this problem in time?"
   ]
  },
  {
   "cell_type": "markdown",
   "id": "eb694970-a864-44c7-9f32-1d412996c6ce",
   "metadata": {
    "slideshow": {
     "slide_type": "slide"
    }
   },
   "source": [
    "Code isn't perfect. Some of those imperfections Python will never detect - sometimes we just write code that doesn't do what we think it does. Other times, we might really break the rules - Python will detect an error and will make it our problem.\n",
    "\n",
    "When the interpreter runs into an issue with your code, it can do a number of things. The code that invoked that code may suppress that error (e.g. try-except). More likely, your code will report that error to you. \n",
    "\n",
    "It may be the only error in your code, but it may not be. The interpreter will let you know immediately about the first error that it finds, and execution will halt. Upon fixing that error, you may find there are others - or that you've created more problems by fixing the first one! This is the joy of programming."
   ]
  },
  {
   "cell_type": "markdown",
   "id": "c5d35667-82d0-4cdd-84ad-53055c769d97",
   "metadata": {
    "slideshow": {
     "slide_type": "slide"
    }
   },
   "source": [
    "Here is some code that doesn't throw an error even though it has a serious problem:"
   ]
  },
  {
   "cell_type": "code",
   "execution_count": null,
   "id": "adefce16-d7c3-4b2d-a566-7ca3dc92c714",
   "metadata": {},
   "outputs": [],
   "source": [
    "#return the unique multiple of x and y\n",
    "def multiply(x,y):\n",
    "    return x+y\n",
    "\n",
    "print(multiply(2,3))"
   ]
  },
  {
   "cell_type": "markdown",
   "id": "e5cfcfef-18e9-41d3-8eda-913768d37ec1",
   "metadata": {
    "slideshow": {
     "slide_type": "slide"
    }
   },
   "source": [
    "Consider the following code:\n",
    "\n",
    "It contains a (fatal) error - not only one that makes the program behave poorly but, in fact, prevents the program from running completely. An actual exception is thrown: a `TypeError`. \n",
    "\n",
    "Along with this error, we get a <b>stack trace</b>: it is the contents of the stack of function invocations. It can be a bit hard to read but we need to try, or we won't find the error. In any case, it makes us detectives 🔎."
   ]
  },
  {
   "cell_type": "code",
   "execution_count": null,
   "id": "508758cb-a485-4fc4-b7f7-e8f5cdb6d0d4",
   "metadata": {
    "editable": true,
    "scrolled": true,
    "slideshow": {
     "slide_type": "-"
    },
    "tags": []
   },
   "outputs": [],
   "source": [
    "from math import fabs\n",
    "import py_compile\n",
    "import random\n",
    "\n",
    "chars = ['a','b','c','d','e','f','g','h','i','j','k','l','m','n','o','p','q','r','s','t','u','v','w','x','y','z','.','/','&','$','@','!','*','(',')','-','=','+','_',\"\\'\",'~',':',';',\"\\\"\",\"<\",\">\",\"\\n\"]\n",
    "\n",
    "def randomLength():\n",
    "    return random.randint(0,20000)\n",
    "\n",
    "def random_letter():\n",
    "    return chars[random.randint(0,len(chars))]\n",
    "\n",
    "def randomString(i):\n",
    "    random_string = \"\"\n",
    "    for x in range(i):\n",
    "        random_string += random_letter()\n",
    "    return random_string\n",
    "\n",
    "def compile_random_Python_Programs_forever():\n",
    "   # while(True):\n",
    "        progr = randomString(randomLength())\n",
    "        print(progr)\n",
    "        f = open(\"hopefully_a_program.py\",\"w\")\n",
    "        f.write(progr)\n",
    "        try:   \n",
    "            pr = py_compile.compile(f)\n",
    "            print(\"Everyone gets an A!\")\n",
    "            #break\n",
    "        except:\n",
    "            print(\"not a python program\")\n",
    "\n",
    "compile_random_Python_Programs_forever()"
   ]
  },
  {
   "cell_type": "markdown",
   "id": "cf75b912-d81d-4f30-b79d-23fd38825fd5",
   "metadata": {
    "editable": true,
    "slideshow": {
     "slide_type": "slide"
    },
    "tags": []
   },
   "source": [
    "Before we get into techniques, a few comments about why it is worthwhile to learn how to debug code:\n",
    "    \n",
    "   1. Whether the code is yours or somebody else's, broken code cannot hang around in a 'living' environment for long. If you upload broken code to a production environment, increasingly frustrated people will start walking into your office looking over your shoulder until you find your error and correct it. We need <b>techniques</b> for finding errors, not random luck.\n",
    "    \n",
    "   2. It doesn't feel good to be totally helpless in the face of incomprehensible error (a stack trace)\n",
    "    \n",
    "   3. The only feedback you are always guaranteed to get from a compiler is cryptic errors and stack traces. We need to know how to interpret these no matter what kind of code we are writing, in what context we are writing it, etc."
   ]
  },
  {
   "cell_type": "markdown",
   "id": "09280f65-fe78-4250-bb26-ab87337c63aa",
   "metadata": {},
   "source": [
    "## Group Activity Problem 2: Debugging a simple program\n",
    "\n",
    "Try debugging the following program - how did you do it? Before you make any changes to the code, be able to explain to your group members why you think that change is worth making.\n",
    "\n",
    "Again, the following code is broken. We don't know if it's broken in one place or ten. Find out!"
   ]
  },
  {
   "cell_type": "code",
   "execution_count": null,
   "id": "a1f6002b-ced5-47ce-9d54-4db21ad0444a",
   "metadata": {
    "editable": true,
    "slideshow": {
     "slide_type": ""
    },
    "tags": []
   },
   "outputs": [],
   "source": [
    "#exp takes two parameters: x,y both integers - and raises x to the power y\n",
    "def exp(x,y):\n",
    "    temp = x\n",
    "    for i in len(y):\n",
    "        temp*=x\n",
    "    return temp   \n",
    "        \n",
    "print(\"hello\")\n",
    "z = exp(2,5)       \n",
    "print(z)"
   ]
  },
  {
   "cell_type": "markdown",
   "id": "361a4cd7-d2f1-4543-a3d9-2a346d378f1b",
   "metadata": {
    "editable": true,
    "slideshow": {
     "slide_type": ""
    },
    "tags": []
   },
   "source": [
    "Suppose we didn't even look at the stack trace or error - only the output. What's your biggest clue as to where the error might lie?"
   ]
  },
  {
   "cell_type": "markdown",
   "id": "18e89426-0b0e-438b-92db-1d3fd9521835",
   "metadata": {
    "editable": true,
    "slideshow": {
     "slide_type": "slide"
    },
    "tags": []
   },
   "source": [
    "## A basic, but solid technique for debugging: print statements\n",
    "\n",
    "Our biggest clue above is that \"hello\" was printed before the stack trace, but nothing else - even though we may have expected to reach the other print statement inside of the function we called. Why wasn't it printed? Because we didn't make it that far before running into an error.\n",
    "\n",
    "How can we turn this idea into a tool?\n"
   ]
  },
  {
   "cell_type": "code",
   "execution_count": null,
   "id": "8cf47c36-d89c-46f1-967b-2c06027cc235",
   "metadata": {
    "editable": true,
    "slideshow": {
     "slide_type": ""
    },
    "tags": []
   },
   "outputs": [],
   "source": [
    "def exp(x,y):\n",
    "    print(\"testing1\")\n",
    "    temp = x\n",
    "    print(\"testing2\")\n",
    "    for i in len(y):\n",
    "        print(\"testing3\")\n",
    "        temp*=x\n",
    "        print(\"testing4\")\n",
    "     \n",
    "    print(\"testing5\")   \n",
    "    print(x)   \n",
    "        \n",
    "print(\"hello\")\n",
    "z = exp(2,5)       \n",
    "print(\"testing6\")\n",
    "print(z)\n"
   ]
  },
  {
   "cell_type": "markdown",
   "id": "111edc6e-32bf-4e96-913d-bb1618ce4fd7",
   "metadata": {
    "slideshow": {
     "slide_type": "slide"
    }
   },
   "source": [
    "## Group Activity Problem 3 - a harder case\n",
    "\n",
    "\n",
    "Try debugging the following program. If you got it working - would you say there is some technique to *how* you got it working? Is your approach generalizable? What about it can be applied to other problems? Are there situations where your technique doesn't work?"
   ]
  },
  {
   "cell_type": "code",
   "execution_count": null,
   "id": "7aa9eec5-a2b9-40fd-9901-d2b57f275a88",
   "metadata": {
    "editable": true,
    "slideshow": {
     "slide_type": ""
    },
    "tags": []
   },
   "outputs": [],
   "source": [
    "def calculate_pay(wage,hours):\n",
    "    if hours <= 40:\n",
    "        pay = wage*hours\n",
    "    elif(hours>40):\n",
    "        overtime_hours = hours-40\n",
    "        pay = (wage*40) + (wage*1.5*overtimehours)\n",
    "\n",
    "    print(\"Total pay:\" pay)\n",
    "    \n",
    "calculate_pay(10,20)"
   ]
  },
  {
   "cell_type": "markdown",
   "id": "37e2055e-c793-4886-9830-9c210c6d9c0e",
   "metadata": {
    "editable": true,
    "slideshow": {
     "slide_type": "slide"
    },
    "tags": []
   },
   "source": [
    "## Group Activity Problem 4 - we don't even know what this is but we'll get it working\n",
    "\n",
    "Copy the following code into a python file, then use information given to you by the stack trace to make this code run.\n",
    "You don't have to make it pretty, and you don't even need to know exactly what everything does. The goal here is to understand where errors might be coming from, what the errors mean, and how to make them go away. Your chances of understanding what's going on in someone else's code are far better when you can actually see some output.\n",
    "\n",
    "Hint: solve_ivp is a real method - it's inside scipy.integrate. How would you have found this out without this hint?\n",
    "- you may need to install some modules, this is often part of the debugging process and we should get comfy intalling Python modules."
   ]
  },
  {
   "cell_type": "code",
   "execution_count": null,
   "id": "78f6251a-29e5-44f5-b42e-50bf12325003",
   "metadata": {
    "editable": true,
    "scrolled": true,
    "slideshow": {
     "slide_type": ""
    },
    "tags": []
   },
   "outputs": [],
   "source": [
    "#Lotka-Volterra predator-prey model\n",
    "import numpy as np\n",
    "import scipy.integrate as intg\n",
    "import matplotlib.pyplot as plt\n",
    "\n",
    "def lotkavolterra(t, z, a, b, c, d):\n",
    "    x, y = z\n",
    "    return [a*x - b*x*y, -c*y + d*x*y]\n",
    "\n",
    "sol = solve_ivp(lotkavolterra, [0, 15], [10, 5], args=(1.5, 1, 3, 1), dense_output=True)\n",
    "\n",
    "t = np.linspace(0, 15, 300)\n",
    "z = sol.sol(t)\n",
    "plt.plot(t, z.T)\n",
    "plt.xlabel('t')\n",
    "plt.legnd(['x', 'y'], shadow=True)\n",
    "plt.title('Lotka-Volterra System')\n",
    "plt.show()"
   ]
  },
  {
   "cell_type": "markdown",
   "id": "358cf3c0-5f9b-487c-838c-fc11c79ffe29",
   "metadata": {
    "editable": true,
    "slideshow": {
     "slide_type": ""
    },
    "tags": []
   },
   "source": [
    "## VSCode debugging\n",
    "\n",
    "Let's look at the VSCode debugging mode. Other tools you use will have a very similar style."
   ]
  }
 ],
 "metadata": {
  "kernelspec": {
   "display_name": "Python 3 (ipykernel)",
   "language": "python",
   "name": "python3"
  },
  "language_info": {
   "codemirror_mode": {
    "name": "ipython",
    "version": 3
   },
   "file_extension": ".py",
   "mimetype": "text/x-python",
   "name": "python",
   "nbconvert_exporter": "python",
   "pygments_lexer": "ipython3",
   "version": "3.12.4"
  }
 },
 "nbformat": 4,
 "nbformat_minor": 5
}
