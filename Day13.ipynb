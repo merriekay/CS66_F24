{
  "cells": [
    {
      "cell_type": "markdown",
      "metadata": {
        "id": "view-in-github",
        "colab_type": "text"
      },
      "source": [
        "<a href=\"https://colab.research.google.com/github/merriekay/CS66_F24/blob/main/Day13.ipynb\" target=\"_parent\"><img src=\"https://colab.research.google.com/assets/colab-badge.svg\" alt=\"Open In Colab\"/></a>"
      ]
    },
    {
      "cell_type": "markdown",
      "id": "1e02fb31-1a3b-4e0c-95f4-d3aa609614da",
      "metadata": {
        "editable": true,
        "tags": [],
        "id": "1e02fb31-1a3b-4e0c-95f4-d3aa609614da"
      },
      "source": [
        "#  Classes Part II: Implementing Operators in your Classes and Hiding Attributes\n",
        "## Day13\n",
        "\n",
        "### CS66: Introduction to Computer Science II | Fall 2024\n",
        "\n",
        "Thursday, October 10th, 2024\n",
        "\n",
        "### Helpful Resources:\n",
        "[📜 Syllabus](https://docs.google.com/document/d/1lnkmnAm0tfw2ybqhS01ylSqKfkOcAAkmrrZUuDjwHuU/edit?usp=drive_link) | [📬 CodePost Login](https://codepost.io/login) | [📆 Schedule](https://docs.google.com/spreadsheets/d/1FW9s8S04zqpOaA13JyrlNPszk5D-H9dBi7xX6o5VpgY/edit?usp=drive_link) | [🙋‍♂️ PollEverywhere](https://pollev.com/moore) | [🪴 Office Hour Sign-Up](https://calendly.com/meredith-moore/office-hours)"
      ]
    },
    {
      "cell_type": "markdown",
      "id": "ced4a971-d619-42aa-aaac-f7824ffbedce",
      "metadata": {
        "editable": true,
        "tags": [],
        "id": "ced4a971-d619-42aa-aaac-f7824ffbedce"
      },
      "source": [
        "# Announcements:\n",
        "\n",
        "## You should be working on:\n",
        "#### [Assignment #7: Compare `FeetInches`](https://analytics.drake.edu/~moore/CS66-F24/Assignment7.html)\n",
        "__Due__: (tonight) Thursday, October 10th, by 11:59 pm\n",
        "- implement `<`, `==` and `<=` for the `FeetInches` class we'll write today"
      ]
    },
    {
      "cell_type": "markdown",
      "id": "8abc7b8a-abf0-41d0-aa33-6f0eb8390d67",
      "metadata": {
        "editable": true,
        "tags": [],
        "id": "8abc7b8a-abf0-41d0-aa33-6f0eb8390d67"
      },
      "source": [
        "## References for this lecture\n",
        "\n",
        "Problem Solving with Algorithms and Data Structures using Python\n",
        "\n",
        "Section 1.13: [https://runestone.academy/ns/books/published/pythonds/Introduction/ObjectOrientedProgramminginPythonDefiningClasses.html](https://runestone.academy/ns/books/published/pythonds/Introduction/ObjectOrientedProgramminginPythonDefiningClasses.html)\n",
        "\n",
        "Section 2.1: [https://runestone.academy/ns/books/published/pythonds/ProperClasses/a_proper_python_class.html](https://runestone.academy/ns/books/published/pythonds/ProperClasses/a_proper_python_class.html)\n",
        "\n",
        "Section 2.2 appears to be missing from the book, but we'll cover that too"
      ]
    },
    {
      "cell_type": "markdown",
      "id": "834912fb-6167-4f5d-9915-0fb2eece14f0",
      "metadata": {
        "id": "834912fb-6167-4f5d-9915-0fb2eece14f0"
      },
      "source": [
        "## Where we left off\n",
        "\n",
        "Last time, we made a class for representing measurements in feet-inches.\n",
        "\n",
        "We just implemented the special `__add__()` method, which will make it work with the `+` operator."
      ]
    },
    {
      "cell_type": "code",
      "execution_count": null,
      "id": "3d8ecf37-c700-422c-9797-668956c664e1",
      "metadata": {
        "id": "3d8ecf37-c700-422c-9797-668956c664e1",
        "outputId": "646708a8-3dcb-4417-ccef-ed3d97959cbf"
      },
      "outputs": [
        {
          "name": "stdout",
          "output_type": "stream",
          "text": [
            "6ft. 0in.\n"
          ]
        }
      ],
      "source": [
        "class FeetInches:\n",
        "\n",
        "    def __init__(self,f,i):\n",
        "        self.feet = f\n",
        "        self.inches = i\n",
        "\n",
        "    def simplify(self):\n",
        "        \"\"\"\n",
        "        if the number of inches is > 12,\n",
        "        this regroups the excess into feet\n",
        "        \"\"\"\n",
        "        self.feet += self.inches // 12\n",
        "        self.inches = self.inches % 12\n",
        "\n",
        "    def __repr__(self):\n",
        "        return str(self.feet)+\"ft. \"+str(self.inches)+\"in.\"\n",
        "\n",
        "    def __add__(self,other_measurement):\n",
        "        total_feet = self.feet + other_measurement.feet\n",
        "        total_inches = self.inches + other_measurement.inches\n",
        "\n",
        "        #create an new FeetInches object with the new measurements\n",
        "        total_FI = FeetInches(total_feet,total_inches)\n",
        "        total_FI.simplify()\n",
        "        return total_FI\n",
        "\n",
        "    def __sub__(self,other_measurement):\n",
        "        total_feet = self.feet - other_measurement.feet\n",
        "        total_inches = self.inches - other_measurement.inches\n",
        "\n",
        "        #create an new FeetInches object with the new measurements\n",
        "        total_FI = FeetInches(total_feet,total_inches)\n",
        "        total_FI.simplify()\n",
        "        return total_FI\n",
        "\n",
        "\n",
        "measurement1 = FeetInches(3,6)\n",
        "measurement2 = FeetInches(2,6)\n",
        "total = measurement1 + measurement2\n",
        "print(total)"
      ]
    },
    {
      "cell_type": "markdown",
      "id": "7a792216-9301-4bc3-88c3-5ebdb7ee4a85",
      "metadata": {
        "id": "7a792216-9301-4bc3-88c3-5ebdb7ee4a85"
      },
      "source": [
        "Similarly, you can support any of the following operators (plus more that I haven't listed):\n",
        "\n",
        "* `+`: `object.__add__(self, other)`   \n",
        "* `-`: `object.__sub__(self, other)`   \n",
        "* `*`: `object.__mul__(self, other)`   \n",
        "* `/`: `object.__truediv__(self, other)`   \n",
        "* `//`: `object.__floordiv__(self, other)`\n",
        "* `%`: `object.__mod__(self, other)`\n",
        "* `**`: `object.__pow__(self, other)`\n",
        "* `<<`: `object.__lshift__(self, other)`\n",
        "* `>>`: `object.__rshift__(self, other)`\n",
        "* `&`: `object.__and__(self, other)` (this is not the logical `and` operator)\n",
        "* `^`: `object.__xor__(self, other)`\n",
        "* `|`: `object.__or__(self, other)` (this is not the logical `or` operator)\n",
        "* `<`: `object.__lt__(self, other)`\n",
        "* `<=`: `object.__le__(self, other)`\n",
        "* `==`: `object.__eq__(self, other)`\n",
        "* `!=`: `object.__ne__(self, other)`\n",
        "* `>`: `object.__gt__(self, other)`\n",
        "* `>=`: `object.__ge__(self, other)`"
      ]
    },
    {
      "cell_type": "markdown",
      "id": "f01784af-5991-4715-af6d-69ca1fb75654",
      "metadata": {
        "id": "f01784af-5991-4715-af6d-69ca1fb75654"
      },
      "source": [
        "## Group Activity Problem 1\n",
        "\n",
        "Add support for the subtraction operator to the `FeetInches` class."
      ]
    },
    {
      "cell_type": "markdown",
      "id": "ff4e7573-bb02-483a-bf70-2a3f6475e641",
      "metadata": {
        "id": "ff4e7573-bb02-483a-bf70-2a3f6475e641"
      },
      "source": [
        "## Group Activity Problem 2\n",
        "\n",
        "Discussion the following questions.\n",
        "* What is the name of the function would I have to define (i.e., like `__add__` is for `+`) to be able to compare two `FeetInches` objects like in the code below?\n",
        "* Note that `__add__` and `__sub__` both return a new object of type `FeetInches`. What type of value should the function for `<` return?"
      ]
    },
    {
      "cell_type": "code",
      "execution_count": null,
      "id": "a02d4ad9-789a-4fd1-a1b6-116b8a704886",
      "metadata": {
        "id": "a02d4ad9-789a-4fd1-a1b6-116b8a704886"
      },
      "outputs": [],
      "source": [
        "measurement1 = FeetInches(3,6)\n",
        "measurement2 = FeetInches(2,6)\n",
        "print(measurement1 < measurement2) # True or False --> boolean"
      ]
    },
    {
      "cell_type": "markdown",
      "id": "7178b7e8-dbf0-4557-bd26-58717f584476",
      "metadata": {
        "id": "7178b7e8-dbf0-4557-bd26-58717f584476"
      },
      "source": [
        "## Group Activity Problem 3\n",
        "\n",
        "Add support for the `<` (less than) operator to the `FeetInches` class."
      ]
    },
    {
      "cell_type": "markdown",
      "id": "e668b231-f74b-4164-a898-98e1511c6824",
      "metadata": {
        "id": "e668b231-f74b-4164-a898-98e1511c6824"
      },
      "source": [
        "## Group Activity Problem 4\n",
        "\n",
        "After you implement `<`, you might get some other operators like `>` for free. Try the code below and see if it works with your definition. Do `<=`, `==`, `!=`, `>=` work? Why or why not?"
      ]
    },
    {
      "cell_type": "code",
      "execution_count": null,
      "id": "a2f68aa3-aad8-4252-95a7-a490d461f103",
      "metadata": {
        "id": "a2f68aa3-aad8-4252-95a7-a490d461f103"
      },
      "outputs": [],
      "source": [
        "measurement1 = FeetInches(3,6)\n",
        "measurement2 = FeetInches(2,6)\n",
        "print(measurement1 > measurement2)"
      ]
    },
    {
      "cell_type": "markdown",
      "id": "23b2f551-22e6-44cd-867b-5e904e4218bd",
      "metadata": {
        "id": "23b2f551-22e6-44cd-867b-5e904e4218bd"
      },
      "source": [
        "We'll use this space to go over the solution to the group activities above."
      ]
    },
    {
      "cell_type": "code",
      "execution_count": null,
      "id": "6bac4e67-0f08-4e89-b69f-7107063e639c",
      "metadata": {
        "id": "6bac4e67-0f08-4e89-b69f-7107063e639c",
        "outputId": "2f41a80f-93df-4375-9f6d-e995beb943ff"
      },
      "outputs": [
        {
          "name": "stdout",
          "output_type": "stream",
          "text": [
            "False\n"
          ]
        }
      ],
      "source": [
        "class FeetInches:\n",
        "\n",
        "    def __init__(self,f,i):\n",
        "        self.feet = f\n",
        "        self.inches = i\n",
        "\n",
        "    def simplify(self):\n",
        "        \"\"\"\n",
        "        if the number of inches is > 12,\n",
        "        this regroups the excess into feet\n",
        "        \"\"\"\n",
        "        self.feet += self.inches // 12\n",
        "        self.inches = self.inches % 12\n",
        "\n",
        "    def __repr__(self):\n",
        "        return str(self.feet)+\"ft. \"+str(self.inches)+\"in.\"\n",
        "\n",
        "    def __add__(self,other_measurement):\n",
        "        total_feet = self.feet + other_measurement.feet\n",
        "        total_inches = self.inches + other_measurement.inches\n",
        "\n",
        "        #create an new FeetInches object with the new measurements\n",
        "        total_FI = FeetInches(total_feet,total_inches)\n",
        "        total_FI.simplify()\n",
        "        return total_FI\n",
        "    def __sub__(self,other_measurement):\n",
        "        total_feet = self.feet - other_measurement.feet\n",
        "        total_inches = self.inches - other_measurement.inches\n",
        "\n",
        "        #create an new FeetInches object with the new measurements\n",
        "        total_FI = FeetInches(total_feet,total_inches)\n",
        "        total_FI.simplify()\n",
        "        return total_FI\n",
        "\n",
        "    def __lt__(self, other_measurement):\n",
        "        total_inches = self.feet * 12 + self.inches\n",
        "        total_inches_other = other_measurement.feet * 12 + other_measurement.inches\n",
        "        return total_inches < total_inches_other\n",
        "\n",
        "measurement1 = FeetInches(3,6)\n",
        "measurement2 = FeetInches(2,6)\n",
        "total = measurement1 < measurement2\n",
        "print(total)"
      ]
    },
    {
      "cell_type": "markdown",
      "id": "d41ba113-c09c-4912-982d-7298a6ce46c9",
      "metadata": {
        "id": "d41ba113-c09c-4912-982d-7298a6ce46c9"
      },
      "source": [
        "## A Playing Card Class\n",
        "\n",
        "Let's say we want to create a class for representing playing cards (so we can implement games like War, Bridge, Black Jack, etc.).\n",
        "\n",
        "Here is a bare-bones implementation:"
      ]
    },
    {
      "cell_type": "code",
      "execution_count": null,
      "id": "c858ed16-d8ad-4414-8ad7-854662de4502",
      "metadata": {
        "id": "c858ed16-d8ad-4414-8ad7-854662de4502",
        "outputId": "3fd055e7-8683-4af1-d36f-734494187359"
      },
      "outputs": [
        {
          "name": "stdout",
          "output_type": "stream",
          "text": [
            "Here's what the card looks like: 10 of ♡\n",
            "False\n"
          ]
        }
      ],
      "source": [
        "class PlayingCard:\n",
        "\n",
        "    def __init__(self,v,s):\n",
        "        self.value = v\n",
        "        self.suit = s\n",
        "\n",
        "    def __repr__(self):\n",
        "        return str(self.value)+\" of \"+ str(self.suit)\n",
        "\n",
        "    def __lt__(self, other):\n",
        "        # Aces are high or low so might need to add that in\n",
        "        return self.value < other.value\n",
        "\n",
        "two_of_clubs = PlayingCard(2,\"♣\")\n",
        "two_of_hearts = PlayingCard(2,\"♡\")\n",
        "ten_of_hearts = PlayingCard(10,\"♡\")\n",
        "seven_of_spades = PlayingCard(7,\"♠\")\n",
        "four_of_diamonds = PlayingCard(4,\"♢\")\n",
        "\n",
        "print(\"Here's what the card looks like:\",ten_of_hearts)\n",
        "print(ten_of_hearts < seven_of_spades)"
      ]
    },
    {
      "cell_type": "markdown",
      "id": "59c08453-83e1-4313-a585-0174b7c38e5a",
      "metadata": {
        "id": "59c08453-83e1-4313-a585-0174b7c38e5a"
      },
      "source": [
        "Note that ♣, ♡, ♠, and ♢ are all just text characters (see [https://en.wikipedia.org/wiki/Playing_cards_in_Unicode](https://en.wikipedia.org/wiki/Playing_cards_in_Unicode) ). You can use C, H, S, and D if you prefer."
      ]
    },
    {
      "cell_type": "markdown",
      "id": "8119667d-e1e0-4a2c-bb9b-fe2ec49c0f1e",
      "metadata": {
        "editable": true,
        "tags": [],
        "id": "8119667d-e1e0-4a2c-bb9b-fe2ec49c0f1e"
      },
      "source": [
        "## Group Activity Problem 5\n",
        "\n",
        "How should we handle cards without a numeric value like Queens or Aces?\n",
        "\n",
        "What do we have to do to get the cards to print nicely? `__repr__()`\n",
        "\n",
        "What do we have to do to allow us to write code like this? `__lt__()`\n",
        "\n",
        "Copy the code above and begin adding support for these."
      ]
    },
    {
      "cell_type": "code",
      "execution_count": null,
      "id": "01297f9b-b27e-42ca-bbdc-81852a231375",
      "metadata": {
        "id": "01297f9b-b27e-42ca-bbdc-81852a231375"
      },
      "outputs": [],
      "source": [
        "if two_of_clubs < ten_of_hearts:\n",
        "    print(\"Player 2 wins the hand\")"
      ]
    },
    {
      "cell_type": "code",
      "execution_count": null,
      "id": "baaee6cb-7d11-4bbb-9da5-08e48b515bd5",
      "metadata": {
        "id": "baaee6cb-7d11-4bbb-9da5-08e48b515bd5"
      },
      "outputs": [],
      "source": []
    },
    {
      "cell_type": "markdown",
      "id": "e4b5c6ff-8313-4f3d-a412-9955e8ed1919",
      "metadata": {
        "id": "e4b5c6ff-8313-4f3d-a412-9955e8ed1919"
      },
      "source": [
        "## Controlling Access\n",
        "\n",
        "When designing a class, you should plan for how to protect against accidental misuse.\n",
        "\n",
        "For example, what happens if someone tries to do this?"
      ]
    },
    {
      "cell_type": "code",
      "execution_count": null,
      "id": "df21f97f-56be-4433-9af4-67915e3f22dd",
      "metadata": {
        "editable": true,
        "tags": [],
        "id": "df21f97f-56be-4433-9af4-67915e3f22dd"
      },
      "outputs": [],
      "source": [
        "pikachu = PlayingCard(\"Pikachu\",40)"
      ]
    },
    {
      "cell_type": "markdown",
      "id": "706bea49-4c6d-43ab-ba84-d5a7afda5bd0",
      "metadata": {
        "editable": true,
        "tags": [],
        "id": "706bea49-4c6d-43ab-ba84-d5a7afda5bd0"
      },
      "source": [
        "This particular class is only meant to represent standard French playing cards, so this should cause some kind of error.\n",
        "\n",
        "One way to handle it might be like this:"
      ]
    },
    {
      "cell_type": "code",
      "execution_count": null,
      "id": "bfe5f8c8-cbc1-40f7-9cc1-e0bdb7fcd021",
      "metadata": {
        "id": "bfe5f8c8-cbc1-40f7-9cc1-e0bdb7fcd021",
        "outputId": "7ea0262e-0ab3-41f8-aae0-698746b06e2c"
      },
      "outputs": [
        {
          "ename": "Exception",
          "evalue": "A PlayingCard's value must be an integer in the range 2-14.",
          "output_type": "error",
          "traceback": [
            "\u001b[0;31m---------------------------------------------------------------------------\u001b[0m",
            "\u001b[0;31mException\u001b[0m                                 Traceback (most recent call last)",
            "Input \u001b[0;32mIn [2]\u001b[0m, in \u001b[0;36m<cell line: 10>\u001b[0;34m()\u001b[0m\n\u001b[1;32m      7\u001b[0m         \u001b[38;5;28mself\u001b[39m\u001b[38;5;241m.\u001b[39mvalue \u001b[38;5;241m=\u001b[39m v\n\u001b[1;32m      8\u001b[0m         \u001b[38;5;28mself\u001b[39m\u001b[38;5;241m.\u001b[39msuit \u001b[38;5;241m=\u001b[39m s\n\u001b[0;32m---> 10\u001b[0m twentyseven_of_clubs \u001b[38;5;241m=\u001b[39m \u001b[43mPlayingCard\u001b[49m\u001b[43m(\u001b[49m\u001b[38;5;241;43m27\u001b[39;49m\u001b[43m,\u001b[49m\u001b[38;5;124;43m\"\u001b[39;49m\u001b[38;5;124;43m♣\u001b[39;49m\u001b[38;5;124;43m\"\u001b[39;49m\u001b[43m)\u001b[49m\n\u001b[1;32m     11\u001b[0m pikachu \u001b[38;5;241m=\u001b[39m PlayingCard(\u001b[38;5;124m\"\u001b[39m\u001b[38;5;124mPikachu\u001b[39m\u001b[38;5;124m\"\u001b[39m,\u001b[38;5;241m40\u001b[39m)\n",
            "Input \u001b[0;32mIn [2]\u001b[0m, in \u001b[0;36mPlayingCard.__init__\u001b[0;34m(self, v, s)\u001b[0m\n\u001b[1;32m      3\u001b[0m \u001b[38;5;28;01mdef\u001b[39;00m \u001b[38;5;21m__init__\u001b[39m(\u001b[38;5;28mself\u001b[39m,v,s):\n\u001b[1;32m      5\u001b[0m     \u001b[38;5;28;01mif\u001b[39;00m \u001b[38;5;28mtype\u001b[39m(v) \u001b[38;5;241m!=\u001b[39m \u001b[38;5;28mtype\u001b[39m(\u001b[38;5;241m1\u001b[39m) \u001b[38;5;129;01mor\u001b[39;00m v \u001b[38;5;241m>\u001b[39m \u001b[38;5;241m14\u001b[39m \u001b[38;5;129;01mor\u001b[39;00m v \u001b[38;5;241m<\u001b[39m \u001b[38;5;241m2\u001b[39m:\n\u001b[0;32m----> 6\u001b[0m         \u001b[38;5;28;01mraise\u001b[39;00m \u001b[38;5;167;01mException\u001b[39;00m(\u001b[38;5;124m\"\u001b[39m\u001b[38;5;124mA PlayingCard\u001b[39m\u001b[38;5;124m'\u001b[39m\u001b[38;5;124ms value must be an integer in the range 2-14.\u001b[39m\u001b[38;5;124m\"\u001b[39m)\n\u001b[1;32m      7\u001b[0m     \u001b[38;5;28mself\u001b[39m\u001b[38;5;241m.\u001b[39mvalue \u001b[38;5;241m=\u001b[39m v\n\u001b[1;32m      8\u001b[0m     \u001b[38;5;28mself\u001b[39m\u001b[38;5;241m.\u001b[39msuit \u001b[38;5;241m=\u001b[39m s\n",
            "\u001b[0;31mException\u001b[0m: A PlayingCard's value must be an integer in the range 2-14."
          ]
        }
      ],
      "source": [
        "class PlayingCard:\n",
        "\n",
        "    def __init__(self,v,s):\n",
        "\n",
        "        if type(v) != type(1) or v > 14 or v < 2:\n",
        "            raise Exception(\"A PlayingCard's value must be an integer in the range 2-14.\")\n",
        "        self.value = v\n",
        "        self.suit = s\n",
        "\n",
        "twentyseven_of_clubs = PlayingCard(27,\"♣\")\n",
        "pikachu = PlayingCard(\"Pikachu\",40)"
      ]
    },
    {
      "cell_type": "markdown",
      "id": "bd0c11d6-7ddc-49c1-9563-d47193095ca6",
      "metadata": {
        "id": "bd0c11d6-7ddc-49c1-9563-d47193095ca6"
      },
      "source": [
        "## Hiding Attributes\n",
        "\n",
        "By convention, any attribute or method whose name starts with an underscore should be treated as __private__, meaning you shouldn't change the variable outside the class.\n",
        "\n",
        "`self._value`\n",
        "\n",
        "\n",
        "If it doesn't start with an underscore, it is __public__ and changing it outside the class is fair game.\n",
        "\n",
        "If you start it with _two_ underscores, then Python performs name mangling, which doesn't let you change the name outside the class (unless you do something extra to get around the mangling).\n",
        "\n",
        "`self.__value`\n"
      ]
    },
    {
      "cell_type": "code",
      "execution_count": null,
      "id": "5fad4208-6e19-4761-a42a-542059049c79",
      "metadata": {
        "id": "5fad4208-6e19-4761-a42a-542059049c79",
        "outputId": "979b2b92-c26e-4889-93f4-ff6bb41a66ac"
      },
      "outputs": [
        {
          "name": "stdout",
          "output_type": "stream",
          "text": [
            "2♣\n"
          ]
        }
      ],
      "source": [
        "class PlayingCard:\n",
        "\n",
        "    def __init__(self,v,s):\n",
        "\n",
        "        if type(v) != type(1) or v > 14 or v < 2:\n",
        "            raise Exception(\"A PlayingCard's value must be an integer in the range 2-14.\")\n",
        "        self.__value = v\n",
        "        self.__suit = s\n",
        "\n",
        "    def __repr__(self):\n",
        "        return str(self.__value)+str(self.__suit)\n",
        "\n",
        "pikachu = PlayingCard(2,\"♣\")\n",
        "pikachu.__value = \"Pikachu\"  #this doesn't actually change self.__value\n",
        "pikachu.__suit = 40\n",
        "print(pikachu)\n"
      ]
    },
    {
      "cell_type": "markdown",
      "id": "487fab9b-af3a-4907-a5c3-f7fa3c8796a8",
      "metadata": {
        "editable": true,
        "tags": [],
        "id": "487fab9b-af3a-4907-a5c3-f7fa3c8796a8"
      },
      "source": [
        "## Group Activity Problem 6\n",
        "\n",
        "Update your class so that `self.value` and `self.suit` are hidden (private/mangled)."
      ]
    }
  ],
  "metadata": {
    "kernelspec": {
      "display_name": "Python 3 (ipykernel)",
      "language": "python",
      "name": "python3"
    },
    "language_info": {
      "codemirror_mode": {
        "name": "ipython",
        "version": 3
      },
      "file_extension": ".py",
      "mimetype": "text/x-python",
      "name": "python",
      "nbconvert_exporter": "python",
      "pygments_lexer": "ipython3",
      "version": "3.12.4"
    },
    "colab": {
      "provenance": [],
      "include_colab_link": true
    }
  },
  "nbformat": 4,
  "nbformat_minor": 5
}