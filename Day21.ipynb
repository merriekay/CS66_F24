{
 "cells": [
  {
   "cell_type": "markdown",
   "id": "090115f8-4869-4215-8fa9-8ba3a610e464",
   "metadata": {
    "editable": true,
    "slideshow": {
     "slide_type": "skip"
    },
    "tags": []
   },
   "source": [
    "<a href=\"https://colab.research.google.com/github/merriekay/CS66_F24/blob/main/Day21.ipynb\" target=\"_parent\"><img src=\"https://colab.research.google.com/assets/colab-badge.svg\" alt=\"Open In Colab\"/></a>"
   ]
  },
  {
   "cell_type": "markdown",
   "id": "24c831cb-1b0b-40d6-975f-86dcbba081c2",
   "metadata": {
    "editable": true,
    "slideshow": {
     "slide_type": "slide"
    },
    "tags": []
   },
   "source": [
    "# Recursion\n",
    "## Day20\n",
    "\n",
    "### CS66: Introduction to Computer Science II | Fall 2024\n",
    "\n",
    "Thursday, November 14th, 2024\n",
    "\n",
    "### Helpful Resources:\n",
    "[📜 Syllabus](https://docs.google.com/document/d/1lnkmnAm0tfw2ybqhS01ylSqKfkOcAAkmrrZUuDjwHuU/edit?usp=drive_link) | [📬 CodePost Login](https://codepost.io/login) | [📆 Schedule](https://docs.google.com/spreadsheets/d/1FW9s8S04zqpOaA13JyrlNPszk5D-H9dBi7xX6o5VpgY/edit?usp=drive_link) | [🙋‍♂️ PollEverywhere](https://pollev.com/moore) | [🪴 Office Hour Sign-Up](https://calendly.com/meredith-moore/office-hours)"
   ]
  },
  {
   "cell_type": "markdown",
   "id": "07ee39b0-d3c0-4c9a-8c3a-12b94e7945b8",
   "metadata": {
    "editable": true,
    "slideshow": {
     "slide_type": "slide"
    },
    "tags": []
   },
   "source": [
    "# Announcements:\n",
    "\n",
    "### You should be working on:\n",
    "[Assignment #10: Web-Scraping](https://analytics.drake.edu/~moore/CS66-F24/Assignment10.html), released today, due Tuesday November 19th, by 11:59pm"
   ]
  },
  {
   "cell_type": "markdown",
   "id": "ae88cc34-17aa-416a-87be-39abeee65e1f",
   "metadata": {
    "jp-MarkdownHeadingCollapsed": true,
    "slideshow": {
     "slide_type": "slide"
    }
   },
   "source": [
    "## References for this lecture\n",
    "\n",
    "Problem Solving with Algorithms and Data Structures using Python\n",
    "\n",
    "Sections 5.1-5.8 [https://runestone.academy/ns/books/published/pythonds/Recursion/toctree.html](https://runestone.academy/ns/books/published/pythonds/Recursion/toctree.html)\n"
   ]
  },
  {
   "cell_type": "markdown",
   "id": "54537ccc-e835-46a0-8a92-b5826d20e26c",
   "metadata": {
    "editable": true,
    "slideshow": {
     "slide_type": "slide"
    },
    "tags": []
   },
   "source": [
    "# Wrapping up Hash Tables"
   ]
  },
  {
   "cell_type": "markdown",
   "id": "ecf89d5c-e093-45af-8861-8ee926e14ecc",
   "metadata": {
    "editable": true,
    "slideshow": {
     "slide_type": ""
    },
    "tags": []
   },
   "source": [
    "## Built-in Hash Function\n",
    "\n",
    "Python contains a built-in hash function that you can use.\n",
    "\n",
    "Be careful, the hash is somewhat randomized and values change every time you re-start your code (this brings issues with saving hashed values to a file, etc.)"
   ]
  },
  {
   "cell_type": "code",
   "execution_count": 1,
   "id": "f3c6ff98-b826-4f9f-9cb8-3655472525b3",
   "metadata": {
    "editable": true,
    "slideshow": {
     "slide_type": ""
    },
    "tags": []
   },
   "outputs": [
    {
     "name": "stdout",
     "output_type": "stream",
     "text": [
      "3525378667644641447\n"
     ]
    }
   ],
   "source": [
    "print( hash(\"Star Wars: Episode VII - The Force Awakens (2015)\") )"
   ]
  },
  {
   "cell_type": "markdown",
   "id": "efd5eead-1716-4ae0-b8ea-a9416a550cea",
   "metadata": {
    "editable": true,
    "slideshow": {
     "slide_type": "slide"
    },
    "tags": []
   },
   "source": [
    "## Map ADT\n",
    "\n",
    "Hash tables are also often used to implement the __map__ abstract data type\n",
    "\n",
    "A __map__ abstract data type stores _key-value_ pairs and allows you to use a _key_ to look up its associated _value_.\n",
    "\n",
    "A Python dictionary is a map.\n",
    "\n",
    "There are other data structures you could use to implement a map, such as a list of tuples.\n",
    "\n",
    "The following is the book's definition of the Map ADT:\n"
   ]
  },
  {
   "cell_type": "markdown",
   "id": "4edf8d52-d9ee-4df2-a7b7-2de2244036b6",
   "metadata": {
    "editable": true,
    "slideshow": {
     "slide_type": ""
    },
    "tags": []
   },
   "source": [
    "* `Map()` Create a new, empty map. It returns an empty map collection.\n",
    "* `put(key,val)` Add a new key-value pair to the map. If the key is already in the map then replace the old value with the new value.\n",
    "* `get(key)` Given a key, return the value stored in the map or `None` otherwise.\n",
    "* `del` Delete the key-value pair from the map using a statement of the form `del map[key]`.\n",
    "* `len()` Return the number of key-value pairs stored in the map.\n",
    "* `in` Return True for a statement of the form key in map, if the given key is in the map, False otherwise.\n"
   ]
  },
  {
   "cell_type": "markdown",
   "id": "39609dd8-fede-401b-8740-790e1ddb1570",
   "metadata": {
    "editable": true,
    "slideshow": {
     "slide_type": "slide"
    },
    "tags": []
   },
   "source": [
    "## Chained Hash Map\n",
    "\n",
    "We could use a similar strategy that we used for set, but store _(key,value)_ tuples\n",
    "\n",
    "```\n",
    "0:[(20, 'chicken')]\n",
    "1:[(31, 'cow')]\n",
    "2:[]\n",
    "3:[(93, 'lion')]\n",
    "4:[(54, 'cat'), (44, 'goat')]\n",
    "5:[(55, 'pig')]\n",
    "6:[(26, 'dog')]\n",
    "7:[(17, 'tiger'), (77, 'bird')]\n",
    "8:[]\n",
    "9:[]\n",
    "```\n",
    "\n",
    "(maybe this is a map that a zoo uses to look up which animal has each id)"
   ]
  },
  {
   "cell_type": "markdown",
   "id": "33d94713-c727-4208-98dc-464988257a5a",
   "metadata": {
    "editable": true,
    "slideshow": {
     "slide_type": "slide"
    },
    "tags": []
   },
   "source": [
    "## Group Activity Problem 5\n",
    "\n",
    "With our set, we did something like this"
   ]
  },
  {
   "cell_type": "code",
   "execution_count": null,
   "id": "0acf00aa-d83c-4bd8-a762-10edd7f528f3",
   "metadata": {
    "editable": true,
    "slideshow": {
     "slide_type": ""
    },
    "tags": []
   },
   "outputs": [],
   "source": [
    "    def add(self,item):\n",
    "        hashed_val = self.hash_function(item)\n",
    "        list_at_slot = self.table[ hashed_val ]\n",
    "        if not item in list_at_slot:\n",
    "            list_at_slot.append(item)"
   ]
  },
  {
   "cell_type": "markdown",
   "id": "28a604c7-21b9-4bb1-8781-705f4353d33b",
   "metadata": {
    "editable": true,
    "slideshow": {
     "slide_type": "fragment"
    },
    "tags": []
   },
   "source": [
    "For a map, it would look like this"
   ]
  },
  {
   "cell_type": "code",
   "execution_count": null,
   "id": "60373bf2-511b-4305-b432-105a385c1199",
   "metadata": {
    "editable": true,
    "slideshow": {
     "slide_type": ""
    },
    "tags": []
   },
   "outputs": [],
   "source": [
    "    def put(self,key,value): # (20, \"chicken\")\n",
    "        hashed_key = self.hash_function(key)\n",
    "        list_at_slot = self.table[ hashed_key ]\n",
    "        if not (key,value) in list_at_slot: # [(20,\"Turkey\")]\n",
    "            list_at_slot.append((key,value))"
   ]
  },
  {
   "cell_type": "markdown",
   "id": "7ab4cb48-efc5-4b1c-be43-e777ceda68ec",
   "metadata": {
    "editable": true,
    "slideshow": {
     "slide_type": "fragment"
    },
    "tags": []
   },
   "source": [
    "What would happen if you tried to change the value associated with a key?\n",
    "> * this method doesn't handle the case where the key already exists with a different value.\n",
    "> * The code below will add `(20, \"Chicken\")` rather than updating the value associated with the key 20. \n",
    "\n",
    "How can you fix it?"
   ]
  },
  {
   "cell_type": "code",
   "execution_count": null,
   "id": "12a280de-67a8-4e9d-9ecd-019db8d116e9",
   "metadata": {
    "editable": true,
    "slideshow": {
     "slide_type": "slide"
    },
    "tags": []
   },
   "outputs": [],
   "source": [
    "    def put(self,key,value): # (20, \"chicken\")\n",
    "        hashed_key = self.hash_function(key)\n",
    "        list_at_slot = self.table[ hashed_key ]\n",
    "\n",
    "        # list_at_slot is a dictionary of tuples with form (key, value)\n",
    "        for pair in list_at_slot:\n",
    "            if pair[0] == key: #pair[0] is the first value of the tuple, the key\n",
    "                # update the value by replacing the tuple\n",
    "                list_at_slot[list_at_slot.index(pair)] = (key, value)\n",
    "                return \n",
    "        # if the key is not found, append the new (key, value) pair\n",
    "        list_at_slot.append((key, value))"
   ]
  },
  {
   "cell_type": "code",
   "execution_count": null,
   "id": "5ab7dbd3-a8ec-4afc-bedc-3f6f643955d5",
   "metadata": {
    "editable": true,
    "slideshow": {
     "slide_type": ""
    },
    "tags": []
   },
   "outputs": [],
   "source": [
    "my_map = ChainedHashMap()\n",
    "\n",
    "my_map.put(20,\"Turkey\")\n",
    "my_map.put(20,\"Chicken\") #should overwrite Turkey"
   ]
  },
  {
   "cell_type": "markdown",
   "id": "08152d7a-d8f9-47e9-b767-aeb9ca5da018",
   "metadata": {
    "editable": true,
    "slideshow": {
     "slide_type": "slide"
    },
    "tags": []
   },
   "source": [
    "## Textbook's Linear-Probed-Hash-Table Map\n",
    "\n",
    "The following code shows the start of the book's approach to using a Hash Table with linear probing to implement a map.\n",
    "\n",
    "`self.slots` list stores the keys\n",
    "\n",
    "`self.data` stores the associated values\n"
   ]
  },
  {
   "cell_type": "code",
   "execution_count": null,
   "id": "c5b31cba-6e91-48b9-94aa-7cf0c24adf24",
   "metadata": {
    "editable": true,
    "slideshow": {
     "slide_type": ""
    },
    "tags": []
   },
   "outputs": [],
   "source": [
    "class HashTable:\n",
    "    def __init__(self):\n",
    "        self.size = 11\n",
    "        self.slots = [None] * self.size\n",
    "        self.data = [None] * self.size\n",
    "        \n",
    "    def put(self,key,data):\n",
    "        hashvalue = self.hashfunction(key,len(self.slots))\n",
    "\n",
    "        if self.slots[hashvalue] == None:\n",
    "            self.slots[hashvalue] = key\n",
    "            self.data[hashvalue] = data\n",
    "        else:\n",
    "            if self.slots[hashvalue] == key:\n",
    "                self.data[hashvalue] = data  #replace\n",
    "            else:\n",
    "                nextslot = self.rehash(hashvalue,len(self.slots))\n",
    "            while self.slots[nextslot] != None and self.slots[nextslot] != key:\n",
    "                nextslot = self.rehash(nextslot,len(self.slots))\n",
    "\n",
    "            if self.slots[nextslot] == None:\n",
    "                self.slots[nextslot]=key\n",
    "                self.data[nextslot]=data\n",
    "            else:\n",
    "                self.data[nextslot] = data #replace\n",
    "\n",
    "    def hashfunction(self,key,size):\n",
    "         return key%size\n",
    "\n",
    "    def rehash(self,oldhash,size):\n",
    "        return (oldhash+1)%size"
   ]
  },
  {
   "cell_type": "markdown",
   "id": "81506036-0c1a-4da0-9942-4047fbf59988",
   "metadata": {
    "editable": true,
    "slideshow": {
     "slide_type": "slide"
    },
    "tags": []
   },
   "source": [
    "# Recursion\n",
    "\n",
    "a __recursive__ function is a function that calls itself.\n",
    "\n",
    "Recursion is also a _problem solving strategy_ that allows you to solve problems by breaking them down to smaller and smaller sub-problems, which are eventually _trivial_ to solve.\n",
    "\n",
    "It can be hard to think recursively at first, but when you get good at it, it will allow you to solve some problems in really elegant ways."
   ]
  },
  {
   "cell_type": "markdown",
   "id": "9d866e01-40ee-4dbb-85cf-3277c11278c7",
   "metadata": {
    "editable": true,
    "slideshow": {
     "slide_type": "slide"
    },
    "tags": []
   },
   "source": [
    "## Group Activity Problem 1\n",
    "\n",
    "Copy this function into a `.py` file and run it. It will eventually result in an error - _wait for it_. \n",
    "\n",
    "Read the error message you get. Discuss in your groups:\n",
    "\n",
    "1. What is the difference between this and an infinite loop?\n",
    "2. Why did this result in an error when an infinite loop would just go on forever?"
   ]
  },
  {
   "cell_type": "code",
   "execution_count": null,
   "id": "09b3a462-dc86-474d-9cf3-442e076ff2ff",
   "metadata": {
    "editable": true,
    "slideshow": {
     "slide_type": ""
    },
    "tags": []
   },
   "outputs": [],
   "source": [
    "def recursive_hello():\n",
    "    print(\"hello\")\n",
    "    recursive_hello()\n",
    "    \n",
    "recursive_hello()"
   ]
  },
  {
   "cell_type": "markdown",
   "id": "f9ca20fd-4d10-468c-ac09-182e237fc227",
   "metadata": {
    "editable": true,
    "slideshow": {
     "slide_type": "skip"
    },
    "tags": []
   },
   "source": [
    "```bash\n",
    "recursive_hello()\n",
    "  [Previous line repeated 996 more times]\n",
    "RecursionError: maximum recursion depth exceeded\n",
    "```"
   ]
  },
  {
   "cell_type": "markdown",
   "id": "7b71b130-ddbb-4910-b9bd-de6a351319fe",
   "metadata": {
    "editable": true,
    "slideshow": {
     "slide_type": "fragment"
    },
    "tags": []
   },
   "source": [
    "Then try this version:"
   ]
  },
  {
   "cell_type": "code",
   "execution_count": null,
   "id": "39fe8c54-6f68-4671-b4bf-64c14d750677",
   "metadata": {
    "editable": true,
    "slideshow": {
     "slide_type": ""
    },
    "tags": []
   },
   "outputs": [],
   "source": [
    "def recursive_hello(n):\n",
    "    if n > 0:\n",
    "        print(\"hello\")\n",
    "        recursive_hello(n-1)\n",
    "        \n",
    "recursive_hello(5)"
   ]
  },
  {
   "cell_type": "markdown",
   "id": "a835b8ea-5582-4e99-9908-62fe840f155b",
   "metadata": {
    "editable": true,
    "slideshow": {
     "slide_type": ""
    },
    "tags": []
   },
   "source": [
    "Discuss:\n",
    "\n",
    "3. What causes this one to stop when the first version didn't?\n",
    "4. What does the parameter, `n` do in this version?\n",
    "5. Why did the programmer put `n-1` in for the argument in the recursive call?"
   ]
  },
  {
   "cell_type": "markdown",
   "id": "7fae3248-8325-462b-ab5e-98988039236e",
   "metadata": {
    "editable": true,
    "slideshow": {
     "slide_type": "slide"
    },
    "tags": []
   },
   "source": [
    "## Recursive problem solving example\n",
    "\n",
    "Let's revisit the sum-of-n problem we previously solved in different ways. The goal is to write a function that will compute \n",
    "\n",
    "$$1+2+3+\\cdots+(n-1)+n$$\n",
    "\n",
    "We might start by breaking $1+2+3+\\cdots+(n-1)+n$ into two parts:\n",
    "\n",
    "$$1+2+3+\\cdots+(n-1)$$\n",
    "\n",
    "and\n",
    "\n",
    "$$n$$\n",
    "\n",
    "Notice that $1+2+3+\\cdots+(n-1)$ is just a smaller version of the original problem! So, a recursive solution might look like this:"
   ]
  },
  {
   "cell_type": "code",
   "execution_count": null,
   "id": "09289a85-9357-4f8b-b8ab-8a789d6c230f",
   "metadata": {
    "editable": true,
    "slideshow": {
     "slide_type": "fragment"
    },
    "tags": []
   },
   "outputs": [],
   "source": [
    "def sum_of_n(n):\n",
    "    result = sum_of_n(n-1) + n\n",
    "    return result"
   ]
  },
  {
   "cell_type": "markdown",
   "id": "0ad6bffa-cbfb-4e8b-bb6b-1cc173c2123e",
   "metadata": {
    "editable": true,
    "slideshow": {
     "slide_type": ""
    },
    "tags": []
   },
   "source": [
    "There's a problem: this one has no way to stop. \n",
    "\n",
    "To get it to stop, we need to think about what our __base case__ - the smallest case, when the problem is simple. For sum-of-n, it could be when n is 0.\n",
    "\n",
    "The sum of all numbers up to 0 is just 0, so we add this into our code:"
   ]
  },
  {
   "cell_type": "code",
   "execution_count": null,
   "id": "b9794d67-ed59-4f7d-ab0d-985c2e06ace0",
   "metadata": {
    "editable": true,
    "slideshow": {
     "slide_type": "fragment"
    },
    "tags": []
   },
   "outputs": [],
   "source": [
    "def sum_of_n(n):\n",
    "    if n == 0:\n",
    "        return 0\n",
    "    else:\n",
    "        result = sum_of_n(n-1) + n\n",
    "        return result"
   ]
  },
  {
   "cell_type": "markdown",
   "id": "a3ae7a8a-ccd7-43a3-b15d-2eeea257f82d",
   "metadata": {
    "editable": true,
    "slideshow": {
     "slide_type": "slide"
    },
    "tags": []
   },
   "source": [
    "## The Three Laws of Recursion"
   ]
  },
  {
   "cell_type": "markdown",
   "id": "100aa852-5562-46bc-b705-f1114e28cbdc",
   "metadata": {
    "editable": true,
    "slideshow": {
     "slide_type": "fragment"
    },
    "tags": []
   },
   "source": [
    "1. A recursive algorithm must have a base case."
   ]
  },
  {
   "cell_type": "markdown",
   "id": "3f15d613-68c9-435f-9eed-531f079fd6bb",
   "metadata": {
    "editable": true,
    "slideshow": {
     "slide_type": "slide"
    },
    "tags": []
   },
   "source": [
    "2. A recursive algorithm must change its state and move toward the base case."
   ]
  },
  {
   "cell_type": "markdown",
   "id": "bb0e020f-c145-4c87-a4cb-c7e7d98b13a6",
   "metadata": {
    "editable": true,
    "slideshow": {
     "slide_type": "fragment"
    },
    "tags": []
   },
   "source": [
    "3. A recursive algorithm must call itself, recursively."
   ]
  },
  {
   "cell_type": "markdown",
   "id": "7c5bae52-85f9-4e67-b846-60050aec619e",
   "metadata": {
    "editable": true,
    "slideshow": {
     "slide_type": "slide"
    },
    "tags": []
   },
   "source": [
    "## Group Activity Problem 2\n",
    "\n",
    "The factorial of a number (often denoted in math as $n!$) is defined as \n",
    "\n",
    "$$ n! = 1 * 2 * 3 * \\cdots * (n-1) * n $$\n",
    "\n",
    "Here's some code which attempts to solve it recursively, but it is missing a base case. Discuss what the base case should be, and then add it to the code."
   ]
  },
  {
   "cell_type": "code",
   "execution_count": null,
   "id": "92917a3b-2f78-4cb0-bfd9-84654ab86a7c",
   "metadata": {
    "editable": true,
    "slideshow": {
     "slide_type": ""
    },
    "tags": []
   },
   "outputs": [],
   "source": [
    "def factorial(n):\n",
    "    result = n * factorial(n-1)\n",
    "    return result"
   ]
  },
  {
   "cell_type": "markdown",
   "id": "83f68eb8-6610-4742-a0a0-375b0821c674",
   "metadata": {
    "editable": true,
    "slideshow": {
     "slide_type": "slide"
    },
    "tags": []
   },
   "source": [
    "## Group Activity Problem 3\n",
    "\n",
    "The following is an approach to finding the sum of a list of numbers. The idea that this programmer came up with is to notice that the sum of a list like `[1,3,5,7,9]` is the same as `1` plus the sum of `[3,5,7,9]`. The base case happens when there is only one item in the list. The programmer has written part of this but is stuck on the recursive call. Fill in the blank for them."
   ]
  },
  {
   "cell_type": "code",
   "execution_count": null,
   "id": "bca1d91d-7f9f-416b-a04e-ced525b6b801",
   "metadata": {
    "editable": true,
    "slideshow": {
     "slide_type": ""
    },
    "tags": []
   },
   "outputs": [],
   "source": [
    "def listsum(num_list):\n",
    "    if len(num_list) == 1: # base case\n",
    "        return num_list[0]\n",
    "    else:\n",
    "        return num_list[0] + #fill in the blank"
   ]
  },
  {
   "cell_type": "markdown",
   "id": "e541e4bc-0e30-43a9-8efe-c1de4bd87ba7",
   "metadata": {
    "editable": true,
    "slideshow": {
     "slide_type": "slide"
    },
    "tags": []
   },
   "source": [
    "## Group Activity Problem 4\n",
    "\n",
    "The code below is a variation of the `UnorderedList` implementation we've been working on, except the `search` function has been replaced with a new recursive version. Run the code and make sure it works, then answer the following questions:\n",
    "\n",
    "1. There's more than one base case - what are they?\n",
    "2. Notice that the `__search_node` method has a parameter called `currnode`. What is `currnode` and why does it have to be a parameter?\n",
    "3. Why is there both a `search` and a `__search_node` method? Why do you think `__search_node` has been named with two underscores?"
   ]
  },
  {
   "cell_type": "code",
   "execution_count": null,
   "id": "69cd2bb3-aa47-4a8f-84a6-3b9f901f48c8",
   "metadata": {
    "editable": true,
    "slideshow": {
     "slide_type": ""
    },
    "tags": []
   },
   "outputs": [],
   "source": [
    "class Node:\n",
    "    def __init__(self,initdata):\n",
    "        self.data = initdata\n",
    "        self.next = None\n",
    "\n",
    "    def getData(self):\n",
    "        return self.data\n",
    "\n",
    "    def getNext(self):\n",
    "        return self.next\n",
    "\n",
    "    def setData(self,newdata):\n",
    "        self.data = newdata\n",
    "\n",
    "    def setNext(self,newnext):\n",
    "        self.next = newnext\n",
    "\n",
    "class UnorderedList:\n",
    "\n",
    "    def __init__(self):\n",
    "        self.head = None\n",
    "        self.length = 0\n",
    "        \n",
    "    def isEmpty(self):\n",
    "        return self.head == None\n",
    "        \n",
    "    def size(self):\n",
    "        return self.length\n",
    "\n",
    "    #this method is really a prepend - it puts the new node at the beginning\n",
    "    def add(self,item):\n",
    "        temp = Node(item)\n",
    "        temp.setNext(self.head)\n",
    "        self.head = temp\n",
    "        self.length += 1\n",
    "            \n",
    "    def __repr__(self):\n",
    "        list_representation = \"\"\n",
    "        current = self.head #start with the Node at the head\n",
    "        while current: #this will keep going until current equals None\n",
    "            list_representation += str(current.getData())+\" -> \"\n",
    "            current = current.getNext() #move on to the next Node in the list\n",
    "        list_representation += \"None\" #the last one in the list points to None\n",
    "        return list_representation\n",
    "\n",
    "    def __contains__(self,item):\n",
    "        return self.search(item)\n",
    "    \n",
    "    ############################\n",
    "    ### New code starts here ###\n",
    "    ############################\n",
    "    \n",
    "    def search(self,item):\n",
    "        return self.__search_node(item,self.head)\n",
    "    \n",
    "    def __search_node(self,item,currnode):\n",
    "        #if we're at the end of the list return False - it isn't here\n",
    "        if currnode == None:\n",
    "            return False\n",
    "        #we found the item - return True\n",
    "        elif currnode.getData() == item:\n",
    "            return True\n",
    "        #search the rest of the list\n",
    "        else:\n",
    "            return self.__search_node(item,currnode.getNext())\n",
    "        \n",
    "\n",
    "\n",
    "my_list = UnorderedList()\n",
    "\n",
    "my_list.add(31)\n",
    "my_list.add(77)\n",
    "my_list.add(17)\n",
    "my_list.add(93)\n",
    "my_list.add(26)\n",
    "my_list.add(54)\n",
    "\n",
    "print( my_list.search(17) )\n",
    "print( my_list.search(13) )"
   ]
  },
  {
   "cell_type": "markdown",
   "id": "e676e220-86a0-45ef-9a8f-4449e1eaa17f",
   "metadata": {
    "editable": true,
    "slideshow": {
     "slide_type": "slide"
    },
    "tags": []
   },
   "source": [
    "## Group Activity Problem 5\n",
    "\n",
    "You can write an `index` method which calls a recursive `__index_node` method in a similar way to `search` and `__search_node`. What changes would you need to make for that to work?\n",
    "\n",
    "> An index method returns the value at a specific index"
   ]
  },
  {
   "cell_type": "markdown",
   "id": "4e788669-16f2-4852-9e14-29f90c4f69e5",
   "metadata": {
    "editable": true,
    "slideshow": {
     "slide_type": "slide"
    },
    "tags": []
   },
   "source": [
    "## Turtle Graphics\n",
    "\n",
    "The turtle graphics package is a fun way to create drawings by giving commands that describe how a pencil (or a turtle) should move around on a piece of paper.\n",
    "\n",
    "Documentation: https://docs.python.org/3/library/turtle.html\n",
    "\n",
    "Example:"
   ]
  },
  {
   "cell_type": "code",
   "execution_count": null,
   "id": "c09c91ec-9555-4933-8aee-fc387e8c3f45",
   "metadata": {
    "editable": true,
    "slideshow": {
     "slide_type": ""
    },
    "tags": []
   },
   "outputs": [],
   "source": [
    "import turtle\n",
    "\n",
    "my_turtle = turtle.Turtle()\n",
    "my_win = turtle.Screen()\n",
    "\n",
    "my_turtle.forward(100)\n",
    "my_turtle.right(90)\n",
    "my_turtle.forward(50)\n",
    "my_turtle.right(45)\n",
    "my_turtle.forward(200)\n",
    "my_turtle.left(30)\n",
    "my_turtle.forward(50)\n",
    "\n",
    "turtle.exitonclick()"
   ]
  },
  {
   "cell_type": "markdown",
   "id": "43813d3c-2345-42c9-89c7-bf0cab687efd",
   "metadata": {
    "editable": true,
    "slideshow": {
     "slide_type": "fragment"
    },
    "tags": []
   },
   "source": [
    "## Group Activity Problem 6\n",
    "\n",
    "Write some additional turtle instructions to see if you can it to move back where it started."
   ]
  },
  {
   "cell_type": "markdown",
   "id": "d4bc9c5f-011c-41de-bdeb-e3c385365143",
   "metadata": {
    "editable": true,
    "slideshow": {
     "slide_type": "slide"
    },
    "tags": []
   },
   "source": [
    "## Group Activity Problem 7\n",
    "\n",
    "Run the following recursive function which draws a spiral. Discuss in your groups: \n",
    "\n",
    "1. What does the `90` do?\n",
    "2. What does it include `lineLen-5`?\n",
    "3. What is the base case of this recursive function?\n",
    "\n",
    "Then, change the `90` to `45`. What does that do? Can you adjust the code to make the spiral look like a smooth curve?"
   ]
  },
  {
   "cell_type": "code",
   "execution_count": null,
   "id": "f0996073-3559-4aad-be61-76438c5dd353",
   "metadata": {
    "editable": true,
    "slideshow": {
     "slide_type": ""
    },
    "tags": []
   },
   "outputs": [],
   "source": [
    "import turtle\n",
    "\n",
    "myTurtle = turtle.Turtle()\n",
    "myWin = turtle.Screen()\n",
    "\n",
    "def drawSpiral(myTurtle, lineLen):\n",
    "    if lineLen > 0:\n",
    "        myTurtle.forward(lineLen)\n",
    "        myTurtle.right(90)\n",
    "        drawSpiral(myTurtle,lineLen-5)\n",
    "\n",
    "drawSpiral(myTurtle,100)\n",
    "myWin.exitonclick()"
   ]
  },
  {
   "cell_type": "code",
   "execution_count": 4,
   "id": "8b4c3b2d-c461-46e3-a186-92a65a9cc724",
   "metadata": {
    "editable": true,
    "slideshow": {
     "slide_type": "fragment"
    },
    "tags": []
   },
   "outputs": [],
   "source": [
    "# to make the turtle start somewhere other than the middle \n",
    "# of the screen use this code before your function\n",
    "# Set the starting position\n",
    "myTurtle.penup()\n",
    "myTurtle.goto(0, 300)  # (0,0) is the center\n",
    "myTurtle.pendown()"
   ]
  }
 ],
 "metadata": {
  "kernelspec": {
   "display_name": "Python 3 (ipykernel)",
   "language": "python",
   "name": "python3"
  },
  "language_info": {
   "codemirror_mode": {
    "name": "ipython",
    "version": 3
   },
   "file_extension": ".py",
   "mimetype": "text/x-python",
   "name": "python",
   "nbconvert_exporter": "python",
   "pygments_lexer": "ipython3",
   "version": "3.12.4"
  }
 },
 "nbformat": 4,
 "nbformat_minor": 5
}
