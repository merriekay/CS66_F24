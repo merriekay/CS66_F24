{
 "cells": [
  {
   "cell_type": "markdown",
   "id": "64e581d0",
   "metadata": {
    "editable": true,
    "jp-MarkdownHeadingCollapsed": true,
    "slideshow": {
     "slide_type": "slide"
    },
    "tags": []
   },
   "source": [
    "# Review of Basic Programming with Python\n",
    "## Day01\n",
    "\n",
    "### CS66: Introduction to Computer Science II | Fall 2024\n",
    "\n",
    "Thursday, August 29th, 2024\n",
    "\n",
    "### Helpful Resources:\n",
    "[📜 Syllabus](https://docs.google.com/document/d/1lnkmnAm0tfw2ybqhS01ylSqKfkOcAAkmrrZUuDjwHuU/edit?usp=drive_link) | [📬 CodePost Login](https://codepost.io/login) | [📆 Schedule](https://docs.google.com/spreadsheets/d/1FW9s8S04zqpOaA13JyrlNPszk5D-H9dBi7xX6o5VpgY/edit?usp=drive_link) | [🙋‍♂️ PollEverywhere](https://pollev.com/moore) | [🪴 Office Hour Sign-Up](https://calendly.com/meredith-moore/office-hours)"
   ]
  },
  {
   "cell_type": "markdown",
   "id": "0b6151aa",
   "metadata": {
    "slideshow": {
     "slide_type": "slide"
    },
    "tags": []
   },
   "source": [
    "# 📢 Announcements:"
   ]
  },
  {
   "cell_type": "markdown",
   "id": "ecdb429f",
   "metadata": {
    "slideshow": {
     "slide_type": "fragment"
    },
    "tags": []
   },
   "source": [
    "## Last time:\n",
    "- [installed Python](https://www.python.org/downloads/)\n",
    "- [installed Visual Studio](https://code.visualstudio.com/download)"
   ]
  },
  {
   "cell_type": "markdown",
   "id": "e7ed1b6c",
   "metadata": {
    "editable": true,
    "slideshow": {
     "slide_type": "fragment"
    },
    "tags": []
   },
   "source": [
    "## You should be working on:\n",
    "- Complete Assignment 0 by 11:59pm tonight\n",
    "    - [join the CodePost class](https://codepost.io/signup/join?code=V0DXGJ56BE)\n",
    "    - [fill out Intro Questionnaire](https://forms.gle/9cRHmDo5TmQuuAiX7)"
   ]
  },
  {
   "cell_type": "markdown",
   "id": "3edbaf9f",
   "metadata": {
    "editable": true,
    "slideshow": {
     "slide_type": "slide"
    },
    "tags": []
   },
   "source": [
    "## Purpose\n",
    "\n",
    "For those with Python experience: review, make you aware of some things you may not have seen before - it will _not_ be exhaustive.\n",
    "\n",
    "For those without Python experience: introduction to Python syntax\n",
    "* It can do most of what you know from Java, Javascript, etc. \n",
    "* Easy-to-pick-up syntax"
   ]
  },
  {
   "cell_type": "markdown",
   "id": "8a784a77",
   "metadata": {
    "slideshow": {
     "slide_type": "slide"
    },
    "tags": []
   },
   "source": [
    "## References for this lecture\n",
    "\n",
    "Problem Solving with Algorithms and Data Structures using Python, Chapter 1: [https://runestone.academy/runestone/books/published/pythonds/Introduction/toctree.html](https://runestone.academy/runestone/books/published/pythonds/Introduction/toctree.html)\n",
    "\n",
    "Sections 1.1-1.4, 1.7, 1.8, 1.10, 1.12\n",
    "\n",
    "Also see [Think Python](https://greenteapress.com/thinkpython2/html/index.html) for a more exhaustive reference of basic Python."
   ]
  },
  {
   "cell_type": "markdown",
   "id": "f6056166",
   "metadata": {
    "editable": true,
    "slideshow": {
     "slide_type": "slide"
    },
    "tags": []
   },
   "source": [
    "## Demo: Running Python\n",
    "\n",
    "Python can be run in either _script mode_ or _interactive mode_\n",
    "- for those of you who have used Thonny, _script mode_ is when you create a file and save it, _interactive mode_ is when you used the Shell for quick computations/scratch work. \n",
    "\n",
    "My slides are written using a _Jupyter Notebook_ mixes _interactive mode_ cells and mark-up/documentation cells"
   ]
  },
  {
   "cell_type": "code",
   "execution_count": null,
   "id": "f0c26adc",
   "metadata": {
    "editable": true,
    "slideshow": {
     "slide_type": ""
    },
    "tags": []
   },
   "outputs": [],
   "source": [
    "print(\"Hello CS66 Students!\")"
   ]
  },
  {
   "cell_type": "markdown",
   "id": "fcb3ff4e",
   "metadata": {
    "slideshow": {
     "slide_type": ""
    },
    "tags": []
   },
   "source": [
    "Let's see how _script mode_ and _interactive mode_ works in VSCode"
   ]
  },
  {
   "cell_type": "markdown",
   "id": "98f82e4c",
   "metadata": {
    "editable": true,
    "slideshow": {
     "slide_type": "slide"
    },
    "tags": []
   },
   "source": [
    "## Demo: Using a Jupyter Notebook in VS Code\n",
    "\n",
    "If this works, it could be a useful way to work through in-class activities\n",
    "\n",
    "Let's try it."
   ]
  },
  {
   "cell_type": "markdown",
   "id": "6b7c6170",
   "metadata": {
    "editable": true,
    "slideshow": {
     "slide_type": "slide"
    },
    "tags": []
   },
   "source": [
    "## Demo: Using Jupyter Notebooks in Google Colaboratory \n",
    "\n",
    "Another option to use to take notes in class... "
   ]
  },
  {
   "cell_type": "markdown",
   "id": "7b01d059",
   "metadata": {
    "editable": true,
    "slideshow": {
     "slide_type": "slide"
    },
    "tags": []
   },
   "source": [
    "## Demo: Submitting assignments on codePost"
   ]
  },
  {
   "cell_type": "markdown",
   "id": "df64a089",
   "metadata": {
    "editable": true,
    "slideshow": {
     "slide_type": "slide"
    },
    "tags": []
   },
   "source": [
    "## Objects\n",
    "\n",
    "Python data items are called __objects__.\n",
    "\n",
    "Examples of _types_ of objects\n",
    "* _atomic_ types like ints, floats, and bools\n",
    "* _collection_ types like lists, strings, dictionaries, tuples, and sets\n",
    "* new types created by defining a new class\n"
   ]
  },
  {
   "cell_type": "markdown",
   "id": "8db52594",
   "metadata": {
    "editable": true,
    "slideshow": {
     "slide_type": "slide"
    },
    "tags": []
   },
   "source": [
    "## Examples of numerical and logical operations\n",
    "\n",
    "from pythonds Activities [1.8.1](https://runestone.academy/ns/books/published/drake_pythonds_fall24/Introduction/GettingStartedwithData.html), more specifically 1.8.1.1 and  1.8.1.2."
   ]
  },
  {
   "cell_type": "code",
   "execution_count": 2,
   "id": "0e340269",
   "metadata": {
    "editable": true,
    "slideshow": {
     "slide_type": ""
    },
    "tags": []
   },
   "outputs": [
    {
     "name": "stdout",
     "output_type": "stream",
     "text": [
      "14\n",
      "20\n",
      "1024\n",
      "2.0\n",
      "2.3333333333333335\n",
      "2\n",
      "1\n",
      "0.5\n",
      "0\n",
      "3\n",
      "1267650600228229401496703205376\n"
     ]
    }
   ],
   "source": [
    "print(2+3*4)\n",
    "print((2+3)*4)\n",
    "print(2**10)   ## ** is the exponent operator\n",
    "print(6/3)\n",
    "print(7/3)\n",
    "print(7//3)    ## integer division\n",
    "print(7%3)     ## remainder (modulo)\n",
    "print(3/6)\n",
    "print(3//6)\n",
    "print(3%6)\n",
    "print(2**100)"
   ]
  },
  {
   "cell_type": "markdown",
   "id": "6512ede0",
   "metadata": {
    "editable": true,
    "slideshow": {
     "slide_type": "slide"
    },
    "tags": []
   },
   "source": [
    "## Logical Operators\n",
    "\n",
    "These are `Boolean` operators and return `True` or `False`"
   ]
  },
  {
   "cell_type": "code",
   "execution_count": 3,
   "id": "331a9aaa",
   "metadata": {
    "editable": true,
    "slideshow": {
     "slide_type": ""
    },
    "tags": []
   },
   "outputs": [
    {
     "name": "stdout",
     "output_type": "stream",
     "text": [
      "False\n",
      "True\n",
      "True\n"
     ]
    }
   ],
   "source": [
    "print(5==10)\n",
    "print(10 > 5)\n",
    "print((5 >= 1) and (5 <= 10))"
   ]
  },
  {
   "cell_type": "markdown",
   "id": "31d991ec",
   "metadata": {
    "editable": true,
    "slideshow": {
     "slide_type": "slide"
    },
    "tags": []
   },
   "source": [
    "## Variables\n",
    "\n",
    "Assignments of values to variables in Python is done with the `=` operator\n",
    "\n",
    "variables do not need to be declared ahead of time, and their types can change\n",
    "\n",
    "> Check the type of a variable by using the `type()` function"
   ]
  },
  {
   "cell_type": "code",
   "execution_count": 4,
   "id": "d2059f54",
   "metadata": {
    "slideshow": {
     "slide_type": ""
    },
    "tags": []
   },
   "outputs": [
    {
     "name": "stdout",
     "output_type": "stream",
     "text": [
      "<class 'bool'>\n",
      "<class 'int'>\n",
      "2\n"
     ]
    }
   ],
   "source": [
    "x = False\n",
    "print( type(x) )\n",
    "x = 1\n",
    "x = x + 1\n",
    "print( type(x) )\n",
    "print(x)"
   ]
  },
  {
   "cell_type": "markdown",
   "id": "5ff3f072",
   "metadata": {
    "editable": true,
    "slideshow": {
     "slide_type": "slide"
    },
    "tags": []
   },
   "source": [
    "## Lists\n",
    "\n",
    "Lists are Python's ordered collection type (some other langauges call them _arrays_)\n",
    "\n",
    "They are _heterogeneous_ - they can have a mix of object types."
   ]
  },
  {
   "cell_type": "code",
   "execution_count": 1,
   "id": "fa019b7d",
   "metadata": {
    "slideshow": {
     "slide_type": ""
    },
    "tags": []
   },
   "outputs": [],
   "source": [
    "myList = [1,3,True,6.5]"
   ]
  },
  {
   "cell_type": "markdown",
   "id": "26f38822",
   "metadata": {
    "slideshow": {
     "slide_type": ""
    },
    "tags": []
   },
   "source": [
    "Use subscipt notation to access elements by their index. \n",
    "\n",
    "Indices are 0-based"
   ]
  },
  {
   "cell_type": "code",
   "execution_count": 2,
   "id": "689f700f",
   "metadata": {
    "editable": true,
    "slideshow": {
     "slide_type": ""
    },
    "tags": []
   },
   "outputs": [
    {
     "name": "stdout",
     "output_type": "stream",
     "text": [
      "6.5\n",
      "['hi', 3, True, 6.5]\n"
     ]
    }
   ],
   "source": [
    "print(myList[3])\n",
    "myList[0] = \"hi\"\n",
    "print(myList)"
   ]
  },
  {
   "cell_type": "markdown",
   "id": "df4977dd",
   "metadata": {
    "editable": true,
    "slideshow": {
     "slide_type": "slide"
    },
    "tags": []
   },
   "source": [
    "There are many different built-in functions and methods that work with lists. A few common ones are: `append()`, `insert()`, `pop()`, `sort()`, `reverse()`, `count()`, `index()`, `remove()`, `len()`, and many more"
   ]
  },
  {
   "cell_type": "code",
   "execution_count": 7,
   "id": "aac46693",
   "metadata": {
    "slideshow": {
     "slide_type": ""
    },
    "tags": []
   },
   "outputs": [
    {
     "name": "stdout",
     "output_type": "stream",
     "text": [
      "[1024, 3, True, 6.5, False]\n"
     ]
    }
   ],
   "source": [
    "myList = [1024, 3, True, 6.5]\n",
    "myList.append(False)  #add on to the end of a list\n",
    "print(myList)"
   ]
  },
  {
   "cell_type": "code",
   "execution_count": 8,
   "id": "1ae6d708",
   "metadata": {
    "editable": true,
    "slideshow": {
     "slide_type": ""
    },
    "tags": []
   },
   "outputs": [
    {
     "name": "stdout",
     "output_type": "stream",
     "text": [
      "[1024, 3, 4.5, True, 6.5, False]\n"
     ]
    }
   ],
   "source": [
    "myList.insert(2,4.5)  #put a new value at index 2\n",
    "print(myList)"
   ]
  },
  {
   "cell_type": "code",
   "execution_count": 9,
   "id": "7068c779",
   "metadata": {
    "editable": true,
    "slideshow": {
     "slide_type": "slide"
    },
    "tags": []
   },
   "outputs": [
    {
     "name": "stdout",
     "output_type": "stream",
     "text": [
      "False\n",
      "[1024, 3, 4.5, True, 6.5]\n"
     ]
    }
   ],
   "source": [
    "print(myList.pop())  #remove and return whatever is at the end\n",
    "print(myList)\n"
   ]
  },
  {
   "cell_type": "code",
   "execution_count": 10,
   "id": "c916392e",
   "metadata": {
    "editable": true,
    "slideshow": {
     "slide_type": ""
    },
    "tags": []
   },
   "outputs": [
    {
     "name": "stdout",
     "output_type": "stream",
     "text": [
      "3\n",
      "[1024, 4.5, True, 6.5]\n",
      "[1024, 4.5, 6.5]\n"
     ]
    }
   ],
   "source": [
    "print(myList.pop(1)) #remove and return whatever is at index 1\n",
    "print(myList)\n",
    "myList.pop(2)\n",
    "print(myList)"
   ]
  },
  {
   "cell_type": "code",
   "execution_count": 11,
   "id": "f5f74509",
   "metadata": {
    "editable": true,
    "slideshow": {
     "slide_type": "slide"
    },
    "tags": []
   },
   "outputs": [
    {
     "name": "stdout",
     "output_type": "stream",
     "text": [
      "[1, 2.5, 6.63, 10, 47]\n"
     ]
    }
   ],
   "source": [
    "anotherList = [10,2.5,47,1,6.63]\n",
    "anotherList.sort()  #sort the list\n",
    "print(anotherList)"
   ]
  },
  {
   "cell_type": "code",
   "execution_count": 12,
   "id": "8fd5d965",
   "metadata": {
    "editable": true,
    "slideshow": {
     "slide_type": ""
    },
    "tags": []
   },
   "outputs": [
    {
     "name": "stdout",
     "output_type": "stream",
     "text": [
      "[6.63, 1, 47, 2.5, 10]\n"
     ]
    }
   ],
   "source": [
    "anotherList = [10,2.5,47,1,6.63]\n",
    "anotherList.reverse()  #reverse the list\n",
    "print(anotherList)"
   ]
  },
  {
   "cell_type": "code",
   "execution_count": 13,
   "id": "c790e247",
   "metadata": {
    "editable": true,
    "slideshow": {
     "slide_type": ""
    },
    "tags": []
   },
   "outputs": [
    {
     "name": "stdout",
     "output_type": "stream",
     "text": [
      "3\n",
      "2\n"
     ]
    }
   ],
   "source": [
    "anotherList = [10,47,2.5,47,1,6.63,47]\n",
    "print(anotherList.count(47))   #count how many times 47 appears\n",
    "print(anotherList.index(2.5))  #which index is 2.5 at?"
   ]
  },
  {
   "cell_type": "code",
   "execution_count": 14,
   "id": "9415fecb",
   "metadata": {
    "editable": true,
    "slideshow": {
     "slide_type": "slide"
    },
    "tags": []
   },
   "outputs": [
    {
     "name": "stdout",
     "output_type": "stream",
     "text": [
      "False\n"
     ]
    }
   ],
   "source": [
    "print( 42 in anotherList )  #test if 42 is a member of the list"
   ]
  },
  {
   "cell_type": "code",
   "execution_count": 15,
   "id": "f5eaf237",
   "metadata": {
    "editable": true,
    "slideshow": {
     "slide_type": ""
    },
    "tags": []
   },
   "outputs": [
    {
     "name": "stdout",
     "output_type": "stream",
     "text": [
      "[10, 47, 47, 1, 6.63, 47]\n"
     ]
    }
   ],
   "source": [
    "anotherList.remove(2.5)  #remove an item by its value\n",
    "print(anotherList)"
   ]
  },
  {
   "cell_type": "code",
   "execution_count": 16,
   "id": "f2bf495b",
   "metadata": {
    "editable": true,
    "slideshow": {
     "slide_type": ""
    },
    "tags": []
   },
   "outputs": [
    {
     "name": "stdout",
     "output_type": "stream",
     "text": [
      "[47, 1]\n"
     ]
    }
   ],
   "source": [
    "#slice the list from index 2 up to (but not including) index 4\n",
    "print( anotherList[2:4] ) "
   ]
  },
  {
   "cell_type": "code",
   "execution_count": 17,
   "id": "2c8c7ac9",
   "metadata": {
    "editable": true,
    "slideshow": {
     "slide_type": ""
    },
    "tags": []
   },
   "outputs": [
    {
     "name": "stdout",
     "output_type": "stream",
     "text": [
      "[1024, 4.5, 6.5, 10, 47, 47, 1, 6.63, 47]\n"
     ]
    }
   ],
   "source": [
    "print( myList + anotherList ) #concatenate two lists"
   ]
  },
  {
   "cell_type": "code",
   "execution_count": 18,
   "id": "87ac7350",
   "metadata": {},
   "outputs": [
    {
     "name": "stdout",
     "output_type": "stream",
     "text": [
      "6\n"
     ]
    }
   ],
   "source": [
    "print( len(anotherList) )  #find the length of a list"
   ]
  },
  {
   "cell_type": "markdown",
   "id": "57b38d12",
   "metadata": {
    "editable": true,
    "slideshow": {
     "slide_type": "slide"
    },
    "tags": []
   },
   "source": [
    "## Strings and Tuples\n",
    "\n",
    "Strings and Tuples behave much like lists, but they're _immutable_ - they can't be changed"
   ]
  },
  {
   "cell_type": "code",
   "execution_count": 19,
   "id": "5d0a9093",
   "metadata": {
    "editable": true,
    "slideshow": {
     "slide_type": ""
    },
    "tags": []
   },
   "outputs": [
    {
     "name": "stdout",
     "output_type": "stream",
     "text": [
      "3\n",
      "4.96\n"
     ]
    }
   ],
   "source": [
    "myTuple = (2,True,4.96)\n",
    "print( len(myTuple) )\n",
    "print( myTuple[2] )"
   ]
  },
  {
   "cell_type": "code",
   "execution_count": 20,
   "id": "2a58397a",
   "metadata": {
    "editable": true,
    "slideshow": {
     "slide_type": "fragment"
    },
    "tags": []
   },
   "outputs": [
    {
     "ename": "TypeError",
     "evalue": "'tuple' object does not support item assignment",
     "output_type": "error",
     "traceback": [
      "\u001b[0;31m---------------------------------------------------------------------------\u001b[0m",
      "\u001b[0;31mTypeError\u001b[0m                                 Traceback (most recent call last)",
      "Input \u001b[0;32mIn [20]\u001b[0m, in \u001b[0;36m<cell line: 1>\u001b[0;34m()\u001b[0m\n\u001b[0;32m----> 1\u001b[0m \u001b[43mmyTuple\u001b[49m\u001b[43m[\u001b[49m\u001b[38;5;241;43m0\u001b[39;49m\u001b[43m]\u001b[49m \u001b[38;5;241m=\u001b[39m \u001b[38;5;241m10\u001b[39m\n",
      "\u001b[0;31mTypeError\u001b[0m: 'tuple' object does not support item assignment"
     ]
    }
   ],
   "source": [
    "myTuple[0] = 10 #error because tuples are immutable"
   ]
  },
  {
   "cell_type": "code",
   "execution_count": null,
   "id": "0c694b28",
   "metadata": {
    "editable": true,
    "slideshow": {
     "slide_type": ""
    },
    "tags": []
   },
   "outputs": [],
   "source": [
    "myString = \"Meredith\"\n",
    "print( myString[1] )\n",
    "print( myString.lower() )  #there are many useful string methods"
   ]
  },
  {
   "cell_type": "markdown",
   "id": "3ecd4936",
   "metadata": {
    "editable": true,
    "slideshow": {
     "slide_type": "slide"
    },
    "tags": []
   },
   "source": [
    "## While loops\n",
    "\n",
    "Here's an example of the syntax for a Python `while` loop."
   ]
  },
  {
   "cell_type": "code",
   "execution_count": 22,
   "id": "a661d4ef",
   "metadata": {
    "editable": true,
    "slideshow": {
     "slide_type": ""
    },
    "tags": []
   },
   "outputs": [
    {
     "name": "stdout",
     "output_type": "stream",
     "text": [
      "Hello, world\n",
      "Hello, world\n",
      "Hello, world\n",
      "Hello, world\n",
      "Hello, world\n"
     ]
    }
   ],
   "source": [
    "counter = 1\n",
    "while counter <= 5:\n",
    "    print(\"Hello, world\")\n",
    "    counter = counter + 1"
   ]
  },
  {
   "cell_type": "markdown",
   "id": "91d1e455",
   "metadata": {
    "editable": true,
    "slideshow": {
     "slide_type": ""
    },
    "tags": []
   },
   "source": [
    "In Python, tabs (and generally whitespace, including spaces) matter! You always tab in any block of code associated with a loop, if-statement, function definition, etc."
   ]
  },
  {
   "cell_type": "markdown",
   "id": "defec6c0",
   "metadata": {
    "editable": true,
    "slideshow": {
     "slide_type": "slide"
    },
    "tags": []
   },
   "source": [
    "## For loops\n",
    "\n",
    "`for` loops can be used to iterate through collections\n",
    "\n",
    "In this example, `day` is the _loop variable_ that takes on the next value in the list with each iteration."
   ]
  },
  {
   "cell_type": "code",
   "execution_count": 23,
   "id": "56bfe69f",
   "metadata": {
    "slideshow": {
     "slide_type": ""
    },
    "tags": []
   },
   "outputs": [
    {
     "name": "stdout",
     "output_type": "stream",
     "text": [
      "Sunday is a good day for programming\n",
      "Monday is a good day for programming\n",
      "Tuesday is a good day for programming\n",
      "Wednesday is a good day for programming\n",
      "Thursday is a good day for programming\n",
      "Friday is a good day for programming\n",
      "Saturday is a good day for programming\n"
     ]
    }
   ],
   "source": [
    "days_of_the_week = [\"Sunday\",\"Monday\",\"Tuesday\",\"Wednesday\",\"Thursday\",\"Friday\",\"Saturday\"]\n",
    "\n",
    "\n",
    "for day in days_of_the_week:\n",
    "    print(day,\"is a good day for programming\")"
   ]
  },
  {
   "cell_type": "markdown",
   "id": "d9eba4f7",
   "metadata": {
    "editable": true,
    "slideshow": {
     "slide_type": "slide"
    },
    "tags": []
   },
   "source": [
    "## For loops and `range()`\n",
    "\n",
    "For loops are often combined with the `range()` function, which allow it to operate as a count-controlled loop."
   ]
  },
  {
   "cell_type": "code",
   "execution_count": 24,
   "id": "b6393f00",
   "metadata": {
    "editable": true,
    "slideshow": {
     "slide_type": ""
    },
    "tags": []
   },
   "outputs": [
    {
     "name": "stdout",
     "output_type": "stream",
     "text": [
      "0 squared is 0\n",
      "1 squared is 1\n",
      "2 squared is 4\n",
      "3 squared is 9\n",
      "4 squared is 16\n"
     ]
    }
   ],
   "source": [
    "for num in range(5):\n",
    "    print(num,\"squared is\",num**2)"
   ]
  },
  {
   "cell_type": "markdown",
   "id": "6ba1937f",
   "metadata": {
    "editable": true,
    "slideshow": {
     "slide_type": "fragment"
    },
    "tags": []
   },
   "source": [
    "It's also common to use `range()` with `for` loops to iterator through the _indices_ of a list rather than the items of the list."
   ]
  },
  {
   "cell_type": "code",
   "execution_count": 25,
   "id": "d086b14b",
   "metadata": {
    "editable": true,
    "slideshow": {
     "slide_type": ""
    },
    "tags": []
   },
   "outputs": [
    {
     "name": "stdout",
     "output_type": "stream",
     "text": [
      "Sunday is a good day for programming\n",
      "Monday is a good day for programming\n",
      "Tuesday is a good day for programming\n",
      "Wednesday is a good day for programming\n",
      "Thursday is a good day for programming\n",
      "Friday is a good day for programming\n",
      "Saturday is a good day for programming\n"
     ]
    }
   ],
   "source": [
    "days_of_the_week = [\"Sunday\",\"Monday\",\"Tuesday\",\"Wednesday\",\"Thursday\",\"Friday\",\"Saturday\"]\n",
    "\n",
    "\n",
    "for day_num in range(len(days_of_the_week)):\n",
    "    print(days_of_the_week[day_num],\"is a good day for programming\")"
   ]
  },
  {
   "cell_type": "markdown",
   "id": "d35194bd",
   "metadata": {
    "slideshow": {
     "slide_type": "fragment"
    }
   },
   "source": [
    "It's easy to mix up whether you're iterating through _items_ or _indices_, so make sure to think twice about how you're setting up you loops!"
   ]
  },
  {
   "cell_type": "markdown",
   "id": "dadb18c8",
   "metadata": {
    "editable": true,
    "slideshow": {
     "slide_type": "slide"
    },
    "tags": []
   },
   "source": [
    "## Conditional Statements\n",
    "\n",
    "Python has `if`, `else`, and `elif` keywords to handle all of your conditional needs."
   ]
  },
  {
   "cell_type": "code",
   "execution_count": 26,
   "id": "b9938363",
   "metadata": {
    "editable": true,
    "slideshow": {
     "slide_type": ""
    },
    "tags": []
   },
   "outputs": [],
   "source": [
    "students = 124\n",
    "classrooms = 5\n",
    "\n",
    "if classrooms <= 0:\n",
    "    print(\"You must have at least one classroom.\")"
   ]
  },
  {
   "cell_type": "code",
   "execution_count": 27,
   "id": "2ecd9917",
   "metadata": {
    "editable": true,
    "slideshow": {
     "slide_type": ""
    },
    "tags": []
   },
   "outputs": [
    {
     "name": "stdout",
     "output_type": "stream",
     "text": [
      "There are 24.8 students per classroom.\n"
     ]
    }
   ],
   "source": [
    "students = 124\n",
    "classrooms = 5\n",
    "\n",
    "if classrooms <= 0:\n",
    "    print(\"You must have at least one classroom.\")\n",
    "else:\n",
    "    print(\"There are\",students/classrooms,\"students per classroom.\")"
   ]
  },
  {
   "cell_type": "code",
   "execution_count": 28,
   "id": "bc85a78b",
   "metadata": {
    "editable": true,
    "slideshow": {
     "slide_type": "slide"
    },
    "tags": []
   },
   "outputs": [
    {
     "name": "stdout",
     "output_type": "stream",
     "text": [
      "C\n"
     ]
    }
   ],
   "source": [
    "score = 76\n",
    "\n",
    "if score >= 90:\n",
    "       print('A')\n",
    "elif score >=80:\n",
    "       print('B')\n",
    "elif score >= 70:\n",
    "       print('C')\n",
    "elif score >= 60:\n",
    "       print('D')\n",
    "else:\n",
    "       print('F')"
   ]
  },
  {
   "cell_type": "markdown",
   "id": "71807838",
   "metadata": {
    "editable": true,
    "slideshow": {
     "slide_type": "slide"
    },
    "tags": []
   },
   "source": [
    "## Defining Functions\n",
    "\n",
    "You can define functions in Python with the `def` keyword. \n",
    "\n",
    "Parameters are listed as comma,separated variable names between parentheses.\n",
    "\n",
    "The `return` keyword causes the function to terminate, with the given value returned."
   ]
  },
  {
   "cell_type": "code",
   "execution_count": 29,
   "id": "70f077f6",
   "metadata": {
    "editable": true,
    "slideshow": {
     "slide_type": ""
    },
    "tags": []
   },
   "outputs": [
    {
     "name": "stdout",
     "output_type": "stream",
     "text": [
      "9\n"
     ]
    }
   ],
   "source": [
    "def square(n):\n",
    "    return n**2\n",
    "\n",
    "print( square(3) )"
   ]
  },
  {
   "cell_type": "code",
   "execution_count": 30,
   "id": "8a5afc97",
   "metadata": {
    "editable": true,
    "slideshow": {
     "slide_type": ""
    },
    "tags": []
   },
   "outputs": [
    {
     "data": {
      "text/plain": [
       "81"
      ]
     },
     "execution_count": 30,
     "metadata": {},
     "output_type": "execute_result"
    }
   ],
   "source": [
    "square( square(3) )"
   ]
  },
  {
   "cell_type": "markdown",
   "id": "d2fcfda8",
   "metadata": {
    "editable": true,
    "slideshow": {
     "slide_type": "slide"
    },
    "tags": []
   },
   "source": [
    "## In-Class Activities\n",
    "\n",
    "Make a group of 3-4 students. \n",
    "\n",
    "Have a discussion about each of these problems. Write notes either in this notebook, the comments of a regular Python file, or in some other convenient place.\n"
   ]
  },
  {
   "cell_type": "markdown",
   "id": "f40887d6",
   "metadata": {
    "editable": true,
    "slideshow": {
     "slide_type": "slide"
    },
    "tags": []
   },
   "source": [
    "## Group Activity Problem 1\n",
    "\n",
    "Run the following code example. In the notes section below, describe what the code does."
   ]
  },
  {
   "cell_type": "code",
   "execution_count": null,
   "id": "d4b9c019",
   "metadata": {
    "editable": true,
    "slideshow": {
     "slide_type": ""
    },
    "tags": []
   },
   "outputs": [],
   "source": [
    "anotherList = [10,47,2.5,47,1,6.63,47]\n",
    "print(anotherList.index(2.5))"
   ]
  },
  {
   "cell_type": "markdown",
   "id": "7d91f69a",
   "metadata": {
    "editable": true,
    "slideshow": {
     "slide_type": ""
    },
    "tags": []
   },
   "source": [
    "### Notes: \n",
    "\n",
    "_you may use this space for your notes_"
   ]
  },
  {
   "cell_type": "markdown",
   "id": "8dd2478b",
   "metadata": {
    "editable": true,
    "slideshow": {
     "slide_type": "slide"
    },
    "tags": []
   },
   "source": [
    "## Group Activity Problem 2\n",
    "\n",
    "What happens if you try to use the `index` method for an item that doesn't appear in the list?"
   ]
  },
  {
   "cell_type": "code",
   "execution_count": null,
   "id": "d4320e1f",
   "metadata": {},
   "outputs": [],
   "source": [
    "## test some code here"
   ]
  },
  {
   "cell_type": "markdown",
   "id": "90eee615",
   "metadata": {},
   "source": [
    "### Notes: \n",
    "\n",
    "_write your notes here_"
   ]
  },
  {
   "cell_type": "markdown",
   "id": "016a1cd1",
   "metadata": {
    "editable": true,
    "slideshow": {
     "slide_type": "slide"
    },
    "tags": []
   },
   "source": [
    "## Group Activity Problem 3\n",
    "\n",
    "How is the list `index` method different than the `in` operator?"
   ]
  },
  {
   "cell_type": "code",
   "execution_count": null,
   "id": "9c21e917",
   "metadata": {},
   "outputs": [],
   "source": [
    "my_list = [35,66,70,5,42,10,12]\n",
    "print(42 in my_list)"
   ]
  },
  {
   "cell_type": "markdown",
   "id": "2ce0bf91",
   "metadata": {},
   "source": [
    "### Notes: \n",
    "\n",
    "_write your notes here_"
   ]
  },
  {
   "cell_type": "markdown",
   "id": "f312f180",
   "metadata": {
    "editable": true,
    "slideshow": {
     "slide_type": "slide"
    },
    "tags": []
   },
   "source": [
    "## Group Activity Problem 4\n",
    "\n",
    "In the previous activity, you wrote a `search_for` function which served the same purpose as the `in` (e.g., list-contains) operator. Now write a similar function called `find_index` which serves the same purpose as the list `index` method you worked with above. However, instead of giving an error when the item isn't in the list, return -1 instead. "
   ]
  },
  {
   "cell_type": "code",
   "execution_count": null,
   "id": "1624b997",
   "metadata": {},
   "outputs": [],
   "source": [
    "# write your code here"
   ]
  },
  {
   "cell_type": "markdown",
   "id": "c7cd19c1",
   "metadata": {},
   "source": [
    "### Notes: \n",
    "\n",
    "_write your notes here_"
   ]
  },
  {
   "cell_type": "markdown",
   "id": "636f40f7",
   "metadata": {
    "editable": true,
    "slideshow": {
     "slide_type": "slide"
    },
    "tags": []
   },
   "source": [
    "## Group Activity Problem 5\n",
    "\n",
    "Write a function called `find_index_2D()` that will find the position of an item in a 2-dimension list. For example, if called like this:"
   ]
  },
  {
   "cell_type": "code",
   "execution_count": null,
   "id": "c582ad59",
   "metadata": {
    "slideshow": {
     "slide_type": ""
    },
    "tags": []
   },
   "outputs": [],
   "source": [
    "# write your code here\n",
    "\n",
    "my_2d_list = [[0,1,2,3],\n",
    "              [10,11,12,13],\n",
    "              [20,21,22,23]]\n",
    "\n",
    "print( find_index_2D(12,my_2d_list) ) #it should return the tuple (1,2) to indicate it is in row 1, column 2."
   ]
  },
  {
   "cell_type": "markdown",
   "id": "e9af9a1d",
   "metadata": {
    "editable": true,
    "slideshow": {
     "slide_type": ""
    },
    "tags": []
   },
   "source": [
    "### Notes: \n",
    "\n",
    "_write your notes here_"
   ]
  },
  {
   "cell_type": "code",
   "execution_count": null,
   "id": "15837fe7-d5da-4e2e-b64d-5b631638759d",
   "metadata": {
    "editable": true,
    "slideshow": {
     "slide_type": ""
    },
    "tags": []
   },
   "outputs": [],
   "source": []
  }
 ],
 "metadata": {
  "celltoolbar": "Slideshow",
  "kernelspec": {
   "display_name": "Python 3 (ipykernel)",
   "language": "python",
   "name": "python3"
  },
  "language_info": {
   "codemirror_mode": {
    "name": "ipython",
    "version": 3
   },
   "file_extension": ".py",
   "mimetype": "text/x-python",
   "name": "python",
   "nbconvert_exporter": "python",
   "pygments_lexer": "ipython3",
   "version": "3.12.4"
  }
 },
 "nbformat": 4,
 "nbformat_minor": 5
}
